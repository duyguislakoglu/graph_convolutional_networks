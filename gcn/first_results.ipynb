{
 "cells": [
  {
   "cell_type": "code",
   "execution_count": 1,
   "metadata": {},
   "outputs": [
    {
     "name": "stderr",
     "output_type": "stream",
     "text": [
      "┌ Warning: `getindex(o::PyObject, s::AbstractString)` is deprecated in favor of dot overloading (`getproperty`) so elements should now be accessed as e.g. `o.\"s\"` instead of `o[\"s\"]`.\n",
      "│   caller = top-level scope at utils.jl:3\n",
      "└ @ Core /home/ec2-user/dl/utils.jl:3\n"
     ]
    }
   ],
   "source": [
    "using Pkg\n",
    "for p in [\"Knet\", \"Plots\", \"IterTools\"]\n",
    "    if !haskey(Pkg.installed(),p)\n",
    "        Pkg.add(p);\n",
    "    end\n",
    "end\n",
    "using DelimitedFiles\n",
    "using Knet: KnetArray, accuracy, progress, minibatch, cycle, adam, sgd\n",
    "using Plots\n",
    "using IterTools: ncycle, takenth, take\n",
    "using Base.Iterators: flatten\n",
    "using LinearAlgebra\n",
    "\n",
    "include(\"utils.jl\")\n",
    "include(\"models.jl\")"
   ]
  },
  {
   "cell_type": "code",
   "execution_count": 2,
   "metadata": {},
   "outputs": [
    {
     "data": {
      "text/plain": [
       "(K32(2708,2708)[0.16666667⋯], K32(1433,2708)[0.0⋯], Int32[0 1 … 0 0; 0 0 … 0 0; … ; 0 0 … 1 0; 0 1 … 0 0], 1:140, 200:500, 500:1500)"
      ]
     },
     "execution_count": 2,
     "metadata": {},
     "output_type": "execute_result"
    }
   ],
   "source": [
    "# Load data\n",
    "adj, features, labels, idx_train, idx_val, idx_test = load()"
   ]
  },
  {
   "cell_type": "code",
   "execution_count": 3,
   "metadata": {},
   "outputs": [
    {
     "data": {
      "text/plain": [
       "GCN(GCLayer(P(KnetArray{Float32,2}(16,1433)), P(KnetArray{Float32,1}(16)), K32(2708,2708)[0.16666667⋯], NNlib.relu), GCLayer(P(KnetArray{Float32,2}(7,16)), P(KnetArray{Float32,1}(7)), K32(2708,2708)[0.16666667⋯], identity), 0.5)"
      ]
     },
     "execution_count": 3,
     "metadata": {},
     "output_type": "execute_result"
    }
   ],
   "source": [
    "# TODO: take user inputs\n",
    "struct args\n",
    "    epochs\n",
    "    lr\n",
    "    weight_decay\n",
    "    hidden\n",
    "    pdrop\n",
    "end\n",
    "\n",
    "arguments = args(200, 0.01, 5e-4, 16, 0.5)\n",
    "\n",
    "# Model and optimizer\n",
    "model = GCN(size(features,1),\n",
    "            arguments.hidden,\n",
    "            size(labels,2),\n",
    "            adj,\n",
    "            arguments.pdrop)"
   ]
  },
  {
   "cell_type": "code",
   "execution_count": 4,
   "metadata": {},
   "outputs": [
    {
     "data": {
      "text/plain": [
       "7×2708 KnetArray{Float32,2}:\n",
       " -0.0012994    -0.00164048   -0.00144811   …  -0.00338891  -0.00534677 \n",
       "  0.00206938    0.000607427   0.000135247      0.00225486   0.00831833 \n",
       "  0.00512618    0.00180789    0.00367963       0.00391796   0.00868854 \n",
       " -0.0041851    -0.00201418   -0.00164701      -0.00231158  -0.000881421\n",
       " -0.000147562   0.000853195   0.00032024       0.0115567    0.0134857  \n",
       " -0.00311022   -0.000435965   0.000764597  …  -0.00331202  -0.00699863 \n",
       "  0.00216654    0.000652345   0.00230904       0.00297375   0.00758509 "
      ]
     },
     "execution_count": 4,
     "metadata": {},
     "output_type": "execute_result"
    }
   ],
   "source": [
    "output = model(features)"
   ]
  },
  {
   "cell_type": "code",
   "execution_count": 5,
   "metadata": {},
   "outputs": [
    {
     "data": {
      "text/plain": [
       "2708-element Array{Int64,1}:\n",
       " 2\n",
       " 5\n",
       " 4\n",
       " 4\n",
       " 7\n",
       " 7\n",
       " 3\n",
       " 2\n",
       " 2\n",
       " 3\n",
       " 2\n",
       " 1\n",
       " 7\n",
       " ⋮\n",
       " 3\n",
       " 7\n",
       " 7\n",
       " 7\n",
       " 7\n",
       " 2\n",
       " 1\n",
       " 1\n",
       " 1\n",
       " 1\n",
       " 6\n",
       " 2"
      ]
     },
     "execution_count": 5,
     "metadata": {},
     "output_type": "execute_result"
    }
   ],
   "source": [
    "labels_decoded = mapslices(argmax, labels ,dims=2)[:]"
   ]
  },
  {
   "cell_type": "code",
   "execution_count": 6,
   "metadata": {},
   "outputs": [
    {
     "data": {
      "text/plain": [
       "1.9456105f0"
      ]
     },
     "execution_count": 6,
     "metadata": {},
     "output_type": "execute_result"
    }
   ],
   "source": [
    "nll(output[:,idx_train], labels_decoded[idx_train])"
   ]
  },
  {
   "cell_type": "code",
   "execution_count": 7,
   "metadata": {},
   "outputs": [
    {
     "data": {
      "text/plain": [
       "0.11428571428571428"
      ]
     },
     "execution_count": 7,
     "metadata": {},
     "output_type": "execute_result"
    }
   ],
   "source": [
    "accuracy(output[:,idx_train], labels_decoded[idx_train])"
   ]
  },
  {
   "cell_type": "code",
   "execution_count": 8,
   "metadata": {},
   "outputs": [
    {
     "data": {
      "text/plain": [
       "T(1.9454521)"
      ]
     },
     "execution_count": 8,
     "metadata": {},
     "output_type": "execute_result"
    }
   ],
   "source": [
    "using AutoGrad\n",
    "J = @diff model(features, labels_decoded)"
   ]
  },
  {
   "cell_type": "code",
   "execution_count": 9,
   "metadata": {},
   "outputs": [
    {
     "data": {
      "text/plain": [
       "16×1433 KnetArray{Float32,2}:\n",
       " -8.87584e-6   3.35843e-5   2.61724e-5  …   8.3305e-6    7.7627e-6 \n",
       " -4.77678e-6  -1.88114e-5  -4.12953e-5     -3.17108e-5  -5.49557e-5\n",
       "  8.78419e-7  -2.28516e-5   2.91588e-5     -1.31815e-5  -2.05659e-6\n",
       " -5.23727e-6   2.77096e-5   4.97344e-5     -1.51076e-5   6.15354e-5\n",
       "  5.76677e-6   5.5167e-5    6.62743e-5     -3.63205e-5   2.84036e-5\n",
       "  1.61982e-5   4.40275e-5  -7.23436e-5  …  -4.35716e-5  -2.19251e-5\n",
       " -4.94127e-6   2.27417e-5   4.0305e-5       5.56969e-5   3.0181e-6 \n",
       " -1.10811e-5  -1.4249e-5   -4.27852e-5     -3.35779e-5  -3.11396e-5\n",
       "  8.34513e-6  -9.44345e-6  -1.68016e-5     -3.39499e-5  -2.22156e-5\n",
       "  2.80108e-5   5.01894e-6  -4.78627e-6     -7.96994e-5  -2.17418e-5\n",
       " -6.55712e-6  -4.59112e-5  -7.6508e-5   …  -2.498e-5    -2.41524e-5\n",
       " -2.40687e-6   2.20697e-5   3.13166e-5      1.21745e-5  -9.3428e-6 \n",
       "  3.75469e-6  -9.4992e-6    4.87761e-5      9.5954e-6    1.18497e-5\n",
       " -1.78496e-6   2.08932e-5  -2.41437e-6     -6.30187e-6  -7.06566e-7\n",
       " -8.66798e-6  -4.12973e-6   5.23738e-5      7.29827e-5   9.22553e-6\n",
       " -5.80523e-7   8.70716e-6   2.48268e-5  …  -8.10183e-6   3.29401e-5"
      ]
     },
     "execution_count": 9,
     "metadata": {},
     "output_type": "execute_result"
    }
   ],
   "source": [
    "grad(J, params(model)[1])"
   ]
  },
  {
   "cell_type": "code",
   "execution_count": 10,
   "metadata": {},
   "outputs": [
    {
     "data": {
      "text/plain": [
       "0.11428571428571428"
      ]
     },
     "execution_count": 10,
     "metadata": {},
     "output_type": "execute_result"
    }
   ],
   "source": [
    "accuracy(output[:,idx_train], labels_decoded[idx_train])"
   ]
  },
  {
   "cell_type": "code",
   "execution_count": 11,
   "metadata": {},
   "outputs": [
    {
     "data": {
      "text/plain": [
       "1433×140 KnetArray{Float32,2}:\n",
       " 0.0   0.0        0.0        0.0  0.0  …  0.0  0.0  0.0        0.0  0.0  0.0\n",
       " 0.0   0.0        0.0        0.0  0.0     0.0  0.0  0.0        0.0  0.0  0.0\n",
       " 0.0   0.0        0.0        0.0  0.0     0.0  0.0  0.0        0.0  0.0  0.0\n",
       " 0.0   0.0        0.0        0.0  0.0     0.0  0.0  0.0        0.0  0.0  0.0\n",
       " 0.0   0.0        0.0        0.0  0.0     0.0  0.0  0.0        0.0  0.0  0.0\n",
       " 0.0   0.0        0.0        0.0  0.0  …  0.0  0.0  0.0        0.0  0.0  0.0\n",
       " 0.0   0.0        0.0        0.0  0.0     0.0  0.0  0.0        0.0  0.0  0.0\n",
       " 0.0   0.0        0.0        0.0  0.0     0.0  0.0  0.0        0.0  0.0  0.0\n",
       " 0.0   0.0        0.0        0.0  0.0     0.0  0.0  0.0        0.0  0.0  0.0\n",
       " 0.0   0.0        0.0        0.0  0.0     0.0  0.0  0.0        0.0  0.0  0.0\n",
       " 0.0   0.0        0.0        0.0  0.0  …  0.0  0.0  0.0        0.0  0.0  0.0\n",
       " 0.0   0.0        0.0        0.0  0.0     0.0  0.0  0.0        0.0  0.0  0.0\n",
       " 0.0   0.0588235  0.0        0.0  0.0     0.0  0.0  0.0        0.0  0.0  0.0\n",
       " ⋮                                     ⋱       ⋮                            \n",
       " 0.0   0.0        0.0454545  0.0  0.0     0.0  0.0  0.0        0.0  0.0  0.0\n",
       " 0.0   0.0        0.0        0.0  0.0     0.0  0.0  0.0        0.0  0.0  0.0\n",
       " 0.0   0.0        0.0        0.0  0.0     0.0  0.0  0.0        0.0  0.0  0.0\n",
       " 0.0   0.0        0.0        0.0  0.0     0.0  0.0  0.0        0.0  0.0  0.0\n",
       " 0.0   0.0588235  0.0        0.0  0.0  …  0.0  0.0  0.0416667  0.0  0.0  0.0\n",
       " 0.05  0.0        0.0        0.0  0.0     0.0  0.0  0.0        0.0  0.0  0.0\n",
       " 0.0   0.0        0.0        0.0  0.0     0.0  0.0  0.0        0.0  0.0  0.0\n",
       " 0.0   0.0        0.0        0.0  0.0     0.0  0.0  0.0        0.0  0.0  0.0\n",
       " 0.0   0.0        0.0        0.0  0.0     0.0  0.0  0.0        0.0  0.0  0.0\n",
       " 0.0   0.0        0.0        0.0  0.0  …  0.0  0.0  0.0        0.0  0.0  0.0\n",
       " 0.0   0.0        0.0        0.0  0.0     0.0  0.0  0.0        0.0  0.0  0.0\n",
       " 0.0   0.0        0.0        0.0  0.0     0.0  0.0  0.0        0.0  0.0  0.0"
      ]
     },
     "execution_count": 11,
     "metadata": {},
     "output_type": "execute_result"
    }
   ],
   "source": [
    "xtrn = features[:,idx_train]"
   ]
  },
  {
   "cell_type": "code",
   "execution_count": 12,
   "metadata": {},
   "outputs": [
    {
     "data": {
      "text/plain": [
       "140-element Array{Int64,1}:\n",
       " 2\n",
       " 5\n",
       " 4\n",
       " 4\n",
       " 7\n",
       " 7\n",
       " 3\n",
       " 2\n",
       " 2\n",
       " 3\n",
       " 2\n",
       " 1\n",
       " 7\n",
       " ⋮\n",
       " 4\n",
       " 1\n",
       " 3\n",
       " 7\n",
       " 4\n",
       " 2\n",
       " 2\n",
       " 5\n",
       " 5\n",
       " 7\n",
       " 7\n",
       " 1"
      ]
     },
     "execution_count": 12,
     "metadata": {},
     "output_type": "execute_result"
    }
   ],
   "source": [
    "ytrn = labels_decoded[idx_train]"
   ]
  },
  {
   "cell_type": "code",
   "execution_count": 13,
   "metadata": {},
   "outputs": [
    {
     "data": {
      "text/plain": [
       "Data{Tuple{KnetArray{Float32,2},Array{Int64,1}}}(K32(1433,2708)[0.0⋯], [2 5 … 6 2], 2708, 2708, false, 1, 1:2708, false, (1433, 2708), (2708,), KnetArray{Float32,2}, Array{Int64,1})"
      ]
     },
     "execution_count": 13,
     "metadata": {},
     "output_type": "execute_result"
    }
   ],
   "source": [
    "dtrn =  minibatch(features, labels_decoded[:], length(labels_decoded))\n",
    "#dtrn =  minibatch(xtrn, ytrn, length(ytrn))"
   ]
  },
  {
   "cell_type": "code",
   "execution_count": 14,
   "metadata": {},
   "outputs": [
    {
     "data": {
      "text/plain": [
       "tst_loss (generic function with 1 method)"
      ]
     },
     "execution_count": 14,
     "metadata": {},
     "output_type": "execute_result"
    }
   ],
   "source": [
    "function trn_loss(x,y)\n",
    "    nll(model(x)[:,idx_train], y[idx_train])\n",
    "end\n",
    "\n",
    "function tst_loss(x,y)\n",
    "    nll(model(x)[:,idx_test], y[idx_test])\n",
    "end"
   ]
  },
  {
   "cell_type": "code",
   "execution_count": 16,
   "metadata": {},
   "outputs": [
    {
     "data": {
      "text/plain": [
       "train_with_results (generic function with 1 method)"
      ]
     },
     "execution_count": 16,
     "metadata": {},
     "output_type": "execute_result"
    }
   ],
   "source": [
    "function train_with_results(model, dtrn, epoch, lr)\n",
    "    training = adam(model, ncycle(dtrn, epoch), lr=lr)\n",
    "    snapshot() = model(dtrn)\n",
    "    snapshots = (snapshot() for x in takenth(progress(training),length(dtrn)))\n",
    "    res = collect(flatten(snapshots))\n",
    "    return res\n",
    "end"
   ]
  },
  {
   "cell_type": "code",
   "execution_count": 17,
   "metadata": {},
   "outputs": [
    {
     "name": "stderr",
     "output_type": "stream",
     "text": [
      "┣████████████████████┫ [100.00%, 200/200, 00:04/00:04, 56.58i/s] \n"
     ]
    },
    {
     "data": {
      "image/svg+xml": [
       "<?xml version=\"1.0\" encoding=\"utf-8\"?>\n",
       "<svg xmlns=\"http://www.w3.org/2000/svg\" xmlns:xlink=\"http://www.w3.org/1999/xlink\" width=\"600\" height=\"400\" viewBox=\"0 0 2400 1600\">\n",
       "<defs>\n",
       "  <clipPath id=\"clip7800\">\n",
       "    <rect x=\"0\" y=\"0\" width=\"2400\" height=\"1600\"/>\n",
       "  </clipPath>\n",
       "</defs>\n",
       "<path clip-path=\"url(#clip7800)\" d=\"\n",
       "M0 1600 L2400 1600 L2400 0 L0 0  Z\n",
       "  \" fill=\"#ffffff\" fill-rule=\"evenodd\" fill-opacity=\"1\"/>\n",
       "<defs>\n",
       "  <clipPath id=\"clip7801\">\n",
       "    <rect x=\"480\" y=\"0\" width=\"1681\" height=\"1600\"/>\n",
       "  </clipPath>\n",
       "</defs>\n",
       "<path clip-path=\"url(#clip7800)\" d=\"\n",
       "M215.754 1425.62 L2352.76 1425.62 L2352.76 47.2441 L215.754 47.2441  Z\n",
       "  \" fill=\"#ffffff\" fill-rule=\"evenodd\" fill-opacity=\"1\"/>\n",
       "<defs>\n",
       "  <clipPath id=\"clip7802\">\n",
       "    <rect x=\"215\" y=\"47\" width=\"2138\" height=\"1379\"/>\n",
       "  </clipPath>\n",
       "</defs>\n",
       "<polyline clip-path=\"url(#clip7802)\" style=\"stroke:#000000; stroke-width:2; stroke-opacity:0.1; fill:none\" points=\"\n",
       "  266.104,1425.62 266.104,47.2441 \n",
       "  \"/>\n",
       "<polyline clip-path=\"url(#clip7802)\" style=\"stroke:#000000; stroke-width:2; stroke-opacity:0.1; fill:none\" points=\"\n",
       "  772.647,1425.62 772.647,47.2441 \n",
       "  \"/>\n",
       "<polyline clip-path=\"url(#clip7802)\" style=\"stroke:#000000; stroke-width:2; stroke-opacity:0.1; fill:none\" points=\"\n",
       "  1279.19,1425.62 1279.19,47.2441 \n",
       "  \"/>\n",
       "<polyline clip-path=\"url(#clip7802)\" style=\"stroke:#000000; stroke-width:2; stroke-opacity:0.1; fill:none\" points=\"\n",
       "  1785.73,1425.62 1785.73,47.2441 \n",
       "  \"/>\n",
       "<polyline clip-path=\"url(#clip7802)\" style=\"stroke:#000000; stroke-width:2; stroke-opacity:0.1; fill:none\" points=\"\n",
       "  2292.27,1425.62 2292.27,47.2441 \n",
       "  \"/>\n",
       "<polyline clip-path=\"url(#clip7802)\" style=\"stroke:#000000; stroke-width:2; stroke-opacity:0.1; fill:none\" points=\"\n",
       "  215.754,1425.62 2352.76,1425.62 \n",
       "  \"/>\n",
       "<polyline clip-path=\"url(#clip7802)\" style=\"stroke:#000000; stroke-width:2; stroke-opacity:0.1; fill:none\" points=\"\n",
       "  215.754,1081.02 2352.76,1081.02 \n",
       "  \"/>\n",
       "<polyline clip-path=\"url(#clip7802)\" style=\"stroke:#000000; stroke-width:2; stroke-opacity:0.1; fill:none\" points=\"\n",
       "  215.754,736.431 2352.76,736.431 \n",
       "  \"/>\n",
       "<polyline clip-path=\"url(#clip7802)\" style=\"stroke:#000000; stroke-width:2; stroke-opacity:0.1; fill:none\" points=\"\n",
       "  215.754,391.838 2352.76,391.838 \n",
       "  \"/>\n",
       "<polyline clip-path=\"url(#clip7802)\" style=\"stroke:#000000; stroke-width:2; stroke-opacity:0.1; fill:none\" points=\"\n",
       "  215.754,47.2441 2352.76,47.2441 \n",
       "  \"/>\n",
       "<polyline clip-path=\"url(#clip7800)\" style=\"stroke:#000000; stroke-width:4; stroke-opacity:1; fill:none\" points=\"\n",
       "  215.754,1425.62 2352.76,1425.62 \n",
       "  \"/>\n",
       "<polyline clip-path=\"url(#clip7800)\" style=\"stroke:#000000; stroke-width:4; stroke-opacity:1; fill:none\" points=\"\n",
       "  215.754,1425.62 215.754,47.2441 \n",
       "  \"/>\n",
       "<polyline clip-path=\"url(#clip7800)\" style=\"stroke:#000000; stroke-width:4; stroke-opacity:1; fill:none\" points=\"\n",
       "  266.104,1425.62 266.104,1409.08 \n",
       "  \"/>\n",
       "<polyline clip-path=\"url(#clip7800)\" style=\"stroke:#000000; stroke-width:4; stroke-opacity:1; fill:none\" points=\"\n",
       "  772.647,1425.62 772.647,1409.08 \n",
       "  \"/>\n",
       "<polyline clip-path=\"url(#clip7800)\" style=\"stroke:#000000; stroke-width:4; stroke-opacity:1; fill:none\" points=\"\n",
       "  1279.19,1425.62 1279.19,1409.08 \n",
       "  \"/>\n",
       "<polyline clip-path=\"url(#clip7800)\" style=\"stroke:#000000; stroke-width:4; stroke-opacity:1; fill:none\" points=\"\n",
       "  1785.73,1425.62 1785.73,1409.08 \n",
       "  \"/>\n",
       "<polyline clip-path=\"url(#clip7800)\" style=\"stroke:#000000; stroke-width:4; stroke-opacity:1; fill:none\" points=\"\n",
       "  2292.27,1425.62 2292.27,1409.08 \n",
       "  \"/>\n",
       "<polyline clip-path=\"url(#clip7800)\" style=\"stroke:#000000; stroke-width:4; stroke-opacity:1; fill:none\" points=\"\n",
       "  215.754,1425.62 241.398,1425.62 \n",
       "  \"/>\n",
       "<polyline clip-path=\"url(#clip7800)\" style=\"stroke:#000000; stroke-width:4; stroke-opacity:1; fill:none\" points=\"\n",
       "  215.754,1081.02 241.398,1081.02 \n",
       "  \"/>\n",
       "<polyline clip-path=\"url(#clip7800)\" style=\"stroke:#000000; stroke-width:4; stroke-opacity:1; fill:none\" points=\"\n",
       "  215.754,736.431 241.398,736.431 \n",
       "  \"/>\n",
       "<polyline clip-path=\"url(#clip7800)\" style=\"stroke:#000000; stroke-width:4; stroke-opacity:1; fill:none\" points=\"\n",
       "  215.754,391.838 241.398,391.838 \n",
       "  \"/>\n",
       "<polyline clip-path=\"url(#clip7800)\" style=\"stroke:#000000; stroke-width:4; stroke-opacity:1; fill:none\" points=\"\n",
       "  215.754,47.2441 241.398,47.2441 \n",
       "  \"/>\n",
       "<g clip-path=\"url(#clip7800)\">\n",
       "<text style=\"fill:#000000; fill-opacity:1; font-family:Arial,Helvetica Neue,Helvetica,sans-serif; font-size:48px; text-anchor:middle;\" transform=\"rotate(0, 266.104, 1479.62)\" x=\"266.104\" y=\"1479.62\">0</text>\n",
       "</g>\n",
       "<g clip-path=\"url(#clip7800)\">\n",
       "<text style=\"fill:#000000; fill-opacity:1; font-family:Arial,Helvetica Neue,Helvetica,sans-serif; font-size:48px; text-anchor:middle;\" transform=\"rotate(0, 772.647, 1479.62)\" x=\"772.647\" y=\"1479.62\">50</text>\n",
       "</g>\n",
       "<g clip-path=\"url(#clip7800)\">\n",
       "<text style=\"fill:#000000; fill-opacity:1; font-family:Arial,Helvetica Neue,Helvetica,sans-serif; font-size:48px; text-anchor:middle;\" transform=\"rotate(0, 1279.19, 1479.62)\" x=\"1279.19\" y=\"1479.62\">100</text>\n",
       "</g>\n",
       "<g clip-path=\"url(#clip7800)\">\n",
       "<text style=\"fill:#000000; fill-opacity:1; font-family:Arial,Helvetica Neue,Helvetica,sans-serif; font-size:48px; text-anchor:middle;\" transform=\"rotate(0, 1785.73, 1479.62)\" x=\"1785.73\" y=\"1479.62\">150</text>\n",
       "</g>\n",
       "<g clip-path=\"url(#clip7800)\">\n",
       "<text style=\"fill:#000000; fill-opacity:1; font-family:Arial,Helvetica Neue,Helvetica,sans-serif; font-size:48px; text-anchor:middle;\" transform=\"rotate(0, 2292.27, 1479.62)\" x=\"2292.27\" y=\"1479.62\">200</text>\n",
       "</g>\n",
       "<g clip-path=\"url(#clip7800)\">\n",
       "<text style=\"fill:#000000; fill-opacity:1; font-family:Arial,Helvetica Neue,Helvetica,sans-serif; font-size:48px; text-anchor:end;\" transform=\"rotate(0, 191.754, 1443.12)\" x=\"191.754\" y=\"1443.12\">0.0</text>\n",
       "</g>\n",
       "<g clip-path=\"url(#clip7800)\">\n",
       "<text style=\"fill:#000000; fill-opacity:1; font-family:Arial,Helvetica Neue,Helvetica,sans-serif; font-size:48px; text-anchor:end;\" transform=\"rotate(0, 191.754, 1098.52)\" x=\"191.754\" y=\"1098.52\">0.5</text>\n",
       "</g>\n",
       "<g clip-path=\"url(#clip7800)\">\n",
       "<text style=\"fill:#000000; fill-opacity:1; font-family:Arial,Helvetica Neue,Helvetica,sans-serif; font-size:48px; text-anchor:end;\" transform=\"rotate(0, 191.754, 753.931)\" x=\"191.754\" y=\"753.931\">1.0</text>\n",
       "</g>\n",
       "<g clip-path=\"url(#clip7800)\">\n",
       "<text style=\"fill:#000000; fill-opacity:1; font-family:Arial,Helvetica Neue,Helvetica,sans-serif; font-size:48px; text-anchor:end;\" transform=\"rotate(0, 191.754, 409.338)\" x=\"191.754\" y=\"409.338\">1.5</text>\n",
       "</g>\n",
       "<g clip-path=\"url(#clip7800)\">\n",
       "<text style=\"fill:#000000; fill-opacity:1; font-family:Arial,Helvetica Neue,Helvetica,sans-serif; font-size:48px; text-anchor:end;\" transform=\"rotate(0, 191.754, 64.7441)\" x=\"191.754\" y=\"64.7441\">2.0</text>\n",
       "</g>\n",
       "<g clip-path=\"url(#clip7800)\">\n",
       "<text style=\"fill:#000000; fill-opacity:1; font-family:Arial,Helvetica Neue,Helvetica,sans-serif; font-size:66px; text-anchor:middle;\" transform=\"rotate(0, 1284.25, 1559.48)\" x=\"1284.25\" y=\"1559.48\">Epochs</text>\n",
       "</g>\n",
       "<g clip-path=\"url(#clip7800)\">\n",
       "<text style=\"fill:#000000; fill-opacity:1; font-family:Arial,Helvetica Neue,Helvetica,sans-serif; font-size:66px; text-anchor:middle;\" transform=\"rotate(-90, 89.2861, 736.431)\" x=\"89.2861\" y=\"736.431\">Loss</text>\n",
       "</g>\n",
       "<polyline clip-path=\"url(#clip7802)\" style=\"stroke:#009af9; stroke-width:4; stroke-opacity:1; fill:none\" points=\"\n",
       "  276.235,94.7883 286.366,104.687 296.497,114.593 306.628,124.007 316.759,133.1 326.89,141.987 337.02,150.766 347.151,159.126 357.282,167.029 367.413,174.616 \n",
       "  377.544,181.883 387.675,189.193 397.805,196.811 407.936,204.861 418.067,213.168 428.198,221.454 438.329,229.938 448.46,238.728 458.591,247.724 468.721,256.839 \n",
       "  478.852,266.262 488.983,276.085 499.114,286.346 509.245,296.988 519.376,308.033 529.507,319.445 539.637,331.133 549.768,343.023 559.899,355.078 570.03,367.263 \n",
       "  580.161,379.645 590.292,392.259 600.423,405.246 610.553,418.599 620.684,432.227 630.815,445.813 640.946,459.32 651.077,472.948 661.208,486.802 671.338,500.835 \n",
       "  681.469,515.11 691.6,529.748 701.731,544.677 711.862,559.476 721.993,573.922 732.124,588.161 742.254,602.364 752.385,616.549 762.516,630.599 772.647,644.596 \n",
       "  782.778,658.49 792.909,672.273 803.04,685.895 813.17,699.383 823.301,712.762 833.432,725.931 843.563,738.946 853.694,751.788 863.825,764.467 873.956,776.888 \n",
       "  884.086,788.985 894.217,800.791 904.348,812.331 914.479,823.602 924.61,834.687 934.741,845.631 944.871,856.299 955.002,866.751 965.133,877.021 975.264,887.174 \n",
       "  985.395,897.098 995.526,906.792 1005.66,916.186 1015.79,925.282 1025.92,934.17 1036.05,942.898 1046.18,951.296 1056.31,959.564 1066.44,967.689 1076.57,975.582 \n",
       "  1086.7,983.273 1096.83,990.761 1106.97,998.079 1117.1,1005.17 1127.23,1012.02 1137.36,1018.73 1147.49,1025.36 1157.62,1031.83 1167.75,1038.16 1177.88,1044.26 \n",
       "  1188.01,1050.14 1198.14,1055.74 1208.27,1061.02 1218.4,1066.08 1228.54,1071.27 1238.67,1076.73 1248.8,1082.32 1258.93,1087.72 1269.06,1092.73 1279.19,1097.44 \n",
       "  1289.32,1101.89 1299.45,1106.27 1309.58,1110.52 1319.71,1114.69 1329.84,1118.7 1339.97,1122.45 1350.11,1126.03 1360.24,1129.5 1370.37,1132.99 1380.5,1136.59 \n",
       "  1390.63,1140.17 1400.76,1143.58 1410.89,1146.65 1421.02,1149.58 1431.15,1152.43 1441.28,1155.31 1451.41,1158.17 1461.54,1160.87 1471.68,1163.37 1481.81,1165.78 \n",
       "  1491.94,1168.16 1502.07,1170.58 1512.2,1172.96 1522.33,1175.4 1532.46,1177.95 1542.59,1180.58 1552.72,1183.14 1562.85,1185.54 1572.98,1187.75 1583.12,1189.88 \n",
       "  1593.25,1192.01 1603.38,1194.13 1613.51,1196.21 1623.64,1198.19 1633.77,1199.9 1643.9,1201.41 1654.03,1202.96 1664.16,1204.59 1674.29,1206.46 1684.42,1208.36 \n",
       "  1694.55,1210.25 1704.69,1211.97 1714.82,1213.62 1724.95,1215.24 1735.08,1216.76 1745.21,1218.22 1755.34,1219.76 1765.47,1221.3 1775.6,1222.89 1785.73,1224.46 \n",
       "  1795.86,1225.99 1805.99,1227.41 1816.12,1228.85 1826.26,1230.2 1836.39,1231.47 1846.52,1232.68 1856.65,1233.88 1866.78,1235.11 1876.91,1236.36 1887.04,1237.62 \n",
       "  1897.17,1238.83 1907.3,1239.98 1917.43,1241.15 1927.56,1242.31 1937.69,1243.35 1947.83,1244.3 1957.96,1245.16 1968.09,1246 1978.22,1246.92 1988.35,1247.86 \n",
       "  1998.48,1248.73 2008.61,1249.53 2018.74,1250.18 2028.87,1250.93 2039,1251.82 2049.13,1252.74 2059.27,1253.8 2069.4,1254.92 2079.53,1256.02 2089.66,1257.06 \n",
       "  2099.79,1258.01 2109.92,1258.91 2120.05,1259.85 2130.18,1260.86 2140.31,1261.78 2150.44,1262.59 2160.57,1263.28 2170.7,1263.87 2180.84,1264.52 2190.97,1265.29 \n",
       "  2201.1,1266.1 2211.23,1266.99 2221.36,1267.76 2231.49,1268.46 2241.62,1269.11 2251.75,1269.84 2261.88,1270.53 2272.01,1271.22 2282.14,1271.95 2292.27,1272.62 \n",
       "  \n",
       "  \"/>\n",
       "<path clip-path=\"url(#clip7800)\" d=\"\n",
       "M1698.38 251.724 L2280.76 251.724 L2280.76 130.764 L1698.38 130.764  Z\n",
       "  \" fill=\"#ffffff\" fill-rule=\"evenodd\" fill-opacity=\"1\"/>\n",
       "<polyline clip-path=\"url(#clip7800)\" style=\"stroke:#000000; stroke-width:4; stroke-opacity:1; fill:none\" points=\"\n",
       "  1698.38,251.724 2280.76,251.724 2280.76,130.764 1698.38,130.764 1698.38,251.724 \n",
       "  \"/>\n",
       "<polyline clip-path=\"url(#clip7800)\" style=\"stroke:#009af9; stroke-width:4; stroke-opacity:1; fill:none\" points=\"\n",
       "  1722.38,191.244 1866.38,191.244 \n",
       "  \"/>\n",
       "<g clip-path=\"url(#clip7800)\">\n",
       "<text style=\"fill:#000000; fill-opacity:1; font-family:Arial,Helvetica Neue,Helvetica,sans-serif; font-size:48px; text-anchor:start;\" transform=\"rotate(0, 1890.38, 208.744)\" x=\"1890.38\" y=\"208.744\">Symbol[:trnloss]</text>\n",
       "</g>\n",
       "</svg>\n"
      ]
     },
     "execution_count": 17,
     "metadata": {},
     "output_type": "execute_result"
    }
   ],
   "source": [
    "results = train_with_results(model, dtrn, arguments.epochs, arguments.lr)\n",
    "trnloss = Array{Float32}(results)\n",
    "plot(trnloss, ylim=(0.0,2.0),labels=[:trnloss],xlabel=\"Epochs\",ylabel=\"Loss\")"
   ]
  },
  {
   "cell_type": "code",
   "execution_count": 18,
   "metadata": {},
   "outputs": [
    {
     "data": {
      "text/plain": [
       "0.9214285714285714"
      ]
     },
     "execution_count": 18,
     "metadata": {},
     "output_type": "execute_result"
    }
   ],
   "source": [
    "output = model(features)\n",
    "accuracy(output[:,idx_train], labels_decoded[idx_train])"
   ]
  }
 ],
 "metadata": {
  "@webio": {
   "lastCommId": null,
   "lastKernelId": null
  },
  "kernelspec": {
   "display_name": "Julia 1.3.1",
   "language": "julia",
   "name": "julia-1.3"
  },
  "language_info": {
   "file_extension": ".jl",
   "mimetype": "application/julia",
   "name": "julia",
   "version": "1.3.1"
  }
 },
 "nbformat": 4,
 "nbformat_minor": 2
}
