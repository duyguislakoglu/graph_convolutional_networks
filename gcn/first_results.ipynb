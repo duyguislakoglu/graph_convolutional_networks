{
 "cells": [
  {
   "cell_type": "code",
   "execution_count": 70,
   "metadata": {},
   "outputs": [
    {
     "name": "stderr",
     "output_type": "stream",
     "text": [
      "┌ Warning: `getindex(o::PyObject, s::AbstractString)` is deprecated in favor of dot overloading (`getproperty`) so elements should now be accessed as e.g. `o.\"s\"` instead of `o[\"s\"]`.\n",
      "│   caller = top-level scope at none:0\n",
      "└ @ Core none:0\n",
      "WARNING: redefining constant scipy_sparse_find\n"
     ]
    }
   ],
   "source": [
    "using Pkg\n",
    "for p in [\"Knet\", \"Plots\", \"IterTools\"]\n",
    "    if !haskey(Pkg.installed(),p)\n",
    "        Pkg.add(p);\n",
    "    end\n",
    "end\n",
    "using DelimitedFiles\n",
    "using Knet: KnetArray, accuracy, progress, minibatch, cycle, adam, sgd\n",
    "using Plots\n",
    "using IterTools: ncycle, takenth, take\n",
    "using Base.Iterators: flatten\n",
    "using LinearAlgebra\n",
    "\n",
    "include(\"utils.jl\")\n",
    "include(\"models.jl\")"
   ]
  },
  {
   "cell_type": "code",
   "execution_count": 71,
   "metadata": {},
   "outputs": [
    {
     "data": {
      "text/plain": [
       "(Float32[0.166667 0.0 … 0.0 0.0; 0.0 0.5 … 0.0 0.0; … ; 0.0 0.0 … 0.2 0.0; 0.0 0.0 … 0.0 0.25], Float32[0.0 0.0 … 0.0 0.0; 0.0 0.0 … 0.0 0.0; … ; 0.0 0.0 … 0.0 0.0; 0.0 0.0 … 0.0 0.0], Int32[0 0 … 0 0; 0 1 … 0 0; … ; 0 0 … 1 0; 0 0 … 0 0], 1:140, 200:499, 501:1500)"
      ]
     },
     "execution_count": 71,
     "metadata": {},
     "output_type": "execute_result"
    }
   ],
   "source": [
    "# Load data\n",
    "adj, features, labels, idx_train, idx_val, idx_test = load()"
   ]
  },
  {
   "cell_type": "code",
   "execution_count": 72,
   "metadata": {},
   "outputs": [],
   "source": [
    "# TODO: take user inputs\n",
    "struct args\n",
    "    epochs\n",
    "    lr\n",
    "    weight_decay\n",
    "    hidden\n",
    "    pdrop\n",
    "end\n",
    "\n",
    "arguments = args(200, 0.01, 5e-4, 16, 0.5)\n",
    "\n",
    "# Model and optimizer\n",
    "model = GCN(size(features,1),\n",
    "            arguments.hidden,\n",
    "            size(labels,2),\n",
    "            adj,\n",
    "            arguments.pdrop)\n",
    "\n",
    "(g::GCN)(x,y) = nll(g(x)[:, idx_train], y[idx_train])"
   ]
  },
  {
   "cell_type": "code",
   "execution_count": 73,
   "metadata": {},
   "outputs": [
    {
     "data": {
      "text/plain": [
       "7×2708 Array{Float32,2}:\n",
       "  0.00105802  -0.00164994   0.000144585  …   0.00126138   -0.00668703\n",
       " -0.00507737   0.00567824  -0.000191399     -4.26627e-5    0.00645913\n",
       "  2.66343e-5  -0.00129475  -0.000869239     -0.000923322   0.00741185\n",
       "  0.00249813   0.00321607   0.00526163       0.00680557    0.00258897\n",
       " -0.00321316   0.00447089   0.00448901       0.00381716    0.00469275\n",
       " -0.00706574  -0.00473304  -0.00627624   …  -0.00920482   -0.00525041\n",
       " -0.00483502  -0.00169617   0.000574952     -0.00198668   -0.00399635"
      ]
     },
     "execution_count": 73,
     "metadata": {},
     "output_type": "execute_result"
    }
   ],
   "source": [
    "output = model(features)"
   ]
  },
  {
   "cell_type": "code",
   "execution_count": 74,
   "metadata": {},
   "outputs": [
    {
     "data": {
      "text/plain": [
       "2708-element Array{Int64,1}:\n",
       " 5\n",
       " 2\n",
       " 1\n",
       " 1\n",
       " 7\n",
       " 7\n",
       " 3\n",
       " 5\n",
       " 5\n",
       " 3\n",
       " 5\n",
       " 4\n",
       " 7\n",
       " ⋮\n",
       " 3\n",
       " 7\n",
       " 7\n",
       " 7\n",
       " 7\n",
       " 5\n",
       " 4\n",
       " 4\n",
       " 4\n",
       " 4\n",
       " 6\n",
       " 5"
      ]
     },
     "execution_count": 74,
     "metadata": {},
     "output_type": "execute_result"
    }
   ],
   "source": [
    "labels_decoded = mapslices(argmax, labels ,dims=2)[:]"
   ]
  },
  {
   "cell_type": "code",
   "execution_count": 75,
   "metadata": {},
   "outputs": [
    {
     "data": {
      "text/plain": [
       "1.9460473f0"
      ]
     },
     "execution_count": 75,
     "metadata": {},
     "output_type": "execute_result"
    }
   ],
   "source": [
    "nll(output[:,idx_train], labels_decoded[idx_train])"
   ]
  },
  {
   "cell_type": "code",
   "execution_count": 76,
   "metadata": {},
   "outputs": [
    {
     "data": {
      "text/plain": [
       "0.12142857142857143"
      ]
     },
     "execution_count": 76,
     "metadata": {},
     "output_type": "execute_result"
    }
   ],
   "source": [
    "accuracy(output[:,idx_train], labels_decoded[idx_train])"
   ]
  },
  {
   "cell_type": "code",
   "execution_count": 77,
   "metadata": {},
   "outputs": [
    {
     "data": {
      "text/plain": [
       "16×1433 Array{Float32,2}:\n",
       " -4.40644e-6   1.94717e-5    4.02846e-6   …   0.000106319   8.9795e-5  \n",
       " -6.54903e-5  -5.09546e-5   -0.000123335     -1.064e-5      3.75506e-5 \n",
       "  5.89695e-5   3.50539e-5    2.3535e-5        3.58902e-5    0.000101801\n",
       "  4.07602e-6  -3.64482e-5    3.44573e-5      -1.61376e-5   -7.41268e-6 \n",
       " -4.04934e-5  -4.93382e-6    6.81025e-5      -5.73473e-6   -9.71726e-6 \n",
       " -6.5945e-5   -2.0458e-5    -4.02155e-5   …   6.2156e-5     1.0122e-5  \n",
       "  2.07923e-5  -9.19938e-6    2.52633e-7       4.95567e-5    1.80553e-5 \n",
       "  5.03784e-5  -1.18442e-5    5.66189e-5      -9.96954e-6   -4.45748e-5 \n",
       "  2.9608e-6   -4.08144e-5    7.40498e-6       3.35841e-5    8.72816e-6 \n",
       " -6.91516e-5   6.50139e-5   -2.78268e-5      -5.31178e-5    0.000100861\n",
       "  1.62455e-5  -3.47452e-5    3.90043e-5   …  -0.000109087  -0.000231742\n",
       " -1.80218e-6   1.27863e-5    4.87168e-6       5.68879e-5    0.0        \n",
       "  2.18987e-5  -0.000118006   0.000227787      6.27554e-5   -2.22526e-5 \n",
       "  6.43107e-5   9.62749e-6    0.000139099      7.15419e-5   -4.03688e-5 \n",
       "  4.95051e-6  -8.43227e-5   -8.03423e-5       4.99761e-5   -1.30596e-5 \n",
       "  2.76101e-5  -7.24566e-5    5.52618e-6   …  -0.000198577  -0.0002079  "
      ]
     },
     "execution_count": 77,
     "metadata": {},
     "output_type": "execute_result"
    }
   ],
   "source": [
    "using AutoGrad\n",
    "J = @diff model(features, labels_decoded)\n",
    "grad(J, params(model)[1])"
   ]
  },
  {
   "cell_type": "code",
   "execution_count": 78,
   "metadata": {},
   "outputs": [
    {
     "data": {
      "text/plain": [
       "Data{Tuple{Array{Float32,2},Array{Int64,1}}}(Float32[0.0 0.0 … 0.0 0.0; 0.0 0.0 … 0.0 0.0; … ; 0.0 0.0 … 0.0 0.0; 0.0 0.0 … 0.0 0.0], [5 2 … 6 5], 2708, 2708, false, 1, 1:2708, false, (1433, 2708), (2708,), Array{Float32,2}, Array{Int64,1})"
      ]
     },
     "execution_count": 78,
     "metadata": {},
     "output_type": "execute_result"
    }
   ],
   "source": [
    "dtrn =  minibatch(features, labels_decoded[:], length(labels_decoded))"
   ]
  },
  {
   "cell_type": "code",
   "execution_count": 79,
   "metadata": {},
   "outputs": [
    {
     "data": {
      "text/plain": [
       "train_with_results (generic function with 1 method)"
      ]
     },
     "execution_count": 79,
     "metadata": {},
     "output_type": "execute_result"
    }
   ],
   "source": [
    "function train_with_results(model, dtrn, epoch, lr)\n",
    "    training = adam(model, ncycle(dtrn, epoch), lr=lr)\n",
    "    snapshot() = model(dtrn)\n",
    "    snapshots = (snapshot() for x in takenth(progress(training),length(dtrn)))\n",
    "    res = collect(flatten(snapshots))\n",
    "    return res\n",
    "end"
   ]
  },
  {
   "cell_type": "code",
   "execution_count": 80,
   "metadata": {},
   "outputs": [
    {
     "name": "stderr",
     "output_type": "stream",
     "text": [
      "┣████████████████████┫ [100.00%, 200/200, 00:18/00:18, 11.35i/s] \n"
     ]
    },
    {
     "data": {
      "image/svg+xml": [
       "<?xml version=\"1.0\" encoding=\"utf-8\"?>\n",
       "<svg xmlns=\"http://www.w3.org/2000/svg\" xmlns:xlink=\"http://www.w3.org/1999/xlink\" width=\"600\" height=\"400\" viewBox=\"0 0 2400 1600\">\n",
       "<defs>\n",
       "  <clipPath id=\"clip0600\">\n",
       "    <rect x=\"0\" y=\"0\" width=\"2400\" height=\"1600\"/>\n",
       "  </clipPath>\n",
       "</defs>\n",
       "<path clip-path=\"url(#clip0600)\" d=\"\n",
       "M0 1600 L2400 1600 L2400 0 L0 0  Z\n",
       "  \" fill=\"#ffffff\" fill-rule=\"evenodd\" fill-opacity=\"1\"/>\n",
       "<defs>\n",
       "  <clipPath id=\"clip0601\">\n",
       "    <rect x=\"480\" y=\"0\" width=\"1681\" height=\"1600\"/>\n",
       "  </clipPath>\n",
       "</defs>\n",
       "<path clip-path=\"url(#clip0600)\" d=\"\n",
       "M215.754 1425.62 L2352.76 1425.62 L2352.76 47.2441 L215.754 47.2441  Z\n",
       "  \" fill=\"#ffffff\" fill-rule=\"evenodd\" fill-opacity=\"1\"/>\n",
       "<defs>\n",
       "  <clipPath id=\"clip0602\">\n",
       "    <rect x=\"215\" y=\"47\" width=\"2138\" height=\"1379\"/>\n",
       "  </clipPath>\n",
       "</defs>\n",
       "<polyline clip-path=\"url(#clip0602)\" style=\"stroke:#000000; stroke-width:2; stroke-opacity:0.1; fill:none\" points=\"\n",
       "  266.104,1425.62 266.104,47.2441 \n",
       "  \"/>\n",
       "<polyline clip-path=\"url(#clip0602)\" style=\"stroke:#000000; stroke-width:2; stroke-opacity:0.1; fill:none\" points=\"\n",
       "  772.647,1425.62 772.647,47.2441 \n",
       "  \"/>\n",
       "<polyline clip-path=\"url(#clip0602)\" style=\"stroke:#000000; stroke-width:2; stroke-opacity:0.1; fill:none\" points=\"\n",
       "  1279.19,1425.62 1279.19,47.2441 \n",
       "  \"/>\n",
       "<polyline clip-path=\"url(#clip0602)\" style=\"stroke:#000000; stroke-width:2; stroke-opacity:0.1; fill:none\" points=\"\n",
       "  1785.73,1425.62 1785.73,47.2441 \n",
       "  \"/>\n",
       "<polyline clip-path=\"url(#clip0602)\" style=\"stroke:#000000; stroke-width:2; stroke-opacity:0.1; fill:none\" points=\"\n",
       "  2292.27,1425.62 2292.27,47.2441 \n",
       "  \"/>\n",
       "<polyline clip-path=\"url(#clip0602)\" style=\"stroke:#000000; stroke-width:2; stroke-opacity:0.1; fill:none\" points=\"\n",
       "  215.754,1425.62 2352.76,1425.62 \n",
       "  \"/>\n",
       "<polyline clip-path=\"url(#clip0602)\" style=\"stroke:#000000; stroke-width:2; stroke-opacity:0.1; fill:none\" points=\"\n",
       "  215.754,1081.02 2352.76,1081.02 \n",
       "  \"/>\n",
       "<polyline clip-path=\"url(#clip0602)\" style=\"stroke:#000000; stroke-width:2; stroke-opacity:0.1; fill:none\" points=\"\n",
       "  215.754,736.431 2352.76,736.431 \n",
       "  \"/>\n",
       "<polyline clip-path=\"url(#clip0602)\" style=\"stroke:#000000; stroke-width:2; stroke-opacity:0.1; fill:none\" points=\"\n",
       "  215.754,391.838 2352.76,391.838 \n",
       "  \"/>\n",
       "<polyline clip-path=\"url(#clip0602)\" style=\"stroke:#000000; stroke-width:2; stroke-opacity:0.1; fill:none\" points=\"\n",
       "  215.754,47.2441 2352.76,47.2441 \n",
       "  \"/>\n",
       "<polyline clip-path=\"url(#clip0600)\" style=\"stroke:#000000; stroke-width:4; stroke-opacity:1; fill:none\" points=\"\n",
       "  215.754,1425.62 2352.76,1425.62 \n",
       "  \"/>\n",
       "<polyline clip-path=\"url(#clip0600)\" style=\"stroke:#000000; stroke-width:4; stroke-opacity:1; fill:none\" points=\"\n",
       "  215.754,1425.62 215.754,47.2441 \n",
       "  \"/>\n",
       "<polyline clip-path=\"url(#clip0600)\" style=\"stroke:#000000; stroke-width:4; stroke-opacity:1; fill:none\" points=\"\n",
       "  266.104,1425.62 266.104,1409.08 \n",
       "  \"/>\n",
       "<polyline clip-path=\"url(#clip0600)\" style=\"stroke:#000000; stroke-width:4; stroke-opacity:1; fill:none\" points=\"\n",
       "  772.647,1425.62 772.647,1409.08 \n",
       "  \"/>\n",
       "<polyline clip-path=\"url(#clip0600)\" style=\"stroke:#000000; stroke-width:4; stroke-opacity:1; fill:none\" points=\"\n",
       "  1279.19,1425.62 1279.19,1409.08 \n",
       "  \"/>\n",
       "<polyline clip-path=\"url(#clip0600)\" style=\"stroke:#000000; stroke-width:4; stroke-opacity:1; fill:none\" points=\"\n",
       "  1785.73,1425.62 1785.73,1409.08 \n",
       "  \"/>\n",
       "<polyline clip-path=\"url(#clip0600)\" style=\"stroke:#000000; stroke-width:4; stroke-opacity:1; fill:none\" points=\"\n",
       "  2292.27,1425.62 2292.27,1409.08 \n",
       "  \"/>\n",
       "<polyline clip-path=\"url(#clip0600)\" style=\"stroke:#000000; stroke-width:4; stroke-opacity:1; fill:none\" points=\"\n",
       "  215.754,1425.62 241.398,1425.62 \n",
       "  \"/>\n",
       "<polyline clip-path=\"url(#clip0600)\" style=\"stroke:#000000; stroke-width:4; stroke-opacity:1; fill:none\" points=\"\n",
       "  215.754,1081.02 241.398,1081.02 \n",
       "  \"/>\n",
       "<polyline clip-path=\"url(#clip0600)\" style=\"stroke:#000000; stroke-width:4; stroke-opacity:1; fill:none\" points=\"\n",
       "  215.754,736.431 241.398,736.431 \n",
       "  \"/>\n",
       "<polyline clip-path=\"url(#clip0600)\" style=\"stroke:#000000; stroke-width:4; stroke-opacity:1; fill:none\" points=\"\n",
       "  215.754,391.838 241.398,391.838 \n",
       "  \"/>\n",
       "<polyline clip-path=\"url(#clip0600)\" style=\"stroke:#000000; stroke-width:4; stroke-opacity:1; fill:none\" points=\"\n",
       "  215.754,47.2441 241.398,47.2441 \n",
       "  \"/>\n",
       "<g clip-path=\"url(#clip0600)\">\n",
       "<text style=\"fill:#000000; fill-opacity:1; font-family:Arial,Helvetica Neue,Helvetica,sans-serif; font-size:48px; text-anchor:middle;\" transform=\"rotate(0, 266.104, 1479.62)\" x=\"266.104\" y=\"1479.62\">0</text>\n",
       "</g>\n",
       "<g clip-path=\"url(#clip0600)\">\n",
       "<text style=\"fill:#000000; fill-opacity:1; font-family:Arial,Helvetica Neue,Helvetica,sans-serif; font-size:48px; text-anchor:middle;\" transform=\"rotate(0, 772.647, 1479.62)\" x=\"772.647\" y=\"1479.62\">50</text>\n",
       "</g>\n",
       "<g clip-path=\"url(#clip0600)\">\n",
       "<text style=\"fill:#000000; fill-opacity:1; font-family:Arial,Helvetica Neue,Helvetica,sans-serif; font-size:48px; text-anchor:middle;\" transform=\"rotate(0, 1279.19, 1479.62)\" x=\"1279.19\" y=\"1479.62\">100</text>\n",
       "</g>\n",
       "<g clip-path=\"url(#clip0600)\">\n",
       "<text style=\"fill:#000000; fill-opacity:1; font-family:Arial,Helvetica Neue,Helvetica,sans-serif; font-size:48px; text-anchor:middle;\" transform=\"rotate(0, 1785.73, 1479.62)\" x=\"1785.73\" y=\"1479.62\">150</text>\n",
       "</g>\n",
       "<g clip-path=\"url(#clip0600)\">\n",
       "<text style=\"fill:#000000; fill-opacity:1; font-family:Arial,Helvetica Neue,Helvetica,sans-serif; font-size:48px; text-anchor:middle;\" transform=\"rotate(0, 2292.27, 1479.62)\" x=\"2292.27\" y=\"1479.62\">200</text>\n",
       "</g>\n",
       "<g clip-path=\"url(#clip0600)\">\n",
       "<text style=\"fill:#000000; fill-opacity:1; font-family:Arial,Helvetica Neue,Helvetica,sans-serif; font-size:48px; text-anchor:end;\" transform=\"rotate(0, 191.754, 1443.12)\" x=\"191.754\" y=\"1443.12\">0.0</text>\n",
       "</g>\n",
       "<g clip-path=\"url(#clip0600)\">\n",
       "<text style=\"fill:#000000; fill-opacity:1; font-family:Arial,Helvetica Neue,Helvetica,sans-serif; font-size:48px; text-anchor:end;\" transform=\"rotate(0, 191.754, 1098.52)\" x=\"191.754\" y=\"1098.52\">0.5</text>\n",
       "</g>\n",
       "<g clip-path=\"url(#clip0600)\">\n",
       "<text style=\"fill:#000000; fill-opacity:1; font-family:Arial,Helvetica Neue,Helvetica,sans-serif; font-size:48px; text-anchor:end;\" transform=\"rotate(0, 191.754, 753.931)\" x=\"191.754\" y=\"753.931\">1.0</text>\n",
       "</g>\n",
       "<g clip-path=\"url(#clip0600)\">\n",
       "<text style=\"fill:#000000; fill-opacity:1; font-family:Arial,Helvetica Neue,Helvetica,sans-serif; font-size:48px; text-anchor:end;\" transform=\"rotate(0, 191.754, 409.338)\" x=\"191.754\" y=\"409.338\">1.5</text>\n",
       "</g>\n",
       "<g clip-path=\"url(#clip0600)\">\n",
       "<text style=\"fill:#000000; fill-opacity:1; font-family:Arial,Helvetica Neue,Helvetica,sans-serif; font-size:48px; text-anchor:end;\" transform=\"rotate(0, 191.754, 64.7441)\" x=\"191.754\" y=\"64.7441\">2.0</text>\n",
       "</g>\n",
       "<g clip-path=\"url(#clip0600)\">\n",
       "<text style=\"fill:#000000; fill-opacity:1; font-family:Arial,Helvetica Neue,Helvetica,sans-serif; font-size:66px; text-anchor:middle;\" transform=\"rotate(0, 1284.25, 1559.48)\" x=\"1284.25\" y=\"1559.48\">Epochs</text>\n",
       "</g>\n",
       "<g clip-path=\"url(#clip0600)\">\n",
       "<text style=\"fill:#000000; fill-opacity:1; font-family:Arial,Helvetica Neue,Helvetica,sans-serif; font-size:66px; text-anchor:middle;\" transform=\"rotate(-90, 89.2861, 736.431)\" x=\"89.2861\" y=\"736.431\">Loss</text>\n",
       "</g>\n",
       "<polyline clip-path=\"url(#clip0602)\" style=\"stroke:#009af9; stroke-width:4; stroke-opacity:1; fill:none\" points=\"\n",
       "  276.235,94.8034 286.366,104.97 296.497,115.907 306.628,127.829 316.759,140.542 326.89,153.257 337.02,166.181 347.151,179.592 357.282,193.045 367.413,206.205 \n",
       "  377.544,219.288 387.675,232.28 397.805,245.204 407.936,258.015 418.067,270.816 428.198,283.61 438.329,296.455 448.46,309.433 458.591,322.782 468.721,336.55 \n",
       "  478.852,350.659 488.983,365.104 499.114,379.902 509.245,394.966 519.376,410.448 529.507,426.159 539.637,442.027 549.768,458.093 559.899,474.221 570.03,490.417 \n",
       "  580.161,506.784 590.292,523.3 600.423,539.847 610.553,556.371 620.684,572.854 630.815,589.418 640.946,606.022 651.077,622.72 661.208,639.514 671.338,656.207 \n",
       "  681.469,672.812 691.6,689.351 701.731,705.818 711.862,722.223 721.993,738.367 732.124,753.958 742.254,769.17 752.385,784.028 762.516,798.978 772.647,814.061 \n",
       "  782.778,829.111 792.909,843.827 803.04,858.074 813.17,872.102 823.301,885.839 833.432,899.424 843.563,912.654 853.694,925.464 863.825,937.927 873.956,949.974 \n",
       "  884.086,961.77 894.217,973.352 904.348,984.755 914.479,995.881 924.61,1006.74 934.741,1017.28 944.871,1027.42 955.002,1037.41 965.133,1047.17 975.264,1056.68 \n",
       "  985.395,1065.72 995.526,1074.35 1005.66,1082.51 1015.79,1090.5 1025.92,1098.64 1036.05,1106.85 1046.18,1114.97 1056.31,1122.74 1066.44,1130.13 1076.57,1137.04 \n",
       "  1086.7,1143.73 1096.83,1150.5 1106.97,1157.09 1117.1,1163.55 1127.23,1169.75 1137.36,1175.54 1147.49,1181.06 1157.62,1186.45 1167.75,1191.83 1177.88,1197.41 \n",
       "  1188.01,1203.01 1198.14,1208.56 1208.27,1213.87 1218.4,1218.93 1228.54,1223.62 1238.67,1228.07 1248.8,1232.2 1258.93,1236.17 1269.06,1240.43 1279.19,1244.55 \n",
       "  1289.32,1248.62 1299.45,1252.64 1309.58,1256.43 1319.71,1259.87 1329.84,1263.03 1339.97,1265.98 1350.11,1268.94 1360.24,1272.04 1370.37,1275.14 1380.5,1278.35 \n",
       "  1390.63,1281.59 1400.76,1284.75 1410.89,1287.85 1421.02,1290.77 1431.15,1293.54 1441.28,1296.11 1451.41,1298.65 1461.54,1301.13 1471.68,1303.61 1481.81,1306.03 \n",
       "  1491.94,1308.47 1502.07,1310.83 1512.2,1313.15 1522.33,1315.45 1532.46,1317.77 1542.59,1320.01 1552.72,1322.19 1562.85,1324.28 1572.98,1326.31 1583.12,1328.21 \n",
       "  1593.25,1330.04 1603.38,1331.78 1613.51,1333.54 1623.64,1335.3 1633.77,1337.07 1643.9,1338.74 1654.03,1340.28 1664.16,1341.73 1674.29,1343.13 1684.42,1344.46 \n",
       "  1694.55,1345.76 1704.69,1346.98 1714.82,1348.17 1724.95,1349.36 1735.08,1350.54 1745.21,1351.53 1755.34,1352.47 1765.47,1353.39 1775.6,1354.35 1785.73,1355.41 \n",
       "  1795.86,1356.52 1805.99,1357.67 1816.12,1358.83 1826.26,1360.04 1836.39,1361.29 1846.52,1362.53 1856.65,1363.74 1866.78,1364.85 1876.91,1365.83 1887.04,1366.74 \n",
       "  1897.17,1367.61 1907.3,1368.47 1917.43,1369.29 1927.56,1370.13 1937.69,1370.99 1947.83,1371.9 1957.96,1372.77 1968.09,1373.62 1978.22,1374.4 1988.35,1375.1 \n",
       "  1998.48,1375.79 2008.61,1376.49 2018.74,1377.19 2028.87,1377.88 2039,1378.59 2049.13,1379.3 2059.27,1380.02 2069.4,1380.68 2079.53,1381.29 2089.66,1381.88 \n",
       "  2099.79,1382.45 2109.92,1383.02 2120.05,1383.56 2130.18,1384.1 2140.31,1384.63 2150.44,1385.16 2160.57,1385.69 2170.7,1386.22 2180.84,1386.74 2190.97,1387.27 \n",
       "  2201.1,1387.78 2211.23,1388.27 2221.36,1388.75 2231.49,1389.22 2241.62,1389.69 2251.75,1390.14 2261.88,1390.61 2272.01,1391.06 2282.14,1391.52 2292.27,1391.97 \n",
       "  \n",
       "  \"/>\n",
       "<path clip-path=\"url(#clip0600)\" d=\"\n",
       "M1698.38 251.724 L2280.76 251.724 L2280.76 130.764 L1698.38 130.764  Z\n",
       "  \" fill=\"#ffffff\" fill-rule=\"evenodd\" fill-opacity=\"1\"/>\n",
       "<polyline clip-path=\"url(#clip0600)\" style=\"stroke:#000000; stroke-width:4; stroke-opacity:1; fill:none\" points=\"\n",
       "  1698.38,251.724 2280.76,251.724 2280.76,130.764 1698.38,130.764 1698.38,251.724 \n",
       "  \"/>\n",
       "<polyline clip-path=\"url(#clip0600)\" style=\"stroke:#009af9; stroke-width:4; stroke-opacity:1; fill:none\" points=\"\n",
       "  1722.38,191.244 1866.38,191.244 \n",
       "  \"/>\n",
       "<g clip-path=\"url(#clip0600)\">\n",
       "<text style=\"fill:#000000; fill-opacity:1; font-family:Arial,Helvetica Neue,Helvetica,sans-serif; font-size:48px; text-anchor:start;\" transform=\"rotate(0, 1890.38, 208.744)\" x=\"1890.38\" y=\"208.744\">Symbol[:trnloss]</text>\n",
       "</g>\n",
       "</svg>\n"
      ]
     },
     "execution_count": 80,
     "metadata": {},
     "output_type": "execute_result"
    }
   ],
   "source": [
    "results = train_with_results(model, dtrn, arguments.epochs, arguments.lr)\n",
    "trnloss = Array{Float32}(results)\n",
    "plot(trnloss, ylim=(0.0,2.0),labels=[:trnloss],xlabel=\"Epochs\",ylabel=\"Loss\")"
   ]
  },
  {
   "cell_type": "code",
   "execution_count": 81,
   "metadata": {},
   "outputs": [
    {
     "data": {
      "text/plain": [
       "1.0"
      ]
     },
     "execution_count": 81,
     "metadata": {},
     "output_type": "execute_result"
    }
   ],
   "source": [
    "output = model(features)\n",
    "accuracy(output[:,idx_train], labels_decoded[idx_train])"
   ]
  },
  {
   "cell_type": "code",
   "execution_count": 82,
   "metadata": {},
   "outputs": [
    {
     "data": {
      "text/plain": [
       "0.8"
      ]
     },
     "execution_count": 82,
     "metadata": {},
     "output_type": "execute_result"
    }
   ],
   "source": [
    "output = model(features)\n",
    "accuracy(output[:,idx_test], labels_decoded[idx_test])"
   ]
  },
  {
   "cell_type": "code",
   "execution_count": 83,
   "metadata": {},
   "outputs": [
    {
     "name": "stderr",
     "output_type": "stream",
     "text": [
      "┌ Warning: `getindex(o::PyObject, s::AbstractString)` is deprecated in favor of dot overloading (`getproperty`) so elements should now be accessed as e.g. `o.\"s\"` instead of `o[\"s\"]`.\n",
      "│   caller = top-level scope at none:0\n",
      "└ @ Core none:0\n",
      "WARNING: redefining constant scipy_sparse_find\n"
     ]
    },
    {
     "data": {
      "text/plain": [
       "load_dataset (generic function with 1 method)"
      ]
     },
     "execution_count": 83,
     "metadata": {},
     "output_type": "execute_result"
    }
   ],
   "source": [
    "include(\"utils2.jl\")"
   ]
  },
  {
   "cell_type": "code",
   "execution_count": 84,
   "metadata": {},
   "outputs": [
    {
     "data": {
      "text/plain": [
       "(Float32[0.0 0.0 … 0.0 0.0; 0.0 0.0 … 0.0 0.0; … ; 0.0 0.0 … 0.0 1.0; 0.0 0.0 … 1.0 0.0], Float32[0.0 0.0 … 0.0 0.0; 0.0 0.0 … 0.0 0.0; … ; 0.0 0.0 … 0.0 0.0; 0.0 0.0 … 0.0 0.0], Int32[0 0 … 0 0; 0 0 … 0 0; … ; 0 0 … 0 0; 0 0 … 0 0], 1:140, 200:500, [2692, 2532, 2050, 1715, 2362, 2609, 2622, 1975, 2081, 1767  …  1885, 2305, 2354, 2135, 2601, 1770, 1995, 2504, 1749, 2157])"
      ]
     },
     "execution_count": 84,
     "metadata": {},
     "output_type": "execute_result"
    }
   ],
   "source": [
    "adj2, features2, labels2, idx_train, idx_val, test_idx_reorder = load_dataset(\"pubmed\")"
   ]
  },
  {
   "cell_type": "code",
   "execution_count": 85,
   "metadata": {},
   "outputs": [],
   "source": [
    "# TODO: take user inputs\n",
    "struct args\n",
    "    epochs\n",
    "    lr\n",
    "    weight_decay\n",
    "    hidden\n",
    "    pdrop\n",
    "end\n",
    "\n",
    "arguments = args(200, 0.01, 5e-4, 16, 0.5)\n",
    "\n",
    "# Model and optimizer\n",
    "model = GCN(size(features2,1),\n",
    "            arguments.hidden,\n",
    "            size(labels2,2),\n",
    "            adj2,\n",
    "            arguments.pdrop)\n",
    "\n",
    "(g::GCN)(x,y) = nll(g(x)[:, idx_train], y[idx_train]) + (arguments.weight_decay * sum(g.layer1.w .* g.layer1.w)) \n",
    "#(g::GCN)(x,y) = nll(g(x)[:, idx_train], y[idx_train])"
   ]
  },
  {
   "cell_type": "code",
   "execution_count": 86,
   "metadata": {},
   "outputs": [
    {
     "data": {
      "text/plain": [
       "7×2708 Array{Float32,2}:\n",
       "  0.234638   0.591772   0.347029  …   0.183115    1.41044     1.29268 \n",
       "  0.35971   -0.615776   0.635876     -0.0136887  -0.330138   -0.169687\n",
       " -0.275689  -0.531172  -1.07201       0.168053    0.0379852  -1.56499 \n",
       " -0.404421   0.481658  -2.36345       0.365021    0.410243    1.04987 \n",
       "  0.798518   0.50224    1.83745      -0.0326211   1.17741     0.618802\n",
       "  0.357256   1.91753    1.0624    …   0.254597    2.20057     3.1882  \n",
       " -0.716512  -0.903464  -2.20408      -0.225788   -1.68196    -1.25733 "
      ]
     },
     "execution_count": 86,
     "metadata": {},
     "output_type": "execute_result"
    }
   ],
   "source": [
    "output = model(features2)"
   ]
  },
  {
   "cell_type": "code",
   "execution_count": 87,
   "metadata": {},
   "outputs": [
    {
     "data": {
      "text/plain": [
       "2708-element Array{Int64,1}:\n",
       " 4\n",
       " 5\n",
       " 5\n",
       " 1\n",
       " 4\n",
       " 3\n",
       " 1\n",
       " 4\n",
       " 4\n",
       " 3\n",
       " 1\n",
       " 1\n",
       " 5\n",
       " ⋮\n",
       " 4\n",
       " 4\n",
       " 4\n",
       " 4\n",
       " 4\n",
       " 4\n",
       " 1\n",
       " 4\n",
       " 4\n",
       " 4\n",
       " 4\n",
       " 4"
      ]
     },
     "execution_count": 87,
     "metadata": {},
     "output_type": "execute_result"
    }
   ],
   "source": [
    "labels_decoded = mapslices(argmax, labels2 ,dims=2)[:]"
   ]
  },
  {
   "cell_type": "code",
   "execution_count": 88,
   "metadata": {},
   "outputs": [
    {
     "data": {
      "text/plain": [
       "3.6363032f0"
      ]
     },
     "execution_count": 88,
     "metadata": {},
     "output_type": "execute_result"
    }
   ],
   "source": [
    "nll(output[:,idx_train], labels_decoded[idx_train])"
   ]
  },
  {
   "cell_type": "code",
   "execution_count": 89,
   "metadata": {},
   "outputs": [
    {
     "data": {
      "text/plain": [
       "16×1433 Array{Float64,2}:\n",
       " -0.00210876   -0.00505834   -0.0160476    …   0.00851522   0.00646792\n",
       "  0.144716      0.250144      0.40435          0.13396     -0.0168403 \n",
       "  0.0116924     0.000959673   0.000460728      0.00637715  -5.3039e-5 \n",
       "  0.00636338   -0.0288729     0.0155453        0.0115149    0.00996782\n",
       " -0.00743387    0.0850566    -0.0147882        0.0299587    0.0160534 \n",
       "  0.0227699     0.207464      0.166287     …   0.0354434    0.0370907 \n",
       "  0.000363204  -0.0327287    -0.00630968      -0.00148873  -0.0188724 \n",
       " -0.0289293     0.00709535    0.0429834       -0.0132996    0.0159501 \n",
       "  0.0349938     0.121346      0.156515         0.0207379    0.10544   \n",
       " -0.00147922    0.00709017   -0.0271289        0.00585227  -0.0271719 \n",
       "  0.000839367  -0.0565075     0.0932531    …   0.025376     0.0688625 \n",
       " -4.73896e-5    2.49623e-5   -1.28155e-5       0.0308135    1.73254e-6\n",
       "  0.02044       0.00181872   -0.0066724        0.0654944    0.043975  \n",
       "  0.0188843     0.113727      0.0304044       -0.0013055    0.00424399\n",
       " -0.00260479   -0.000261329   0.0642938       -0.0482445   -0.0277564 \n",
       "  0.00891       0.0738787     0.0509776    …   0.0458741    0.00856077"
      ]
     },
     "execution_count": 89,
     "metadata": {},
     "output_type": "execute_result"
    }
   ],
   "source": [
    "using AutoGrad\n",
    "J = @diff model(features2, labels_decoded)\n",
    "grad(J, params(model)[1])"
   ]
  },
  {
   "cell_type": "code",
   "execution_count": 90,
   "metadata": {},
   "outputs": [
    {
     "data": {
      "text/plain": [
       "Data{Tuple{Array{Float32,2},Array{Int64,1}}}(Float32[0.0 0.0 … 0.0 0.0; 0.0 0.0 … 0.0 0.0; … ; 0.0 0.0 … 0.0 0.0; 0.0 0.0 … 0.0 0.0], [4 5 … 4 4], 2708, 2708, false, 1, 1:2708, false, (1433, 2708), (2708,), Array{Float32,2}, Array{Int64,1})"
      ]
     },
     "execution_count": 90,
     "metadata": {},
     "output_type": "execute_result"
    }
   ],
   "source": [
    "dtrn =  minibatch(features2, labels_decoded[:], length(labels_decoded))"
   ]
  },
  {
   "cell_type": "code",
   "execution_count": 91,
   "metadata": {},
   "outputs": [
    {
     "data": {
      "text/plain": [
       "train_with_results (generic function with 1 method)"
      ]
     },
     "execution_count": 91,
     "metadata": {},
     "output_type": "execute_result"
    }
   ],
   "source": [
    "function train_with_results(model, dtrn, epoch, lr)\n",
    "    training = adam(model, ncycle(dtrn, epoch), lr=lr)\n",
    "    snapshot() = model(dtrn)\n",
    "    snapshots = (snapshot() for x in takenth(progress(training),length(dtrn)))\n",
    "    res = collect(flatten(snapshots))\n",
    "    return res\n",
    "end"
   ]
  },
  {
   "cell_type": "code",
   "execution_count": 92,
   "metadata": {},
   "outputs": [
    {
     "name": "stderr",
     "output_type": "stream",
     "text": [
      "┣████████████████████┫ [100.00%, 200/200, 00:24/00:24, 8.24i/s] \n"
     ]
    },
    {
     "data": {
      "image/svg+xml": [
       "<?xml version=\"1.0\" encoding=\"utf-8\"?>\n",
       "<svg xmlns=\"http://www.w3.org/2000/svg\" xmlns:xlink=\"http://www.w3.org/1999/xlink\" width=\"600\" height=\"400\" viewBox=\"0 0 2400 1600\">\n",
       "<defs>\n",
       "  <clipPath id=\"clip1000\">\n",
       "    <rect x=\"0\" y=\"0\" width=\"2400\" height=\"1600\"/>\n",
       "  </clipPath>\n",
       "</defs>\n",
       "<path clip-path=\"url(#clip1000)\" d=\"\n",
       "M0 1600 L2400 1600 L2400 0 L0 0  Z\n",
       "  \" fill=\"#ffffff\" fill-rule=\"evenodd\" fill-opacity=\"1\"/>\n",
       "<defs>\n",
       "  <clipPath id=\"clip1001\">\n",
       "    <rect x=\"480\" y=\"0\" width=\"1681\" height=\"1600\"/>\n",
       "  </clipPath>\n",
       "</defs>\n",
       "<path clip-path=\"url(#clip1000)\" d=\"\n",
       "M215.754 1425.62 L2352.76 1425.62 L2352.76 47.2441 L215.754 47.2441  Z\n",
       "  \" fill=\"#ffffff\" fill-rule=\"evenodd\" fill-opacity=\"1\"/>\n",
       "<defs>\n",
       "  <clipPath id=\"clip1002\">\n",
       "    <rect x=\"215\" y=\"47\" width=\"2138\" height=\"1379\"/>\n",
       "  </clipPath>\n",
       "</defs>\n",
       "<polyline clip-path=\"url(#clip1002)\" style=\"stroke:#000000; stroke-width:2; stroke-opacity:0.1; fill:none\" points=\"\n",
       "  266.104,1425.62 266.104,47.2441 \n",
       "  \"/>\n",
       "<polyline clip-path=\"url(#clip1002)\" style=\"stroke:#000000; stroke-width:2; stroke-opacity:0.1; fill:none\" points=\"\n",
       "  772.647,1425.62 772.647,47.2441 \n",
       "  \"/>\n",
       "<polyline clip-path=\"url(#clip1002)\" style=\"stroke:#000000; stroke-width:2; stroke-opacity:0.1; fill:none\" points=\"\n",
       "  1279.19,1425.62 1279.19,47.2441 \n",
       "  \"/>\n",
       "<polyline clip-path=\"url(#clip1002)\" style=\"stroke:#000000; stroke-width:2; stroke-opacity:0.1; fill:none\" points=\"\n",
       "  1785.73,1425.62 1785.73,47.2441 \n",
       "  \"/>\n",
       "<polyline clip-path=\"url(#clip1002)\" style=\"stroke:#000000; stroke-width:2; stroke-opacity:0.1; fill:none\" points=\"\n",
       "  2292.27,1425.62 2292.27,47.2441 \n",
       "  \"/>\n",
       "<polyline clip-path=\"url(#clip1002)\" style=\"stroke:#000000; stroke-width:2; stroke-opacity:0.1; fill:none\" points=\"\n",
       "  215.754,1425.62 2352.76,1425.62 \n",
       "  \"/>\n",
       "<polyline clip-path=\"url(#clip1002)\" style=\"stroke:#000000; stroke-width:2; stroke-opacity:0.1; fill:none\" points=\"\n",
       "  215.754,1081.02 2352.76,1081.02 \n",
       "  \"/>\n",
       "<polyline clip-path=\"url(#clip1002)\" style=\"stroke:#000000; stroke-width:2; stroke-opacity:0.1; fill:none\" points=\"\n",
       "  215.754,736.431 2352.76,736.431 \n",
       "  \"/>\n",
       "<polyline clip-path=\"url(#clip1002)\" style=\"stroke:#000000; stroke-width:2; stroke-opacity:0.1; fill:none\" points=\"\n",
       "  215.754,391.838 2352.76,391.838 \n",
       "  \"/>\n",
       "<polyline clip-path=\"url(#clip1002)\" style=\"stroke:#000000; stroke-width:2; stroke-opacity:0.1; fill:none\" points=\"\n",
       "  215.754,47.2441 2352.76,47.2441 \n",
       "  \"/>\n",
       "<polyline clip-path=\"url(#clip1000)\" style=\"stroke:#000000; stroke-width:4; stroke-opacity:1; fill:none\" points=\"\n",
       "  215.754,1425.62 2352.76,1425.62 \n",
       "  \"/>\n",
       "<polyline clip-path=\"url(#clip1000)\" style=\"stroke:#000000; stroke-width:4; stroke-opacity:1; fill:none\" points=\"\n",
       "  215.754,1425.62 215.754,47.2441 \n",
       "  \"/>\n",
       "<polyline clip-path=\"url(#clip1000)\" style=\"stroke:#000000; stroke-width:4; stroke-opacity:1; fill:none\" points=\"\n",
       "  266.104,1425.62 266.104,1409.08 \n",
       "  \"/>\n",
       "<polyline clip-path=\"url(#clip1000)\" style=\"stroke:#000000; stroke-width:4; stroke-opacity:1; fill:none\" points=\"\n",
       "  772.647,1425.62 772.647,1409.08 \n",
       "  \"/>\n",
       "<polyline clip-path=\"url(#clip1000)\" style=\"stroke:#000000; stroke-width:4; stroke-opacity:1; fill:none\" points=\"\n",
       "  1279.19,1425.62 1279.19,1409.08 \n",
       "  \"/>\n",
       "<polyline clip-path=\"url(#clip1000)\" style=\"stroke:#000000; stroke-width:4; stroke-opacity:1; fill:none\" points=\"\n",
       "  1785.73,1425.62 1785.73,1409.08 \n",
       "  \"/>\n",
       "<polyline clip-path=\"url(#clip1000)\" style=\"stroke:#000000; stroke-width:4; stroke-opacity:1; fill:none\" points=\"\n",
       "  2292.27,1425.62 2292.27,1409.08 \n",
       "  \"/>\n",
       "<polyline clip-path=\"url(#clip1000)\" style=\"stroke:#000000; stroke-width:4; stroke-opacity:1; fill:none\" points=\"\n",
       "  215.754,1425.62 241.398,1425.62 \n",
       "  \"/>\n",
       "<polyline clip-path=\"url(#clip1000)\" style=\"stroke:#000000; stroke-width:4; stroke-opacity:1; fill:none\" points=\"\n",
       "  215.754,1081.02 241.398,1081.02 \n",
       "  \"/>\n",
       "<polyline clip-path=\"url(#clip1000)\" style=\"stroke:#000000; stroke-width:4; stroke-opacity:1; fill:none\" points=\"\n",
       "  215.754,736.431 241.398,736.431 \n",
       "  \"/>\n",
       "<polyline clip-path=\"url(#clip1000)\" style=\"stroke:#000000; stroke-width:4; stroke-opacity:1; fill:none\" points=\"\n",
       "  215.754,391.838 241.398,391.838 \n",
       "  \"/>\n",
       "<polyline clip-path=\"url(#clip1000)\" style=\"stroke:#000000; stroke-width:4; stroke-opacity:1; fill:none\" points=\"\n",
       "  215.754,47.2441 241.398,47.2441 \n",
       "  \"/>\n",
       "<g clip-path=\"url(#clip1000)\">\n",
       "<text style=\"fill:#000000; fill-opacity:1; font-family:Arial,Helvetica Neue,Helvetica,sans-serif; font-size:48px; text-anchor:middle;\" transform=\"rotate(0, 266.104, 1479.62)\" x=\"266.104\" y=\"1479.62\">0</text>\n",
       "</g>\n",
       "<g clip-path=\"url(#clip1000)\">\n",
       "<text style=\"fill:#000000; fill-opacity:1; font-family:Arial,Helvetica Neue,Helvetica,sans-serif; font-size:48px; text-anchor:middle;\" transform=\"rotate(0, 772.647, 1479.62)\" x=\"772.647\" y=\"1479.62\">50</text>\n",
       "</g>\n",
       "<g clip-path=\"url(#clip1000)\">\n",
       "<text style=\"fill:#000000; fill-opacity:1; font-family:Arial,Helvetica Neue,Helvetica,sans-serif; font-size:48px; text-anchor:middle;\" transform=\"rotate(0, 1279.19, 1479.62)\" x=\"1279.19\" y=\"1479.62\">100</text>\n",
       "</g>\n",
       "<g clip-path=\"url(#clip1000)\">\n",
       "<text style=\"fill:#000000; fill-opacity:1; font-family:Arial,Helvetica Neue,Helvetica,sans-serif; font-size:48px; text-anchor:middle;\" transform=\"rotate(0, 1785.73, 1479.62)\" x=\"1785.73\" y=\"1479.62\">150</text>\n",
       "</g>\n",
       "<g clip-path=\"url(#clip1000)\">\n",
       "<text style=\"fill:#000000; fill-opacity:1; font-family:Arial,Helvetica Neue,Helvetica,sans-serif; font-size:48px; text-anchor:middle;\" transform=\"rotate(0, 2292.27, 1479.62)\" x=\"2292.27\" y=\"1479.62\">200</text>\n",
       "</g>\n",
       "<g clip-path=\"url(#clip1000)\">\n",
       "<text style=\"fill:#000000; fill-opacity:1; font-family:Arial,Helvetica Neue,Helvetica,sans-serif; font-size:48px; text-anchor:end;\" transform=\"rotate(0, 191.754, 1443.12)\" x=\"191.754\" y=\"1443.12\">0.0</text>\n",
       "</g>\n",
       "<g clip-path=\"url(#clip1000)\">\n",
       "<text style=\"fill:#000000; fill-opacity:1; font-family:Arial,Helvetica Neue,Helvetica,sans-serif; font-size:48px; text-anchor:end;\" transform=\"rotate(0, 191.754, 1098.52)\" x=\"191.754\" y=\"1098.52\">0.5</text>\n",
       "</g>\n",
       "<g clip-path=\"url(#clip1000)\">\n",
       "<text style=\"fill:#000000; fill-opacity:1; font-family:Arial,Helvetica Neue,Helvetica,sans-serif; font-size:48px; text-anchor:end;\" transform=\"rotate(0, 191.754, 753.931)\" x=\"191.754\" y=\"753.931\">1.0</text>\n",
       "</g>\n",
       "<g clip-path=\"url(#clip1000)\">\n",
       "<text style=\"fill:#000000; fill-opacity:1; font-family:Arial,Helvetica Neue,Helvetica,sans-serif; font-size:48px; text-anchor:end;\" transform=\"rotate(0, 191.754, 409.338)\" x=\"191.754\" y=\"409.338\">1.5</text>\n",
       "</g>\n",
       "<g clip-path=\"url(#clip1000)\">\n",
       "<text style=\"fill:#000000; fill-opacity:1; font-family:Arial,Helvetica Neue,Helvetica,sans-serif; font-size:48px; text-anchor:end;\" transform=\"rotate(0, 191.754, 64.7441)\" x=\"191.754\" y=\"64.7441\">2.0</text>\n",
       "</g>\n",
       "<g clip-path=\"url(#clip1000)\">\n",
       "<text style=\"fill:#000000; fill-opacity:1; font-family:Arial,Helvetica Neue,Helvetica,sans-serif; font-size:66px; text-anchor:middle;\" transform=\"rotate(0, 1284.25, 1559.48)\" x=\"1284.25\" y=\"1559.48\">Epochs</text>\n",
       "</g>\n",
       "<g clip-path=\"url(#clip1000)\">\n",
       "<text style=\"fill:#000000; fill-opacity:1; font-family:Arial,Helvetica Neue,Helvetica,sans-serif; font-size:66px; text-anchor:middle;\" transform=\"rotate(-90, 89.2861, 736.431)\" x=\"89.2861\" y=\"736.431\">Loss</text>\n",
       "</g>\n",
       "<polyline clip-path=\"url(#clip1002)\" style=\"stroke:#009af9; stroke-width:4; stroke-opacity:1; fill:none\" points=\"\n",
       "  276.235,-1616.9 286.366,-807.96 296.497,-68.3409 306.628,341.559 316.759,736.21 326.89,807.509 337.02,787.95 347.151,801.505 357.282,833.433 367.413,874.154 \n",
       "  377.544,919.025 387.675,955.757 397.805,975.61 407.936,1002.48 418.067,1022.7 428.198,1048.35 438.329,1053.31 448.46,1060.36 458.591,1080.43 468.721,1101.58 \n",
       "  478.852,1119.68 488.983,1132.72 499.114,1145.39 509.245,1156.58 519.376,1168.76 529.507,1183.24 539.637,1197.7 549.768,1209.82 559.899,1220.51 570.03,1229.71 \n",
       "  580.161,1238.06 590.292,1245.99 600.423,1253.22 610.553,1260.73 620.684,1267.81 630.815,1274.34 640.946,1280.55 651.077,1286.19 661.208,1292.21 671.338,1298.45 \n",
       "  681.469,1302.96 691.6,1306.43 701.731,1309.81 711.862,1312.68 721.993,1314.64 732.124,1316.7 742.254,1317.7 752.385,1318.71 762.516,1320.13 772.647,1321.58 \n",
       "  782.778,1323.27 792.909,1324.58 803.04,1325.26 813.17,1325.64 823.301,1327.44 833.432,1329.27 843.563,1331.08 853.694,1333.06 863.825,1334.69 873.956,1336.21 \n",
       "  884.086,1337.57 894.217,1338.81 904.348,1340 914.479,1341.03 924.61,1341.97 934.741,1343.91 944.871,1345.54 955.002,1346.72 965.133,1347.86 975.264,1348.95 \n",
       "  985.395,1349.94 995.526,1350.86 1005.66,1351.76 1015.79,1352.58 1025.92,1353.29 1036.05,1354.14 1046.18,1354.8 1056.31,1354.76 1066.44,1355.19 1076.57,1355.39 \n",
       "  1086.7,1355.58 1096.83,1355.68 1106.97,1355.95 1117.1,1356.32 1127.23,1356.96 1137.36,1357.45 1147.49,1357.91 1157.62,1358.32 1167.75,1358.06 1177.88,1357 \n",
       "  1188.01,1358.49 1198.14,1359.16 1208.27,1359.43 1218.4,1359.67 1228.54,1359.89 1238.67,1360.22 1248.8,1360.47 1258.93,1360.72 1269.06,1360.98 1279.19,1361.32 \n",
       "  1289.32,1361.74 1299.45,1362.09 1309.58,1362.35 1319.71,1362.55 1329.84,1361.42 1339.97,1358.35 1350.11,1357.2 1360.24,1357.69 1370.37,1359.28 1380.5,1359.66 \n",
       "  1390.63,1359.08 1400.76,1358.6 1410.89,1358.48 1421.02,1358.3 1431.15,1358.05 1441.28,1357.75 1451.41,1357.5 1461.54,1357.21 1471.68,1356.92 1481.81,1356.68 \n",
       "  1491.94,1356.75 1502.07,1356.96 1512.2,1357.27 1522.33,1357.6 1532.46,1358.01 1542.59,1358.51 1552.72,1359.16 1562.85,1359.89 1572.98,1360.61 1583.12,1361.3 \n",
       "  1593.25,1362 1603.38,1362.59 1613.51,1363.11 1623.64,1363.57 1633.77,1364.02 1643.9,1364.43 1654.03,1364.81 1664.16,1365.19 1674.29,1365.57 1684.42,1365.94 \n",
       "  1694.55,1366.3 1704.69,1366.62 1714.82,1366.91 1724.95,1367.19 1735.08,1367.48 1745.21,1367.76 1755.34,1368.05 1765.47,1368.34 1775.6,1368.65 1785.73,1368.87 \n",
       "  1795.86,1368.81 1805.99,1368.96 1816.12,1369.17 1826.26,1369.39 1836.39,1370.02 1846.52,1370.69 1856.65,1370.98 1866.78,1371.23 1876.91,1371.5 1887.04,1371.81 \n",
       "  1897.17,1372.14 1907.3,1372.43 1917.43,1372.66 1927.56,1372.86 1937.69,1373.04 1947.83,1373.14 1957.96,1373.22 1968.09,1373.3 1978.22,1373.39 1988.35,1373.48 \n",
       "  1998.48,1373.59 2008.61,1373.68 2018.74,1373.82 2028.87,1373.99 2039,1374.19 2049.13,1374.4 2059.27,1374.61 2069.4,1374.82 2079.53,1375.04 2089.66,1375.28 \n",
       "  2099.79,1375.49 2109.92,1375.7 2120.05,1375.9 2130.18,1376.11 2140.31,1376.32 2150.44,1376.54 2160.57,1376.78 2170.7,1377.02 2180.84,1377.27 2190.97,1377.52 \n",
       "  2201.1,1377.76 2211.23,1377.98 2221.36,1378.23 2231.49,1378.46 2241.62,1378.75 2251.75,1379 2261.88,1379.21 2272.01,1379.25 2282.14,1379.25 2292.27,1379.14 \n",
       "  \n",
       "  \"/>\n",
       "<path clip-path=\"url(#clip1000)\" d=\"\n",
       "M1698.38 251.724 L2280.76 251.724 L2280.76 130.764 L1698.38 130.764  Z\n",
       "  \" fill=\"#ffffff\" fill-rule=\"evenodd\" fill-opacity=\"1\"/>\n",
       "<polyline clip-path=\"url(#clip1000)\" style=\"stroke:#000000; stroke-width:4; stroke-opacity:1; fill:none\" points=\"\n",
       "  1698.38,251.724 2280.76,251.724 2280.76,130.764 1698.38,130.764 1698.38,251.724 \n",
       "  \"/>\n",
       "<polyline clip-path=\"url(#clip1000)\" style=\"stroke:#009af9; stroke-width:4; stroke-opacity:1; fill:none\" points=\"\n",
       "  1722.38,191.244 1866.38,191.244 \n",
       "  \"/>\n",
       "<g clip-path=\"url(#clip1000)\">\n",
       "<text style=\"fill:#000000; fill-opacity:1; font-family:Arial,Helvetica Neue,Helvetica,sans-serif; font-size:48px; text-anchor:start;\" transform=\"rotate(0, 1890.38, 208.744)\" x=\"1890.38\" y=\"208.744\">Symbol[:trnloss]</text>\n",
       "</g>\n",
       "</svg>\n"
      ]
     },
     "execution_count": 92,
     "metadata": {},
     "output_type": "execute_result"
    }
   ],
   "source": [
    "results = train_with_results(model, dtrn, arguments.epochs, arguments.lr)\n",
    "trnloss = Array{Float32}(results)\n",
    "plot(trnloss, ylim=(0.0,2.0),labels=[:trnloss],xlabel=\"Epochs\",ylabel=\"Loss\")"
   ]
  },
  {
   "cell_type": "code",
   "execution_count": 93,
   "metadata": {},
   "outputs": [
    {
     "data": {
      "text/plain": [
       "1.0"
      ]
     },
     "execution_count": 93,
     "metadata": {},
     "output_type": "execute_result"
    }
   ],
   "source": [
    "output = model(features2)\n",
    "accuracy(output[:,idx_train], labels_decoded[idx_train])"
   ]
  },
  {
   "cell_type": "code",
   "execution_count": 94,
   "metadata": {},
   "outputs": [
    {
     "data": {
      "text/plain": [
       "0.739"
      ]
     },
     "execution_count": 94,
     "metadata": {},
     "output_type": "execute_result"
    }
   ],
   "source": [
    "output = model(features2)\n",
    "accuracy(output[:,test_idx_reorder], labels_decoded[test_idx_reorder])"
   ]
  }
 ],
 "metadata": {
  "@webio": {
   "lastCommId": null,
   "lastKernelId": null
  },
  "kernelspec": {
   "display_name": "Julia 1.1.1",
   "language": "julia",
   "name": "julia-1.1"
  },
  "language_info": {
   "file_extension": ".jl",
   "mimetype": "application/julia",
   "name": "julia",
   "version": "1.1.1"
  }
 },
 "nbformat": 4,
 "nbformat_minor": 2
}
