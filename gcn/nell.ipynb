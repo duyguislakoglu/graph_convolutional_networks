{
 "cells": [
  {
   "cell_type": "code",
   "execution_count": 35,
   "metadata": {},
   "outputs": [],
   "source": [
    "using Pkg\n",
    "for p in [\"Knet\", \"Plots\", \"IterTools\",\"PyCall\"]\n",
    "    if !haskey(Pkg.installed(),p)\n",
    "        Pkg.add(p);\n",
    "    end\n",
    "end\n",
    "using DelimitedFiles\n",
    "using Knet: KnetArray, accuracy, progress, minibatch, cycle, adam, xavier_uniform\n",
    "using Plots\n",
    "using IterTools: ncycle, takenth, take\n",
    "using Base.Iterators: flatten\n",
    "using LinearAlgebra"
   ]
  },
  {
   "cell_type": "code",
   "execution_count": 36,
   "metadata": {},
   "outputs": [
    {
     "name": "stderr",
     "output_type": "stream",
     "text": [
      "┌ Warning: `getindex(o::PyObject, s::AbstractString)` is deprecated in favor of dot overloading (`getproperty`) so elements should now be accessed as e.g. `o.\"s\"` instead of `o[\"s\"]`.\n",
      "│   caller = top-level scope at none:0\n",
      "└ @ Core none:0\n",
      "WARNING: redefining constant scipy_sparse_find\n"
     ]
    }
   ],
   "source": [
    "include(\"utils.jl\")\n",
    "include(\"models.jl\")"
   ]
  },
  {
   "cell_type": "code",
   "execution_count": 37,
   "metadata": {},
   "outputs": [
    {
     "data": {
      "text/plain": [
       "(\n",
       "  [19982,     1]  =  1\n",
       "  [41507,     2]  =  1\n",
       "  [9215 ,     3]  =  1\n",
       "  [18079,     4]  =  1\n",
       "  [18081,     4]  =  1\n",
       "  [21930,     4]  =  1\n",
       "  [9742 ,     5]  =  1\n",
       "  [42496,     5]  =  1\n",
       "  [42504,     5]  =  1\n",
       "  [42505,     5]  =  1\n",
       "  [8929 ,     6]  =  1\n",
       "  [8946 ,     6]  =  1\n",
       "  ⋮\n",
       "  [8945 , 65751]  =  1\n",
       "  [8929 , 65752]  =  1\n",
       "  [8937 , 65752]  =  1\n",
       "  [8961 , 65753]  =  1\n",
       "  [8964 , 65753]  =  1\n",
       "  [9875 , 65753]  =  1\n",
       "  [8975 , 65754]  =  1\n",
       "  [9045 , 65754]  =  1\n",
       "  [9105 , 65754]  =  1\n",
       "  [8937 , 65755]  =  1\n",
       "  [8950 , 65755]  =  1\n",
       "  [8985 , 65755]  =  1, \n",
       "  [1    ,     1]  =  1\n",
       "  [2    ,     1]  =  1\n",
       "  [3    ,     1]  =  1\n",
       "  [6    ,     1]  =  2\n",
       "  [15   ,     1]  =  1\n",
       "  [27   ,     1]  =  2\n",
       "  [30   ,     1]  =  3\n",
       "  [38   ,     1]  =  1\n",
       "  [46   ,     1]  =  2\n",
       "  [59   ,     1]  =  1\n",
       "  [68   ,     1]  =  2\n",
       "  [72   ,     1]  =  2\n",
       "  ⋮\n",
       "  [61267, 65744]  =  1\n",
       "  [61268, 65745]  =  1\n",
       "  [61269, 65746]  =  1\n",
       "  [61270, 65747]  =  1\n",
       "  [61271, 65748]  =  1\n",
       "  [61272, 65749]  =  1\n",
       "  [61273, 65750]  =  1\n",
       "  [61274, 65751]  =  1\n",
       "  [61275, 65752]  =  1\n",
       "  [61276, 65753]  =  1\n",
       "  [61277, 65754]  =  1\n",
       "  [61278, 65755]  =  1, [0.0 0.0 … 0.0 0.0; 0.0 0.0 … 0.0 0.0; … ; 0.0 0.0 … 0.0 0.0; 0.0 0.0 … 0.0 0.0], 1:140, 200:499, [42574, 37777, 18676, 20973, 62255, 41320, 65011, 38564, 64017, 59757  …  63669, 32961, 20745, 61843, 13531, 36198, 32803, 55428, 43370, 59029])"
      ]
     },
     "execution_count": 37,
     "metadata": {},
     "output_type": "execute_result"
    }
   ],
   "source": [
    "adj, features, labels, idx_train, idx_val, idx_test = load_dataset(\"nell\")"
   ]
  },
  {
   "cell_type": "code",
   "execution_count": 1,
   "metadata": {},
   "outputs": [
    {
     "ename": "UndefVarError",
     "evalue": "UndefVarError: features not defined",
     "output_type": "error",
     "traceback": [
      "UndefVarError: features not defined",
      "",
      "Stacktrace:",
      " [1] top-level scope at In[1]:11"
     ]
    }
   ],
   "source": [
    "# TODO: take user inputs\n",
    "struct args\n",
    "    epochs\n",
    "    lr\n",
    "    weight_decay\n",
    "    hidden\n",
    "    pdrop\n",
    "end\n",
    "\n",
    "arguments = args(200, 0.01, 1e-5, 64, 0.1)\n",
    "\n",
    "# Model and optimizer\n",
    "model = GCN(size(features,1),\n",
    "            arguments.hidden,\n",
    "            size(labels,2),\n",
    "            adj,\n",
    "            arguments.pdrop)\n",
    "\n",
    "function val_loss(g::GCN,x,y)\n",
    "    output = g(x)[:, idx_val]\n",
    "    nll(output, y[idx_val]) + (arguments.weight_decay * sum(g.layer1.w .* g.layer1.w)) \n",
    "end  \n",
    "function val_loss(g::GCN, d)\n",
    "    mean(val_loss(g,x,y) for (x,y) in d)\n",
    "end\n",
    "\n",
    "function test_loss(g::GCN,x,y)\n",
    "    output = g(x)[:, idx_test]\n",
    "    nll(output, y[idx_test]) + (arguments.weight_decay * sum(g.layer1.w .* g.layer1.w)) \n",
    "end  \n",
    "function test_loss(g::GCN,d)\n",
    "    mean(test_loss(g,x,y) for (x,y) in d)\n",
    "end\n",
    "\n",
    "(g::GCN)(x,y) = nll(g(x)[:, idx_train], y[idx_train]) + (arguments.weight_decay * sum(g.layer1.w .* g.layer1.w)) \n",
    "#(g::GCN)(x,y) = nll(g(x)[:, idx_train], y[idx_train])"
   ]
  },
  {
   "cell_type": "code",
   "execution_count": 39,
   "metadata": {},
   "outputs": [],
   "source": [
    "#output = model(features)"
   ]
  },
  {
   "cell_type": "code",
   "execution_count": 40,
   "metadata": {},
   "outputs": [
    {
     "data": {
      "text/plain": [
       "65755-element Array{Int64,1}:\n",
       " 1\n",
       " 1\n",
       " 1\n",
       " 1\n",
       " 1\n",
       " 1\n",
       " 1\n",
       " 1\n",
       " 1\n",
       " 1\n",
       " 1\n",
       " 1\n",
       " 1\n",
       " ⋮\n",
       " 1\n",
       " 1\n",
       " 1\n",
       " 1\n",
       " 1\n",
       " 1\n",
       " 1\n",
       " 1\n",
       " 1\n",
       " 1\n",
       " 1\n",
       " 1"
      ]
     },
     "execution_count": 40,
     "metadata": {},
     "output_type": "execute_result"
    }
   ],
   "source": [
    "labels_decoded = mapslices(argmax, labels ,dims=2)[:]\n",
    "labels_decoded = convert(Array{Int64,1}, ones(size(labels_decoded)))"
   ]
  },
  {
   "cell_type": "code",
   "execution_count": 41,
   "metadata": {},
   "outputs": [],
   "source": [
    "#nll(output[:,idx_train], labels_decoded[idx_train])"
   ]
  },
  {
   "cell_type": "code",
   "execution_count": 42,
   "metadata": {},
   "outputs": [],
   "source": [
    "#accuracy(output[:,idx_train], labels_decoded[idx_train])"
   ]
  },
  {
   "cell_type": "code",
   "execution_count": 43,
   "metadata": {},
   "outputs": [],
   "source": [
    "#using AutoGrad\n",
    "#J = @diff model(features, labels_decoded)\n",
    "#grad(J, params(model)[1])"
   ]
  },
  {
   "cell_type": "code",
   "execution_count": 45,
   "metadata": {},
   "outputs": [
    {
     "data": {
      "text/plain": [
       "Data{Tuple{SparseMatrixCSC{Int32,Int64},Array{Int64,1}}}(Int32[1 1 … 0 0; 1 4 … 0 0; … ; 0 0 … 1 0; 0 0 … 0 1], [1 1 … 1 1], 65755, 65755, false, 1, 1:65755, false, (61278, 65755), (65755,), SparseMatrixCSC{Int32,Int64}, Array{Int64,1})"
      ]
     },
     "execution_count": 45,
     "metadata": {},
     "output_type": "execute_result"
    }
   ],
   "source": [
    "data =  minibatch(features, labels_decoded[:], length(labels_decoded[:]))"
   ]
  },
  {
   "cell_type": "code",
   "execution_count": 46,
   "metadata": {},
   "outputs": [
    {
     "data": {
      "text/plain": [
       "train_with_results (generic function with 1 method)"
      ]
     },
     "execution_count": 46,
     "metadata": {},
     "output_type": "execute_result"
    }
   ],
   "source": [
    "function train_with_results(model, data, epoch, lr)\n",
    "    training = adam(model, ncycle(data, epoch), lr=lr)\n",
    "    snapshot() = model(data)\n",
    "    snapshots = (snapshot() for x in takenth(progress(training),length(data)))\n",
    "    res = collect(flatten(snapshots))\n",
    "    return res\n",
    "end"
   ]
  },
  {
   "cell_type": "code",
   "execution_count": null,
   "metadata": {},
   "outputs": [],
   "source": [
    "results = train_with_results(model, data, 2, arguments.lr)\n",
    "trnloss = Array{Float32}(results)\n",
    "plot(trnloss, ylim=(0.0,2.0),labels=[:trnloss],xlabel=\"Epochs\",ylabel=\"Loss\")"
   ]
  },
  {
   "cell_type": "code",
   "execution_count": null,
   "metadata": {},
   "outputs": [],
   "source": [
    "output = model(features)\n",
    "accuracy(output[:,idx_train], labels_decoded[idx_train])"
   ]
  },
  {
   "cell_type": "code",
   "execution_count": null,
   "metadata": {},
   "outputs": [],
   "source": [
    "output = model(features)\n",
    "accuracy(output[:,idx_test], labels_decoded[idx_test])"
   ]
  },
  {
   "cell_type": "code",
   "execution_count": null,
   "metadata": {},
   "outputs": [],
   "source": []
  },
  {
   "cell_type": "code",
   "execution_count": null,
   "metadata": {},
   "outputs": [],
   "source": []
  },
  {
   "cell_type": "code",
   "execution_count": null,
   "metadata": {},
   "outputs": [],
   "source": []
  }
 ],
 "metadata": {
  "kernelspec": {
   "display_name": "Julia 1.1.1",
   "language": "julia",
   "name": "julia-1.1"
  },
  "language_info": {
   "file_extension": ".jl",
   "mimetype": "application/julia",
   "name": "julia",
   "version": "1.1.1"
  }
 },
 "nbformat": 4,
 "nbformat_minor": 2
}
