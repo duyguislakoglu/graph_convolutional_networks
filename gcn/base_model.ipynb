{
 "cells": [
  {
   "cell_type": "code",
   "execution_count": 18,
   "metadata": {},
   "outputs": [
    {
     "name": "stderr",
     "output_type": "stream",
     "text": [
      "┌ Warning: `getindex(o::PyObject, s::AbstractString)` is deprecated in favor of dot overloading (`getproperty`) so elements should now be accessed as e.g. `o.\"s\"` instead of `o[\"s\"]`.\n",
      "│   caller = top-level scope at utils.jl:3\n",
      "└ @ Core /home/ec2-user/dl/utils.jl:3\n",
      "WARNING: redefining constant scipy_sparse_find\n"
     ]
    }
   ],
   "source": [
    "using Pkg\n",
    "for p in [\"Knet\", \"Plots\", \"IterTools\"]\n",
    "    if !haskey(Pkg.installed(),p)\n",
    "        Pkg.add(p);\n",
    "    end\n",
    "end\n",
    "using DelimitedFiles\n",
    "using Knet: Adam, KnetArray\n",
    "using IterTools: ncycle, takenth\n",
    "using Base.Iterators: flatten\n",
    "\n",
    "include(\"utils.jl\")\n",
    "include(\"layers.jl\")\n",
    "include(\"models.jl\")"
   ]
  },
  {
   "cell_type": "code",
   "execution_count": 19,
   "metadata": {},
   "outputs": [
    {
     "data": {
      "text/plain": [
       "(K64(2708,2708)[0.16666666666666666⋯], K32(1433,2708)[0.0⋯], Int32[0 0 … 0 0; 0 0 … 1 0; … ; 0 0 … 0 1; 0 0 … 0 0], 1:140, 141:500, 501:2708)"
      ]
     },
     "execution_count": 19,
     "metadata": {},
     "output_type": "execute_result"
    }
   ],
   "source": [
    "# Load data\n",
    "adj, features, labels, idx_train, idx_val, idx_test = load()"
   ]
  },
  {
   "cell_type": "code",
   "execution_count": 20,
   "metadata": {},
   "outputs": [
    {
     "ename": "MethodError",
     "evalue": "MethodError: no method matching KnetArray(::Float64)\nClosest candidates are:\n  KnetArray(!Matched::KnetArray{T,N}) where {T, N} at /home/ec2-user/.julia/packages/Knet/vxHRi/src/karray.jl:87\n  KnetArray(!Matched::AbstractArray{T,N}) where {T, N} at /home/ec2-user/.julia/packages/Knet/vxHRi/src/karray.jl:93\n  KnetArray(!Matched::AutoGrad.Value{A}) where A<:AbstractArray at /home/ec2-user/.julia/packages/Knet/vxHRi/src/karray.jl:388",
     "output_type": "error",
     "traceback": [
      "MethodError: no method matching KnetArray(::Float64)\nClosest candidates are:\n  KnetArray(!Matched::KnetArray{T,N}) where {T, N} at /home/ec2-user/.julia/packages/Knet/vxHRi/src/karray.jl:87\n  KnetArray(!Matched::AbstractArray{T,N}) where {T, N} at /home/ec2-user/.julia/packages/Knet/vxHRi/src/karray.jl:93\n  KnetArray(!Matched::AutoGrad.Value{A}) where A<:AbstractArray at /home/ec2-user/.julia/packages/Knet/vxHRi/src/karray.jl:388",
      "",
      "Stacktrace:",
      " [1] GCLayer(::Int64, ::Int64, ::Float64, ::Function) at /home/ec2-user/dl/layers.jl:10 (repeats 2 times)",
      " [2] GCN(::Int64, ::Int64, ::Int64, ::Float64, ::Int64) at /home/ec2-user/dl/models.jl:12 (repeats 2 times)",
      " [3] top-level scope at In[20]:11"
     ]
    }
   ],
   "source": [
    "# TODO: take user inputs\n",
    "struct args\n",
    "    epochs\n",
    "    lr\n",
    "    weight_decay\n",
    "    hidden\n",
    "    pdrop\n",
    "end\n",
    "\n",
    "arguments = args(200, 0.01, 5e-4, 16, 0.5)\n",
    "# Model and optimizer\n",
    "model = GCN(size(features,1),\n",
    "            arguments.hidden,\n",
    "            size(labels,2),\n",
    "            arguments.pdrop)"
   ]
  },
  {
   "cell_type": "code",
   "execution_count": 10,
   "metadata": {},
   "outputs": [
    {
     "ename": "UndefVarError",
     "evalue": "UndefVarError: model not defined",
     "output_type": "error",
     "traceback": [
      "UndefVarError: model not defined",
      "",
      "Stacktrace:",
      " [1] top-level scope at In[10]:1"
     ]
    }
   ],
   "source": [
    "output = model(KnetArray(features), convert(KnetArray{Float32,2}, KnetArray(adj)))"
   ]
  },
  {
   "cell_type": "code",
   "execution_count": null,
   "metadata": {},
   "outputs": [],
   "source": [
    "labels2 = mapslices(argmax, labels ,dims=2)"
   ]
  },
  {
   "cell_type": "code",
   "execution_count": null,
   "metadata": {},
   "outputs": [],
   "source": [
    "output3 = convert(Array{Float64,2}, output)  "
   ]
  },
  {
   "cell_type": "code",
   "execution_count": null,
   "metadata": {},
   "outputs": [],
   "source": [
    "output3[:,idx_train]"
   ]
  },
  {
   "cell_type": "code",
   "execution_count": null,
   "metadata": {},
   "outputs": [],
   "source": [
    "nll(output3[:,idx_train], labels2[idx_train])"
   ]
  },
  {
   "cell_type": "code",
   "execution_count": null,
   "metadata": {},
   "outputs": [],
   "source": [
    "model.layer1.w.value"
   ]
  },
  {
   "cell_type": "code",
   "execution_count": null,
   "metadata": {},
   "outputs": [],
   "source": [
    "model.layer1.w.value"
   ]
  },
  {
   "cell_type": "code",
   "execution_count": null,
   "metadata": {},
   "outputs": [],
   "source": [
    "using Knet: accuracy"
   ]
  },
  {
   "cell_type": "code",
   "execution_count": null,
   "metadata": {},
   "outputs": [],
   "source": [
    "accuracy(output3[:,idx_train], labels2[idx_train])"
   ]
  },
  {
   "cell_type": "code",
   "execution_count": null,
   "metadata": {},
   "outputs": [],
   "source": [
    "function train_with_results(model, features, epoch, lr)\n",
    "    training = adam(model, ncycle(features,epoch))\n",
    "    snapshot() = (deepcopy(model), model(features))\n",
    "    snapshots = (snapshot() for x in takenth(progress(training),length(features)))\n",
    "    lin = reshape(collect(flatten(snapshots)),(5,:))\n",
    "    return lin\n",
    "end"
   ]
  }
 ],
 "metadata": {
  "@webio": {
   "lastCommId": null,
   "lastKernelId": null
  },
  "kernelspec": {
   "display_name": "Julia 1.3.1",
   "language": "julia",
   "name": "julia-1.3"
  },
  "language_info": {
   "file_extension": ".jl",
   "mimetype": "application/julia",
   "name": "julia",
   "version": "1.3.1"
  }
 },
 "nbformat": 4,
 "nbformat_minor": 2
}
