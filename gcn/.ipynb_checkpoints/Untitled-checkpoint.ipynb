{
 "cells": [
  {
   "cell_type": "code",
   "execution_count": 1,
   "metadata": {},
   "outputs": [
    {
     "name": "stderr",
     "output_type": "stream",
     "text": [
      "┌ Warning: `getindex(o::PyObject, s::AbstractString)` is deprecated in favor of dot overloading (`getproperty`) so elements should now be accessed as e.g. `o.\"s\"` instead of `o[\"s\"]`.\n",
      "│   caller = top-level scope at none:0\n",
      "└ @ Core none:0\n"
     ]
    }
   ],
   "source": [
    "using Pkg\n",
    "for p in [\"Knet\", \"Plots\", \"IterTools\", \"PyCall\", \"ArgParse\"]\n",
    "    if !haskey(Pkg.installed(),p)\n",
    "        Pkg.add(p);\n",
    "    end\n",
    "end\n",
    " \n",
    "using Knet\n",
    "using DelimitedFiles\n",
    "using Knet: KnetArray, accuracy, progress, minibatch, cycle, adam, xavier_uniform, progress!\n",
    "using Plots\n",
    "using ArgParse\n",
    "using IterTools: ncycle, takenth, take\n",
    "using Base.Iterators: flatten\n",
    "using LinearAlgebra\n",
    "\n",
    "include(\"utils.jl\")\n",
    "include(\"models.jl\")\n",
    "\n",
    "function train_with_early_stopping(model, data, epochs, lr, window_size)\n",
    "    early_stop_counter = 0\n",
    "    prev_val_loss = 0\n",
    "    iter = 0\n",
    "\n",
    "    trnloss = []\n",
    "    valloss = []\n",
    "    flag = true\n",
    "\n",
    "    function task()\n",
    "\n",
    "        append!(trnloss, model(data))\n",
    "        v_loss = val_loss(model, data)\n",
    "        append!(valloss, v_loss)\n",
    "\n",
    "        if v_loss >= prev_val_loss\n",
    "            early_stop_counter = early_stop_counter + 1\n",
    "        else\n",
    "            early_stop_counter = 0\n",
    "        end\n",
    "        if early_stop_counter == window_size\n",
    "            flag = false\n",
    "        end\n",
    "\n",
    "        iter = iter + 1\n",
    "        prev_val_loss = v_loss\n",
    "\n",
    "        return flag\n",
    "    end\n",
    "\n",
    "    training = adam(model, ncycle(data, epochs), lr=lr)\n",
    "    progress!(flag = task() for x in (x for (i,x) in enumerate(training)) if flag)\n",
    "\n",
    "    return 1:iter, trnloss, valloss\n",
    "end\n",
    "\n",
    "# TODO: take user inputs\n",
    "struct args\n",
    "    epochs\n",
    "    lr\n",
    "    weight_decay\n",
    "    hidden\n",
    "    pdrop\n",
    "    window_size\n",
    "end\n",
    "\n",
    "arguments = args(200, 0.01, 5e-4, 16, 0.5, 10)\n",
    "\n",
    "function val_loss(model,x,y)\n",
    "    output = model(x)[:, idx_val]\n",
    "    nll(output, y[idx_val]) + (arguments.weight_decay * sum(model.layer1.w .* model.layer1.w))\n",
    "end\n",
    "function val_loss(model, d)\n",
    "    mean(val_loss(model,x,y) for (x,y) in d)\n",
    "end\n",
    "\n",
    "function test_loss(model,x,y)\n",
    "    output = model(x)[:, idx_test]\n",
    "    nll(output, y[idx_test]) + (arguments.weight_decay * sum(model.layer1.w .* model.layer1.w))\n",
    "end\n",
    "function test_loss(model,d)\n",
    "    mean(test_loss(model,x,y) for (x,y) in d)\n",
    "end\n",
    "\n",
    "(g::GCN)(x,y) = nll(g(x)[:, idx_train], y[idx_train]) + (arguments.weight_decay * sum(g.layer1.w .* g.layer1.w))\n",
    "(m::MLP)(x,y) = nll(m(x)[:, idx_train], y[idx_train]) + (arguments.weight_decay * sum(m.layer1.w .* m.layer1.w))\n",
    "(m::GCN2)(x,y) = nll(m(x)[:, idx_train], y[idx_train]) "
   ]
  },
  {
   "cell_type": "code",
   "execution_count": 6,
   "metadata": {},
   "outputs": [
    {
     "name": "stderr",
     "output_type": "stream",
     "text": [
      "┌ Warning: `getindex(o::PyObject, s::AbstractString)` is deprecated in favor of dot overloading (`getproperty`) so elements should now be accessed as e.g. `o.\"s\"` instead of `o[\"s\"]`.\n",
      "│   caller = top-level scope at none:0\n",
      "└ @ Core none:0\n",
      "WARNING: redefining constant scipy_sparse_find\n"
     ]
    },
    {
     "data": {
      "text/plain": [
       "load_dataset (generic function with 2 methods)"
      ]
     },
     "execution_count": 6,
     "metadata": {},
     "output_type": "execute_result"
    }
   ],
   "source": [
    "include(\"utils.jl\")"
   ]
  },
  {
   "cell_type": "code",
   "execution_count": 7,
   "metadata": {},
   "outputs": [],
   "source": [
    "(m::GCN2)(x,y) = nll(m(x)[:, idx_train], y[idx_train]) "
   ]
  },
  {
   "cell_type": "code",
   "execution_count": 8,
   "metadata": {},
   "outputs": [
    {
     "data": {
      "text/plain": [
       "(PyObject[PyObject <2708x2708 sparse matrix of type '<class 'numpy.float64'>'\n",
       "\twith 2708 stored elements (1 diagonals) in DIAgonal format>, PyObject <2708x2708 sparse matrix of type '<class 'numpy.float64'>'\n",
       "\twith 13264 stored elements in Compressed Sparse Row format>, PyObject <2708x2708 sparse matrix of type '<class 'numpy.float64'>'\n",
       "\twith 99596 stored elements in Compressed Sparse Row format>, PyObject <2708x2708 sparse matrix of type '<class 'numpy.float64'>'\n",
       "\twith 346846 stored elements in Compressed Sparse Row format>], \n",
       "  [20  ,    1]  =  0.111111\n",
       "  [82  ,    1]  =  0.111111\n",
       "  [147 ,    1]  =  0.111111\n",
       "  [316 ,    1]  =  0.111111\n",
       "  [775 ,    1]  =  0.111111\n",
       "  [878 ,    1]  =  0.111111\n",
       "  [1195,    1]  =  0.111111\n",
       "  [1248,    1]  =  0.111111\n",
       "  [1275,    1]  =  0.111111\n",
       "  [20  ,    2]  =  0.0434783\n",
       "  [89  ,    2]  =  0.0434783\n",
       "  [150 ,    2]  =  0.0434783\n",
       "  ⋮\n",
       "  [187 , 2708]  =  0.0769231\n",
       "  [330 , 2708]  =  0.0769231\n",
       "  [448 , 2708]  =  0.0769231\n",
       "  [455 , 2708]  =  0.0769231\n",
       "  [755 , 2708]  =  0.0769231\n",
       "  [775 , 2708]  =  0.0769231\n",
       "  [897 , 2708]  =  0.0769231\n",
       "  [1023, 2708]  =  0.0769231\n",
       "  [1115, 2708]  =  0.0769231\n",
       "  [1329, 2708]  =  0.0769231\n",
       "  [1413, 2708]  =  0.0769231\n",
       "  [1415, 2708]  =  0.0769231, Int32[0 0 … 0 0; 0 0 … 0 0; … ; 0 0 … 0 0; 0 0 … 0 0], 1:140, 141:640, [1709, 1710, 1711, 1712, 1713, 1714, 1715, 1716, 1717, 1718  …  2699, 2700, 2701, 2702, 2703, 2704, 2705, 2706, 2707, 2708])"
      ]
     },
     "execution_count": 8,
     "metadata": {},
     "output_type": "execute_result"
    }
   ],
   "source": [
    "adj, features, labels, idx_train, idx_val, idx_test = load_dataset(\"cora\",3)"
   ]
  },
  {
   "cell_type": "code",
   "execution_count": 9,
   "metadata": {},
   "outputs": [
    {
     "data": {
      "text/plain": [
       "4-element Array{PyObject,1}:\n",
       " PyObject <2708x2708 sparse matrix of type '<class 'numpy.float64'>'\n",
       "\twith 2708 stored elements (1 diagonals) in DIAgonal format> \n",
       " PyObject <2708x2708 sparse matrix of type '<class 'numpy.float64'>'\n",
       "\twith 13264 stored elements in Compressed Sparse Row format> \n",
       " PyObject <2708x2708 sparse matrix of type '<class 'numpy.float64'>'\n",
       "\twith 99596 stored elements in Compressed Sparse Row format> \n",
       " PyObject <2708x2708 sparse matrix of type '<class 'numpy.float64'>'\n",
       "\twith 346846 stored elements in Compressed Sparse Row format>"
      ]
     },
     "execution_count": 9,
     "metadata": {},
     "output_type": "execute_result"
    }
   ],
   "source": [
    "adj"
   ]
  },
  {
   "cell_type": "code",
   "execution_count": 10,
   "metadata": {},
   "outputs": [
    {
     "ename": "UndefVarError",
     "evalue": "UndefVarError: atype not defined",
     "output_type": "error",
     "traceback": [
      "UndefVarError: atype not defined",
      "",
      "Stacktrace:",
      " [1] top-level scope at ./In[10]:2"
     ]
    }
   ],
   "source": [
    "for i=1:length(adj)\n",
    "    adj[i] = convert(atype, adj[i])\n",
    "end"
   ]
  },
  {
   "cell_type": "code",
   "execution_count": null,
   "metadata": {},
   "outputs": [],
   "source": []
  }
 ],
 "metadata": {
  "kernelspec": {
   "display_name": "Julia 1.1.1",
   "language": "julia",
   "name": "julia-1.1"
  },
  "language_info": {
   "file_extension": ".jl",
   "mimetype": "application/julia",
   "name": "julia",
   "version": "1.1.1"
  }
 },
 "nbformat": 4,
 "nbformat_minor": 2
}
