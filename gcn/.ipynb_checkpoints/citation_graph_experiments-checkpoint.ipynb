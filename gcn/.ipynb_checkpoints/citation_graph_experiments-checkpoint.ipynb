{
 "cells": [
  {
   "cell_type": "code",
   "execution_count": 2,
   "metadata": {},
   "outputs": [
    {
     "name": "stderr",
     "output_type": "stream",
     "text": [
      "┌ Warning: `getindex(o::PyObject, s::AbstractString)` is deprecated in favor of dot overloading (`getproperty`) so elements should now be accessed as e.g. `o.\"s\"` instead of `o[\"s\"]`.\n",
      "│   caller = top-level scope at none:0\n",
      "└ @ Core none:0\n"
     ]
    }
   ],
   "source": [
    "using Pkg\n",
    "for p in [\"Knet\", \"Plots\", \"IterTools\",\"PyCall\"]\n",
    "    if !haskey(Pkg.installed(),p)\n",
    "        Pkg.add(p);\n",
    "    end\n",
    "end\n",
    "using DelimitedFiles\n",
    "using Knet: KnetArray, accuracy, progress, minibatch, cycle, adam, xavier_uniform\n",
    "using Plots\n",
    "using IterTools: ncycle, takenth, take\n",
    "using Base.Iterators: flatten\n",
    "using LinearAlgebra\n",
    "\n",
    "include(\"utils.jl\")\n",
    "include(\"models.jl\")"
   ]
  },
  {
   "cell_type": "code",
   "execution_count": 3,
   "metadata": {},
   "outputs": [
    {
     "data": {
      "text/plain": [
       "(\n",
       "  [634 ,    1]  =  1\n",
       "  [1863,    1]  =  1\n",
       "  [2583,    1]  =  1\n",
       "  [3   ,    2]  =  1\n",
       "  [653 ,    2]  =  1\n",
       "  [655 ,    2]  =  1\n",
       "  [2   ,    3]  =  1\n",
       "  [333 ,    3]  =  1\n",
       "  [1455,    3]  =  1\n",
       "  [1667,    3]  =  1\n",
       "  [1987,    3]  =  1\n",
       "  [2545,    4]  =  1\n",
       "  ⋮\n",
       "  [1537, 2703]  =  1\n",
       "  [1299, 2704]  =  1\n",
       "  [642 , 2705]  =  1\n",
       "  [288 , 2706]  =  1\n",
       "  [166 , 2707]  =  1\n",
       "  [170 , 2707]  =  1\n",
       "  [1474, 2707]  =  1\n",
       "  [2708, 2707]  =  1\n",
       "  [166 , 2708]  =  1\n",
       "  [599 , 2708]  =  1\n",
       "  [1474, 2708]  =  1\n",
       "  [2707, 2708]  =  1, \n",
       "  [20  ,    1]  =  1.0\n",
       "  [82  ,    1]  =  1.0\n",
       "  [147 ,    1]  =  1.0\n",
       "  [316 ,    1]  =  1.0\n",
       "  [775 ,    1]  =  1.0\n",
       "  [878 ,    1]  =  1.0\n",
       "  [1195,    1]  =  1.0\n",
       "  [1248,    1]  =  1.0\n",
       "  [1275,    1]  =  1.0\n",
       "  [20  ,    2]  =  1.0\n",
       "  [89  ,    2]  =  1.0\n",
       "  [150 ,    2]  =  1.0\n",
       "  ⋮\n",
       "  [187 , 2708]  =  1.0\n",
       "  [330 , 2708]  =  1.0\n",
       "  [448 , 2708]  =  1.0\n",
       "  [455 , 2708]  =  1.0\n",
       "  [755 , 2708]  =  1.0\n",
       "  [775 , 2708]  =  1.0\n",
       "  [897 , 2708]  =  1.0\n",
       "  [1023, 2708]  =  1.0\n",
       "  [1115, 2708]  =  1.0\n",
       "  [1329, 2708]  =  1.0\n",
       "  [1413, 2708]  =  1.0\n",
       "  [1415, 2708]  =  1.0, Int32[0 0 … 0 0; 0 0 … 0 0; … ; 0 0 … 0 0; 0 0 … 0 0], 1:140, 200:499, [2692, 2532, 2050, 1715, 2362, 2609, 2622, 1975, 2081, 1767  …  1885, 2305, 2354, 2135, 2601, 1770, 1995, 2504, 1749, 2157])"
      ]
     },
     "execution_count": 3,
     "metadata": {},
     "output_type": "execute_result"
    }
   ],
   "source": [
    "adj, features, labels, idx_train, idx_val, idx_test = load_dataset(\"cora\")"
   ]
  },
  {
   "cell_type": "code",
   "execution_count": null,
   "metadata": {},
   "outputs": [],
   "source": [
    "# Row-normalize the featues\n",
    "#features = features./sum(features,dims=2)"
   ]
  },
  {
   "cell_type": "code",
   "execution_count": 79,
   "metadata": {},
   "outputs": [],
   "source": [
    "# TODO: take user inputs\n",
    "struct args\n",
    "    epochs\n",
    "    lr\n",
    "    weight_decay\n",
    "    hidden\n",
    "    pdrop\n",
    "    window_size\n",
    "end\n",
    "\n",
    "arguments = args(200, 0.01, 5e-4, 16, 0.5, 10)\n",
    "\n",
    "# Model and optimizer\n",
    "model = GCN(size(features,1),\n",
    "            arguments.hidden,\n",
    "            size(labels,2),\n",
    "            adj,\n",
    "            arguments.pdrop)\n",
    "\n",
    "function val_loss(g::GCN,x,y)\n",
    "    output = g(x)[:, idx_val]\n",
    "    nll(output, y[idx_val]) + (arguments.weight_decay * sum(g.layer1.w .* g.layer1.w)) \n",
    "end  \n",
    "function val_loss(g::GCN, d)\n",
    "    mean(val_loss(g,x,y) for (x,y) in d)\n",
    "end\n",
    "\n",
    "function test_loss(g::GCN,x,y)\n",
    "    output = g(x)[:, idx_test]\n",
    "    nll(output, y[idx_test]) + (arguments.weight_decay * sum(g.layer1.w .* g.layer1.w)) \n",
    "end  \n",
    "function test_loss(g::GCN,d)\n",
    "    mean(test_loss(g,x,y) for (x,y) in d)\n",
    "end\n",
    "\n",
    "(g::GCN)(x,y) = nll(g(x)[:, idx_train], y[idx_train]) + (arguments.weight_decay * sum(g.layer1.w .* g.layer1.w)) \n",
    "#(g::GCN)(x,y) = nll(g(x)[:, idx_train], y[idx_train])"
   ]
  },
  {
   "cell_type": "code",
   "execution_count": 80,
   "metadata": {},
   "outputs": [
    {
     "data": {
      "text/plain": [
       "16×1433 Param{Array{Float64,2}}:\n",
       " -0.0281095   0.0170023   -0.0527135    …   0.0222242    -0.0150481 \n",
       " -0.0548037   0.0277142    0.0400915       -0.0118469     0.0147245 \n",
       " -0.0360954   0.0598175   -0.0168315        0.0121209     0.024342  \n",
       "  0.0616374  -0.0506759    0.0130649        0.0617065    -0.0527681 \n",
       "  0.0118518  -0.0205153    0.0533962        0.007678     -0.0534149 \n",
       "  0.0332042  -0.0320271    0.038154     …  -0.0320117     0.00608833\n",
       " -0.0525692   0.0200158    0.0496779        0.0567717     0.0323114 \n",
       "  0.0211084   0.0484148   -0.0369007        0.021463     -0.0403589 \n",
       "  0.0198379   0.0374216    0.0287692        0.000213255  -0.0293885 \n",
       " -0.0413225   0.053791     0.0591928        0.0636054    -0.0304745 \n",
       "  0.0460817  -0.00539577  -0.000285723  …   0.0336042    -0.0435567 \n",
       "  0.0498461   0.0321423    0.0362009        0.0381203    -0.0432755 \n",
       "  0.0366114  -0.0436592    0.038634        -0.0616862     0.0119132 \n",
       " -0.0429938  -0.0567804   -0.0515163        0.0629952    -0.0100946 \n",
       " -0.0311937   0.0431255    0.048402        -0.0191584    -0.043489  \n",
       " -0.0274282   0.0065829    0.0335858    …   0.0157603     0.0116333 "
      ]
     },
     "execution_count": 80,
     "metadata": {},
     "output_type": "execute_result"
    }
   ],
   "source": [
    "model.layer1.w"
   ]
  },
  {
   "cell_type": "code",
   "execution_count": 81,
   "metadata": {},
   "outputs": [
    {
     "data": {
      "text/plain": [
       "7×2708 Array{Float64,2}:\n",
       " -0.145006   -0.576335   -1.74745   …   0.0435669    0.0251631   1.21538  \n",
       "  0.467779    0.233428    3.30751       0.265863     0.56325     2.15954  \n",
       "  0.245265    0.104001    0.522778      0.00274046  -0.254841    0.0694176\n",
       " -0.0181845   0.0557296  -0.800382     -0.0269445    1.09146     1.76099  \n",
       "  0.123551    0.344131   -0.882264     -0.0517183    0.0560765  -0.558592 \n",
       " -0.170874   -0.0739362  -3.23037   …  -0.206143    -1.58032    -4.43273  \n",
       "  0.102573    0.389468   -0.437606     -0.00190908  -0.0672881  -0.318831 "
      ]
     },
     "execution_count": 81,
     "metadata": {},
     "output_type": "execute_result"
    }
   ],
   "source": [
    "output = model(features)"
   ]
  },
  {
   "cell_type": "code",
   "execution_count": 82,
   "metadata": {},
   "outputs": [
    {
     "data": {
      "text/plain": [
       "2708-element Array{Int64,1}:\n",
       " 4\n",
       " 5\n",
       " 5\n",
       " 1\n",
       " 4\n",
       " 3\n",
       " 1\n",
       " 4\n",
       " 4\n",
       " 3\n",
       " 1\n",
       " 1\n",
       " 5\n",
       " ⋮\n",
       " 4\n",
       " 4\n",
       " 4\n",
       " 4\n",
       " 4\n",
       " 4\n",
       " 1\n",
       " 4\n",
       " 4\n",
       " 4\n",
       " 4\n",
       " 4"
      ]
     },
     "execution_count": 82,
     "metadata": {},
     "output_type": "execute_result"
    }
   ],
   "source": [
    "labels_decoded = mapslices(argmax, labels ,dims=2)[:]"
   ]
  },
  {
   "cell_type": "code",
   "execution_count": 83,
   "metadata": {},
   "outputs": [
    {
     "data": {
      "text/plain": [
       "3.9672070171480147"
      ]
     },
     "execution_count": 83,
     "metadata": {},
     "output_type": "execute_result"
    }
   ],
   "source": [
    "nll(output[:,idx_train], labels_decoded[idx_train])"
   ]
  },
  {
   "cell_type": "code",
   "execution_count": 84,
   "metadata": {},
   "outputs": [
    {
     "data": {
      "text/plain": [
       "0.14285714285714285"
      ]
     },
     "execution_count": 84,
     "metadata": {},
     "output_type": "execute_result"
    }
   ],
   "source": [
    "accuracy(output[:,idx_train], labels_decoded[idx_train])"
   ]
  },
  {
   "cell_type": "code",
   "execution_count": 85,
   "metadata": {},
   "outputs": [
    {
     "data": {
      "text/plain": [
       "16×1433 Array{Float64,2}:\n",
       "  0.0928242     0.109231      0.312063     …   0.162047     0.166168   \n",
       "  0.00611169   -0.00733864    0.00883685       0.0085448    0.0966125  \n",
       "  0.00252765    0.0234657     0.0116507        0.0262383    0.0180981  \n",
       "  0.000212731  -0.00393531    0.000250728      0.00449994   0.0131535  \n",
       "  0.0715348     0.0921255     0.183178         0.226032     0.157167   \n",
       " -0.0527878    -0.115517     -0.187658     …  -0.0806062   -0.105669   \n",
       " -5.25692e-5   -0.0083511     0.0623804        0.0643106    0.0293225  \n",
       " -0.0263471     0.0214434     0.00314159      -0.0266455   -0.0798882  \n",
       " -0.00254778   -0.00541382   -0.00174084      -0.00543841  -0.0020609  \n",
       " -0.00398398   -0.00186778    0.0113156        0.0171413   -0.0119855  \n",
       "  0.00654786   -0.00196586    0.0308548    …  -0.0407059   -0.00442598 \n",
       " -0.00362292    0.00219488    0.0348665        0.0229221   -0.012279   \n",
       "  0.0167664     0.0182519     0.0202002        0.042528     0.0321124  \n",
       " -0.0283076     0.0350164    -0.0189794       -0.0865009   -0.0566032  \n",
       " -0.00125966    0.000433198   0.000628372     -0.00469583  -0.000479061\n",
       "  0.0556833    -0.00173932    0.0591716    …   0.142965     0.0708163  "
      ]
     },
     "execution_count": 85,
     "metadata": {},
     "output_type": "execute_result"
    }
   ],
   "source": [
    "using AutoGrad\n",
    "J = @diff model(features, labels_decoded)\n",
    "grad(J, params(model)[1])"
   ]
  },
  {
   "cell_type": "code",
   "execution_count": 86,
   "metadata": {},
   "outputs": [
    {
     "data": {
      "text/plain": [
       "Data{Tuple{SparseMatrixCSC{Float32,Int64},Array{Int64,1}}}(Float32[0.0 0.0 … 0.0 0.0; 0.0 0.0 … 0.0 0.0; … ; 0.0 0.0 … 0.0 0.0; 0.0 0.0 … 0.0 0.0], [4 5 … 4 4], 2708, 2708, false, 1, 1:2708, false, (1433, 2708), (2708,), SparseMatrixCSC{Float32,Int64}, Array{Int64,1})"
      ]
     },
     "execution_count": 86,
     "metadata": {},
     "output_type": "execute_result"
    }
   ],
   "source": [
    "data =  minibatch(features, labels_decoded[:], length(labels_decoded))"
   ]
  },
  {
   "cell_type": "code",
   "execution_count": 87,
   "metadata": {},
   "outputs": [
    {
     "data": {
      "text/plain": [
       "train_with_results (generic function with 1 method)"
      ]
     },
     "execution_count": 87,
     "metadata": {},
     "output_type": "execute_result"
    }
   ],
   "source": [
    "function train_with_results(model, data, epoch, lr)\n",
    "    training = adam(model, ncycle(data, epoch), lr=lr)\n",
    "    snapshot() = model(data)\n",
    "    snapshots = (snapshot() for x in takenth(progress(training),length(data)))\n",
    "    res = collect(flatten(snapshots))\n",
    "    return res\n",
    "end"
   ]
  },
  {
   "cell_type": "code",
   "execution_count": 88,
   "metadata": {},
   "outputs": [],
   "source": [
    "using Knet: progress!\n",
    "using IterTools: ncycle"
   ]
  },
  {
   "cell_type": "code",
   "execution_count": 134,
   "metadata": {},
   "outputs": [
    {
     "data": {
      "text/plain": [
       "mytrain! (generic function with 1 method)"
      ]
     },
     "execution_count": 134,
     "metadata": {},
     "output_type": "execute_result"
    }
   ],
   "source": [
    "function mytrain!(model, data, epoch, lr, window_size)\n",
    "    \n",
    "    early_stop_counter = 0\n",
    "    prev_val_loss = 0\n",
    "    iter = 0\n",
    "    \n",
    "    trnloss = []\n",
    "    valloss = []\n",
    "    \n",
    "    flag = true\n",
    "\n",
    "    function task()          \n",
    "        append!(trnloss, model(data))\n",
    "        val_loss = val_loss(model, data)\n",
    "        append!(valloss, val_loss) \n",
    "        \n",
    "\n",
    "        if val_loss(model, data) == prev_val_loss\n",
    "            early_stop_counter = early_stop_counter + 1\n",
    "        else\n",
    "            early_stop_counter = 0\n",
    "        end\n",
    "        if early_stop_counter == window_size\n",
    "            flag = false\n",
    "        end \n",
    "        iter = iter + 1\n",
    "        prev_val_loss = val_loss\n",
    "        return flag\n",
    "    end\n",
    "        \n",
    "    training = adam(model, ncycle(data, epoch), lr=lr)\n",
    "    progress!(flag = task() for x in (x for (i,x) in enumerate(training)) if flag)\n",
    "    return 1:iter, trnloss, valloss\n",
    "end"
   ]
  },
  {
   "cell_type": "code",
   "execution_count": null,
   "metadata": {},
   "outputs": [
    {
     "name": "stderr",
     "output_type": "stream",
     "text": [
      "[346, 31:07, 4.52s/i]  "
     ]
    }
   ],
   "source": [
    "iters, trnloss, vallos = mytrain!(model, data, 1000, arguments.lr, arguments.window_size)"
   ]
  },
  {
   "cell_type": "code",
   "execution_count": 131,
   "metadata": {},
   "outputs": [
    {
     "data": {
      "image/svg+xml": [
       "<?xml version=\"1.0\" encoding=\"utf-8\"?>\n",
       "<svg xmlns=\"http://www.w3.org/2000/svg\" xmlns:xlink=\"http://www.w3.org/1999/xlink\" width=\"600\" height=\"400\" viewBox=\"0 0 2400 1600\">\n",
       "<defs>\n",
       "  <clipPath id=\"clip2500\">\n",
       "    <rect x=\"0\" y=\"0\" width=\"2400\" height=\"1600\"/>\n",
       "  </clipPath>\n",
       "</defs>\n",
       "<path clip-path=\"url(#clip2500)\" d=\"\n",
       "M0 1600 L2400 1600 L2400 0 L0 0  Z\n",
       "  \" fill=\"#ffffff\" fill-rule=\"evenodd\" fill-opacity=\"1\"/>\n",
       "<defs>\n",
       "  <clipPath id=\"clip2501\">\n",
       "    <rect x=\"480\" y=\"0\" width=\"1681\" height=\"1600\"/>\n",
       "  </clipPath>\n",
       "</defs>\n",
       "<path clip-path=\"url(#clip2500)\" d=\"\n",
       "M215.754 1425.62 L2352.76 1425.62 L2352.76 47.2441 L215.754 47.2441  Z\n",
       "  \" fill=\"#ffffff\" fill-rule=\"evenodd\" fill-opacity=\"1\"/>\n",
       "<defs>\n",
       "  <clipPath id=\"clip2502\">\n",
       "    <rect x=\"215\" y=\"47\" width=\"2138\" height=\"1379\"/>\n",
       "  </clipPath>\n",
       "</defs>\n",
       "<polyline clip-path=\"url(#clip2502)\" style=\"stroke:#000000; stroke-width:2; stroke-opacity:0.1; fill:none\" points=\"\n",
       "  612.242,1425.62 612.242,47.2441 \n",
       "  \"/>\n",
       "<polyline clip-path=\"url(#clip2502)\" style=\"stroke:#000000; stroke-width:2; stroke-opacity:0.1; fill:none\" points=\"\n",
       "  1032.25,1425.62 1032.25,47.2441 \n",
       "  \"/>\n",
       "<polyline clip-path=\"url(#clip2502)\" style=\"stroke:#000000; stroke-width:2; stroke-opacity:0.1; fill:none\" points=\"\n",
       "  1452.26,1425.62 1452.26,47.2441 \n",
       "  \"/>\n",
       "<polyline clip-path=\"url(#clip2502)\" style=\"stroke:#000000; stroke-width:2; stroke-opacity:0.1; fill:none\" points=\"\n",
       "  1872.27,1425.62 1872.27,47.2441 \n",
       "  \"/>\n",
       "<polyline clip-path=\"url(#clip2502)\" style=\"stroke:#000000; stroke-width:2; stroke-opacity:0.1; fill:none\" points=\"\n",
       "  2292.27,1425.62 2292.27,47.2441 \n",
       "  \"/>\n",
       "<polyline clip-path=\"url(#clip2502)\" style=\"stroke:#000000; stroke-width:2; stroke-opacity:0.1; fill:none\" points=\"\n",
       "  215.754,1170.75 2352.76,1170.75 \n",
       "  \"/>\n",
       "<polyline clip-path=\"url(#clip2502)\" style=\"stroke:#000000; stroke-width:2; stroke-opacity:0.1; fill:none\" points=\"\n",
       "  215.754,900.098 2352.76,900.098 \n",
       "  \"/>\n",
       "<polyline clip-path=\"url(#clip2502)\" style=\"stroke:#000000; stroke-width:2; stroke-opacity:0.1; fill:none\" points=\"\n",
       "  215.754,629.444 2352.76,629.444 \n",
       "  \"/>\n",
       "<polyline clip-path=\"url(#clip2502)\" style=\"stroke:#000000; stroke-width:2; stroke-opacity:0.1; fill:none\" points=\"\n",
       "  215.754,358.79 2352.76,358.79 \n",
       "  \"/>\n",
       "<polyline clip-path=\"url(#clip2502)\" style=\"stroke:#000000; stroke-width:2; stroke-opacity:0.1; fill:none\" points=\"\n",
       "  215.754,88.1367 2352.76,88.1367 \n",
       "  \"/>\n",
       "<polyline clip-path=\"url(#clip2500)\" style=\"stroke:#000000; stroke-width:4; stroke-opacity:1; fill:none\" points=\"\n",
       "  215.754,1425.62 2352.76,1425.62 \n",
       "  \"/>\n",
       "<polyline clip-path=\"url(#clip2500)\" style=\"stroke:#000000; stroke-width:4; stroke-opacity:1; fill:none\" points=\"\n",
       "  215.754,1425.62 215.754,47.2441 \n",
       "  \"/>\n",
       "<polyline clip-path=\"url(#clip2500)\" style=\"stroke:#000000; stroke-width:4; stroke-opacity:1; fill:none\" points=\"\n",
       "  612.242,1425.62 612.242,1409.08 \n",
       "  \"/>\n",
       "<polyline clip-path=\"url(#clip2500)\" style=\"stroke:#000000; stroke-width:4; stroke-opacity:1; fill:none\" points=\"\n",
       "  1032.25,1425.62 1032.25,1409.08 \n",
       "  \"/>\n",
       "<polyline clip-path=\"url(#clip2500)\" style=\"stroke:#000000; stroke-width:4; stroke-opacity:1; fill:none\" points=\"\n",
       "  1452.26,1425.62 1452.26,1409.08 \n",
       "  \"/>\n",
       "<polyline clip-path=\"url(#clip2500)\" style=\"stroke:#000000; stroke-width:4; stroke-opacity:1; fill:none\" points=\"\n",
       "  1872.27,1425.62 1872.27,1409.08 \n",
       "  \"/>\n",
       "<polyline clip-path=\"url(#clip2500)\" style=\"stroke:#000000; stroke-width:4; stroke-opacity:1; fill:none\" points=\"\n",
       "  2292.27,1425.62 2292.27,1409.08 \n",
       "  \"/>\n",
       "<polyline clip-path=\"url(#clip2500)\" style=\"stroke:#000000; stroke-width:4; stroke-opacity:1; fill:none\" points=\"\n",
       "  215.754,1170.75 241.398,1170.75 \n",
       "  \"/>\n",
       "<polyline clip-path=\"url(#clip2500)\" style=\"stroke:#000000; stroke-width:4; stroke-opacity:1; fill:none\" points=\"\n",
       "  215.754,900.098 241.398,900.098 \n",
       "  \"/>\n",
       "<polyline clip-path=\"url(#clip2500)\" style=\"stroke:#000000; stroke-width:4; stroke-opacity:1; fill:none\" points=\"\n",
       "  215.754,629.444 241.398,629.444 \n",
       "  \"/>\n",
       "<polyline clip-path=\"url(#clip2500)\" style=\"stroke:#000000; stroke-width:4; stroke-opacity:1; fill:none\" points=\"\n",
       "  215.754,358.79 241.398,358.79 \n",
       "  \"/>\n",
       "<polyline clip-path=\"url(#clip2500)\" style=\"stroke:#000000; stroke-width:4; stroke-opacity:1; fill:none\" points=\"\n",
       "  215.754,88.1367 241.398,88.1367 \n",
       "  \"/>\n",
       "<g clip-path=\"url(#clip2500)\">\n",
       "<text style=\"fill:#000000; fill-opacity:1; font-family:Arial,Helvetica Neue,Helvetica,sans-serif; font-size:48px; text-anchor:middle;\" transform=\"rotate(0, 612.242, 1479.62)\" x=\"612.242\" y=\"1479.62\">5</text>\n",
       "</g>\n",
       "<g clip-path=\"url(#clip2500)\">\n",
       "<text style=\"fill:#000000; fill-opacity:1; font-family:Arial,Helvetica Neue,Helvetica,sans-serif; font-size:48px; text-anchor:middle;\" transform=\"rotate(0, 1032.25, 1479.62)\" x=\"1032.25\" y=\"1479.62\">10</text>\n",
       "</g>\n",
       "<g clip-path=\"url(#clip2500)\">\n",
       "<text style=\"fill:#000000; fill-opacity:1; font-family:Arial,Helvetica Neue,Helvetica,sans-serif; font-size:48px; text-anchor:middle;\" transform=\"rotate(0, 1452.26, 1479.62)\" x=\"1452.26\" y=\"1479.62\">15</text>\n",
       "</g>\n",
       "<g clip-path=\"url(#clip2500)\">\n",
       "<text style=\"fill:#000000; fill-opacity:1; font-family:Arial,Helvetica Neue,Helvetica,sans-serif; font-size:48px; text-anchor:middle;\" transform=\"rotate(0, 1872.27, 1479.62)\" x=\"1872.27\" y=\"1479.62\">20</text>\n",
       "</g>\n",
       "<g clip-path=\"url(#clip2500)\">\n",
       "<text style=\"fill:#000000; fill-opacity:1; font-family:Arial,Helvetica Neue,Helvetica,sans-serif; font-size:48px; text-anchor:middle;\" transform=\"rotate(0, 2292.27, 1479.62)\" x=\"2292.27\" y=\"1479.62\">25</text>\n",
       "</g>\n",
       "<g clip-path=\"url(#clip2500)\">\n",
       "<text style=\"fill:#000000; fill-opacity:1; font-family:Arial,Helvetica Neue,Helvetica,sans-serif; font-size:48px; text-anchor:end;\" transform=\"rotate(0, 191.754, 1188.25)\" x=\"191.754\" y=\"1188.25\">0.5</text>\n",
       "</g>\n",
       "<g clip-path=\"url(#clip2500)\">\n",
       "<text style=\"fill:#000000; fill-opacity:1; font-family:Arial,Helvetica Neue,Helvetica,sans-serif; font-size:48px; text-anchor:end;\" transform=\"rotate(0, 191.754, 917.598)\" x=\"191.754\" y=\"917.598\">1.0</text>\n",
       "</g>\n",
       "<g clip-path=\"url(#clip2500)\">\n",
       "<text style=\"fill:#000000; fill-opacity:1; font-family:Arial,Helvetica Neue,Helvetica,sans-serif; font-size:48px; text-anchor:end;\" transform=\"rotate(0, 191.754, 646.944)\" x=\"191.754\" y=\"646.944\">1.5</text>\n",
       "</g>\n",
       "<g clip-path=\"url(#clip2500)\">\n",
       "<text style=\"fill:#000000; fill-opacity:1; font-family:Arial,Helvetica Neue,Helvetica,sans-serif; font-size:48px; text-anchor:end;\" transform=\"rotate(0, 191.754, 376.29)\" x=\"191.754\" y=\"376.29\">2.0</text>\n",
       "</g>\n",
       "<g clip-path=\"url(#clip2500)\">\n",
       "<text style=\"fill:#000000; fill-opacity:1; font-family:Arial,Helvetica Neue,Helvetica,sans-serif; font-size:48px; text-anchor:end;\" transform=\"rotate(0, 191.754, 105.637)\" x=\"191.754\" y=\"105.637\">2.5</text>\n",
       "</g>\n",
       "<g clip-path=\"url(#clip2500)\">\n",
       "<text style=\"fill:#000000; fill-opacity:1; font-family:Arial,Helvetica Neue,Helvetica,sans-serif; font-size:66px; text-anchor:middle;\" transform=\"rotate(0, 1284.25, 1559.48)\" x=\"1284.25\" y=\"1559.48\">epochs</text>\n",
       "</g>\n",
       "<g clip-path=\"url(#clip2500)\">\n",
       "<text style=\"fill:#000000; fill-opacity:1; font-family:Arial,Helvetica Neue,Helvetica,sans-serif; font-size:66px; text-anchor:middle;\" transform=\"rotate(-90, 89.2861, 736.431)\" x=\"89.2861\" y=\"736.431\">loss</text>\n",
       "</g>\n",
       "<polyline clip-path=\"url(#clip2502)\" style=\"stroke:#009af9; stroke-width:4; stroke-opacity:1; fill:none\" points=\"\n",
       "  276.235,1384.31 360.237,1383.74 444.239,1382.92 528.24,1381.79 612.242,1383.12 696.243,1384.59 780.245,1385.5 864.247,1386.12 948.248,1386.61 1032.25,1386.5 \n",
       "  1116.25,1385.53 1200.25,1383.12 1284.25,1376.02 1368.26,1376.41 1452.26,1376.14 1536.26,1375.66 1620.26,1375.41 1704.26,1375.62 1788.26,1375.85 1872.27,1376.16 \n",
       "  1956.27,1376.52 2040.27,1376.94 2124.27,1377.37 2208.27,1377.74 2292.27,1378.03 \n",
       "  \"/>\n",
       "<polyline clip-path=\"url(#clip2502)\" style=\"stroke:#e26f46; stroke-width:4; stroke-opacity:1; fill:none\" points=\"\n",
       "  276.235,147.272 360.237,143.663 444.239,140.023 528.24,135.585 612.242,137.291 696.243,140.728 780.245,142.624 864.247,142.918 948.248,141.731 1032.25,131.308 \n",
       "  1116.25,117.969 1200.25,106.21 1284.25,90.544 1368.26,87.2208 1452.26,86.7113 1536.26,86.2547 1620.26,89.1457 1704.26,92.7811 1788.26,95.8551 1872.27,98.9194 \n",
       "  1956.27,100.126 2040.27,99.8402 2124.27,98.1967 2208.27,96.1772 2292.27,102.716 \n",
       "  \"/>\n",
       "<polyline clip-path=\"url(#clip2502)\" style=\"stroke:#3da44d; stroke-width:4; stroke-opacity:1; fill:none\" points=\"\n",
       "  276.235,407.078 360.237,408.147 444.239,408.215 528.24,406.975 612.242,408.719 696.243,409.02 780.245,406.199 864.247,401.662 948.248,396.293 1032.25,392.577 \n",
       "  1116.25,399.762 1200.25,403.514 1284.25,396.673 1368.26,394.837 1452.26,393.314 1536.26,390.35 1620.26,388.545 1704.26,388.728 1788.26,388.352 1872.27,388.346 \n",
       "  1956.27,387.161 2040.27,386.363 2124.27,384.439 2208.27,384.236 2292.27,389.602 \n",
       "  \"/>\n",
       "<path clip-path=\"url(#clip2500)\" d=\"\n",
       "M1979.24 372.684 L2280.76 372.684 L2280.76 130.764 L1979.24 130.764  Z\n",
       "  \" fill=\"#ffffff\" fill-rule=\"evenodd\" fill-opacity=\"1\"/>\n",
       "<polyline clip-path=\"url(#clip2500)\" style=\"stroke:#000000; stroke-width:4; stroke-opacity:1; fill:none\" points=\"\n",
       "  1979.24,372.684 2280.76,372.684 2280.76,130.764 1979.24,130.764 1979.24,372.684 \n",
       "  \"/>\n",
       "<polyline clip-path=\"url(#clip2500)\" style=\"stroke:#009af9; stroke-width:4; stroke-opacity:1; fill:none\" points=\"\n",
       "  2003.24,191.244 2147.24,191.244 \n",
       "  \"/>\n",
       "<g clip-path=\"url(#clip2500)\">\n",
       "<text style=\"fill:#000000; fill-opacity:1; font-family:Arial,Helvetica Neue,Helvetica,sans-serif; font-size:48px; text-anchor:start;\" transform=\"rotate(0, 2171.24, 208.744)\" x=\"2171.24\" y=\"208.744\">trn</text>\n",
       "</g>\n",
       "<polyline clip-path=\"url(#clip2500)\" style=\"stroke:#e26f46; stroke-width:4; stroke-opacity:1; fill:none\" points=\"\n",
       "  2003.24,251.724 2147.24,251.724 \n",
       "  \"/>\n",
       "<g clip-path=\"url(#clip2500)\">\n",
       "<text style=\"fill:#000000; fill-opacity:1; font-family:Arial,Helvetica Neue,Helvetica,sans-serif; font-size:48px; text-anchor:start;\" transform=\"rotate(0, 2171.24, 269.224)\" x=\"2171.24\" y=\"269.224\">val</text>\n",
       "</g>\n",
       "<polyline clip-path=\"url(#clip2500)\" style=\"stroke:#3da44d; stroke-width:4; stroke-opacity:1; fill:none\" points=\"\n",
       "  2003.24,312.204 2147.24,312.204 \n",
       "  \"/>\n",
       "<g clip-path=\"url(#clip2500)\">\n",
       "<text style=\"fill:#000000; fill-opacity:1; font-family:Arial,Helvetica Neue,Helvetica,sans-serif; font-size:48px; text-anchor:start;\" transform=\"rotate(0, 2171.24, 329.704)\" x=\"2171.24\" y=\"329.704\">tst</text>\n",
       "</g>\n",
       "</svg>\n"
      ]
     },
     "execution_count": 131,
     "metadata": {},
     "output_type": "execute_result"
    }
   ],
   "source": [
    "plot(iters, [trnloss, vallos] , xlim=(1:3),labels=[:trn :val :tst], xlabel=\"epochs\", ylabel=\"loss\")"
   ]
  },
  {
   "cell_type": "code",
   "execution_count": null,
   "metadata": {
    "scrolled": true
   },
   "outputs": [],
   "source": [
    "output = model(features)\n",
    "accuracy(output[:,idx_train], labels_decoded[idx_train])"
   ]
  },
  {
   "cell_type": "code",
   "execution_count": null,
   "metadata": {},
   "outputs": [],
   "source": [
    "output = model(features)\n",
    "accuracy(output[:,idx_test], labels_decoded[idx_test])"
   ]
  },
  {
   "cell_type": "code",
   "execution_count": null,
   "metadata": {},
   "outputs": [],
   "source": [
    "#####################################################################################################################"
   ]
  },
  {
   "cell_type": "code",
   "execution_count": null,
   "metadata": {},
   "outputs": [],
   "source": [
    "adj, features, labels, idx_train, idx_val, idx_test = load_dataset(\"citeseer\")"
   ]
  },
  {
   "cell_type": "code",
   "execution_count": null,
   "metadata": {},
   "outputs": [],
   "source": [
    "# TODO: take user inputs\n",
    "struct args\n",
    "    epochs\n",
    "    lr\n",
    "    weight_decay\n",
    "    hidden\n",
    "    pdrop\n",
    "end\n",
    "\n",
    "arguments = args(200, 0.01, 5e-4, 16, 0.5)\n",
    "\n",
    "# Model and optimizer\n",
    "model = GCN(size(features,1),\n",
    "            arguments.hidden,\n",
    "            size(labels,2),\n",
    "            adj,\n",
    "            arguments.pdrop)\n",
    "\n",
    "(g::GCN)(x,y) = nll(g(x)[:, idx_train], y[idx_train]) + (arguments.weight_decay * sum(g.layer1.w .* g.layer1.w)) \n",
    "#(g::GCN)(x,y) = nll(g(x)[:, idx_train], y[idx_train])"
   ]
  },
  {
   "cell_type": "code",
   "execution_count": null,
   "metadata": {},
   "outputs": [],
   "source": [
    "output = model(features)"
   ]
  },
  {
   "cell_type": "code",
   "execution_count": null,
   "metadata": {},
   "outputs": [],
   "source": [
    "labels_decoded = mapslices(argmax, labels ,dims=2)[:]"
   ]
  },
  {
   "cell_type": "code",
   "execution_count": null,
   "metadata": {},
   "outputs": [],
   "source": [
    "nll(output[:,idx_train], labels_decoded[idx_train])"
   ]
  },
  {
   "cell_type": "code",
   "execution_count": null,
   "metadata": {},
   "outputs": [],
   "source": [
    "accuracy(output[:,idx_train], labels_decoded[idx_train])"
   ]
  },
  {
   "cell_type": "code",
   "execution_count": null,
   "metadata": {},
   "outputs": [],
   "source": [
    "using AutoGrad\n",
    "J = @diff model(features, labels_decoded)\n",
    "grad(J, params(model)[1])"
   ]
  },
  {
   "cell_type": "code",
   "execution_count": null,
   "metadata": {},
   "outputs": [],
   "source": [
    "data =  minibatch(features, labels_decoded[:], length(labels_decoded))"
   ]
  },
  {
   "cell_type": "code",
   "execution_count": null,
   "metadata": {},
   "outputs": [],
   "source": [
    "results = train_with_results(model, data, arguments.epochs, arguments.lr)\n",
    "trnloss = Array{Float32}(results)\n",
    "plot(trnloss, ylim=(0.0,2.0),labels=[:trnloss],xlabel=\"Epochs\",ylabel=\"Loss\")"
   ]
  },
  {
   "cell_type": "code",
   "execution_count": null,
   "metadata": {},
   "outputs": [],
   "source": [
    "output = model(features)\n",
    "accuracy(output[:,idx_train], labels_decoded[idx_train])"
   ]
  },
  {
   "cell_type": "code",
   "execution_count": null,
   "metadata": {},
   "outputs": [],
   "source": [
    "output = model(features)\n",
    "accuracy(output[:,idx_test], labels_decoded[idx_test])"
   ]
  },
  {
   "cell_type": "code",
   "execution_count": null,
   "metadata": {},
   "outputs": [],
   "source": [
    "adj, features, labels, idx_train, idx_val, idx_test = load_dataset(\"cora\")"
   ]
  },
  {
   "cell_type": "code",
   "execution_count": null,
   "metadata": {},
   "outputs": [],
   "source": [
    "# TODO: take user inputs\n",
    "struct args\n",
    "    epochs\n",
    "    lr\n",
    "    weight_decay\n",
    "    hidden\n",
    "    pdrop\n",
    "end\n",
    "\n",
    "arguments = args(200, 0.01, 5e-4, 16, 0.5)\n",
    "\n",
    "# Model and optimizer\n",
    "model = GCN(size(features,1),\n",
    "            arguments.hidden,\n",
    "            size(labels,2),\n",
    "            adj,\n",
    "            arguments.pdrop)\n",
    "\n",
    "(g::GCN)(x,y) = nll(g(x)[:, idx_train], y[idx_train]) + (arguments.weight_decay * sum(g.layer1.w .* g.layer1.w)) \n",
    "#(g::GCN)(x,y) = nll(g(x)[:, idx_train], y[idx_train])"
   ]
  },
  {
   "cell_type": "code",
   "execution_count": null,
   "metadata": {},
   "outputs": [],
   "source": [
    "output = model(features)"
   ]
  },
  {
   "cell_type": "code",
   "execution_count": null,
   "metadata": {},
   "outputs": [],
   "source": [
    "labels_decoded = mapslices(argmax, labels ,dims=2)[:]"
   ]
  },
  {
   "cell_type": "code",
   "execution_count": null,
   "metadata": {},
   "outputs": [],
   "source": [
    "nll(output[:,idx_train], labels_decoded[idx_train])"
   ]
  },
  {
   "cell_type": "code",
   "execution_count": null,
   "metadata": {},
   "outputs": [],
   "source": [
    "accuracy(output[:,idx_train], labels_decoded[idx_train])"
   ]
  },
  {
   "cell_type": "code",
   "execution_count": null,
   "metadata": {},
   "outputs": [],
   "source": [
    "using AutoGrad\n",
    "J = @diff model(features, labels_decoded)\n",
    "grad(J, params(model)[1])"
   ]
  },
  {
   "cell_type": "code",
   "execution_count": null,
   "metadata": {},
   "outputs": [],
   "source": [
    "data =  minibatch(features, labels_decoded[:], length(labels_decoded))"
   ]
  },
  {
   "cell_type": "code",
   "execution_count": null,
   "metadata": {
    "scrolled": false
   },
   "outputs": [],
   "source": [
    "results = train_with_results(model, data, arguments.epochs, arguments.lr)\n",
    "trnloss = Array{Float32}(results)\n",
    "plot(trnloss, ylim=(0.0,2.0),labels=[:trnloss],xlabel=\"Epochs\",ylabel=\"Loss\")"
   ]
  },
  {
   "cell_type": "code",
   "execution_count": null,
   "metadata": {},
   "outputs": [],
   "source": [
    "output = model(features)\n",
    "accuracy(output[:,idx_train], labels_decoded[idx_train])"
   ]
  },
  {
   "cell_type": "code",
   "execution_count": null,
   "metadata": {},
   "outputs": [],
   "source": [
    "output = model(features)\n",
    "accuracy(output[:,idx_test], labels_decoded[idx_test])"
   ]
  },
  {
   "cell_type": "code",
   "execution_count": null,
   "metadata": {},
   "outputs": [],
   "source": []
  }
 ],
 "metadata": {
  "kernelspec": {
   "display_name": "Julia 1.1.1",
   "language": "julia",
   "name": "julia-1.1"
  },
  "language_info": {
   "file_extension": ".jl",
   "mimetype": "application/julia",
   "name": "julia",
   "version": "1.1.1"
  }
 },
 "nbformat": 4,
 "nbformat_minor": 2
}
