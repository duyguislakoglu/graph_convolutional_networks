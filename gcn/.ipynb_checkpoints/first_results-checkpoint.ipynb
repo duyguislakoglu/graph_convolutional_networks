{
 "cells": [
  {
   "cell_type": "code",
   "execution_count": 1,
   "metadata": {},
   "outputs": [
    {
     "name": "stderr",
     "output_type": "stream",
     "text": [
      "┌ Warning: `getindex(o::PyObject, s::AbstractString)` is deprecated in favor of dot overloading (`getproperty`) so elements should now be accessed as e.g. `o.\"s\"` instead of `o[\"s\"]`.\n",
      "│   caller = top-level scope at utils.jl:3\n",
      "└ @ Core /home/ec2-user/dl/utils.jl:3\n"
     ]
    }
   ],
   "source": [
    "using Pkg\n",
    "for p in [\"Knet\", \"Plots\", \"IterTools\"]\n",
    "    if !haskey(Pkg.installed(),p)\n",
    "        Pkg.add(p);\n",
    "    end\n",
    "end\n",
    "using DelimitedFiles\n",
    "using Knet: KnetArray, accuracy, progress, minibatch, cycle, adam, sgd\n",
    "using Plots\n",
    "using IterTools: ncycle, takenth, take\n",
    "using Base.Iterators: flatten\n",
    "using LinearAlgebra\n",
    "\n",
    "include(\"utils.jl\")\n",
    "include(\"models.jl\")"
   ]
  },
  {
   "cell_type": "code",
   "execution_count": 2,
   "metadata": {},
   "outputs": [
    {
     "data": {
      "text/plain": [
       "(K32(2708,2708)[0.16666667⋯], K32(1433,2708)[0.0⋯], Int32[0 0 … 1 0; 0 1 … 0 0; … ; 0 0 … 0 1; 0 0 … 1 0], 1:140, 200:500, 500:1500)"
      ]
     },
     "execution_count": 2,
     "metadata": {},
     "output_type": "execute_result"
    }
   ],
   "source": [
    "# Load data\n",
    "adj, features, labels, idx_train, idx_val, idx_test = load()"
   ]
  },
  {
   "cell_type": "code",
   "execution_count": 3,
   "metadata": {},
   "outputs": [],
   "source": [
    "# TODO: take user inputs\n",
    "struct args\n",
    "    epochs\n",
    "    lr\n",
    "    weight_decay\n",
    "    hidden\n",
    "    pdrop\n",
    "end\n",
    "\n",
    "arguments = args(200, 0.01, 5e-4, 16, 0.5)\n",
    "\n",
    "# Model and optimizer\n",
    "model = GCN(size(features,1),\n",
    "            arguments.hidden,\n",
    "            size(labels,2),\n",
    "            adj,\n",
    "            arguments.pdrop)\n",
    "\n",
    "(g::GCN)(x,y) = nll(g(x)[:, idx_train], y[idx_train])"
   ]
  },
  {
   "cell_type": "code",
   "execution_count": 4,
   "metadata": {},
   "outputs": [
    {
     "data": {
      "text/plain": [
       "7×2708 KnetArray{Float32,2}:\n",
       " -0.000299728  -0.00111503   0.000795176  …  -0.00317607   -0.00372995 \n",
       " -7.75585e-5    0.00110957  -0.00132401      -0.000640837   0.000903737\n",
       " -0.000647608   0.00148538  -0.00114417      -0.00525945    0.000443807\n",
       "  0.000702726   0.00084087   0.00334207       0.00644404   -0.00138713 \n",
       " -0.00443078    0.00152642  -0.00133788      -0.00101533   -0.00206168 \n",
       " -0.00263878   -8.44813e-5   0.000125429  …   0.00697205    0.00132771 \n",
       " -0.00263322   -0.00230008  -0.00157583      -0.00676191   -0.00550833 "
      ]
     },
     "execution_count": 4,
     "metadata": {},
     "output_type": "execute_result"
    }
   ],
   "source": [
    "output = model(features)"
   ]
  },
  {
   "cell_type": "code",
   "execution_count": 5,
   "metadata": {},
   "outputs": [
    {
     "data": {
      "text/plain": [
       "2708-element Array{Int64,1}:\n",
       " 6\n",
       " 2\n",
       " 1\n",
       " 1\n",
       " 4\n",
       " 4\n",
       " 5\n",
       " 6\n",
       " 6\n",
       " 5\n",
       " 6\n",
       " 3\n",
       " 4\n",
       " ⋮\n",
       " 5\n",
       " 4\n",
       " 4\n",
       " 4\n",
       " 4\n",
       " 6\n",
       " 3\n",
       " 3\n",
       " 3\n",
       " 3\n",
       " 7\n",
       " 6"
      ]
     },
     "execution_count": 5,
     "metadata": {},
     "output_type": "execute_result"
    }
   ],
   "source": [
    "labels_decoded = mapslices(argmax, labels ,dims=2)[:]"
   ]
  },
  {
   "cell_type": "code",
   "execution_count": 6,
   "metadata": {},
   "outputs": [
    {
     "data": {
      "text/plain": [
       "1.945725f0"
      ]
     },
     "execution_count": 6,
     "metadata": {},
     "output_type": "execute_result"
    }
   ],
   "source": [
    "nll(output[:,idx_train], labels_decoded[idx_train])"
   ]
  },
  {
   "cell_type": "code",
   "execution_count": 7,
   "metadata": {},
   "outputs": [
    {
     "data": {
      "text/plain": [
       "0.1"
      ]
     },
     "execution_count": 7,
     "metadata": {},
     "output_type": "execute_result"
    }
   ],
   "source": [
    "accuracy(output[:,idx_train], labels_decoded[idx_train])"
   ]
  },
  {
   "cell_type": "code",
   "execution_count": 8,
   "metadata": {},
   "outputs": [
    {
     "data": {
      "text/plain": [
       "16×1433 KnetArray{Float32,2}:\n",
       "  1.9278e-6   -2.1987e-5   -1.78071e-5   …  -9.64054e-5   -8.32406e-5 \n",
       "  3.39216e-5  -1.92991e-5   0.000133792      0.000139587  -1.04376e-5 \n",
       " -3.33465e-6  -1.07605e-5   5.80704e-5      -6.65981e-5   -0.000191039\n",
       "  2.39181e-5  -3.28291e-6   6.05798e-6       5.24658e-5    0.000194793\n",
       " -4.94325e-6  -3.04093e-5  -1.03861e-5      -1.43303e-5   -6.38274e-5 \n",
       " -4.97645e-5   1.85802e-5  -4.13539e-5   …   2.14852e-5    8.38047e-5 \n",
       "  5.352e-5     4.91104e-5   9.62895e-5       2.78745e-5    8.18457e-5 \n",
       " -8.3711e-6   -6.14499e-7  -1.45747e-7       3.98231e-5    0.0        \n",
       "  7.77252e-6   3.41282e-6   0.000159682      1.72865e-5   -5.12613e-5 \n",
       " -1.4455e-5   -2.44703e-5  -5.08724e-5      -9.19225e-5   -6.57737e-5 \n",
       "  2.02946e-5  -3.16743e-5  -1.3314e-5    …  -1.65152e-6    0.0        \n",
       " -2.02208e-5   7.65363e-5   4.85552e-5       9.52094e-5    0.000121779\n",
       " -1.84769e-5   5.98931e-5  -9.53319e-5      -9.96865e-5   -0.000244218\n",
       "  3.81175e-5   3.55469e-5   6.73023e-5       7.3737e-5     0.0002337  \n",
       " -4.31951e-5   1.35982e-7  -8.25394e-5      -0.000156943  -1.96702e-5 \n",
       "  7.34544e-6  -3.78889e-6   1.82333e-5   …   3.05518e-6   -1.3751e-5  "
      ]
     },
     "execution_count": 8,
     "metadata": {},
     "output_type": "execute_result"
    }
   ],
   "source": [
    "using AutoGrad\n",
    "J = @diff model(features, labels_decoded)\n",
    "grad(J, params(model)[1])"
   ]
  },
  {
   "cell_type": "code",
   "execution_count": 9,
   "metadata": {},
   "outputs": [
    {
     "data": {
      "text/plain": [
       "Data{Tuple{KnetArray{Float32,2},Array{Int64,1}}}(K32(1433,2708)[0.0⋯], [6 2 … 7 6], 2708, 2708, false, 1, 1:2708, false, (1433, 2708), (2708,), KnetArray{Float32,2}, Array{Int64,1})"
      ]
     },
     "execution_count": 9,
     "metadata": {},
     "output_type": "execute_result"
    }
   ],
   "source": [
    "dtrn =  minibatch(features, labels_decoded[:], length(labels_decoded))"
   ]
  },
  {
   "cell_type": "code",
   "execution_count": 10,
   "metadata": {},
   "outputs": [
    {
     "data": {
      "text/plain": [
       "train_with_results (generic function with 1 method)"
      ]
     },
     "execution_count": 10,
     "metadata": {},
     "output_type": "execute_result"
    }
   ],
   "source": [
    "function train_with_results(model, dtrn, epoch, lr)\n",
    "    training = adam(model, ncycle(dtrn, epoch), lr=lr)\n",
    "    snapshot() = model(dtrn)\n",
    "    snapshots = (snapshot() for x in takenth(progress(training),length(dtrn)))\n",
    "    res = collect(flatten(snapshots))\n",
    "    return res\n",
    "end"
   ]
  },
  {
   "cell_type": "code",
   "execution_count": 11,
   "metadata": {},
   "outputs": [
    {
     "name": "stderr",
     "output_type": "stream",
     "text": [
      "┣████████████████████┫ [100.00%, 200/200, 00:03/00:03, 58.08i/s] \n"
     ]
    },
    {
     "data": {
      "image/svg+xml": [
       "<?xml version=\"1.0\" encoding=\"utf-8\"?>\n",
       "<svg xmlns=\"http://www.w3.org/2000/svg\" xmlns:xlink=\"http://www.w3.org/1999/xlink\" width=\"600\" height=\"400\" viewBox=\"0 0 2400 1600\">\n",
       "<defs>\n",
       "  <clipPath id=\"clip3200\">\n",
       "    <rect x=\"0\" y=\"0\" width=\"2400\" height=\"1600\"/>\n",
       "  </clipPath>\n",
       "</defs>\n",
       "<path clip-path=\"url(#clip3200)\" d=\"\n",
       "M0 1600 L2400 1600 L2400 0 L0 0  Z\n",
       "  \" fill=\"#ffffff\" fill-rule=\"evenodd\" fill-opacity=\"1\"/>\n",
       "<defs>\n",
       "  <clipPath id=\"clip3201\">\n",
       "    <rect x=\"480\" y=\"0\" width=\"1681\" height=\"1600\"/>\n",
       "  </clipPath>\n",
       "</defs>\n",
       "<path clip-path=\"url(#clip3200)\" d=\"\n",
       "M215.754 1425.62 L2352.76 1425.62 L2352.76 47.2441 L215.754 47.2441  Z\n",
       "  \" fill=\"#ffffff\" fill-rule=\"evenodd\" fill-opacity=\"1\"/>\n",
       "<defs>\n",
       "  <clipPath id=\"clip3202\">\n",
       "    <rect x=\"215\" y=\"47\" width=\"2138\" height=\"1379\"/>\n",
       "  </clipPath>\n",
       "</defs>\n",
       "<polyline clip-path=\"url(#clip3202)\" style=\"stroke:#000000; stroke-width:2; stroke-opacity:0.1; fill:none\" points=\"\n",
       "  266.104,1425.62 266.104,47.2441 \n",
       "  \"/>\n",
       "<polyline clip-path=\"url(#clip3202)\" style=\"stroke:#000000; stroke-width:2; stroke-opacity:0.1; fill:none\" points=\"\n",
       "  772.647,1425.62 772.647,47.2441 \n",
       "  \"/>\n",
       "<polyline clip-path=\"url(#clip3202)\" style=\"stroke:#000000; stroke-width:2; stroke-opacity:0.1; fill:none\" points=\"\n",
       "  1279.19,1425.62 1279.19,47.2441 \n",
       "  \"/>\n",
       "<polyline clip-path=\"url(#clip3202)\" style=\"stroke:#000000; stroke-width:2; stroke-opacity:0.1; fill:none\" points=\"\n",
       "  1785.73,1425.62 1785.73,47.2441 \n",
       "  \"/>\n",
       "<polyline clip-path=\"url(#clip3202)\" style=\"stroke:#000000; stroke-width:2; stroke-opacity:0.1; fill:none\" points=\"\n",
       "  2292.27,1425.62 2292.27,47.2441 \n",
       "  \"/>\n",
       "<polyline clip-path=\"url(#clip3202)\" style=\"stroke:#000000; stroke-width:2; stroke-opacity:0.1; fill:none\" points=\"\n",
       "  215.754,1425.62 2352.76,1425.62 \n",
       "  \"/>\n",
       "<polyline clip-path=\"url(#clip3202)\" style=\"stroke:#000000; stroke-width:2; stroke-opacity:0.1; fill:none\" points=\"\n",
       "  215.754,1081.02 2352.76,1081.02 \n",
       "  \"/>\n",
       "<polyline clip-path=\"url(#clip3202)\" style=\"stroke:#000000; stroke-width:2; stroke-opacity:0.1; fill:none\" points=\"\n",
       "  215.754,736.431 2352.76,736.431 \n",
       "  \"/>\n",
       "<polyline clip-path=\"url(#clip3202)\" style=\"stroke:#000000; stroke-width:2; stroke-opacity:0.1; fill:none\" points=\"\n",
       "  215.754,391.838 2352.76,391.838 \n",
       "  \"/>\n",
       "<polyline clip-path=\"url(#clip3202)\" style=\"stroke:#000000; stroke-width:2; stroke-opacity:0.1; fill:none\" points=\"\n",
       "  215.754,47.2441 2352.76,47.2441 \n",
       "  \"/>\n",
       "<polyline clip-path=\"url(#clip3200)\" style=\"stroke:#000000; stroke-width:4; stroke-opacity:1; fill:none\" points=\"\n",
       "  215.754,1425.62 2352.76,1425.62 \n",
       "  \"/>\n",
       "<polyline clip-path=\"url(#clip3200)\" style=\"stroke:#000000; stroke-width:4; stroke-opacity:1; fill:none\" points=\"\n",
       "  215.754,1425.62 215.754,47.2441 \n",
       "  \"/>\n",
       "<polyline clip-path=\"url(#clip3200)\" style=\"stroke:#000000; stroke-width:4; stroke-opacity:1; fill:none\" points=\"\n",
       "  266.104,1425.62 266.104,1409.08 \n",
       "  \"/>\n",
       "<polyline clip-path=\"url(#clip3200)\" style=\"stroke:#000000; stroke-width:4; stroke-opacity:1; fill:none\" points=\"\n",
       "  772.647,1425.62 772.647,1409.08 \n",
       "  \"/>\n",
       "<polyline clip-path=\"url(#clip3200)\" style=\"stroke:#000000; stroke-width:4; stroke-opacity:1; fill:none\" points=\"\n",
       "  1279.19,1425.62 1279.19,1409.08 \n",
       "  \"/>\n",
       "<polyline clip-path=\"url(#clip3200)\" style=\"stroke:#000000; stroke-width:4; stroke-opacity:1; fill:none\" points=\"\n",
       "  1785.73,1425.62 1785.73,1409.08 \n",
       "  \"/>\n",
       "<polyline clip-path=\"url(#clip3200)\" style=\"stroke:#000000; stroke-width:4; stroke-opacity:1; fill:none\" points=\"\n",
       "  2292.27,1425.62 2292.27,1409.08 \n",
       "  \"/>\n",
       "<polyline clip-path=\"url(#clip3200)\" style=\"stroke:#000000; stroke-width:4; stroke-opacity:1; fill:none\" points=\"\n",
       "  215.754,1425.62 241.398,1425.62 \n",
       "  \"/>\n",
       "<polyline clip-path=\"url(#clip3200)\" style=\"stroke:#000000; stroke-width:4; stroke-opacity:1; fill:none\" points=\"\n",
       "  215.754,1081.02 241.398,1081.02 \n",
       "  \"/>\n",
       "<polyline clip-path=\"url(#clip3200)\" style=\"stroke:#000000; stroke-width:4; stroke-opacity:1; fill:none\" points=\"\n",
       "  215.754,736.431 241.398,736.431 \n",
       "  \"/>\n",
       "<polyline clip-path=\"url(#clip3200)\" style=\"stroke:#000000; stroke-width:4; stroke-opacity:1; fill:none\" points=\"\n",
       "  215.754,391.838 241.398,391.838 \n",
       "  \"/>\n",
       "<polyline clip-path=\"url(#clip3200)\" style=\"stroke:#000000; stroke-width:4; stroke-opacity:1; fill:none\" points=\"\n",
       "  215.754,47.2441 241.398,47.2441 \n",
       "  \"/>\n",
       "<g clip-path=\"url(#clip3200)\">\n",
       "<text style=\"fill:#000000; fill-opacity:1; font-family:Arial,Helvetica Neue,Helvetica,sans-serif; font-size:48px; text-anchor:middle;\" transform=\"rotate(0, 266.104, 1479.62)\" x=\"266.104\" y=\"1479.62\">0</text>\n",
       "</g>\n",
       "<g clip-path=\"url(#clip3200)\">\n",
       "<text style=\"fill:#000000; fill-opacity:1; font-family:Arial,Helvetica Neue,Helvetica,sans-serif; font-size:48px; text-anchor:middle;\" transform=\"rotate(0, 772.647, 1479.62)\" x=\"772.647\" y=\"1479.62\">50</text>\n",
       "</g>\n",
       "<g clip-path=\"url(#clip3200)\">\n",
       "<text style=\"fill:#000000; fill-opacity:1; font-family:Arial,Helvetica Neue,Helvetica,sans-serif; font-size:48px; text-anchor:middle;\" transform=\"rotate(0, 1279.19, 1479.62)\" x=\"1279.19\" y=\"1479.62\">100</text>\n",
       "</g>\n",
       "<g clip-path=\"url(#clip3200)\">\n",
       "<text style=\"fill:#000000; fill-opacity:1; font-family:Arial,Helvetica Neue,Helvetica,sans-serif; font-size:48px; text-anchor:middle;\" transform=\"rotate(0, 1785.73, 1479.62)\" x=\"1785.73\" y=\"1479.62\">150</text>\n",
       "</g>\n",
       "<g clip-path=\"url(#clip3200)\">\n",
       "<text style=\"fill:#000000; fill-opacity:1; font-family:Arial,Helvetica Neue,Helvetica,sans-serif; font-size:48px; text-anchor:middle;\" transform=\"rotate(0, 2292.27, 1479.62)\" x=\"2292.27\" y=\"1479.62\">200</text>\n",
       "</g>\n",
       "<g clip-path=\"url(#clip3200)\">\n",
       "<text style=\"fill:#000000; fill-opacity:1; font-family:Arial,Helvetica Neue,Helvetica,sans-serif; font-size:48px; text-anchor:end;\" transform=\"rotate(0, 191.754, 1443.12)\" x=\"191.754\" y=\"1443.12\">0.0</text>\n",
       "</g>\n",
       "<g clip-path=\"url(#clip3200)\">\n",
       "<text style=\"fill:#000000; fill-opacity:1; font-family:Arial,Helvetica Neue,Helvetica,sans-serif; font-size:48px; text-anchor:end;\" transform=\"rotate(0, 191.754, 1098.52)\" x=\"191.754\" y=\"1098.52\">0.5</text>\n",
       "</g>\n",
       "<g clip-path=\"url(#clip3200)\">\n",
       "<text style=\"fill:#000000; fill-opacity:1; font-family:Arial,Helvetica Neue,Helvetica,sans-serif; font-size:48px; text-anchor:end;\" transform=\"rotate(0, 191.754, 753.931)\" x=\"191.754\" y=\"753.931\">1.0</text>\n",
       "</g>\n",
       "<g clip-path=\"url(#clip3200)\">\n",
       "<text style=\"fill:#000000; fill-opacity:1; font-family:Arial,Helvetica Neue,Helvetica,sans-serif; font-size:48px; text-anchor:end;\" transform=\"rotate(0, 191.754, 409.338)\" x=\"191.754\" y=\"409.338\">1.5</text>\n",
       "</g>\n",
       "<g clip-path=\"url(#clip3200)\">\n",
       "<text style=\"fill:#000000; fill-opacity:1; font-family:Arial,Helvetica Neue,Helvetica,sans-serif; font-size:48px; text-anchor:end;\" transform=\"rotate(0, 191.754, 64.7441)\" x=\"191.754\" y=\"64.7441\">2.0</text>\n",
       "</g>\n",
       "<g clip-path=\"url(#clip3200)\">\n",
       "<text style=\"fill:#000000; fill-opacity:1; font-family:Arial,Helvetica Neue,Helvetica,sans-serif; font-size:66px; text-anchor:middle;\" transform=\"rotate(0, 1284.25, 1559.48)\" x=\"1284.25\" y=\"1559.48\">Epochs</text>\n",
       "</g>\n",
       "<g clip-path=\"url(#clip3200)\">\n",
       "<text style=\"fill:#000000; fill-opacity:1; font-family:Arial,Helvetica Neue,Helvetica,sans-serif; font-size:66px; text-anchor:middle;\" transform=\"rotate(-90, 89.2861, 736.431)\" x=\"89.2861\" y=\"736.431\">Loss</text>\n",
       "</g>\n",
       "<polyline clip-path=\"url(#clip3202)\" style=\"stroke:#009af9; stroke-width:4; stroke-opacity:1; fill:none\" points=\"\n",
       "  276.235,99.0304 286.366,113.792 296.497,128.441 306.628,142.602 316.759,156.213 326.89,169.284 337.02,181.738 347.151,193.497 357.282,204.332 367.413,214.524 \n",
       "  377.544,224.465 387.675,234.461 397.805,244.602 407.936,255.089 418.067,265.941 428.198,277.222 438.329,288.918 448.46,300.95 458.591,313.198 468.721,325.593 \n",
       "  478.852,338.124 488.983,350.822 499.114,363.627 509.245,376.614 519.376,389.811 529.507,403.231 539.637,416.74 549.768,430.44 559.899,444.339 570.03,458.315 \n",
       "  580.161,472.257 590.292,486.266 600.423,500.199 610.553,514.092 620.684,527.993 630.815,542.027 640.946,556.166 651.077,570.288 661.208,584.379 671.338,598.286 \n",
       "  681.469,612.186 691.6,626.132 701.731,639.971 711.862,653.765 721.993,667.536 732.124,681.328 742.254,695.086 752.385,709.082 762.516,722.945 772.647,736.725 \n",
       "  782.778,750.317 792.909,763.602 803.04,776.745 813.17,789.892 823.301,803.014 833.432,816.207 843.563,829.21 853.694,841.977 863.825,854.474 873.956,866.587 \n",
       "  884.086,878.607 894.217,890.727 904.348,902.973 914.479,914.948 924.61,926.548 934.741,937.998 944.871,949.164 955.002,960.114 965.133,970.763 975.264,981.163 \n",
       "  985.395,991.406 995.526,1001.54 1005.66,1011.52 1015.79,1021.18 1025.92,1030.61 1036.05,1039.87 1046.18,1049.02 1056.31,1058.01 1066.44,1066.75 1076.57,1075.27 \n",
       "  1086.7,1083.6 1096.83,1091.65 1106.97,1099.49 1117.1,1107.11 1127.23,1114.62 1137.36,1121.88 1147.49,1129.01 1157.62,1135.8 1167.75,1142.41 1177.88,1148.98 \n",
       "  1188.01,1155.37 1198.14,1161.69 1208.27,1167.77 1218.4,1173.8 1228.54,1179.68 1238.67,1185.42 1248.8,1191 1258.93,1196.37 1269.06,1201.62 1279.19,1206.76 \n",
       "  1289.32,1211.81 1299.45,1216.81 1309.58,1221.68 1319.71,1226.38 1329.84,1230.94 1339.97,1235.28 1350.11,1239.47 1360.24,1243.53 1370.37,1247.47 1380.5,1251.34 \n",
       "  1390.63,1255.09 1400.76,1258.76 1410.89,1262.29 1421.02,1265.82 1431.15,1269.25 1441.28,1272.58 1451.41,1275.86 1461.54,1278.96 1471.68,1281.99 1481.81,1284.98 \n",
       "  1491.94,1287.91 1502.07,1290.68 1512.2,1293.39 1522.33,1295.77 1532.46,1297.96 1542.59,1300.14 1552.72,1302.41 1562.85,1304.72 1572.98,1307.04 1583.12,1309.41 \n",
       "  1593.25,1311.76 1603.38,1313.91 1613.51,1316.04 1623.64,1318.11 1633.77,1320.14 1643.9,1322.21 1654.03,1324.2 1664.16,1326.06 1674.29,1327.81 1684.42,1329.56 \n",
       "  1694.55,1331.29 1704.69,1333.03 1714.82,1334.72 1724.95,1336.33 1735.08,1337.91 1745.21,1339.47 1755.34,1340.99 1765.47,1342.47 1775.6,1343.91 1785.73,1345.27 \n",
       "  1795.86,1346.58 1805.99,1347.85 1816.12,1349.06 1826.26,1350.23 1836.39,1351.29 1846.52,1352.36 1856.65,1353.43 1866.78,1354.51 1876.91,1355.62 1887.04,1356.73 \n",
       "  1897.17,1357.85 1907.3,1358.97 1917.43,1360.09 1927.56,1361.2 1937.69,1362.27 1947.83,1363.28 1957.96,1364.23 1968.09,1365.17 1978.22,1366.05 1988.35,1366.9 \n",
       "  1998.48,1367.81 2008.61,1368.72 2018.74,1369.61 2028.87,1370.46 2039,1371.29 2049.13,1372.08 2059.27,1372.88 2069.4,1373.63 2079.53,1374.38 2089.66,1375.09 \n",
       "  2099.79,1375.68 2109.92,1376.2 2120.05,1376.74 2130.18,1377.33 2140.31,1377.96 2150.44,1378.61 2160.57,1379.28 2170.7,1379.99 2180.84,1380.68 2190.97,1381.37 \n",
       "  2201.1,1382.06 2211.23,1382.76 2221.36,1383.42 2231.49,1384.02 2241.62,1384.58 2251.75,1385.11 2261.88,1385.64 2272.01,1386.17 2282.14,1386.7 2292.27,1387.22 \n",
       "  \n",
       "  \"/>\n",
       "<path clip-path=\"url(#clip3200)\" d=\"\n",
       "M1698.38 251.724 L2280.76 251.724 L2280.76 130.764 L1698.38 130.764  Z\n",
       "  \" fill=\"#ffffff\" fill-rule=\"evenodd\" fill-opacity=\"1\"/>\n",
       "<polyline clip-path=\"url(#clip3200)\" style=\"stroke:#000000; stroke-width:4; stroke-opacity:1; fill:none\" points=\"\n",
       "  1698.38,251.724 2280.76,251.724 2280.76,130.764 1698.38,130.764 1698.38,251.724 \n",
       "  \"/>\n",
       "<polyline clip-path=\"url(#clip3200)\" style=\"stroke:#009af9; stroke-width:4; stroke-opacity:1; fill:none\" points=\"\n",
       "  1722.38,191.244 1866.38,191.244 \n",
       "  \"/>\n",
       "<g clip-path=\"url(#clip3200)\">\n",
       "<text style=\"fill:#000000; fill-opacity:1; font-family:Arial,Helvetica Neue,Helvetica,sans-serif; font-size:48px; text-anchor:start;\" transform=\"rotate(0, 1890.38, 208.744)\" x=\"1890.38\" y=\"208.744\">Symbol[:trnloss]</text>\n",
       "</g>\n",
       "</svg>\n"
      ]
     },
     "execution_count": 11,
     "metadata": {},
     "output_type": "execute_result"
    }
   ],
   "source": [
    "results = train_with_results(model, dtrn, arguments.epochs, arguments.lr)\n",
    "trnloss = Array{Float32}(results)\n",
    "plot(trnloss, ylim=(0.0,2.0),labels=[:trnloss],xlabel=\"Epochs\",ylabel=\"Loss\")"
   ]
  },
  {
   "cell_type": "code",
   "execution_count": 12,
   "metadata": {},
   "outputs": [
    {
     "data": {
      "text/plain": [
       "1.0"
      ]
     },
     "execution_count": 12,
     "metadata": {},
     "output_type": "execute_result"
    }
   ],
   "source": [
    "output = model(features)\n",
    "accuracy(output[:,idx_train], labels_decoded[idx_train])"
   ]
  },
  {
   "cell_type": "code",
   "execution_count": 13,
   "metadata": {},
   "outputs": [
    {
     "data": {
      "text/plain": [
       "0.7822177822177823"
      ]
     },
     "execution_count": 13,
     "metadata": {},
     "output_type": "execute_result"
    }
   ],
   "source": [
    "output = model(features)\n",
    "accuracy(output[:,idx_test], labels_decoded[idx_test])"
   ]
  }
 ],
 "metadata": {
  "@webio": {
   "lastCommId": null,
   "lastKernelId": null
  },
  "kernelspec": {
   "display_name": "Julia 1.1.1",
   "language": "julia",
   "name": "julia-1.1"
  },
  "language_info": {
   "file_extension": ".jl",
   "mimetype": "application/julia",
   "name": "julia",
   "version": "1.1.1"
  }
 },
 "nbformat": 4,
 "nbformat_minor": 2
}
