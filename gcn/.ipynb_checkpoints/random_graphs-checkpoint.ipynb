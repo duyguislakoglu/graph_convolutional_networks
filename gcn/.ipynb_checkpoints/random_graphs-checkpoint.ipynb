{
 "cells": [
  {
   "cell_type": "code",
   "execution_count": null,
   "metadata": {},
   "outputs": [],
   "source": [
    "using Pkg\n",
    "for p in [\"Knet\", \"Plots\", \"IterTools\",\"PyCall\"]\n",
    "    if !haskey(Pkg.installed(),p)\n",
    "        Pkg.add(p);\n",
    "    end\n",
    "end\n",
    "using DelimitedFiles\n",
    "using Knet: KnetArray, accuracy, progress, minibatch, cycle, adam, sgd\n",
    "using Plots\n",
    "using IterTools: ncycle, takenth, take\n",
    "using Base.Iterators: flatten\n",
    "using LinearAlgebra\n",
    "\n",
    "#include(\"utils.jl\")\n",
    "include(\"utils2.jl\")\n",
    "include(\"models.jl\")"
   ]
  },
  {
   "cell_type": "code",
   "execution_count": null,
   "metadata": {},
   "outputs": [],
   "source": [
    "# TODO: generate random graphs"
   ]
  },
  {
   "cell_type": "code",
   "execution_count": null,
   "metadata": {},
   "outputs": [],
   "source": [
    "# TODO: take user inputs\n",
    "struct args\n",
    "    epochs\n",
    "    lr\n",
    "    weight_decay\n",
    "    hidden\n",
    "    pdrop\n",
    "end\n",
    "\n",
    "arguments = args(200, 0.01, 0, 32, 1)\n",
    "\n",
    "# Model and optimizer\n",
    "model = GCN(size(features,1),\n",
    "            arguments.hidden,\n",
    "            size(labels,2),\n",
    "            adj,\n",
    "            arguments.pdrop)\n",
    "\n",
    "(g::GCN)(x,y) = nll(g(x)[:, idx_train], y[idx_train]) + (arguments.weight_decay * sum(g.layer1.w .* g.layer1.w)) "
   ]
  }
 ],
 "metadata": {
  "kernelspec": {
   "display_name": "Julia 1.1.1",
   "language": "julia",
   "name": "julia-1.1"
  },
  "language_info": {
   "file_extension": ".jl",
   "mimetype": "application/julia",
   "name": "julia",
   "version": "1.1.1"
  }
 },
 "nbformat": 4,
 "nbformat_minor": 2
}
