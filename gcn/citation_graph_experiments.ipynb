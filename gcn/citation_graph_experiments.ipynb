{
 "cells": [
  {
   "cell_type": "code",
   "execution_count": 2,
   "metadata": {},
   "outputs": [
    {
     "name": "stderr",
     "output_type": "stream",
     "text": [
      "┌ Warning: `getindex(o::PyObject, s::AbstractString)` is deprecated in favor of dot overloading (`getproperty`) so elements should now be accessed as e.g. `o.\"s\"` instead of `o[\"s\"]`.\n",
      "│   caller = top-level scope at none:0\n",
      "└ @ Core none:0\n"
     ]
    }
   ],
   "source": [
    "using Pkg\n",
    "for p in [\"Knet\", \"Plots\", \"IterTools\",\"PyCall\"]\n",
    "    if !haskey(Pkg.installed(),p)\n",
    "        Pkg.add(p);\n",
    "    end\n",
    "end\n",
    "using DelimitedFiles\n",
    "using Knet: KnetArray, accuracy, progress, minibatch, cycle, adam, xavier_uniform\n",
    "using Plots\n",
    "using IterTools: ncycle, takenth, take\n",
    "using Base.Iterators: flatten\n",
    "using LinearAlgebra\n",
    "\n",
    "include(\"utils.jl\")\n",
    "include(\"models.jl\")"
   ]
  },
  {
   "cell_type": "code",
   "execution_count": 3,
   "metadata": {},
   "outputs": [
    {
     "data": {
      "text/plain": [
       "(Float32[0.0 0.0 … 0.0 0.0; 0.0 0.0 … 0.0 0.0; … ; 0.0 0.0 … 0.0 1.0; 0.0 0.0 … 1.0 0.0], Float32[0.0 0.0 … 0.0 0.0; 0.0 0.0 … 0.0 0.0; … ; 0.0 0.0 … 0.0 0.0; 0.0 0.0 … 0.0 0.0], Int32[0 0 … 0 0; 0 0 … 0 0; … ; 0 0 … 0 0; 0 0 … 0 0], 1:140, 200:499, [2692, 2532, 2050, 1715, 2362, 2609, 2622, 1975, 2081, 1767  …  1885, 2305, 2354, 2135, 2601, 1770, 1995, 2504, 1749, 2157])"
      ]
     },
     "execution_count": 3,
     "metadata": {},
     "output_type": "execute_result"
    }
   ],
   "source": [
    "adj, features, labels, idx_train, idx_val, idx_test = load_dataset(\"cora\")"
   ]
  },
  {
   "cell_type": "code",
   "execution_count": null,
   "metadata": {},
   "outputs": [],
   "source": [
    "# Row-normalize the featues\n",
    "#features = features./sum(features,dims=2)"
   ]
  },
  {
   "cell_type": "code",
   "execution_count": 4,
   "metadata": {},
   "outputs": [],
   "source": [
    "# TODO: take user inputs\n",
    "struct args\n",
    "    epochs\n",
    "    lr\n",
    "    weight_decay\n",
    "    hidden\n",
    "    pdrop\n",
    "    window_size\n",
    "end\n",
    "\n",
    "arguments = args(200, 0.01, 5e-4, 16, 0.5, 10)\n",
    "\n",
    "# Model and optimizer\n",
    "model = GCN(size(features,1),\n",
    "            arguments.hidden,\n",
    "            size(labels,2),\n",
    "            adj,\n",
    "            arguments.pdrop)\n",
    "\n",
    "function val_loss(g::GCN,x,y)\n",
    "    output = g(x)[:, idx_val]\n",
    "    nll(output, y[idx_val]) + (arguments.weight_decay * sum(g.layer1.w .* g.layer1.w)) \n",
    "end  \n",
    "function val_loss(g::GCN, d)\n",
    "    mean(val_loss(g,x,y) for (x,y) in d)\n",
    "end\n",
    "\n",
    "function test_loss(g::GCN,x,y)\n",
    "    output = g(x)[:, idx_test]\n",
    "    nll(output, y[idx_test]) + (arguments.weight_decay * sum(g.layer1.w .* g.layer1.w)) \n",
    "end  \n",
    "function test_loss(g::GCN,d)\n",
    "    mean(test_loss(g,x,y) for (x,y) in d)\n",
    "end\n",
    "\n",
    "(g::GCN)(x,y) = nll(g(x)[:, idx_train], y[idx_train]) + (arguments.weight_decay * sum(g.layer1.w .* g.layer1.w)) \n",
    "#(g::GCN)(x,y) = nll(g(x)[:, idx_train], y[idx_train])"
   ]
  },
  {
   "cell_type": "code",
   "execution_count": 5,
   "metadata": {},
   "outputs": [
    {
     "data": {
      "text/plain": [
       "7×2708 Array{Float64,2}:\n",
       " -0.511534   0.175983  -1.4298   …   0.083868    -0.306011  -0.25584 \n",
       "  0.285138   1.04412    1.29503      0.14618      1.1186     1.52259 \n",
       "  0.155574  -0.166338  -1.68551      0.00101836   0.836543   1.84857 \n",
       " -0.445659  -0.557097  -1.91386     -0.196478    -0.591877  -1.83934 \n",
       " -0.170223   0.193604  -1.70069      0.0133759   -0.663336  -0.933878\n",
       "  0.240876   0.340443   1.69431  …   0.0934175    0.375353   0.211568\n",
       "  0.727045  -0.22814    1.96052      0.0526961   -0.957076  -0.104131"
      ]
     },
     "execution_count": 5,
     "metadata": {},
     "output_type": "execute_result"
    }
   ],
   "source": [
    "output = model(features)"
   ]
  },
  {
   "cell_type": "code",
   "execution_count": 16,
   "metadata": {},
   "outputs": [
    {
     "data": {
      "text/plain": [
       "2708-element Array{Int64,1}:\n",
       " 4\n",
       " 5\n",
       " 5\n",
       " 1\n",
       " 4\n",
       " 3\n",
       " 1\n",
       " 4\n",
       " 4\n",
       " 3\n",
       " 1\n",
       " 1\n",
       " 5\n",
       " ⋮\n",
       " 4\n",
       " 4\n",
       " 4\n",
       " 4\n",
       " 4\n",
       " 4\n",
       " 1\n",
       " 4\n",
       " 4\n",
       " 4\n",
       " 4\n",
       " 4"
      ]
     },
     "execution_count": 16,
     "metadata": {},
     "output_type": "execute_result"
    }
   ],
   "source": [
    "labels_decoded = mapslices(argmax, labels ,dims=2)[:]"
   ]
  },
  {
   "cell_type": "code",
   "execution_count": 17,
   "metadata": {},
   "outputs": [
    {
     "data": {
      "text/plain": [
       "0.020875241820172585"
      ]
     },
     "execution_count": 17,
     "metadata": {},
     "output_type": "execute_result"
    }
   ],
   "source": [
    "nll(output[:,idx_train], labels_decoded[idx_train])"
   ]
  },
  {
   "cell_type": "code",
   "execution_count": 18,
   "metadata": {},
   "outputs": [
    {
     "data": {
      "text/plain": [
       "0.9928571428571429"
      ]
     },
     "execution_count": 18,
     "metadata": {},
     "output_type": "execute_result"
    }
   ],
   "source": [
    "accuracy(output[:,idx_train], labels_decoded[idx_train])"
   ]
  },
  {
   "cell_type": "code",
   "execution_count": 19,
   "metadata": {},
   "outputs": [
    {
     "data": {
      "text/plain": [
       "16×1433 Array{Float64,2}:\n",
       " -4.94045e-6   -5.04933e-6   -4.02274e-5   …  -2.28852e-5   -9.48305e-6 \n",
       " -5.32921e-5    0.000762797  -3.16407e-5      -3.16319e-5   -2.71465e-5 \n",
       " -1.21491e-6    0.00490077   -0.00070694      -0.000197873  -3.80092e-5 \n",
       "  2.29398e-8   -0.000221447   1.7864e-5        0.000137667   3.95861e-5 \n",
       " -8.44552e-5    0.00309307    0.00295061      -3.34169e-5    0.000146503\n",
       " -7.3157e-5    -8.15646e-5   -3.07072e-5   …  -7.11288e-5   -2.32561e-5 \n",
       "  2.45814e-5    1.62958e-5   -0.000293657     -0.000198481   5.10374e-7 \n",
       " -1.01867e-5    4.38358e-6   -8.37259e-5       8.37628e-6    3.231e-6   \n",
       "  4.49051e-6    5.14665e-5    0.000186076      1.19113e-5    0.000118167\n",
       "  4.07656e-5   -6.05436e-5    2.43043e-5       0.000134306   1.2559e-5  \n",
       " -3.62687e-5    6.0946e-5    -1.94848e-5   …  -7.40089e-5    8.22732e-5 \n",
       "  3.24229e-5   -5.03884e-6    0.0026383       -0.000198039  -5.49411e-6 \n",
       " -0.000154644  -0.000137142  -0.00259551      -0.000304916  -3.26745e-5 \n",
       " -7.85678e-5   -0.000170815   0.000324035     -5.64452e-5   -8.43293e-5 \n",
       " -7.91794e-5    0.000171912   3.39523e-5       0.000178684  -5.91527e-5 \n",
       "  2.25952e-5   -1.09682e-5   -6.41596e-6   …   9.02236e-5   -2.17236e-5 "
      ]
     },
     "execution_count": 19,
     "metadata": {},
     "output_type": "execute_result"
    }
   ],
   "source": [
    "using AutoGrad\n",
    "J = @diff model(features, labels_decoded)\n",
    "grad(J, params(model)[1])"
   ]
  },
  {
   "cell_type": "code",
   "execution_count": 20,
   "metadata": {},
   "outputs": [
    {
     "data": {
      "text/plain": [
       "Data{Tuple{Array{Float32,2},Array{Int64,1}}}(Float32[0.0 0.0 … 0.0 0.0; 0.0 0.0 … 0.0 0.0; … ; 0.0 0.0 … 0.0 0.0; 0.0 0.0 … 0.0 0.0], [4 5 … 4 4], 2708, 2708, false, 1, 1:2708, false, (1433, 2708), (2708,), Array{Float32,2}, Array{Int64,1})"
      ]
     },
     "execution_count": 20,
     "metadata": {},
     "output_type": "execute_result"
    }
   ],
   "source": [
    "data =  minibatch(features, labels_decoded[:], length(labels_decoded))"
   ]
  },
  {
   "cell_type": "code",
   "execution_count": 35,
   "metadata": {},
   "outputs": [
    {
     "data": {
      "text/plain": [
       "train_with_results (generic function with 1 method)"
      ]
     },
     "execution_count": 35,
     "metadata": {},
     "output_type": "execute_result"
    }
   ],
   "source": [
    "function train_with_results(model, data, epoch, lr)\n",
    "    training = adam(model, ncycle(data, epoch), lr=lr)\n",
    "    snapshot() = model(data)\n",
    "    snapshots = (snapshot() for x in takenth(progress(training),length(data)))\n",
    "    res = collect(flatten(snapshots))\n",
    "    return res\n",
    "end"
   ]
  },
  {
   "cell_type": "code",
   "execution_count": 32,
   "metadata": {},
   "outputs": [
    {
     "data": {
      "text/plain": [
       "early_stopping (generic function with 1 method)"
      ]
     },
     "execution_count": 32,
     "metadata": {},
     "output_type": "execute_result"
    }
   ],
   "source": [
    "function early_stopping(model, data, epoch, lr, window_size)\n",
    "    for i=1:epoch\n",
    "        training = adam(model, ncycle(data, 1), lr=lr)\n",
    "        println((:epoch, i, :trnloss, model(data)), :valloss, val_loss(model, data), :tstloss, test_loss(model, data))\n",
    "    end    \n",
    "end"
   ]
  },
  {
   "cell_type": "code",
   "execution_count": null,
   "metadata": {},
   "outputs": [
    {
     "name": "stdout",
     "output_type": "stream",
     "text": [
      "(:epoch, 1, :trnloss, 0.0761127856379567)valloss2.7292908158323557tstloss2.588081735991101\n",
      "(:epoch, 2, :trnloss, 0.0761127856379567)valloss2.7292908158323557tstloss2.588081735991101\n",
      "(:epoch, 3, :trnloss, 0.0761127856379567)valloss2.7292908158323557tstloss2.588081735991101\n",
      "(:epoch, 4, :trnloss, 0.0761127856379567)valloss2.7292908158323557tstloss2.588081735991101\n",
      "(:epoch, 5, :trnloss, 0.0761127856379567)valloss2.7292908158323557tstloss2.588081735991101\n",
      "(:epoch, 6, :trnloss, 0.0761127856379567)valloss2.7292908158323557tstloss2.588081735991101\n",
      "(:epoch, 7, :trnloss, 0.0761127856379567)valloss2.7292908158323557tstloss2.588081735991101\n",
      "(:epoch, 8, :trnloss, 0.0761127856379567)valloss2.7292908158323557tstloss2.588081735991101\n",
      "(:epoch, 9, :trnloss, 0.0761127856379567)valloss2.7292908158323557tstloss2.588081735991101\n",
      "(:epoch, 10, :trnloss, 0.0761127856379567)valloss2.7292908158323557tstloss2.588081735991101\n",
      "(:epoch, 11, :trnloss, 0.0761127856379567)valloss2.7292908158323557tstloss2.588081735991101\n",
      "(:epoch, 12, :trnloss, 0.0761127856379567)valloss2.7292908158323557tstloss2.588081735991101\n",
      "(:epoch, 13, :trnloss, 0.0761127856379567)valloss2.7292908158323557tstloss2.588081735991101\n",
      "(:epoch, 14, :trnloss, 0.0761127856379567)valloss2.7292908158323557tstloss2.588081735991101\n",
      "(:epoch, 15, :trnloss, 0.0761127856379567)valloss2.7292908158323557tstloss2.588081735991101\n",
      "(:epoch, 16, :trnloss, 0.0761127856379567)valloss2.7292908158323557tstloss2.588081735991101\n",
      "(:epoch, 17, :trnloss, 0.0761127856379567)valloss2.7292908158323557tstloss2.588081735991101\n",
      "(:epoch, 18, :trnloss, 0.0761127856379567)valloss2.7292908158323557tstloss2.588081735991101\n",
      "(:epoch, 19, :trnloss, 0.0761127856379567)valloss2.7292908158323557tstloss2.588081735991101\n",
      "(:epoch, 20, :trnloss, 0.0761127856379567)valloss2.7292908158323557tstloss2.588081735991101\n",
      "(:epoch, 21, :trnloss, 0.0761127856379567)valloss2.7292908158323557tstloss2.588081735991101\n",
      "(:epoch, 22, :trnloss, 0.0761127856379567)valloss2.7292908158323557tstloss2.588081735991101\n",
      "(:epoch, 23, :trnloss, 0.0761127856379567)valloss2.7292908158323557tstloss2.588081735991101\n",
      "(:epoch, 24, :trnloss, 0.0761127856379567)valloss2.7292908158323557tstloss2.588081735991101\n",
      "(:epoch, 25, :trnloss, 0.0761127856379567)valloss2.7292908158323557tstloss2.588081735991101\n",
      "(:epoch, 26, :trnloss, 0.0761127856379567)valloss2.7292908158323557tstloss2.588081735991101\n",
      "(:epoch, 27, :trnloss, 0.0761127856379567)valloss2.7292908158323557tstloss2.588081735991101\n",
      "(:epoch, 28, :trnloss, 0.0761127856379567)valloss2.7292908158323557tstloss2.588081735991101\n",
      "(:epoch, 29, :trnloss, 0.0761127856379567)valloss2.7292908158323557tstloss2.588081735991101\n"
     ]
    }
   ],
   "source": [
    "early_stopping(model, data, arguments.epochs, arguments.lr, arguments.window_size)"
   ]
  },
  {
   "cell_type": "code",
   "execution_count": null,
   "metadata": {},
   "outputs": [
    {
     "name": "stderr",
     "output_type": "stream",
     "text": [
      "┣█████               ┫ [25.50%, 51/200, 01:04/04:10, 1.11s/i] "
     ]
    }
   ],
   "source": [
    "results = train_with_results(model, data, arguments.epochs, arguments.lr)\n",
    "trnloss = Array{Float32}(results)\n",
    "plot(trnloss, ylim=(0.0,2.0),labels=[:trnloss],xlabel=\"Epochs\",ylabel=\"Loss\")"
   ]
  },
  {
   "cell_type": "code",
   "execution_count": 14,
   "metadata": {
    "scrolled": true
   },
   "outputs": [
    {
     "ename": "InterruptException",
     "evalue": "InterruptException:",
     "output_type": "error",
     "traceback": [
      "InterruptException:",
      "",
      "Stacktrace:",
      " [1] #forw#1(::Base.Iterators.Pairs{Union{},Union{},Tuple{},NamedTuple{(),Tuple{}}}, ::Function, ::Function, ::Function, ::Vararg{Any,N} where N) at /Users/duygusezenislakoglu/.julia/packages/AutoGrad/FSgUc/src/core.jl:65",
      " [2] forw at /Users/duygusezenislakoglu/.julia/packages/AutoGrad/FSgUc/src/core.jl:65 [inlined]",
      " [3] broadcasted(::typeof(+), ::Array{Float64,2}, ::Param{Array{Float32,1}}) at ./none:0",
      " [4] (::GCLayer)(::Array{Float32,2}) at /Users/duygusezenislakoglu/Desktop/graph_convolutional_networks/gcn/layers.jl:16",
      " [5] (::GCN)(::Array{Float32,2}) at /Users/duygusezenislakoglu/Desktop/graph_convolutional_networks/gcn/models.jl:16",
      " [6] top-level scope at In[14]:1"
     ]
    }
   ],
   "source": [
    "output = model(features)\n",
    "accuracy(output[:,idx_train], labels_decoded[idx_train])"
   ]
  },
  {
   "cell_type": "code",
   "execution_count": 15,
   "metadata": {},
   "outputs": [
    {
     "data": {
      "text/plain": [
       "0.745"
      ]
     },
     "execution_count": 15,
     "metadata": {},
     "output_type": "execute_result"
    }
   ],
   "source": [
    "output = model(features)\n",
    "accuracy(output[:,idx_test], labels_decoded[idx_test])"
   ]
  },
  {
   "cell_type": "code",
   "execution_count": null,
   "metadata": {},
   "outputs": [],
   "source": [
    "#####################################################################################################################"
   ]
  },
  {
   "cell_type": "code",
   "execution_count": null,
   "metadata": {},
   "outputs": [],
   "source": [
    "adj, features, labels, idx_train, idx_val, idx_test = load_dataset(\"citeseer\")"
   ]
  },
  {
   "cell_type": "code",
   "execution_count": null,
   "metadata": {},
   "outputs": [],
   "source": [
    "# TODO: take user inputs\n",
    "struct args\n",
    "    epochs\n",
    "    lr\n",
    "    weight_decay\n",
    "    hidden\n",
    "    pdrop\n",
    "end\n",
    "\n",
    "arguments = args(200, 0.01, 5e-4, 16, 0.5)\n",
    "\n",
    "# Model and optimizer\n",
    "model = GCN(size(features,1),\n",
    "            arguments.hidden,\n",
    "            size(labels,2),\n",
    "            adj,\n",
    "            arguments.pdrop)\n",
    "\n",
    "(g::GCN)(x,y) = nll(g(x)[:, idx_train], y[idx_train]) + (arguments.weight_decay * sum(g.layer1.w .* g.layer1.w)) \n",
    "#(g::GCN)(x,y) = nll(g(x)[:, idx_train], y[idx_train])"
   ]
  },
  {
   "cell_type": "code",
   "execution_count": null,
   "metadata": {},
   "outputs": [],
   "source": [
    "output = model(features)"
   ]
  },
  {
   "cell_type": "code",
   "execution_count": null,
   "metadata": {},
   "outputs": [],
   "source": [
    "labels_decoded = mapslices(argmax, labels ,dims=2)[:]"
   ]
  },
  {
   "cell_type": "code",
   "execution_count": null,
   "metadata": {},
   "outputs": [],
   "source": [
    "nll(output[:,idx_train], labels_decoded[idx_train])"
   ]
  },
  {
   "cell_type": "code",
   "execution_count": null,
   "metadata": {},
   "outputs": [],
   "source": [
    "accuracy(output[:,idx_train], labels_decoded[idx_train])"
   ]
  },
  {
   "cell_type": "code",
   "execution_count": null,
   "metadata": {},
   "outputs": [],
   "source": [
    "using AutoGrad\n",
    "J = @diff model(features, labels_decoded)\n",
    "grad(J, params(model)[1])"
   ]
  },
  {
   "cell_type": "code",
   "execution_count": null,
   "metadata": {},
   "outputs": [],
   "source": [
    "data =  minibatch(features, labels_decoded[:], length(labels_decoded))"
   ]
  },
  {
   "cell_type": "code",
   "execution_count": null,
   "metadata": {},
   "outputs": [],
   "source": [
    "results = train_with_results(model, data, arguments.epochs, arguments.lr)\n",
    "trnloss = Array{Float32}(results)\n",
    "plot(trnloss, ylim=(0.0,2.0),labels=[:trnloss],xlabel=\"Epochs\",ylabel=\"Loss\")"
   ]
  },
  {
   "cell_type": "code",
   "execution_count": null,
   "metadata": {},
   "outputs": [],
   "source": [
    "output = model(features)\n",
    "accuracy(output[:,idx_train], labels_decoded[idx_train])"
   ]
  },
  {
   "cell_type": "code",
   "execution_count": null,
   "metadata": {},
   "outputs": [],
   "source": [
    "output = model(features)\n",
    "accuracy(output[:,idx_test], labels_decoded[idx_test])"
   ]
  },
  {
   "cell_type": "code",
   "execution_count": null,
   "metadata": {},
   "outputs": [],
   "source": [
    "adj, features, labels, idx_train, idx_val, idx_test = load_dataset(\"cora\")"
   ]
  },
  {
   "cell_type": "code",
   "execution_count": null,
   "metadata": {},
   "outputs": [],
   "source": [
    "# TODO: take user inputs\n",
    "struct args\n",
    "    epochs\n",
    "    lr\n",
    "    weight_decay\n",
    "    hidden\n",
    "    pdrop\n",
    "end\n",
    "\n",
    "arguments = args(200, 0.01, 5e-4, 16, 0.5)\n",
    "\n",
    "# Model and optimizer\n",
    "model = GCN(size(features,1),\n",
    "            arguments.hidden,\n",
    "            size(labels,2),\n",
    "            adj,\n",
    "            arguments.pdrop)\n",
    "\n",
    "(g::GCN)(x,y) = nll(g(x)[:, idx_train], y[idx_train]) + (arguments.weight_decay * sum(g.layer1.w .* g.layer1.w)) \n",
    "#(g::GCN)(x,y) = nll(g(x)[:, idx_train], y[idx_train])"
   ]
  },
  {
   "cell_type": "code",
   "execution_count": null,
   "metadata": {},
   "outputs": [],
   "source": [
    "output = model(features)"
   ]
  },
  {
   "cell_type": "code",
   "execution_count": null,
   "metadata": {},
   "outputs": [],
   "source": [
    "labels_decoded = mapslices(argmax, labels ,dims=2)[:]"
   ]
  },
  {
   "cell_type": "code",
   "execution_count": null,
   "metadata": {},
   "outputs": [],
   "source": [
    "nll(output[:,idx_train], labels_decoded[idx_train])"
   ]
  },
  {
   "cell_type": "code",
   "execution_count": null,
   "metadata": {},
   "outputs": [],
   "source": [
    "accuracy(output[:,idx_train], labels_decoded[idx_train])"
   ]
  },
  {
   "cell_type": "code",
   "execution_count": null,
   "metadata": {},
   "outputs": [],
   "source": [
    "using AutoGrad\n",
    "J = @diff model(features, labels_decoded)\n",
    "grad(J, params(model)[1])"
   ]
  },
  {
   "cell_type": "code",
   "execution_count": null,
   "metadata": {},
   "outputs": [],
   "source": [
    "data =  minibatch(features, labels_decoded[:], length(labels_decoded))"
   ]
  },
  {
   "cell_type": "code",
   "execution_count": null,
   "metadata": {
    "scrolled": false
   },
   "outputs": [],
   "source": [
    "results = train_with_results(model, data, arguments.epochs, arguments.lr)\n",
    "trnloss = Array{Float32}(results)\n",
    "plot(trnloss, ylim=(0.0,2.0),labels=[:trnloss],xlabel=\"Epochs\",ylabel=\"Loss\")"
   ]
  },
  {
   "cell_type": "code",
   "execution_count": null,
   "metadata": {},
   "outputs": [],
   "source": [
    "output = model(features)\n",
    "accuracy(output[:,idx_train], labels_decoded[idx_train])"
   ]
  },
  {
   "cell_type": "code",
   "execution_count": null,
   "metadata": {},
   "outputs": [],
   "source": [
    "output = model(features)\n",
    "accuracy(output[:,idx_test], labels_decoded[idx_test])"
   ]
  },
  {
   "cell_type": "code",
   "execution_count": null,
   "metadata": {},
   "outputs": [],
   "source": []
  }
 ],
 "metadata": {
  "kernelspec": {
   "display_name": "Julia 1.1.1",
   "language": "julia",
   "name": "julia-1.1"
  },
  "language_info": {
   "file_extension": ".jl",
   "mimetype": "application/julia",
   "name": "julia",
   "version": "1.1.1"
  }
 },
 "nbformat": 4,
 "nbformat_minor": 2
}
