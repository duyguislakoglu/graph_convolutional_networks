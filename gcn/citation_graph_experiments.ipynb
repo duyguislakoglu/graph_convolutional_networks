{
 "cells": [
  {
   "cell_type": "code",
   "execution_count": 1,
   "metadata": {},
   "outputs": [
    {
     "name": "stderr",
     "output_type": "stream",
     "text": [
      "┌ Warning: `getindex(o::PyObject, s::AbstractString)` is deprecated in favor of dot overloading (`getproperty`) so elements should now be accessed as e.g. `o.\"s\"` instead of `o[\"s\"]`.\n",
      "│   caller = top-level scope at none:0\n",
      "└ @ Core none:0\n"
     ]
    }
   ],
   "source": [
    "using Pkg\n",
    "for p in [\"Knet\", \"Plots\", \"IterTools\",\"PyCall\"]\n",
    "    if !haskey(Pkg.installed(),p)\n",
    "        Pkg.add(p);\n",
    "    end\n",
    "end\n",
    "using DelimitedFiles\n",
    "using Knet: KnetArray, accuracy, progress, minibatch, cycle, adam, xavier_uniform, progress!\n",
    "using Plots\n",
    "using IterTools: ncycle, takenth, take\n",
    "using Base.Iterators: flatten\n",
    "using LinearAlgebra\n",
    "\n",
    "include(\"utils.jl\")\n",
    "include(\"models.jl\")"
   ]
  },
  {
   "cell_type": "code",
   "execution_count": 2,
   "metadata": {},
   "outputs": [
    {
     "data": {
      "text/plain": [
       "mytrain! (generic function with 1 method)"
      ]
     },
     "execution_count": 2,
     "metadata": {},
     "output_type": "execute_result"
    }
   ],
   "source": [
    "function mytrain!(model, data, epochs, lr, window_size)\n",
    "    early_stop_counter = 0\n",
    "    prev_val_loss = 0\n",
    "    iter = 0\n",
    "    \n",
    "    trnloss = []\n",
    "    valloss = []\n",
    "    \n",
    "    flag = true\n",
    "\n",
    "    function task()     \n",
    "        \n",
    "        append!(trnloss, model(data))\n",
    "        v_loss = val_loss(model, data)\n",
    "        append!(valloss, v_loss) \n",
    "        \n",
    "        if v_loss >= prev_val_loss\n",
    "            early_stop_counter = early_stop_counter + 1\n",
    "        else\n",
    "            early_stop_counter = 0\n",
    "        end\n",
    "        if early_stop_counter == window_size\n",
    "            flag = false\n",
    "        end \n",
    "        iter = iter + 1\n",
    "        prev_val_loss = v_loss\n",
    "        return flag\n",
    "        \n",
    "    end\n",
    "        \n",
    "    training = adam(model, ncycle(data, epochs), lr=lr)\n",
    "    progress!(flag = task() for x in (x for (i,x) in enumerate(training)) if flag)\n",
    "    return 1:iter, trnloss, valloss\n",
    "end"
   ]
  },
  {
   "cell_type": "code",
   "execution_count": 3,
   "metadata": {},
   "outputs": [],
   "source": [
    "# TODO: take user inputs\n",
    "struct args\n",
    "    epochs\n",
    "    lr\n",
    "    weight_decay\n",
    "    hidden\n",
    "    pdrop\n",
    "    window_size\n",
    "end\n",
    "\n",
    "arguments = args(200, 0.01, 5e-4, 16, 0.5, 10)\n",
    "function val_loss(g::GCN,x,y)\n",
    "    output = g(x)[:, idx_val]\n",
    "    nll(output, y[idx_val]) + (arguments.weight_decay * sum(g.layer1.w .* g.layer1.w)) \n",
    "end  \n",
    "function val_loss(g::GCN, d)\n",
    "    mean(val_loss(g,x,y) for (x,y) in d)\n",
    "end\n",
    "\n",
    "function test_loss(g::GCN,x,y)\n",
    "    output = g(x)[:, idx_test]\n",
    "    nll(output, y[idx_test]) + (arguments.weight_decay * sum(g.layer1.w .* g.layer1.w)) \n",
    "end  \n",
    "function test_loss(g::GCN,d)\n",
    "    mean(test_loss(g,x,y) for (x,y) in d)\n",
    "end\n",
    "\n",
    "(g::GCN)(x,y) = nll(g(x)[:, idx_train], y[idx_train]) + (arguments.weight_decay * sum(g.layer1.w .* g.layer1.w)) "
   ]
  },
  {
   "cell_type": "code",
   "execution_count": 4,
   "metadata": {},
   "outputs": [],
   "source": [
    "#####################################################################################################################"
   ]
  },
  {
   "cell_type": "code",
   "execution_count": 5,
   "metadata": {},
   "outputs": [
    {
     "data": {
      "text/plain": [
       "(\n",
       "  [634 ,    1]  =  1\n",
       "  [1863,    1]  =  1\n",
       "  [2583,    1]  =  1\n",
       "  [3   ,    2]  =  1\n",
       "  [653 ,    2]  =  1\n",
       "  [655 ,    2]  =  1\n",
       "  [2   ,    3]  =  1\n",
       "  [333 ,    3]  =  1\n",
       "  [1455,    3]  =  1\n",
       "  [1667,    3]  =  1\n",
       "  [1987,    3]  =  1\n",
       "  [2545,    4]  =  1\n",
       "  ⋮\n",
       "  [1537, 2703]  =  1\n",
       "  [1299, 2704]  =  1\n",
       "  [642 , 2705]  =  1\n",
       "  [288 , 2706]  =  1\n",
       "  [166 , 2707]  =  1\n",
       "  [170 , 2707]  =  1\n",
       "  [1474, 2707]  =  1\n",
       "  [2708, 2707]  =  1\n",
       "  [166 , 2708]  =  1\n",
       "  [599 , 2708]  =  1\n",
       "  [1474, 2708]  =  1\n",
       "  [2707, 2708]  =  1, \n",
       "  [20  ,    1]  =  1.0\n",
       "  [82  ,    1]  =  1.0\n",
       "  [147 ,    1]  =  1.0\n",
       "  [316 ,    1]  =  1.0\n",
       "  [775 ,    1]  =  1.0\n",
       "  [878 ,    1]  =  1.0\n",
       "  [1195,    1]  =  1.0\n",
       "  [1248,    1]  =  1.0\n",
       "  [1275,    1]  =  1.0\n",
       "  [20  ,    2]  =  1.0\n",
       "  [89  ,    2]  =  1.0\n",
       "  [150 ,    2]  =  1.0\n",
       "  ⋮\n",
       "  [187 , 2708]  =  1.0\n",
       "  [330 , 2708]  =  1.0\n",
       "  [448 , 2708]  =  1.0\n",
       "  [455 , 2708]  =  1.0\n",
       "  [755 , 2708]  =  1.0\n",
       "  [775 , 2708]  =  1.0\n",
       "  [897 , 2708]  =  1.0\n",
       "  [1023, 2708]  =  1.0\n",
       "  [1115, 2708]  =  1.0\n",
       "  [1329, 2708]  =  1.0\n",
       "  [1413, 2708]  =  1.0\n",
       "  [1415, 2708]  =  1.0, Int32[0 0 … 0 0; 0 0 … 0 0; … ; 0 0 … 0 0; 0 0 … 0 0], 1:140, 141:640, [2693, 2533, 2051, 1716, 2363, 2610, 2623, 1976, 2082, 1768  …  1886, 2306, 2355, 2136, 2602, 1771, 1996, 2505, 1750, 2158])"
      ]
     },
     "execution_count": 5,
     "metadata": {},
     "output_type": "execute_result"
    }
   ],
   "source": [
    "adj, features, labels, idx_train, idx_val, idx_test = load_dataset(\"cora\")"
   ]
  },
  {
   "cell_type": "code",
   "execution_count": 6,
   "metadata": {},
   "outputs": [
    {
     "data": {
      "text/plain": [
       "GCN(GCLayer(P(Array{Float64,2}(16,1433)), P(Array{Float32,1}(16)), \n",
       "  [634 ,    1]  =  1\n",
       "  [1863,    1]  =  1\n",
       "  [2583,    1]  =  1\n",
       "  [3   ,    2]  =  1\n",
       "  [653 ,    2]  =  1\n",
       "  [655 ,    2]  =  1\n",
       "  [2   ,    3]  =  1\n",
       "  [333 ,    3]  =  1\n",
       "  [1455,    3]  =  1\n",
       "  [1667,    3]  =  1\n",
       "  [1987,    3]  =  1\n",
       "  [2545,    4]  =  1\n",
       "  ⋮\n",
       "  [1537, 2703]  =  1\n",
       "  [1299, 2704]  =  1\n",
       "  [642 , 2705]  =  1\n",
       "  [288 , 2706]  =  1\n",
       "  [166 , 2707]  =  1\n",
       "  [170 , 2707]  =  1\n",
       "  [1474, 2707]  =  1\n",
       "  [2708, 2707]  =  1\n",
       "  [166 , 2708]  =  1\n",
       "  [599 , 2708]  =  1\n",
       "  [1474, 2708]  =  1\n",
       "  [2707, 2708]  =  1, NNlib.relu), GCLayer(P(Array{Float64,2}(7,16)), P(Array{Float32,1}(7)), \n",
       "  [634 ,    1]  =  1\n",
       "  [1863,    1]  =  1\n",
       "  [2583,    1]  =  1\n",
       "  [3   ,    2]  =  1\n",
       "  [653 ,    2]  =  1\n",
       "  [655 ,    2]  =  1\n",
       "  [2   ,    3]  =  1\n",
       "  [333 ,    3]  =  1\n",
       "  [1455,    3]  =  1\n",
       "  [1667,    3]  =  1\n",
       "  [1987,    3]  =  1\n",
       "  [2545,    4]  =  1\n",
       "  ⋮\n",
       "  [1537, 2703]  =  1\n",
       "  [1299, 2704]  =  1\n",
       "  [642 , 2705]  =  1\n",
       "  [288 , 2706]  =  1\n",
       "  [166 , 2707]  =  1\n",
       "  [170 , 2707]  =  1\n",
       "  [1474, 2707]  =  1\n",
       "  [2708, 2707]  =  1\n",
       "  [166 , 2708]  =  1\n",
       "  [599 , 2708]  =  1\n",
       "  [1474, 2708]  =  1\n",
       "  [2707, 2708]  =  1, identity), 0.5)"
      ]
     },
     "execution_count": 6,
     "metadata": {},
     "output_type": "execute_result"
    }
   ],
   "source": [
    "model = GCN(size(features,1),\n",
    "            arguments.hidden,\n",
    "            size(labels,2),\n",
    "            adj,\n",
    "            arguments.pdrop)"
   ]
  },
  {
   "cell_type": "code",
   "execution_count": 7,
   "metadata": {},
   "outputs": [
    {
     "data": {
      "text/plain": [
       "2708-element Array{Int64,1}:\n",
       " 4\n",
       " 5\n",
       " 5\n",
       " 1\n",
       " 4\n",
       " 3\n",
       " 1\n",
       " 4\n",
       " 4\n",
       " 3\n",
       " 1\n",
       " 1\n",
       " 5\n",
       " ⋮\n",
       " 4\n",
       " 4\n",
       " 4\n",
       " 4\n",
       " 4\n",
       " 4\n",
       " 1\n",
       " 4\n",
       " 4\n",
       " 4\n",
       " 4\n",
       " 4"
      ]
     },
     "execution_count": 7,
     "metadata": {},
     "output_type": "execute_result"
    }
   ],
   "source": [
    "labels_decoded = mapslices(argmax, labels ,dims=2)[:]"
   ]
  },
  {
   "cell_type": "code",
   "execution_count": 8,
   "metadata": {},
   "outputs": [
    {
     "data": {
      "text/plain": [
       "Data{Tuple{SparseMatrixCSC{Float32,Int64},Array{Int64,1}}}(Float32[0.0 0.0 … 0.0 0.0; 0.0 0.0 … 0.0 0.0; … ; 0.0 0.0 … 0.0 0.0; 0.0 0.0 … 0.0 0.0], [4 5 … 4 4], 2708, 2708, false, 1, 1:2708, false, (1433, 2708), (2708,), SparseMatrixCSC{Float32,Int64}, Array{Int64,1})"
      ]
     },
     "execution_count": 8,
     "metadata": {},
     "output_type": "execute_result"
    }
   ],
   "source": [
    "data =  minibatch(features, labels_decoded[:], length(labels_decoded))"
   ]
  },
  {
   "cell_type": "code",
   "execution_count": 9,
   "metadata": {},
   "outputs": [
    {
     "name": "stderr",
     "output_type": "stream",
     "text": [
      "[28, 06:09, 13.18s/i] \n"
     ]
    },
    {
     "data": {
      "text/plain": [
       "(1:28, Any[3.38962, 1.92896, 1.51943, 1.14639, 1.36483, 1.15939, 1.1423, 1.18645, 1.00033, 0.924057  …  0.534131, 0.503728, 0.46557, 0.434114, 0.399971, 0.375524, 0.355845, 0.339444, 0.328919, 0.321449], Any[3.32646, 2.00461, 1.77516, 1.47719, 1.89569, 1.64642, 1.54585, 1.59529, 1.47812, 1.47955  …  1.47233, 1.48442, 1.514, 1.55183, 1.56869, 1.58985, 1.61655, 1.64246, 1.64849, 1.65282])"
      ]
     },
     "execution_count": 9,
     "metadata": {},
     "output_type": "execute_result"
    }
   ],
   "source": [
    "iters, trnloss, vallos = mytrain!(model, data, arguments.epochs, arguments.lr, arguments.window_size)"
   ]
  },
  {
   "cell_type": "code",
   "execution_count": 10,
   "metadata": {
    "scrolled": false
   },
   "outputs": [
    {
     "data": {
      "image/svg+xml": [
       "<?xml version=\"1.0\" encoding=\"utf-8\"?>\n",
       "<svg xmlns=\"http://www.w3.org/2000/svg\" xmlns:xlink=\"http://www.w3.org/1999/xlink\" width=\"600\" height=\"400\" viewBox=\"0 0 2400 1600\">\n",
       "<defs>\n",
       "  <clipPath id=\"clip5900\">\n",
       "    <rect x=\"0\" y=\"0\" width=\"2400\" height=\"1600\"/>\n",
       "  </clipPath>\n",
       "</defs>\n",
       "<path clip-path=\"url(#clip5900)\" d=\"\n",
       "M0 1600 L2400 1600 L2400 0 L0 0  Z\n",
       "  \" fill=\"#ffffff\" fill-rule=\"evenodd\" fill-opacity=\"1\"/>\n",
       "<defs>\n",
       "  <clipPath id=\"clip5901\">\n",
       "    <rect x=\"480\" y=\"0\" width=\"1681\" height=\"1600\"/>\n",
       "  </clipPath>\n",
       "</defs>\n",
       "<path clip-path=\"url(#clip5900)\" d=\"\n",
       "M215.754 1425.62 L2352.76 1425.62 L2352.76 47.2441 L215.754 47.2441  Z\n",
       "  \" fill=\"#ffffff\" fill-rule=\"evenodd\" fill-opacity=\"1\"/>\n",
       "<defs>\n",
       "  <clipPath id=\"clip5902\">\n",
       "    <rect x=\"215\" y=\"47\" width=\"2138\" height=\"1379\"/>\n",
       "  </clipPath>\n",
       "</defs>\n",
       "<polyline clip-path=\"url(#clip5902)\" style=\"stroke:#000000; stroke-width:2; stroke-opacity:0.1; fill:none\" points=\"\n",
       "  574.908,1425.62 574.908,47.2441 \n",
       "  \"/>\n",
       "<polyline clip-path=\"url(#clip5902)\" style=\"stroke:#000000; stroke-width:2; stroke-opacity:0.1; fill:none\" points=\"\n",
       "  948.248,1425.62 948.248,47.2441 \n",
       "  \"/>\n",
       "<polyline clip-path=\"url(#clip5902)\" style=\"stroke:#000000; stroke-width:2; stroke-opacity:0.1; fill:none\" points=\"\n",
       "  1321.59,1425.62 1321.59,47.2441 \n",
       "  \"/>\n",
       "<polyline clip-path=\"url(#clip5902)\" style=\"stroke:#000000; stroke-width:2; stroke-opacity:0.1; fill:none\" points=\"\n",
       "  1694.93,1425.62 1694.93,47.2441 \n",
       "  \"/>\n",
       "<polyline clip-path=\"url(#clip5902)\" style=\"stroke:#000000; stroke-width:2; stroke-opacity:0.1; fill:none\" points=\"\n",
       "  2068.27,1425.62 2068.27,47.2441 \n",
       "  \"/>\n",
       "<polyline clip-path=\"url(#clip5902)\" style=\"stroke:#000000; stroke-width:2; stroke-opacity:0.1; fill:none\" points=\"\n",
       "  215.754,1310.93 2352.76,1310.93 \n",
       "  \"/>\n",
       "<polyline clip-path=\"url(#clip5902)\" style=\"stroke:#000000; stroke-width:2; stroke-opacity:0.1; fill:none\" points=\"\n",
       "  215.754,1099.02 2352.76,1099.02 \n",
       "  \"/>\n",
       "<polyline clip-path=\"url(#clip5902)\" style=\"stroke:#000000; stroke-width:2; stroke-opacity:0.1; fill:none\" points=\"\n",
       "  215.754,887.114 2352.76,887.114 \n",
       "  \"/>\n",
       "<polyline clip-path=\"url(#clip5902)\" style=\"stroke:#000000; stroke-width:2; stroke-opacity:0.1; fill:none\" points=\"\n",
       "  215.754,675.204 2352.76,675.204 \n",
       "  \"/>\n",
       "<polyline clip-path=\"url(#clip5902)\" style=\"stroke:#000000; stroke-width:2; stroke-opacity:0.1; fill:none\" points=\"\n",
       "  215.754,463.294 2352.76,463.294 \n",
       "  \"/>\n",
       "<polyline clip-path=\"url(#clip5902)\" style=\"stroke:#000000; stroke-width:2; stroke-opacity:0.1; fill:none\" points=\"\n",
       "  215.754,251.383 2352.76,251.383 \n",
       "  \"/>\n",
       "<polyline clip-path=\"url(#clip5900)\" style=\"stroke:#000000; stroke-width:4; stroke-opacity:1; fill:none\" points=\"\n",
       "  215.754,1425.62 2352.76,1425.62 \n",
       "  \"/>\n",
       "<polyline clip-path=\"url(#clip5900)\" style=\"stroke:#000000; stroke-width:4; stroke-opacity:1; fill:none\" points=\"\n",
       "  215.754,1425.62 215.754,47.2441 \n",
       "  \"/>\n",
       "<polyline clip-path=\"url(#clip5900)\" style=\"stroke:#000000; stroke-width:4; stroke-opacity:1; fill:none\" points=\"\n",
       "  574.908,1425.62 574.908,1409.08 \n",
       "  \"/>\n",
       "<polyline clip-path=\"url(#clip5900)\" style=\"stroke:#000000; stroke-width:4; stroke-opacity:1; fill:none\" points=\"\n",
       "  948.248,1425.62 948.248,1409.08 \n",
       "  \"/>\n",
       "<polyline clip-path=\"url(#clip5900)\" style=\"stroke:#000000; stroke-width:4; stroke-opacity:1; fill:none\" points=\"\n",
       "  1321.59,1425.62 1321.59,1409.08 \n",
       "  \"/>\n",
       "<polyline clip-path=\"url(#clip5900)\" style=\"stroke:#000000; stroke-width:4; stroke-opacity:1; fill:none\" points=\"\n",
       "  1694.93,1425.62 1694.93,1409.08 \n",
       "  \"/>\n",
       "<polyline clip-path=\"url(#clip5900)\" style=\"stroke:#000000; stroke-width:4; stroke-opacity:1; fill:none\" points=\"\n",
       "  2068.27,1425.62 2068.27,1409.08 \n",
       "  \"/>\n",
       "<polyline clip-path=\"url(#clip5900)\" style=\"stroke:#000000; stroke-width:4; stroke-opacity:1; fill:none\" points=\"\n",
       "  215.754,1310.93 241.398,1310.93 \n",
       "  \"/>\n",
       "<polyline clip-path=\"url(#clip5900)\" style=\"stroke:#000000; stroke-width:4; stroke-opacity:1; fill:none\" points=\"\n",
       "  215.754,1099.02 241.398,1099.02 \n",
       "  \"/>\n",
       "<polyline clip-path=\"url(#clip5900)\" style=\"stroke:#000000; stroke-width:4; stroke-opacity:1; fill:none\" points=\"\n",
       "  215.754,887.114 241.398,887.114 \n",
       "  \"/>\n",
       "<polyline clip-path=\"url(#clip5900)\" style=\"stroke:#000000; stroke-width:4; stroke-opacity:1; fill:none\" points=\"\n",
       "  215.754,675.204 241.398,675.204 \n",
       "  \"/>\n",
       "<polyline clip-path=\"url(#clip5900)\" style=\"stroke:#000000; stroke-width:4; stroke-opacity:1; fill:none\" points=\"\n",
       "  215.754,463.294 241.398,463.294 \n",
       "  \"/>\n",
       "<polyline clip-path=\"url(#clip5900)\" style=\"stroke:#000000; stroke-width:4; stroke-opacity:1; fill:none\" points=\"\n",
       "  215.754,251.383 241.398,251.383 \n",
       "  \"/>\n",
       "<g clip-path=\"url(#clip5900)\">\n",
       "<text style=\"fill:#000000; fill-opacity:1; font-family:Arial,Helvetica Neue,Helvetica,sans-serif; font-size:48px; text-anchor:middle;\" transform=\"rotate(0, 574.908, 1479.62)\" x=\"574.908\" y=\"1479.62\">5</text>\n",
       "</g>\n",
       "<g clip-path=\"url(#clip5900)\">\n",
       "<text style=\"fill:#000000; fill-opacity:1; font-family:Arial,Helvetica Neue,Helvetica,sans-serif; font-size:48px; text-anchor:middle;\" transform=\"rotate(0, 948.248, 1479.62)\" x=\"948.248\" y=\"1479.62\">10</text>\n",
       "</g>\n",
       "<g clip-path=\"url(#clip5900)\">\n",
       "<text style=\"fill:#000000; fill-opacity:1; font-family:Arial,Helvetica Neue,Helvetica,sans-serif; font-size:48px; text-anchor:middle;\" transform=\"rotate(0, 1321.59, 1479.62)\" x=\"1321.59\" y=\"1479.62\">15</text>\n",
       "</g>\n",
       "<g clip-path=\"url(#clip5900)\">\n",
       "<text style=\"fill:#000000; fill-opacity:1; font-family:Arial,Helvetica Neue,Helvetica,sans-serif; font-size:48px; text-anchor:middle;\" transform=\"rotate(0, 1694.93, 1479.62)\" x=\"1694.93\" y=\"1479.62\">20</text>\n",
       "</g>\n",
       "<g clip-path=\"url(#clip5900)\">\n",
       "<text style=\"fill:#000000; fill-opacity:1; font-family:Arial,Helvetica Neue,Helvetica,sans-serif; font-size:48px; text-anchor:middle;\" transform=\"rotate(0, 2068.27, 1479.62)\" x=\"2068.27\" y=\"1479.62\">25</text>\n",
       "</g>\n",
       "<g clip-path=\"url(#clip5900)\">\n",
       "<text style=\"fill:#000000; fill-opacity:1; font-family:Arial,Helvetica Neue,Helvetica,sans-serif; font-size:48px; text-anchor:end;\" transform=\"rotate(0, 191.754, 1328.43)\" x=\"191.754\" y=\"1328.43\">0.5</text>\n",
       "</g>\n",
       "<g clip-path=\"url(#clip5900)\">\n",
       "<text style=\"fill:#000000; fill-opacity:1; font-family:Arial,Helvetica Neue,Helvetica,sans-serif; font-size:48px; text-anchor:end;\" transform=\"rotate(0, 191.754, 1116.52)\" x=\"191.754\" y=\"1116.52\">1.0</text>\n",
       "</g>\n",
       "<g clip-path=\"url(#clip5900)\">\n",
       "<text style=\"fill:#000000; fill-opacity:1; font-family:Arial,Helvetica Neue,Helvetica,sans-serif; font-size:48px; text-anchor:end;\" transform=\"rotate(0, 191.754, 904.614)\" x=\"191.754\" y=\"904.614\">1.5</text>\n",
       "</g>\n",
       "<g clip-path=\"url(#clip5900)\">\n",
       "<text style=\"fill:#000000; fill-opacity:1; font-family:Arial,Helvetica Neue,Helvetica,sans-serif; font-size:48px; text-anchor:end;\" transform=\"rotate(0, 191.754, 692.704)\" x=\"191.754\" y=\"692.704\">2.0</text>\n",
       "</g>\n",
       "<g clip-path=\"url(#clip5900)\">\n",
       "<text style=\"fill:#000000; fill-opacity:1; font-family:Arial,Helvetica Neue,Helvetica,sans-serif; font-size:48px; text-anchor:end;\" transform=\"rotate(0, 191.754, 480.794)\" x=\"191.754\" y=\"480.794\">2.5</text>\n",
       "</g>\n",
       "<g clip-path=\"url(#clip5900)\">\n",
       "<text style=\"fill:#000000; fill-opacity:1; font-family:Arial,Helvetica Neue,Helvetica,sans-serif; font-size:48px; text-anchor:end;\" transform=\"rotate(0, 191.754, 268.883)\" x=\"191.754\" y=\"268.883\">3.0</text>\n",
       "</g>\n",
       "<g clip-path=\"url(#clip5900)\">\n",
       "<text style=\"fill:#000000; fill-opacity:1; font-family:Arial,Helvetica Neue,Helvetica,sans-serif; font-size:66px; text-anchor:middle;\" transform=\"rotate(0, 1284.25, 1559.48)\" x=\"1284.25\" y=\"1559.48\">epochs</text>\n",
       "</g>\n",
       "<g clip-path=\"url(#clip5900)\">\n",
       "<text style=\"fill:#000000; fill-opacity:1; font-family:Arial,Helvetica Neue,Helvetica,sans-serif; font-size:66px; text-anchor:middle;\" transform=\"rotate(-90, 89.2861, 736.431)\" x=\"89.2861\" y=\"736.431\">loss</text>\n",
       "</g>\n",
       "<polyline clip-path=\"url(#clip5902)\" style=\"stroke:#009af9; stroke-width:4; stroke-opacity:1; fill:none\" points=\"\n",
       "  276.235,86.2547 350.903,705.311 425.572,878.878 500.24,1036.98 574.908,944.402 649.576,1031.47 724.244,1038.72 798.912,1020 873.58,1098.88 948.248,1131.21 \n",
       "  1022.92,1149.41 1097.58,1170.69 1172.25,1190.8 1246.92,1205.58 1321.59,1229.97 1396.26,1260.48 1470.93,1272.27 1545.59,1283.56 1620.26,1296.47 1694.93,1309.35 \n",
       "  1769.6,1325.53 1844.27,1338.86 1918.93,1353.33 1993.6,1363.69 2068.27,1372.03 2142.94,1378.98 2217.61,1383.44 2292.27,1386.61 \n",
       "  \"/>\n",
       "<polyline clip-path=\"url(#clip5902)\" style=\"stroke:#e26f46; stroke-width:4; stroke-opacity:1; fill:none\" points=\"\n",
       "  276.235,113.022 350.903,673.251 425.572,770.496 500.24,896.78 574.908,719.413 649.576,825.059 724.244,867.68 798.912,846.73 873.58,896.389 948.248,895.782 \n",
       "  1022.92,884.836 1097.58,874.499 1172.25,860.832 1246.92,847.151 1321.59,858.469 1396.26,888.695 1470.93,897.026 1545.59,900.934 1620.26,898.843 1694.93,893.718 \n",
       "  1769.6,881.181 1844.27,865.147 1918.93,858.003 1993.6,849.033 2068.27,837.72 2142.94,826.737 2217.61,824.181 2292.27,822.346 \n",
       "  \"/>\n",
       "<path clip-path=\"url(#clip5900)\" d=\"\n",
       "M1979.24 312.204 L2280.76 312.204 L2280.76 130.764 L1979.24 130.764  Z\n",
       "  \" fill=\"#ffffff\" fill-rule=\"evenodd\" fill-opacity=\"1\"/>\n",
       "<polyline clip-path=\"url(#clip5900)\" style=\"stroke:#000000; stroke-width:4; stroke-opacity:1; fill:none\" points=\"\n",
       "  1979.24,312.204 2280.76,312.204 2280.76,130.764 1979.24,130.764 1979.24,312.204 \n",
       "  \"/>\n",
       "<polyline clip-path=\"url(#clip5900)\" style=\"stroke:#009af9; stroke-width:4; stroke-opacity:1; fill:none\" points=\"\n",
       "  2003.24,191.244 2147.24,191.244 \n",
       "  \"/>\n",
       "<g clip-path=\"url(#clip5900)\">\n",
       "<text style=\"fill:#000000; fill-opacity:1; font-family:Arial,Helvetica Neue,Helvetica,sans-serif; font-size:48px; text-anchor:start;\" transform=\"rotate(0, 2171.24, 208.744)\" x=\"2171.24\" y=\"208.744\">trn</text>\n",
       "</g>\n",
       "<polyline clip-path=\"url(#clip5900)\" style=\"stroke:#e26f46; stroke-width:4; stroke-opacity:1; fill:none\" points=\"\n",
       "  2003.24,251.724 2147.24,251.724 \n",
       "  \"/>\n",
       "<g clip-path=\"url(#clip5900)\">\n",
       "<text style=\"fill:#000000; fill-opacity:1; font-family:Arial,Helvetica Neue,Helvetica,sans-serif; font-size:48px; text-anchor:start;\" transform=\"rotate(0, 2171.24, 269.224)\" x=\"2171.24\" y=\"269.224\">val</text>\n",
       "</g>\n",
       "</svg>\n"
      ]
     },
     "execution_count": 10,
     "metadata": {},
     "output_type": "execute_result"
    }
   ],
   "source": [
    "plot(iters, [trnloss, vallos] , xlim=(1:3),labels=[:trn :val :tst], xlabel=\"epochs\", ylabel=\"loss\")"
   ]
  },
  {
   "cell_type": "code",
   "execution_count": 11,
   "metadata": {
    "scrolled": true
   },
   "outputs": [
    {
     "data": {
      "text/plain": [
       "1.0"
      ]
     },
     "execution_count": 11,
     "metadata": {},
     "output_type": "execute_result"
    }
   ],
   "source": [
    "output = model(features)\n",
    "accuracy(output[:,idx_train], labels_decoded[idx_train])"
   ]
  },
  {
   "cell_type": "code",
   "execution_count": 12,
   "metadata": {},
   "outputs": [
    {
     "data": {
      "text/plain": [
       "0.684"
      ]
     },
     "execution_count": 12,
     "metadata": {},
     "output_type": "execute_result"
    }
   ],
   "source": [
    "accuracy(output[:,idx_test], labels_decoded[idx_test])"
   ]
  },
  {
   "cell_type": "code",
   "execution_count": 13,
   "metadata": {},
   "outputs": [],
   "source": [
    "png(\"cora\")"
   ]
  },
  {
   "cell_type": "code",
   "execution_count": null,
   "metadata": {},
   "outputs": [],
   "source": [
    "#####################################################################################################################"
   ]
  },
  {
   "cell_type": "code",
   "execution_count": 14,
   "metadata": {},
   "outputs": [
    {
     "data": {
      "text/plain": [
       "(\n",
       "  [629 ,    1]  =  1\n",
       "  [159 ,    2]  =  1\n",
       "  [487 ,    2]  =  1\n",
       "  [1098,    2]  =  1\n",
       "  [2920,    2]  =  1\n",
       "  [2934,    2]  =  1\n",
       "  [3286,    3]  =  1\n",
       "  [1432,    4]  =  1\n",
       "  [3220,    4]  =  1\n",
       "  [468 ,    5]  =  1\n",
       "  [649 ,    6]  =  1\n",
       "  [1502,    7]  =  1\n",
       "  ⋮\n",
       "  [2912, 3318]  =  1\n",
       "  [84  , 3319]  =  1\n",
       "  [3321, 3320]  =  1\n",
       "  [3320, 3321]  =  1\n",
       "  [1751, 3322]  =  1\n",
       "  [3324, 3323]  =  1\n",
       "  [3323, 3324]  =  1\n",
       "  [132 , 3325]  =  1\n",
       "  [269 , 3325]  =  1\n",
       "  [2821, 3325]  =  1\n",
       "  [1644, 3326]  =  1\n",
       "  [34  , 3327]  =  1, \n",
       "  [185 ,    1]  =  1.0\n",
       "  [258 ,    1]  =  1.0\n",
       "  [363 ,    1]  =  1.0\n",
       "  [561 ,    1]  =  1.0\n",
       "  [566 ,    1]  =  1.0\n",
       "  [598 ,    1]  =  1.0\n",
       "  [601 ,    1]  =  1.0\n",
       "  [602 ,    1]  =  1.0\n",
       "  [638 ,    1]  =  1.0\n",
       "  [730 ,    1]  =  1.0\n",
       "  [806 ,    1]  =  1.0\n",
       "  [817 ,    1]  =  1.0\n",
       "  ⋮\n",
       "  [1542, 3327]  =  1.0\n",
       "  [1619, 3327]  =  1.0\n",
       "  [2058, 3327]  =  1.0\n",
       "  [2177, 3327]  =  1.0\n",
       "  [2231, 3327]  =  1.0\n",
       "  [2618, 3327]  =  1.0\n",
       "  [2624, 3327]  =  1.0\n",
       "  [3231, 3327]  =  1.0\n",
       "  [3271, 3327]  =  1.0\n",
       "  [3473, 3327]  =  1.0\n",
       "  [3557, 3327]  =  1.0\n",
       "  [3622, 3327]  =  1.0, [0.0 0.0 … 0.0 0.0; 0.0 1.0 … 0.0 0.0; … ; 0.0 1.0 … 0.0 0.0; 0.0 0.0 … 0.0 1.0], 1:120, 121:620, [2489, 2645, 3262, 2805, 3177, 2433, 3311, 2411, 2813, 2521  …  2772, 2405, 2590, 3124, 3210, 2730, 3253, 2607, 2580, 2553])"
      ]
     },
     "execution_count": 14,
     "metadata": {},
     "output_type": "execute_result"
    }
   ],
   "source": [
    "adj, features, labels, idx_train, idx_val, idx_test = load_dataset(\"citeseer\")"
   ]
  },
  {
   "cell_type": "code",
   "execution_count": 15,
   "metadata": {},
   "outputs": [
    {
     "data": {
      "text/plain": [
       "GCN(GCLayer(P(Array{Float64,2}(16,3703)), P(Array{Float32,1}(16)), \n",
       "  [629 ,    1]  =  1\n",
       "  [159 ,    2]  =  1\n",
       "  [487 ,    2]  =  1\n",
       "  [1098,    2]  =  1\n",
       "  [2920,    2]  =  1\n",
       "  [2934,    2]  =  1\n",
       "  [3286,    3]  =  1\n",
       "  [1432,    4]  =  1\n",
       "  [3220,    4]  =  1\n",
       "  [468 ,    5]  =  1\n",
       "  [649 ,    6]  =  1\n",
       "  [1502,    7]  =  1\n",
       "  ⋮\n",
       "  [2912, 3318]  =  1\n",
       "  [84  , 3319]  =  1\n",
       "  [3321, 3320]  =  1\n",
       "  [3320, 3321]  =  1\n",
       "  [1751, 3322]  =  1\n",
       "  [3324, 3323]  =  1\n",
       "  [3323, 3324]  =  1\n",
       "  [132 , 3325]  =  1\n",
       "  [269 , 3325]  =  1\n",
       "  [2821, 3325]  =  1\n",
       "  [1644, 3326]  =  1\n",
       "  [34  , 3327]  =  1, NNlib.relu), GCLayer(P(Array{Float64,2}(6,16)), P(Array{Float32,1}(6)), \n",
       "  [629 ,    1]  =  1\n",
       "  [159 ,    2]  =  1\n",
       "  [487 ,    2]  =  1\n",
       "  [1098,    2]  =  1\n",
       "  [2920,    2]  =  1\n",
       "  [2934,    2]  =  1\n",
       "  [3286,    3]  =  1\n",
       "  [1432,    4]  =  1\n",
       "  [3220,    4]  =  1\n",
       "  [468 ,    5]  =  1\n",
       "  [649 ,    6]  =  1\n",
       "  [1502,    7]  =  1\n",
       "  ⋮\n",
       "  [2912, 3318]  =  1\n",
       "  [84  , 3319]  =  1\n",
       "  [3321, 3320]  =  1\n",
       "  [3320, 3321]  =  1\n",
       "  [1751, 3322]  =  1\n",
       "  [3324, 3323]  =  1\n",
       "  [3323, 3324]  =  1\n",
       "  [132 , 3325]  =  1\n",
       "  [269 , 3325]  =  1\n",
       "  [2821, 3325]  =  1\n",
       "  [1644, 3326]  =  1\n",
       "  [34  , 3327]  =  1, identity), 0.5)"
      ]
     },
     "execution_count": 15,
     "metadata": {},
     "output_type": "execute_result"
    }
   ],
   "source": [
    "model = GCN(size(features,1),\n",
    "            arguments.hidden,\n",
    "            size(labels,2),\n",
    "            adj,\n",
    "            arguments.pdrop)"
   ]
  },
  {
   "cell_type": "code",
   "execution_count": 16,
   "metadata": {},
   "outputs": [
    {
     "data": {
      "text/plain": [
       "3327-element Array{Int64,1}:\n",
       " 4\n",
       " 2\n",
       " 6\n",
       " 6\n",
       " 4\n",
       " 2\n",
       " 4\n",
       " 1\n",
       " 4\n",
       " 6\n",
       " 3\n",
       " 5\n",
       " 3\n",
       " ⋮\n",
       " 4\n",
       " 3\n",
       " 5\n",
       " 5\n",
       " 2\n",
       " 2\n",
       " 1\n",
       " 4\n",
       " 4\n",
       " 4\n",
       " 2\n",
       " 6"
      ]
     },
     "execution_count": 16,
     "metadata": {},
     "output_type": "execute_result"
    }
   ],
   "source": [
    "labels_decoded = mapslices(argmax, labels ,dims=2)[:]"
   ]
  },
  {
   "cell_type": "code",
   "execution_count": 17,
   "metadata": {},
   "outputs": [
    {
     "data": {
      "text/plain": [
       "Data{Tuple{SparseMatrixCSC{Float64,Int64},Array{Int64,1}}}([0.0 0.0 … 0.0 0.0; 0.0 0.0 … 0.0 0.0; … ; 0.0 0.0 … 0.0 0.0; 0.0 0.0 … 0.0 0.0], [4 2 … 2 6], 3327, 3327, false, 1, 1:3327, false, (3703, 3327), (3327,), SparseMatrixCSC{Float64,Int64}, Array{Int64,1})"
      ]
     },
     "execution_count": 17,
     "metadata": {},
     "output_type": "execute_result"
    }
   ],
   "source": [
    "data =  minibatch(features, labels_decoded[:], length(labels_decoded))"
   ]
  },
  {
   "cell_type": "code",
   "execution_count": 18,
   "metadata": {},
   "outputs": [
    {
     "name": "stderr",
     "output_type": "stream",
     "text": [
      "[14, 22:46, 97.56s/i] \n"
     ]
    },
    {
     "data": {
      "text/plain": [
       "(1:14, Any[1.44162, 1.25663, 1.05596, 0.888413, 0.804609, 0.70704, 0.614665, 0.55253, 0.495137, 0.44705, 0.408534, 0.375841, 0.351146, 0.330925], Any[1.71725, 1.65411, 1.51988, 1.46943, 1.47818, 1.49797, 1.52155, 1.54037, 1.55983, 1.58298, 1.61492, 1.63645, 1.6517, 1.67596])"
      ]
     },
     "execution_count": 18,
     "metadata": {},
     "output_type": "execute_result"
    }
   ],
   "source": [
    "iters, trnloss, vallos = mytrain!(model, data, arguments.epochs, arguments.lr, arguments.window_size)"
   ]
  },
  {
   "cell_type": "code",
   "execution_count": 19,
   "metadata": {},
   "outputs": [
    {
     "data": {
      "image/svg+xml": [
       "<?xml version=\"1.0\" encoding=\"utf-8\"?>\n",
       "<svg xmlns=\"http://www.w3.org/2000/svg\" xmlns:xlink=\"http://www.w3.org/1999/xlink\" width=\"600\" height=\"400\" viewBox=\"0 0 2400 1600\">\n",
       "<defs>\n",
       "  <clipPath id=\"clip6400\">\n",
       "    <rect x=\"0\" y=\"0\" width=\"2400\" height=\"1600\"/>\n",
       "  </clipPath>\n",
       "</defs>\n",
       "<path clip-path=\"url(#clip6400)\" d=\"\n",
       "M0 1600 L2400 1600 L2400 0 L0 0  Z\n",
       "  \" fill=\"#ffffff\" fill-rule=\"evenodd\" fill-opacity=\"1\"/>\n",
       "<defs>\n",
       "  <clipPath id=\"clip6401\">\n",
       "    <rect x=\"480\" y=\"0\" width=\"1681\" height=\"1600\"/>\n",
       "  </clipPath>\n",
       "</defs>\n",
       "<path clip-path=\"url(#clip6400)\" d=\"\n",
       "M215.754 1425.62 L2352.76 1425.62 L2352.76 47.2441 L215.754 47.2441  Z\n",
       "  \" fill=\"#ffffff\" fill-rule=\"evenodd\" fill-opacity=\"1\"/>\n",
       "<defs>\n",
       "  <clipPath id=\"clip6402\">\n",
       "    <rect x=\"215\" y=\"47\" width=\"2138\" height=\"1379\"/>\n",
       "  </clipPath>\n",
       "</defs>\n",
       "<polyline clip-path=\"url(#clip6402)\" style=\"stroke:#000000; stroke-width:2; stroke-opacity:0.1; fill:none\" points=\"\n",
       "  508.855,1425.62 508.855,47.2441 \n",
       "  \"/>\n",
       "<polyline clip-path=\"url(#clip6402)\" style=\"stroke:#000000; stroke-width:2; stroke-opacity:0.1; fill:none\" points=\"\n",
       "  896.555,1425.62 896.555,47.2441 \n",
       "  \"/>\n",
       "<polyline clip-path=\"url(#clip6402)\" style=\"stroke:#000000; stroke-width:2; stroke-opacity:0.1; fill:none\" points=\"\n",
       "  1284.25,1425.62 1284.25,47.2441 \n",
       "  \"/>\n",
       "<polyline clip-path=\"url(#clip6402)\" style=\"stroke:#000000; stroke-width:2; stroke-opacity:0.1; fill:none\" points=\"\n",
       "  1671.95,1425.62 1671.95,47.2441 \n",
       "  \"/>\n",
       "<polyline clip-path=\"url(#clip6402)\" style=\"stroke:#000000; stroke-width:2; stroke-opacity:0.1; fill:none\" points=\"\n",
       "  2059.65,1425.62 2059.65,47.2441 \n",
       "  \"/>\n",
       "<polyline clip-path=\"url(#clip6402)\" style=\"stroke:#000000; stroke-width:2; stroke-opacity:0.1; fill:none\" points=\"\n",
       "  215.754,1321.82 2352.76,1321.82 \n",
       "  \"/>\n",
       "<polyline clip-path=\"url(#clip6402)\" style=\"stroke:#000000; stroke-width:2; stroke-opacity:0.1; fill:none\" points=\"\n",
       "  215.754,1134.22 2352.76,1134.22 \n",
       "  \"/>\n",
       "<polyline clip-path=\"url(#clip6402)\" style=\"stroke:#000000; stroke-width:2; stroke-opacity:0.1; fill:none\" points=\"\n",
       "  215.754,946.622 2352.76,946.622 \n",
       "  \"/>\n",
       "<polyline clip-path=\"url(#clip6402)\" style=\"stroke:#000000; stroke-width:2; stroke-opacity:0.1; fill:none\" points=\"\n",
       "  215.754,759.024 2352.76,759.024 \n",
       "  \"/>\n",
       "<polyline clip-path=\"url(#clip6402)\" style=\"stroke:#000000; stroke-width:2; stroke-opacity:0.1; fill:none\" points=\"\n",
       "  215.754,571.427 2352.76,571.427 \n",
       "  \"/>\n",
       "<polyline clip-path=\"url(#clip6402)\" style=\"stroke:#000000; stroke-width:2; stroke-opacity:0.1; fill:none\" points=\"\n",
       "  215.754,383.829 2352.76,383.829 \n",
       "  \"/>\n",
       "<polyline clip-path=\"url(#clip6402)\" style=\"stroke:#000000; stroke-width:2; stroke-opacity:0.1; fill:none\" points=\"\n",
       "  215.754,196.231 2352.76,196.231 \n",
       "  \"/>\n",
       "<polyline clip-path=\"url(#clip6400)\" style=\"stroke:#000000; stroke-width:4; stroke-opacity:1; fill:none\" points=\"\n",
       "  215.754,1425.62 2352.76,1425.62 \n",
       "  \"/>\n",
       "<polyline clip-path=\"url(#clip6400)\" style=\"stroke:#000000; stroke-width:4; stroke-opacity:1; fill:none\" points=\"\n",
       "  215.754,1425.62 215.754,47.2441 \n",
       "  \"/>\n",
       "<polyline clip-path=\"url(#clip6400)\" style=\"stroke:#000000; stroke-width:4; stroke-opacity:1; fill:none\" points=\"\n",
       "  508.855,1425.62 508.855,1409.08 \n",
       "  \"/>\n",
       "<polyline clip-path=\"url(#clip6400)\" style=\"stroke:#000000; stroke-width:4; stroke-opacity:1; fill:none\" points=\"\n",
       "  896.555,1425.62 896.555,1409.08 \n",
       "  \"/>\n",
       "<polyline clip-path=\"url(#clip6400)\" style=\"stroke:#000000; stroke-width:4; stroke-opacity:1; fill:none\" points=\"\n",
       "  1284.25,1425.62 1284.25,1409.08 \n",
       "  \"/>\n",
       "<polyline clip-path=\"url(#clip6400)\" style=\"stroke:#000000; stroke-width:4; stroke-opacity:1; fill:none\" points=\"\n",
       "  1671.95,1425.62 1671.95,1409.08 \n",
       "  \"/>\n",
       "<polyline clip-path=\"url(#clip6400)\" style=\"stroke:#000000; stroke-width:4; stroke-opacity:1; fill:none\" points=\"\n",
       "  2059.65,1425.62 2059.65,1409.08 \n",
       "  \"/>\n",
       "<polyline clip-path=\"url(#clip6400)\" style=\"stroke:#000000; stroke-width:4; stroke-opacity:1; fill:none\" points=\"\n",
       "  215.754,1321.82 241.398,1321.82 \n",
       "  \"/>\n",
       "<polyline clip-path=\"url(#clip6400)\" style=\"stroke:#000000; stroke-width:4; stroke-opacity:1; fill:none\" points=\"\n",
       "  215.754,1134.22 241.398,1134.22 \n",
       "  \"/>\n",
       "<polyline clip-path=\"url(#clip6400)\" style=\"stroke:#000000; stroke-width:4; stroke-opacity:1; fill:none\" points=\"\n",
       "  215.754,946.622 241.398,946.622 \n",
       "  \"/>\n",
       "<polyline clip-path=\"url(#clip6400)\" style=\"stroke:#000000; stroke-width:4; stroke-opacity:1; fill:none\" points=\"\n",
       "  215.754,759.024 241.398,759.024 \n",
       "  \"/>\n",
       "<polyline clip-path=\"url(#clip6400)\" style=\"stroke:#000000; stroke-width:4; stroke-opacity:1; fill:none\" points=\"\n",
       "  215.754,571.427 241.398,571.427 \n",
       "  \"/>\n",
       "<polyline clip-path=\"url(#clip6400)\" style=\"stroke:#000000; stroke-width:4; stroke-opacity:1; fill:none\" points=\"\n",
       "  215.754,383.829 241.398,383.829 \n",
       "  \"/>\n",
       "<polyline clip-path=\"url(#clip6400)\" style=\"stroke:#000000; stroke-width:4; stroke-opacity:1; fill:none\" points=\"\n",
       "  215.754,196.231 241.398,196.231 \n",
       "  \"/>\n",
       "<g clip-path=\"url(#clip6400)\">\n",
       "<text style=\"fill:#000000; fill-opacity:1; font-family:Arial,Helvetica Neue,Helvetica,sans-serif; font-size:48px; text-anchor:middle;\" transform=\"rotate(0, 508.855, 1479.62)\" x=\"508.855\" y=\"1479.62\">2.5</text>\n",
       "</g>\n",
       "<g clip-path=\"url(#clip6400)\">\n",
       "<text style=\"fill:#000000; fill-opacity:1; font-family:Arial,Helvetica Neue,Helvetica,sans-serif; font-size:48px; text-anchor:middle;\" transform=\"rotate(0, 896.555, 1479.62)\" x=\"896.555\" y=\"1479.62\">5.0</text>\n",
       "</g>\n",
       "<g clip-path=\"url(#clip6400)\">\n",
       "<text style=\"fill:#000000; fill-opacity:1; font-family:Arial,Helvetica Neue,Helvetica,sans-serif; font-size:48px; text-anchor:middle;\" transform=\"rotate(0, 1284.25, 1479.62)\" x=\"1284.25\" y=\"1479.62\">7.5</text>\n",
       "</g>\n",
       "<g clip-path=\"url(#clip6400)\">\n",
       "<text style=\"fill:#000000; fill-opacity:1; font-family:Arial,Helvetica Neue,Helvetica,sans-serif; font-size:48px; text-anchor:middle;\" transform=\"rotate(0, 1671.95, 1479.62)\" x=\"1671.95\" y=\"1479.62\">10.0</text>\n",
       "</g>\n",
       "<g clip-path=\"url(#clip6400)\">\n",
       "<text style=\"fill:#000000; fill-opacity:1; font-family:Arial,Helvetica Neue,Helvetica,sans-serif; font-size:48px; text-anchor:middle;\" transform=\"rotate(0, 2059.65, 1479.62)\" x=\"2059.65\" y=\"1479.62\">12.5</text>\n",
       "</g>\n",
       "<g clip-path=\"url(#clip6400)\">\n",
       "<text style=\"fill:#000000; fill-opacity:1; font-family:Arial,Helvetica Neue,Helvetica,sans-serif; font-size:48px; text-anchor:end;\" transform=\"rotate(0, 191.754, 1339.32)\" x=\"191.754\" y=\"1339.32\">0.4</text>\n",
       "</g>\n",
       "<g clip-path=\"url(#clip6400)\">\n",
       "<text style=\"fill:#000000; fill-opacity:1; font-family:Arial,Helvetica Neue,Helvetica,sans-serif; font-size:48px; text-anchor:end;\" transform=\"rotate(0, 191.754, 1151.72)\" x=\"191.754\" y=\"1151.72\">0.6</text>\n",
       "</g>\n",
       "<g clip-path=\"url(#clip6400)\">\n",
       "<text style=\"fill:#000000; fill-opacity:1; font-family:Arial,Helvetica Neue,Helvetica,sans-serif; font-size:48px; text-anchor:end;\" transform=\"rotate(0, 191.754, 964.122)\" x=\"191.754\" y=\"964.122\">0.8</text>\n",
       "</g>\n",
       "<g clip-path=\"url(#clip6400)\">\n",
       "<text style=\"fill:#000000; fill-opacity:1; font-family:Arial,Helvetica Neue,Helvetica,sans-serif; font-size:48px; text-anchor:end;\" transform=\"rotate(0, 191.754, 776.524)\" x=\"191.754\" y=\"776.524\">1.0</text>\n",
       "</g>\n",
       "<g clip-path=\"url(#clip6400)\">\n",
       "<text style=\"fill:#000000; fill-opacity:1; font-family:Arial,Helvetica Neue,Helvetica,sans-serif; font-size:48px; text-anchor:end;\" transform=\"rotate(0, 191.754, 588.927)\" x=\"191.754\" y=\"588.927\">1.2</text>\n",
       "</g>\n",
       "<g clip-path=\"url(#clip6400)\">\n",
       "<text style=\"fill:#000000; fill-opacity:1; font-family:Arial,Helvetica Neue,Helvetica,sans-serif; font-size:48px; text-anchor:end;\" transform=\"rotate(0, 191.754, 401.329)\" x=\"191.754\" y=\"401.329\">1.4</text>\n",
       "</g>\n",
       "<g clip-path=\"url(#clip6400)\">\n",
       "<text style=\"fill:#000000; fill-opacity:1; font-family:Arial,Helvetica Neue,Helvetica,sans-serif; font-size:48px; text-anchor:end;\" transform=\"rotate(0, 191.754, 213.731)\" x=\"191.754\" y=\"213.731\">1.6</text>\n",
       "</g>\n",
       "<g clip-path=\"url(#clip6400)\">\n",
       "<text style=\"fill:#000000; fill-opacity:1; font-family:Arial,Helvetica Neue,Helvetica,sans-serif; font-size:66px; text-anchor:middle;\" transform=\"rotate(0, 1284.25, 1559.48)\" x=\"1284.25\" y=\"1559.48\">epochs</text>\n",
       "</g>\n",
       "<g clip-path=\"url(#clip6400)\">\n",
       "<text style=\"fill:#000000; fill-opacity:1; font-family:Arial,Helvetica Neue,Helvetica,sans-serif; font-size:66px; text-anchor:middle;\" transform=\"rotate(-90, 89.2861, 736.431)\" x=\"89.2861\" y=\"736.431\">loss</text>\n",
       "</g>\n",
       "<polyline clip-path=\"url(#clip6402)\" style=\"stroke:#009af9; stroke-width:4; stroke-opacity:1; fill:none\" points=\"\n",
       "  276.235,344.79 431.315,518.308 586.395,706.538 741.475,863.691 896.555,942.299 1051.64,1033.82 1206.72,1120.46 1361.79,1178.75 1516.87,1232.58 1671.95,1277.68 \n",
       "  1827.03,1313.81 1982.11,1344.48 2137.19,1367.64 2292.27,1386.61 \n",
       "  \"/>\n",
       "<polyline clip-path=\"url(#clip6402)\" style=\"stroke:#e26f46; stroke-width:4; stroke-opacity:1; fill:none\" points=\"\n",
       "  276.235,86.2547 431.315,145.475 586.395,271.381 741.475,318.706 896.555,310.499 1051.64,291.939 1206.72,269.82 1361.79,252.167 1516.87,233.91 1671.95,212.2 \n",
       "  1827.03,182.235 1982.11,162.04 2137.19,147.736 2292.27,124.979 \n",
       "  \"/>\n",
       "<path clip-path=\"url(#clip6400)\" d=\"\n",
       "M1979.24 312.204 L2280.76 312.204 L2280.76 130.764 L1979.24 130.764  Z\n",
       "  \" fill=\"#ffffff\" fill-rule=\"evenodd\" fill-opacity=\"1\"/>\n",
       "<polyline clip-path=\"url(#clip6400)\" style=\"stroke:#000000; stroke-width:4; stroke-opacity:1; fill:none\" points=\"\n",
       "  1979.24,312.204 2280.76,312.204 2280.76,130.764 1979.24,130.764 1979.24,312.204 \n",
       "  \"/>\n",
       "<polyline clip-path=\"url(#clip6400)\" style=\"stroke:#009af9; stroke-width:4; stroke-opacity:1; fill:none\" points=\"\n",
       "  2003.24,191.244 2147.24,191.244 \n",
       "  \"/>\n",
       "<g clip-path=\"url(#clip6400)\">\n",
       "<text style=\"fill:#000000; fill-opacity:1; font-family:Arial,Helvetica Neue,Helvetica,sans-serif; font-size:48px; text-anchor:start;\" transform=\"rotate(0, 2171.24, 208.744)\" x=\"2171.24\" y=\"208.744\">trn</text>\n",
       "</g>\n",
       "<polyline clip-path=\"url(#clip6400)\" style=\"stroke:#e26f46; stroke-width:4; stroke-opacity:1; fill:none\" points=\"\n",
       "  2003.24,251.724 2147.24,251.724 \n",
       "  \"/>\n",
       "<g clip-path=\"url(#clip6400)\">\n",
       "<text style=\"fill:#000000; fill-opacity:1; font-family:Arial,Helvetica Neue,Helvetica,sans-serif; font-size:48px; text-anchor:start;\" transform=\"rotate(0, 2171.24, 269.224)\" x=\"2171.24\" y=\"269.224\">val</text>\n",
       "</g>\n",
       "</svg>\n"
      ]
     },
     "execution_count": 19,
     "metadata": {},
     "output_type": "execute_result"
    }
   ],
   "source": [
    "plot(iters, [trnloss, vallos] , xlim=(1:3),labels=[:trn :val :tst], xlabel=\"epochs\", ylabel=\"loss\")"
   ]
  },
  {
   "cell_type": "code",
   "execution_count": 20,
   "metadata": {},
   "outputs": [
    {
     "data": {
      "text/plain": [
       "1.0"
      ]
     },
     "execution_count": 20,
     "metadata": {},
     "output_type": "execute_result"
    }
   ],
   "source": [
    "output = model(features)\n",
    "accuracy(output[:,idx_train], labels_decoded[idx_train])"
   ]
  },
  {
   "cell_type": "code",
   "execution_count": 21,
   "metadata": {},
   "outputs": [
    {
     "data": {
      "text/plain": [
       "0.565"
      ]
     },
     "execution_count": 21,
     "metadata": {},
     "output_type": "execute_result"
    }
   ],
   "source": [
    "accuracy(output[:,idx_test], labels_decoded[idx_test])"
   ]
  },
  {
   "cell_type": "code",
   "execution_count": 22,
   "metadata": {},
   "outputs": [],
   "source": [
    "png(\"citeseer\")"
   ]
  },
  {
   "cell_type": "code",
   "execution_count": null,
   "metadata": {},
   "outputs": [],
   "source": [
    "#####################################################################################################################"
   ]
  },
  {
   "cell_type": "code",
   "execution_count": 23,
   "metadata": {},
   "outputs": [
    {
     "data": {
      "text/plain": [
       "(\n",
       "  [1379 ,     1]  =  1\n",
       "  [1545 ,     1]  =  1\n",
       "  [6093 ,     1]  =  1\n",
       "  [7637 ,     1]  =  1\n",
       "  [14443,     1]  =  1\n",
       "  [2944 ,     2]  =  1\n",
       "  [8360 ,     2]  =  1\n",
       "  [10200,     2]  =  1\n",
       "  [10472,     3]  =  1\n",
       "  [11486,     3]  =  1\n",
       "  [15573,     3]  =  1\n",
       "  [8250 ,     4]  =  1\n",
       "  ⋮\n",
       "  [2528 , 19706]  =  1\n",
       "  [9006 , 19707]  =  1\n",
       "  [7717 , 19708]  =  1\n",
       "  [9359 , 19709]  =  1\n",
       "  [7223 , 19710]  =  1\n",
       "  [2305 , 19711]  =  1\n",
       "  [11821, 19712]  =  1\n",
       "  [2362 , 19713]  =  1\n",
       "  [12205, 19714]  =  1\n",
       "  [12279, 19715]  =  1\n",
       "  [4285 , 19716]  =  1\n",
       "  [16031, 19717]  =  1, \n",
       "  [8    ,     1]  =  0.00499937\n",
       "  [12   ,     1]  =  0.0480492\n",
       "  [14   ,     1]  =  0.0129816\n",
       "  [15   ,     1]  =  0.0172122\n",
       "  [17   ,     1]  =  0.0175757\n",
       "  [19   ,     1]  =  0.0101121\n",
       "  [20   ,     1]  =  0.0261606\n",
       "  [23   ,     1]  =  0.0127066\n",
       "  [30   ,     1]  =  0.0208175\n",
       "  [33   ,     1]  =  0.0154806\n",
       "  [42   ,     1]  =  0.0215623\n",
       "  [43   ,     1]  =  0.0170542\n",
       "  ⋮\n",
       "  [290  , 19717]  =  0.0265397\n",
       "  [297  , 19717]  =  0.0224622\n",
       "  [299  , 19717]  =  0.0257223\n",
       "  [319  , 19717]  =  0.0502226\n",
       "  [340  , 19717]  =  0.0296776\n",
       "  [347  , 19717]  =  0.114271\n",
       "  [381  , 19717]  =  0.0254862\n",
       "  [402  , 19717]  =  0.0208341\n",
       "  [406  , 19717]  =  0.0318041\n",
       "  [428  , 19717]  =  0.0318249\n",
       "  [430  , 19717]  =  0.0455578\n",
       "  [450  , 19717]  =  0.130782, Int32[0 1 0; 0 1 0; … ; 1 0 0; 0 0 1], 1:60, 61:560, [18748, 19393, 19182, 18844, 19222, 18963, 19561, 19098, 18967, 19015  …  19500, 19664, 19509, 18872, 19529, 19501, 19308, 19289, 19595, 19272])"
      ]
     },
     "execution_count": 23,
     "metadata": {},
     "output_type": "execute_result"
    }
   ],
   "source": [
    "adj, features, labels, idx_train, idx_val, idx_test = load_dataset(\"pubmed\")"
   ]
  },
  {
   "cell_type": "code",
   "execution_count": 24,
   "metadata": {},
   "outputs": [
    {
     "data": {
      "text/plain": [
       "GCN(GCLayer(P(Array{Float64,2}(16,500)), P(Array{Float32,1}(16)), \n",
       "  [1379 ,     1]  =  1\n",
       "  [1545 ,     1]  =  1\n",
       "  [6093 ,     1]  =  1\n",
       "  [7637 ,     1]  =  1\n",
       "  [14443,     1]  =  1\n",
       "  [2944 ,     2]  =  1\n",
       "  [8360 ,     2]  =  1\n",
       "  [10200,     2]  =  1\n",
       "  [10472,     3]  =  1\n",
       "  [11486,     3]  =  1\n",
       "  [15573,     3]  =  1\n",
       "  [8250 ,     4]  =  1\n",
       "  ⋮\n",
       "  [2528 , 19706]  =  1\n",
       "  [9006 , 19707]  =  1\n",
       "  [7717 , 19708]  =  1\n",
       "  [9359 , 19709]  =  1\n",
       "  [7223 , 19710]  =  1\n",
       "  [2305 , 19711]  =  1\n",
       "  [11821, 19712]  =  1\n",
       "  [2362 , 19713]  =  1\n",
       "  [12205, 19714]  =  1\n",
       "  [12279, 19715]  =  1\n",
       "  [4285 , 19716]  =  1\n",
       "  [16031, 19717]  =  1, NNlib.relu), GCLayer(P(Array{Float64,2}(3,16)), P(Array{Float32,1}(3)), \n",
       "  [1379 ,     1]  =  1\n",
       "  [1545 ,     1]  =  1\n",
       "  [6093 ,     1]  =  1\n",
       "  [7637 ,     1]  =  1\n",
       "  [14443,     1]  =  1\n",
       "  [2944 ,     2]  =  1\n",
       "  [8360 ,     2]  =  1\n",
       "  [10200,     2]  =  1\n",
       "  [10472,     3]  =  1\n",
       "  [11486,     3]  =  1\n",
       "  [15573,     3]  =  1\n",
       "  [8250 ,     4]  =  1\n",
       "  ⋮\n",
       "  [2528 , 19706]  =  1\n",
       "  [9006 , 19707]  =  1\n",
       "  [7717 , 19708]  =  1\n",
       "  [9359 , 19709]  =  1\n",
       "  [7223 , 19710]  =  1\n",
       "  [2305 , 19711]  =  1\n",
       "  [11821, 19712]  =  1\n",
       "  [2362 , 19713]  =  1\n",
       "  [12205, 19714]  =  1\n",
       "  [12279, 19715]  =  1\n",
       "  [4285 , 19716]  =  1\n",
       "  [16031, 19717]  =  1, identity), 0.5)"
      ]
     },
     "execution_count": 24,
     "metadata": {},
     "output_type": "execute_result"
    }
   ],
   "source": [
    "model = GCN(size(features,1),\n",
    "            arguments.hidden,\n",
    "            size(labels,2),\n",
    "            adj,\n",
    "            arguments.pdrop)"
   ]
  },
  {
   "cell_type": "code",
   "execution_count": 25,
   "metadata": {},
   "outputs": [
    {
     "data": {
      "text/plain": [
       "19717-element Array{Int64,1}:\n",
       " 2\n",
       " 2\n",
       " 1\n",
       " 3\n",
       " 2\n",
       " 3\n",
       " 3\n",
       " 2\n",
       " 3\n",
       " 2\n",
       " 3\n",
       " 3\n",
       " 3\n",
       " ⋮\n",
       " 1\n",
       " 1\n",
       " 3\n",
       " 3\n",
       " 3\n",
       " 3\n",
       " 1\n",
       " 3\n",
       " 1\n",
       " 3\n",
       " 1\n",
       " 3"
      ]
     },
     "execution_count": 25,
     "metadata": {},
     "output_type": "execute_result"
    }
   ],
   "source": [
    "labels_decoded = mapslices(argmax, labels ,dims=2)[:]"
   ]
  },
  {
   "cell_type": "code",
   "execution_count": 26,
   "metadata": {},
   "outputs": [
    {
     "data": {
      "text/plain": [
       "Data{Tuple{SparseMatrixCSC{Float32,Int64},Array{Int64,1}}}(Float32[0.0 0.0 … 0.107821 0.0; 0.0 0.0 … 0.0 0.0265838; … ; 0.0 0.0 … 0.0 0.0; 0.0 0.0 … 0.0 0.0], [2 2 … 1 3], 19717, 19717, false, 1, 1:19717, false, (500, 19717), (19717,), SparseMatrixCSC{Float32,Int64}, Array{Int64,1})"
      ]
     },
     "execution_count": 26,
     "metadata": {},
     "output_type": "execute_result"
    }
   ],
   "source": [
    "data =  minibatch(features, labels_decoded[:], length(labels_decoded))"
   ]
  },
  {
   "cell_type": "code",
   "execution_count": 27,
   "metadata": {},
   "outputs": [
    {
     "name": "stderr",
     "output_type": "stream",
     "text": [
      "\r",
      "[1, 34:53, 2093.42s/i] "
     ]
    },
    {
     "ename": "InterruptException",
     "evalue": "InterruptException:",
     "output_type": "error",
     "traceback": [
      "InterruptException:",
      "",
      "Stacktrace:",
      " [1] iterate at /Users/duygusezenislakoglu/.julia/packages/Knet/vxHRi/src/data.jl:63 [inlined]",
      " [2] iterate at /Users/duygusezenislakoglu/.julia/packages/Knet/vxHRi/src/data.jl:55 [inlined]",
      " [3] iterate at ./generator.jl:44 [inlined]",
      " [4] mean(::typeof(identity), ::Base.Generator{Data{Tuple{SparseMatrixCSC{Float32,Int64},Array{Int64,1}}},getfield(Main, Symbol(\"##3#4\")){GCN}}) at /Users/julia/buildbot/worker/package_macos64/build/usr/share/julia/stdlib/v1.1/Statistics/src/Statistics.jl:58",
      " [5] mean(::Base.Generator{Data{Tuple{SparseMatrixCSC{Float32,Int64},Array{Int64,1}}},getfield(Main, Symbol(\"##3#4\")){GCN}}) at /Users/julia/buildbot/worker/package_macos64/build/usr/share/julia/stdlib/v1.1/Statistics/src/Statistics.jl:42",
      " [6] GCN at /Users/duygusezenislakoglu/Desktop/graph_convolutional_networks/gcn/models.jl:21 [inlined]",
      " [7] (::getfield(Main, Symbol(\"#task#8\")){GCN,Data{Tuple{SparseMatrixCSC{Float32,Int64},Array{Int64,1}}},Int64,Array{Any,1},Array{Any,1}})() at ./In[2]:13",
      " [8] iterate at ./none:0 [inlined]",
      " [9] iterate(::Knet.Progress{Base.Generator{Base.Iterators.Filter{getfield(Main, Symbol(\"##6#10\")),Base.Generator{Base.Iterators.Enumerate{Knet.Minimize{IterTools.NCycle{Data{Tuple{SparseMatrixCSC{Float32,Int64},Array{Int64,1}}}}}},getfield(Main, Symbol(\"##7#11\"))}},getfield(Main, Symbol(\"##5#9\")){getfield(Main, Symbol(\"#task#8\")){GCN,Data{Tuple{SparseMatrixCSC{Float32,Int64},Array{Int64,1}}},Int64,Array{Any,1},Array{Any,1}}}}}, ::Tuple{Int64,Tuple{Int64,Int64}}) at /Users/duygusezenislakoglu/.julia/packages/Knet/vxHRi/src/progress.jl:69",
      " [10] #progress!#692(::Base.Iterators.Pairs{Union{},Union{},Tuple{},NamedTuple{(),Tuple{}}}, ::Function, ::Base.Generator{Base.Iterators.Filter{getfield(Main, Symbol(\"##6#10\")),Base.Generator{Base.Iterators.Enumerate{Knet.Minimize{IterTools.NCycle{Data{Tuple{SparseMatrixCSC{Float32,Int64},Array{Int64,1}}}}}},getfield(Main, Symbol(\"##7#11\"))}},getfield(Main, Symbol(\"##5#9\")){getfield(Main, Symbol(\"#task#8\")){GCN,Data{Tuple{SparseMatrixCSC{Float32,Int64},Array{Int64,1}}},Int64,Array{Any,1},Array{Any,1}}}}) at /Users/duygusezenislakoglu/.julia/packages/Knet/vxHRi/src/progress.jl:58",
      " [11] progress! at /Users/duygusezenislakoglu/.julia/packages/Knet/vxHRi/src/progress.jl:58 [inlined]",
      " [12] mytrain!(::GCN, ::Data{Tuple{SparseMatrixCSC{Float32,Int64},Array{Int64,1}}}, ::Int64, ::Float64, ::Int64) at ./In[2]:32",
      " [13] top-level scope at In[27]:1"
     ]
    }
   ],
   "source": [
    "iters, trnloss, vallos = mytrain!(model, data, arguments.epochs, arguments.lr, arguments.window_size)"
   ]
  },
  {
   "cell_type": "code",
   "execution_count": 28,
   "metadata": {
    "scrolled": false
   },
   "outputs": [
    {
     "data": {
      "image/svg+xml": [
       "<?xml version=\"1.0\" encoding=\"utf-8\"?>\n",
       "<svg xmlns=\"http://www.w3.org/2000/svg\" xmlns:xlink=\"http://www.w3.org/1999/xlink\" width=\"600\" height=\"400\" viewBox=\"0 0 2400 1600\">\n",
       "<defs>\n",
       "  <clipPath id=\"clip6900\">\n",
       "    <rect x=\"0\" y=\"0\" width=\"2400\" height=\"1600\"/>\n",
       "  </clipPath>\n",
       "</defs>\n",
       "<path clip-path=\"url(#clip6900)\" d=\"\n",
       "M0 1600 L2400 1600 L2400 0 L0 0  Z\n",
       "  \" fill=\"#ffffff\" fill-rule=\"evenodd\" fill-opacity=\"1\"/>\n",
       "<defs>\n",
       "  <clipPath id=\"clip6901\">\n",
       "    <rect x=\"480\" y=\"0\" width=\"1681\" height=\"1600\"/>\n",
       "  </clipPath>\n",
       "</defs>\n",
       "<path clip-path=\"url(#clip6900)\" d=\"\n",
       "M215.754 1425.62 L2352.76 1425.62 L2352.76 47.2441 L215.754 47.2441  Z\n",
       "  \" fill=\"#ffffff\" fill-rule=\"evenodd\" fill-opacity=\"1\"/>\n",
       "<defs>\n",
       "  <clipPath id=\"clip6902\">\n",
       "    <rect x=\"215\" y=\"47\" width=\"2138\" height=\"1379\"/>\n",
       "  </clipPath>\n",
       "</defs>\n",
       "<polyline clip-path=\"url(#clip6902)\" style=\"stroke:#000000; stroke-width:2; stroke-opacity:0.1; fill:none\" points=\"\n",
       "  508.855,1425.62 508.855,47.2441 \n",
       "  \"/>\n",
       "<polyline clip-path=\"url(#clip6902)\" style=\"stroke:#000000; stroke-width:2; stroke-opacity:0.1; fill:none\" points=\"\n",
       "  896.555,1425.62 896.555,47.2441 \n",
       "  \"/>\n",
       "<polyline clip-path=\"url(#clip6902)\" style=\"stroke:#000000; stroke-width:2; stroke-opacity:0.1; fill:none\" points=\"\n",
       "  1284.25,1425.62 1284.25,47.2441 \n",
       "  \"/>\n",
       "<polyline clip-path=\"url(#clip6902)\" style=\"stroke:#000000; stroke-width:2; stroke-opacity:0.1; fill:none\" points=\"\n",
       "  1671.95,1425.62 1671.95,47.2441 \n",
       "  \"/>\n",
       "<polyline clip-path=\"url(#clip6902)\" style=\"stroke:#000000; stroke-width:2; stroke-opacity:0.1; fill:none\" points=\"\n",
       "  2059.65,1425.62 2059.65,47.2441 \n",
       "  \"/>\n",
       "<polyline clip-path=\"url(#clip6902)\" style=\"stroke:#000000; stroke-width:2; stroke-opacity:0.1; fill:none\" points=\"\n",
       "  215.754,1321.82 2352.76,1321.82 \n",
       "  \"/>\n",
       "<polyline clip-path=\"url(#clip6902)\" style=\"stroke:#000000; stroke-width:2; stroke-opacity:0.1; fill:none\" points=\"\n",
       "  215.754,1134.22 2352.76,1134.22 \n",
       "  \"/>\n",
       "<polyline clip-path=\"url(#clip6902)\" style=\"stroke:#000000; stroke-width:2; stroke-opacity:0.1; fill:none\" points=\"\n",
       "  215.754,946.622 2352.76,946.622 \n",
       "  \"/>\n",
       "<polyline clip-path=\"url(#clip6902)\" style=\"stroke:#000000; stroke-width:2; stroke-opacity:0.1; fill:none\" points=\"\n",
       "  215.754,759.024 2352.76,759.024 \n",
       "  \"/>\n",
       "<polyline clip-path=\"url(#clip6902)\" style=\"stroke:#000000; stroke-width:2; stroke-opacity:0.1; fill:none\" points=\"\n",
       "  215.754,571.427 2352.76,571.427 \n",
       "  \"/>\n",
       "<polyline clip-path=\"url(#clip6902)\" style=\"stroke:#000000; stroke-width:2; stroke-opacity:0.1; fill:none\" points=\"\n",
       "  215.754,383.829 2352.76,383.829 \n",
       "  \"/>\n",
       "<polyline clip-path=\"url(#clip6902)\" style=\"stroke:#000000; stroke-width:2; stroke-opacity:0.1; fill:none\" points=\"\n",
       "  215.754,196.231 2352.76,196.231 \n",
       "  \"/>\n",
       "<polyline clip-path=\"url(#clip6900)\" style=\"stroke:#000000; stroke-width:4; stroke-opacity:1; fill:none\" points=\"\n",
       "  215.754,1425.62 2352.76,1425.62 \n",
       "  \"/>\n",
       "<polyline clip-path=\"url(#clip6900)\" style=\"stroke:#000000; stroke-width:4; stroke-opacity:1; fill:none\" points=\"\n",
       "  215.754,1425.62 215.754,47.2441 \n",
       "  \"/>\n",
       "<polyline clip-path=\"url(#clip6900)\" style=\"stroke:#000000; stroke-width:4; stroke-opacity:1; fill:none\" points=\"\n",
       "  508.855,1425.62 508.855,1409.08 \n",
       "  \"/>\n",
       "<polyline clip-path=\"url(#clip6900)\" style=\"stroke:#000000; stroke-width:4; stroke-opacity:1; fill:none\" points=\"\n",
       "  896.555,1425.62 896.555,1409.08 \n",
       "  \"/>\n",
       "<polyline clip-path=\"url(#clip6900)\" style=\"stroke:#000000; stroke-width:4; stroke-opacity:1; fill:none\" points=\"\n",
       "  1284.25,1425.62 1284.25,1409.08 \n",
       "  \"/>\n",
       "<polyline clip-path=\"url(#clip6900)\" style=\"stroke:#000000; stroke-width:4; stroke-opacity:1; fill:none\" points=\"\n",
       "  1671.95,1425.62 1671.95,1409.08 \n",
       "  \"/>\n",
       "<polyline clip-path=\"url(#clip6900)\" style=\"stroke:#000000; stroke-width:4; stroke-opacity:1; fill:none\" points=\"\n",
       "  2059.65,1425.62 2059.65,1409.08 \n",
       "  \"/>\n",
       "<polyline clip-path=\"url(#clip6900)\" style=\"stroke:#000000; stroke-width:4; stroke-opacity:1; fill:none\" points=\"\n",
       "  215.754,1321.82 241.398,1321.82 \n",
       "  \"/>\n",
       "<polyline clip-path=\"url(#clip6900)\" style=\"stroke:#000000; stroke-width:4; stroke-opacity:1; fill:none\" points=\"\n",
       "  215.754,1134.22 241.398,1134.22 \n",
       "  \"/>\n",
       "<polyline clip-path=\"url(#clip6900)\" style=\"stroke:#000000; stroke-width:4; stroke-opacity:1; fill:none\" points=\"\n",
       "  215.754,946.622 241.398,946.622 \n",
       "  \"/>\n",
       "<polyline clip-path=\"url(#clip6900)\" style=\"stroke:#000000; stroke-width:4; stroke-opacity:1; fill:none\" points=\"\n",
       "  215.754,759.024 241.398,759.024 \n",
       "  \"/>\n",
       "<polyline clip-path=\"url(#clip6900)\" style=\"stroke:#000000; stroke-width:4; stroke-opacity:1; fill:none\" points=\"\n",
       "  215.754,571.427 241.398,571.427 \n",
       "  \"/>\n",
       "<polyline clip-path=\"url(#clip6900)\" style=\"stroke:#000000; stroke-width:4; stroke-opacity:1; fill:none\" points=\"\n",
       "  215.754,383.829 241.398,383.829 \n",
       "  \"/>\n",
       "<polyline clip-path=\"url(#clip6900)\" style=\"stroke:#000000; stroke-width:4; stroke-opacity:1; fill:none\" points=\"\n",
       "  215.754,196.231 241.398,196.231 \n",
       "  \"/>\n",
       "<g clip-path=\"url(#clip6900)\">\n",
       "<text style=\"fill:#000000; fill-opacity:1; font-family:Arial,Helvetica Neue,Helvetica,sans-serif; font-size:48px; text-anchor:middle;\" transform=\"rotate(0, 508.855, 1479.62)\" x=\"508.855\" y=\"1479.62\">2.5</text>\n",
       "</g>\n",
       "<g clip-path=\"url(#clip6900)\">\n",
       "<text style=\"fill:#000000; fill-opacity:1; font-family:Arial,Helvetica Neue,Helvetica,sans-serif; font-size:48px; text-anchor:middle;\" transform=\"rotate(0, 896.555, 1479.62)\" x=\"896.555\" y=\"1479.62\">5.0</text>\n",
       "</g>\n",
       "<g clip-path=\"url(#clip6900)\">\n",
       "<text style=\"fill:#000000; fill-opacity:1; font-family:Arial,Helvetica Neue,Helvetica,sans-serif; font-size:48px; text-anchor:middle;\" transform=\"rotate(0, 1284.25, 1479.62)\" x=\"1284.25\" y=\"1479.62\">7.5</text>\n",
       "</g>\n",
       "<g clip-path=\"url(#clip6900)\">\n",
       "<text style=\"fill:#000000; fill-opacity:1; font-family:Arial,Helvetica Neue,Helvetica,sans-serif; font-size:48px; text-anchor:middle;\" transform=\"rotate(0, 1671.95, 1479.62)\" x=\"1671.95\" y=\"1479.62\">10.0</text>\n",
       "</g>\n",
       "<g clip-path=\"url(#clip6900)\">\n",
       "<text style=\"fill:#000000; fill-opacity:1; font-family:Arial,Helvetica Neue,Helvetica,sans-serif; font-size:48px; text-anchor:middle;\" transform=\"rotate(0, 2059.65, 1479.62)\" x=\"2059.65\" y=\"1479.62\">12.5</text>\n",
       "</g>\n",
       "<g clip-path=\"url(#clip6900)\">\n",
       "<text style=\"fill:#000000; fill-opacity:1; font-family:Arial,Helvetica Neue,Helvetica,sans-serif; font-size:48px; text-anchor:end;\" transform=\"rotate(0, 191.754, 1339.32)\" x=\"191.754\" y=\"1339.32\">0.4</text>\n",
       "</g>\n",
       "<g clip-path=\"url(#clip6900)\">\n",
       "<text style=\"fill:#000000; fill-opacity:1; font-family:Arial,Helvetica Neue,Helvetica,sans-serif; font-size:48px; text-anchor:end;\" transform=\"rotate(0, 191.754, 1151.72)\" x=\"191.754\" y=\"1151.72\">0.6</text>\n",
       "</g>\n",
       "<g clip-path=\"url(#clip6900)\">\n",
       "<text style=\"fill:#000000; fill-opacity:1; font-family:Arial,Helvetica Neue,Helvetica,sans-serif; font-size:48px; text-anchor:end;\" transform=\"rotate(0, 191.754, 964.122)\" x=\"191.754\" y=\"964.122\">0.8</text>\n",
       "</g>\n",
       "<g clip-path=\"url(#clip6900)\">\n",
       "<text style=\"fill:#000000; fill-opacity:1; font-family:Arial,Helvetica Neue,Helvetica,sans-serif; font-size:48px; text-anchor:end;\" transform=\"rotate(0, 191.754, 776.524)\" x=\"191.754\" y=\"776.524\">1.0</text>\n",
       "</g>\n",
       "<g clip-path=\"url(#clip6900)\">\n",
       "<text style=\"fill:#000000; fill-opacity:1; font-family:Arial,Helvetica Neue,Helvetica,sans-serif; font-size:48px; text-anchor:end;\" transform=\"rotate(0, 191.754, 588.927)\" x=\"191.754\" y=\"588.927\">1.2</text>\n",
       "</g>\n",
       "<g clip-path=\"url(#clip6900)\">\n",
       "<text style=\"fill:#000000; fill-opacity:1; font-family:Arial,Helvetica Neue,Helvetica,sans-serif; font-size:48px; text-anchor:end;\" transform=\"rotate(0, 191.754, 401.329)\" x=\"191.754\" y=\"401.329\">1.4</text>\n",
       "</g>\n",
       "<g clip-path=\"url(#clip6900)\">\n",
       "<text style=\"fill:#000000; fill-opacity:1; font-family:Arial,Helvetica Neue,Helvetica,sans-serif; font-size:48px; text-anchor:end;\" transform=\"rotate(0, 191.754, 213.731)\" x=\"191.754\" y=\"213.731\">1.6</text>\n",
       "</g>\n",
       "<g clip-path=\"url(#clip6900)\">\n",
       "<text style=\"fill:#000000; fill-opacity:1; font-family:Arial,Helvetica Neue,Helvetica,sans-serif; font-size:66px; text-anchor:middle;\" transform=\"rotate(0, 1284.25, 1559.48)\" x=\"1284.25\" y=\"1559.48\">epochs</text>\n",
       "</g>\n",
       "<g clip-path=\"url(#clip6900)\">\n",
       "<text style=\"fill:#000000; fill-opacity:1; font-family:Arial,Helvetica Neue,Helvetica,sans-serif; font-size:66px; text-anchor:middle;\" transform=\"rotate(-90, 89.2861, 736.431)\" x=\"89.2861\" y=\"736.431\">loss</text>\n",
       "</g>\n",
       "<polyline clip-path=\"url(#clip6902)\" style=\"stroke:#009af9; stroke-width:4; stroke-opacity:1; fill:none\" points=\"\n",
       "  276.235,344.79 431.315,518.308 586.395,706.538 741.475,863.691 896.555,942.299 1051.64,1033.82 1206.72,1120.46 1361.79,1178.75 1516.87,1232.58 1671.95,1277.68 \n",
       "  1827.03,1313.81 1982.11,1344.48 2137.19,1367.64 2292.27,1386.61 \n",
       "  \"/>\n",
       "<polyline clip-path=\"url(#clip6902)\" style=\"stroke:#e26f46; stroke-width:4; stroke-opacity:1; fill:none\" points=\"\n",
       "  276.235,86.2547 431.315,145.475 586.395,271.381 741.475,318.706 896.555,310.499 1051.64,291.939 1206.72,269.82 1361.79,252.167 1516.87,233.91 1671.95,212.2 \n",
       "  1827.03,182.235 1982.11,162.04 2137.19,147.736 2292.27,124.979 \n",
       "  \"/>\n",
       "<path clip-path=\"url(#clip6900)\" d=\"\n",
       "M1979.24 312.204 L2280.76 312.204 L2280.76 130.764 L1979.24 130.764  Z\n",
       "  \" fill=\"#ffffff\" fill-rule=\"evenodd\" fill-opacity=\"1\"/>\n",
       "<polyline clip-path=\"url(#clip6900)\" style=\"stroke:#000000; stroke-width:4; stroke-opacity:1; fill:none\" points=\"\n",
       "  1979.24,312.204 2280.76,312.204 2280.76,130.764 1979.24,130.764 1979.24,312.204 \n",
       "  \"/>\n",
       "<polyline clip-path=\"url(#clip6900)\" style=\"stroke:#009af9; stroke-width:4; stroke-opacity:1; fill:none\" points=\"\n",
       "  2003.24,191.244 2147.24,191.244 \n",
       "  \"/>\n",
       "<g clip-path=\"url(#clip6900)\">\n",
       "<text style=\"fill:#000000; fill-opacity:1; font-family:Arial,Helvetica Neue,Helvetica,sans-serif; font-size:48px; text-anchor:start;\" transform=\"rotate(0, 2171.24, 208.744)\" x=\"2171.24\" y=\"208.744\">trn</text>\n",
       "</g>\n",
       "<polyline clip-path=\"url(#clip6900)\" style=\"stroke:#e26f46; stroke-width:4; stroke-opacity:1; fill:none\" points=\"\n",
       "  2003.24,251.724 2147.24,251.724 \n",
       "  \"/>\n",
       "<g clip-path=\"url(#clip6900)\">\n",
       "<text style=\"fill:#000000; fill-opacity:1; font-family:Arial,Helvetica Neue,Helvetica,sans-serif; font-size:48px; text-anchor:start;\" transform=\"rotate(0, 2171.24, 269.224)\" x=\"2171.24\" y=\"269.224\">val</text>\n",
       "</g>\n",
       "</svg>\n"
      ]
     },
     "execution_count": 28,
     "metadata": {},
     "output_type": "execute_result"
    }
   ],
   "source": [
    "plot(iters, [trnloss, vallos] , xlim=(1:3),labels=[:trn :val :tst], xlabel=\"epochs\", ylabel=\"loss\")"
   ]
  },
  {
   "cell_type": "code",
   "execution_count": 29,
   "metadata": {},
   "outputs": [
    {
     "data": {
      "text/plain": [
       "0.7"
      ]
     },
     "execution_count": 29,
     "metadata": {},
     "output_type": "execute_result"
    }
   ],
   "source": [
    "output = model(features)\n",
    "accuracy(output[:,idx_train], labels_decoded[idx_train])"
   ]
  },
  {
   "cell_type": "code",
   "execution_count": 30,
   "metadata": {},
   "outputs": [
    {
     "data": {
      "text/plain": [
       "0.537"
      ]
     },
     "execution_count": 30,
     "metadata": {},
     "output_type": "execute_result"
    }
   ],
   "source": [
    "accuracy(output[:,idx_test], labels_decoded[idx_test])"
   ]
  },
  {
   "cell_type": "code",
   "execution_count": 31,
   "metadata": {},
   "outputs": [],
   "source": [
    "png(\"pubmed\")"
   ]
  },
  {
   "cell_type": "code",
   "execution_count": null,
   "metadata": {},
   "outputs": [],
   "source": []
  }
 ],
 "metadata": {
  "kernelspec": {
   "display_name": "Julia 1.1.1",
   "language": "julia",
   "name": "julia-1.1"
  },
  "language_info": {
   "file_extension": ".jl",
   "mimetype": "application/julia",
   "name": "julia",
   "version": "1.1.1"
  }
 },
 "nbformat": 4,
 "nbformat_minor": 2
}
