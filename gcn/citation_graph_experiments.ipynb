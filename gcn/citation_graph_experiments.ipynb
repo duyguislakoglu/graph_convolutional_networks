{
 "cells": [
  {
   "cell_type": "code",
   "execution_count": 48,
   "metadata": {},
   "outputs": [
    {
     "name": "stderr",
     "output_type": "stream",
     "text": [
      "┌ Warning: `getindex(o::PyObject, s::AbstractString)` is deprecated in favor of dot overloading (`getproperty`) so elements should now be accessed as e.g. `o.\"s\"` instead of `o[\"s\"]`.\n",
      "│   caller = top-level scope at none:0\n",
      "└ @ Core none:0\n",
      "WARNING: redefining constant scipy_sparse_find\n"
     ]
    }
   ],
   "source": [
    "using Pkg\n",
    "for p in [\"Knet\", \"Plots\", \"IterTools\",\"PyCall\"]\n",
    "    if !haskey(Pkg.installed(),p)\n",
    "        Pkg.add(p);\n",
    "    end\n",
    "end\n",
    "using DelimitedFiles\n",
    "using Knet: KnetArray, accuracy, progress, minibatch, cycle, adam, xavier_uniform, progress!, @save, @load\n",
    "using Plots\n",
    "using IterTools: ncycle, takenth, take\n",
    "using Base.Iterators: flatten\n",
    "using LinearAlgebra\n",
    "\n",
    "include(\"utils.jl\")\n",
    "include(\"models.jl\")"
   ]
  },
  {
   "cell_type": "code",
   "execution_count": 49,
   "metadata": {},
   "outputs": [
    {
     "data": {
      "text/plain": [
       "mytrain! (generic function with 1 method)"
      ]
     },
     "execution_count": 49,
     "metadata": {},
     "output_type": "execute_result"
    }
   ],
   "source": [
    "function mytrain!(model, data, epochs, lr, window_size)\n",
    "    early_stop_counter = 0\n",
    "    prev_val_loss = 0\n",
    "    iter = 0\n",
    "    \n",
    "    trnloss = []\n",
    "    valloss = []\n",
    "    \n",
    "    flag = true\n",
    "\n",
    "    function task()     \n",
    "        \n",
    "        append!(trnloss, model(data))\n",
    "        v_loss = val_loss(model, data)\n",
    "        append!(valloss, v_loss) \n",
    "        \n",
    "        if v_loss >= prev_val_loss\n",
    "            early_stop_counter = early_stop_counter + 1\n",
    "        else\n",
    "            early_stop_counter = 0\n",
    "        end\n",
    "        if early_stop_counter == window_size\n",
    "            flag = false\n",
    "        end \n",
    "        iter = iter + 1\n",
    "        prev_val_loss = v_loss\n",
    "        return flag\n",
    "        \n",
    "    end\n",
    "        \n",
    "    training = adam(model, ncycle(data, epochs), lr=lr)\n",
    "    progress!(flag = task() for x in (x for (i,x) in enumerate(training)) if flag)\n",
    "    return 1:iter, trnloss, valloss\n",
    "end"
   ]
  },
  {
   "cell_type": "code",
   "execution_count": 50,
   "metadata": {},
   "outputs": [],
   "source": [
    "# TODO: take user inputs\n",
    "struct args\n",
    "    epochs\n",
    "    lr\n",
    "    weight_decay\n",
    "    hidden\n",
    "    pdrop\n",
    "    window_size\n",
    "end\n",
    "\n",
    "arguments = args(200, 0.01, 5e-4, 16, 0.5, 10)\n",
    "function val_loss(g::GCN,x,y)\n",
    "    output = g(x)[:, idx_val]\n",
    "    nll(output, y[idx_val]) + (arguments.weight_decay * sum(g.layer1.w .* g.layer1.w)) \n",
    "end  \n",
    "function val_loss(g::GCN, d)\n",
    "    mean(val_loss(g,x,y) for (x,y) in d)\n",
    "end\n",
    "\n",
    "function test_loss(g::GCN,x,y)\n",
    "    output = g(x)[:, idx_test]\n",
    "    nll(output, y[idx_test]) + (arguments.weight_decay * sum(g.layer1.w .* g.layer1.w)) \n",
    "end  \n",
    "function test_loss(g::GCN,d)\n",
    "    mean(test_loss(g,x,y) for (x,y) in d)\n",
    "end\n",
    "\n",
    "(g::GCN)(x,y) = nll(g(x)[:, idx_train], y[idx_train]) + (arguments.weight_decay * sum(g.layer1.w .* g.layer1.w)) "
   ]
  },
  {
   "cell_type": "code",
   "execution_count": 51,
   "metadata": {},
   "outputs": [],
   "source": [
    "#####################################################################################################################"
   ]
  },
  {
   "cell_type": "code",
   "execution_count": 52,
   "metadata": {},
   "outputs": [
    {
     "data": {
      "text/plain": [
       "(\n",
       "  [1   ,    1]  =  0.25\n",
       "  [634 ,    1]  =  0.25\n",
       "  [1863,    1]  =  0.223607\n",
       "  [2583,    1]  =  0.25\n",
       "  [2   ,    2]  =  0.25\n",
       "  [3   ,    2]  =  0.204124\n",
       "  [653 ,    2]  =  0.288675\n",
       "  [655 ,    2]  =  0.353553\n",
       "  [2   ,    3]  =  0.204124\n",
       "  [3   ,    3]  =  0.166667\n",
       "  [333 ,    3]  =  0.166667\n",
       "  [1455,    3]  =  0.288675\n",
       "  ⋮\n",
       "  [288 , 2706]  =  0.5\n",
       "  [2706, 2706]  =  0.5\n",
       "  [166 , 2707]  =  0.2\n",
       "  [170 , 2707]  =  0.258199\n",
       "  [1474, 2707]  =  0.2\n",
       "  [2707, 2707]  =  0.2\n",
       "  [2708, 2707]  =  0.2\n",
       "  [166 , 2708]  =  0.2\n",
       "  [599 , 2708]  =  0.0766965\n",
       "  [1474, 2708]  =  0.2\n",
       "  [2707, 2708]  =  0.2\n",
       "  [2708, 2708]  =  0.2, \n",
       "  [20  ,    1]  =  0.00178571\n",
       "  [82  ,    1]  =  0.0222222\n",
       "  [147 ,    1]  =  0.0625\n",
       "  [316 ,    1]  =  0.0526316\n",
       "  [775 ,    1]  =  0.00248756\n",
       "  [878 ,    1]  =  0.016129\n",
       "  [1195,    1]  =  0.0232558\n",
       "  [1248,    1]  =  0.00917431\n",
       "  [1275,    1]  =  0.00625\n",
       "  [20  ,    2]  =  0.00178571\n",
       "  [89  ,    2]  =  0.0133333\n",
       "  [150 ,    2]  =  0.025641\n",
       "  ⋮\n",
       "  [187 , 2708]  =  0.04\n",
       "  [330 , 2708]  =  0.0526316\n",
       "  [448 , 2708]  =  0.0169492\n",
       "  [455 , 2708]  =  0.0769231\n",
       "  [755 , 2708]  =  0.00917431\n",
       "  [775 , 2708]  =  0.00248756\n",
       "  [897 , 2708]  =  0.0526316\n",
       "  [1023, 2708]  =  0.0434783\n",
       "  [1115, 2708]  =  0.0169492\n",
       "  [1329, 2708]  =  0.00271739\n",
       "  [1413, 2708]  =  0.025641\n",
       "  [1415, 2708]  =  0.025641, Int32[0 0 … 0 0; 0 0 … 0 0; … ; 0 0 … 0 0; 0 0 … 0 0], 1:140, 141:640, [2693, 2533, 2051, 1716, 2363, 2610, 2623, 1976, 2082, 1768  …  1886, 2306, 2355, 2136, 2602, 1771, 1996, 2505, 1750, 2158])"
      ]
     },
     "execution_count": 52,
     "metadata": {},
     "output_type": "execute_result"
    }
   ],
   "source": [
    "adj, features, labels, idx_train, idx_val, idx_test = load_dataset(\"cora\")"
   ]
  },
  {
   "cell_type": "code",
   "execution_count": 53,
   "metadata": {},
   "outputs": [
    {
     "data": {
      "text/plain": [
       "1433×2708 SparseMatrixCSC{Float32,Int64} with 49216 stored entries:\n",
       "  [20  ,    1]  =  0.00178571\n",
       "  [82  ,    1]  =  0.0222222\n",
       "  [147 ,    1]  =  0.0625\n",
       "  [316 ,    1]  =  0.0526316\n",
       "  [775 ,    1]  =  0.00248756\n",
       "  [878 ,    1]  =  0.016129\n",
       "  [1195,    1]  =  0.0232558\n",
       "  [1248,    1]  =  0.00917431\n",
       "  [1275,    1]  =  0.00625\n",
       "  [20  ,    2]  =  0.00178571\n",
       "  [89  ,    2]  =  0.0133333\n",
       "  [150 ,    2]  =  0.025641\n",
       "  ⋮\n",
       "  [187 , 2708]  =  0.04\n",
       "  [330 , 2708]  =  0.0526316\n",
       "  [448 , 2708]  =  0.0169492\n",
       "  [455 , 2708]  =  0.0769231\n",
       "  [755 , 2708]  =  0.00917431\n",
       "  [775 , 2708]  =  0.00248756\n",
       "  [897 , 2708]  =  0.0526316\n",
       "  [1023, 2708]  =  0.0434783\n",
       "  [1115, 2708]  =  0.0169492\n",
       "  [1329, 2708]  =  0.00271739\n",
       "  [1413, 2708]  =  0.025641\n",
       "  [1415, 2708]  =  0.025641"
      ]
     },
     "execution_count": 53,
     "metadata": {},
     "output_type": "execute_result"
    }
   ],
   "source": [
    "features"
   ]
  },
  {
   "cell_type": "code",
   "execution_count": 54,
   "metadata": {},
   "outputs": [
    {
     "data": {
      "text/plain": [
       "GCN(GCLayer(P(Array{Float64,2}(16,1433)), P(Array{Float32,1}(16)), \n",
       "  [1   ,    1]  =  0.25\n",
       "  [634 ,    1]  =  0.25\n",
       "  [1863,    1]  =  0.223607\n",
       "  [2583,    1]  =  0.25\n",
       "  [2   ,    2]  =  0.25\n",
       "  [3   ,    2]  =  0.204124\n",
       "  [653 ,    2]  =  0.288675\n",
       "  [655 ,    2]  =  0.353553\n",
       "  [2   ,    3]  =  0.204124\n",
       "  [3   ,    3]  =  0.166667\n",
       "  [333 ,    3]  =  0.166667\n",
       "  [1455,    3]  =  0.288675\n",
       "  ⋮\n",
       "  [288 , 2706]  =  0.5\n",
       "  [2706, 2706]  =  0.5\n",
       "  [166 , 2707]  =  0.2\n",
       "  [170 , 2707]  =  0.258199\n",
       "  [1474, 2707]  =  0.2\n",
       "  [2707, 2707]  =  0.2\n",
       "  [2708, 2707]  =  0.2\n",
       "  [166 , 2708]  =  0.2\n",
       "  [599 , 2708]  =  0.0766965\n",
       "  [1474, 2708]  =  0.2\n",
       "  [2707, 2708]  =  0.2\n",
       "  [2708, 2708]  =  0.2, NNlib.relu), GCLayer(P(Array{Float64,2}(7,16)), P(Array{Float32,1}(7)), \n",
       "  [1   ,    1]  =  0.25\n",
       "  [634 ,    1]  =  0.25\n",
       "  [1863,    1]  =  0.223607\n",
       "  [2583,    1]  =  0.25\n",
       "  [2   ,    2]  =  0.25\n",
       "  [3   ,    2]  =  0.204124\n",
       "  [653 ,    2]  =  0.288675\n",
       "  [655 ,    2]  =  0.353553\n",
       "  [2   ,    3]  =  0.204124\n",
       "  [3   ,    3]  =  0.166667\n",
       "  [333 ,    3]  =  0.166667\n",
       "  [1455,    3]  =  0.288675\n",
       "  ⋮\n",
       "  [288 , 2706]  =  0.5\n",
       "  [2706, 2706]  =  0.5\n",
       "  [166 , 2707]  =  0.2\n",
       "  [170 , 2707]  =  0.258199\n",
       "  [1474, 2707]  =  0.2\n",
       "  [2707, 2707]  =  0.2\n",
       "  [2708, 2707]  =  0.2\n",
       "  [166 , 2708]  =  0.2\n",
       "  [599 , 2708]  =  0.0766965\n",
       "  [1474, 2708]  =  0.2\n",
       "  [2707, 2708]  =  0.2\n",
       "  [2708, 2708]  =  0.2, identity), 0.5)"
      ]
     },
     "execution_count": 54,
     "metadata": {},
     "output_type": "execute_result"
    }
   ],
   "source": [
    "model = GCN(size(features,1),\n",
    "            arguments.hidden,\n",
    "            size(labels,2),\n",
    "            adj,\n",
    "            arguments.pdrop)"
   ]
  },
  {
   "cell_type": "code",
   "execution_count": 55,
   "metadata": {},
   "outputs": [
    {
     "data": {
      "text/plain": [
       "2708-element Array{Int64,1}:\n",
       " 4\n",
       " 5\n",
       " 5\n",
       " 1\n",
       " 4\n",
       " 3\n",
       " 1\n",
       " 4\n",
       " 4\n",
       " 3\n",
       " 1\n",
       " 1\n",
       " 5\n",
       " ⋮\n",
       " 4\n",
       " 4\n",
       " 4\n",
       " 4\n",
       " 4\n",
       " 4\n",
       " 1\n",
       " 4\n",
       " 4\n",
       " 4\n",
       " 4\n",
       " 4"
      ]
     },
     "execution_count": 55,
     "metadata": {},
     "output_type": "execute_result"
    }
   ],
   "source": [
    "labels_decoded = mapslices(argmax, labels ,dims=2)[:]"
   ]
  },
  {
   "cell_type": "code",
   "execution_count": 56,
   "metadata": {},
   "outputs": [
    {
     "data": {
      "text/plain": [
       "Data{Tuple{SparseMatrixCSC{Float32,Int64},Array{Int64,1}}}(Float32[0.0 0.0 … 0.0 0.0; 0.0 0.0 … 0.0 0.0; … ; 0.0 0.0 … 0.0 0.0; 0.0 0.0 … 0.0 0.0], [4 5 … 4 4], 2708, 2708, false, 1, 1:2708, false, (1433, 2708), (2708,), SparseMatrixCSC{Float32,Int64}, Array{Int64,1})"
      ]
     },
     "execution_count": 56,
     "metadata": {},
     "output_type": "execute_result"
    }
   ],
   "source": [
    "data =  minibatch(features, labels_decoded[:], length(labels_decoded))"
   ]
  },
  {
   "cell_type": "code",
   "execution_count": 57,
   "metadata": {},
   "outputs": [
    {
     "name": "stderr",
     "output_type": "stream",
     "text": [
      "[200, 15:08, 4.54s/i]  \n"
     ]
    },
    {
     "data": {
      "text/plain": [
       "(1:200, Any[1.9539, 1.94727, 1.942, 1.9368, 1.93231, 1.92846, 1.92497, 1.92168, 1.9183, 1.91482  …  1.12584, 1.12345, 1.12025, 1.11646, 1.11271, 1.10945, 1.10608, 1.10282, 1.09992, 1.09773], Any[1.96018, 1.95364, 1.9476, 1.94501, 1.94315, 1.94205, 1.94189, 1.94186, 1.94226, 1.94299  …  1.78868, 1.78773, 1.78925, 1.7922, 1.79673, 1.7999, 1.80114, 1.79997, 1.79254, 1.78578])"
      ]
     },
     "execution_count": 57,
     "metadata": {},
     "output_type": "execute_result"
    }
   ],
   "source": [
    "iters, trnloss, vallos = mytrain!(model, data, arguments.epochs, arguments.lr, arguments.window_size)"
   ]
  },
  {
   "cell_type": "code",
   "execution_count": 58,
   "metadata": {
    "scrolled": false
   },
   "outputs": [
    {
     "data": {
      "image/svg+xml": [
       "<?xml version=\"1.0\" encoding=\"utf-8\"?>\n",
       "<svg xmlns=\"http://www.w3.org/2000/svg\" xmlns:xlink=\"http://www.w3.org/1999/xlink\" width=\"600\" height=\"400\" viewBox=\"0 0 2400 1600\">\n",
       "<defs>\n",
       "  <clipPath id=\"clip4700\">\n",
       "    <rect x=\"0\" y=\"0\" width=\"2400\" height=\"1600\"/>\n",
       "  </clipPath>\n",
       "</defs>\n",
       "<path clip-path=\"url(#clip4700)\" d=\"\n",
       "M0 1600 L2400 1600 L2400 0 L0 0  Z\n",
       "  \" fill=\"#ffffff\" fill-rule=\"evenodd\" fill-opacity=\"1\"/>\n",
       "<defs>\n",
       "  <clipPath id=\"clip4701\">\n",
       "    <rect x=\"480\" y=\"0\" width=\"1681\" height=\"1600\"/>\n",
       "  </clipPath>\n",
       "</defs>\n",
       "<path clip-path=\"url(#clip4700)\" d=\"\n",
       "M215.754 1425.62 L2352.76 1425.62 L2352.76 47.2441 L215.754 47.2441  Z\n",
       "  \" fill=\"#ffffff\" fill-rule=\"evenodd\" fill-opacity=\"1\"/>\n",
       "<defs>\n",
       "  <clipPath id=\"clip4702\">\n",
       "    <rect x=\"215\" y=\"47\" width=\"2138\" height=\"1379\"/>\n",
       "  </clipPath>\n",
       "</defs>\n",
       "<polyline clip-path=\"url(#clip4702)\" style=\"stroke:#000000; stroke-width:2; stroke-opacity:0.1; fill:none\" points=\"\n",
       "  266.104,1425.62 266.104,47.2441 \n",
       "  \"/>\n",
       "<polyline clip-path=\"url(#clip4702)\" style=\"stroke:#000000; stroke-width:2; stroke-opacity:0.1; fill:none\" points=\"\n",
       "  772.647,1425.62 772.647,47.2441 \n",
       "  \"/>\n",
       "<polyline clip-path=\"url(#clip4702)\" style=\"stroke:#000000; stroke-width:2; stroke-opacity:0.1; fill:none\" points=\"\n",
       "  1279.19,1425.62 1279.19,47.2441 \n",
       "  \"/>\n",
       "<polyline clip-path=\"url(#clip4702)\" style=\"stroke:#000000; stroke-width:2; stroke-opacity:0.1; fill:none\" points=\"\n",
       "  1785.73,1425.62 1785.73,47.2441 \n",
       "  \"/>\n",
       "<polyline clip-path=\"url(#clip4702)\" style=\"stroke:#000000; stroke-width:2; stroke-opacity:0.1; fill:none\" points=\"\n",
       "  2292.27,1425.62 2292.27,47.2441 \n",
       "  \"/>\n",
       "<polyline clip-path=\"url(#clip4702)\" style=\"stroke:#000000; stroke-width:2; stroke-opacity:0.1; fill:none\" points=\"\n",
       "  215.754,1232.42 2352.76,1232.42 \n",
       "  \"/>\n",
       "<polyline clip-path=\"url(#clip4702)\" style=\"stroke:#000000; stroke-width:2; stroke-opacity:0.1; fill:none\" points=\"\n",
       "  215.754,930.865 2352.76,930.865 \n",
       "  \"/>\n",
       "<polyline clip-path=\"url(#clip4702)\" style=\"stroke:#000000; stroke-width:2; stroke-opacity:0.1; fill:none\" points=\"\n",
       "  215.754,629.315 2352.76,629.315 \n",
       "  \"/>\n",
       "<polyline clip-path=\"url(#clip4702)\" style=\"stroke:#000000; stroke-width:2; stroke-opacity:0.1; fill:none\" points=\"\n",
       "  215.754,327.764 2352.76,327.764 \n",
       "  \"/>\n",
       "<polyline clip-path=\"url(#clip4700)\" style=\"stroke:#000000; stroke-width:4; stroke-opacity:1; fill:none\" points=\"\n",
       "  215.754,1425.62 2352.76,1425.62 \n",
       "  \"/>\n",
       "<polyline clip-path=\"url(#clip4700)\" style=\"stroke:#000000; stroke-width:4; stroke-opacity:1; fill:none\" points=\"\n",
       "  215.754,1425.62 215.754,47.2441 \n",
       "  \"/>\n",
       "<polyline clip-path=\"url(#clip4700)\" style=\"stroke:#000000; stroke-width:4; stroke-opacity:1; fill:none\" points=\"\n",
       "  266.104,1425.62 266.104,1409.08 \n",
       "  \"/>\n",
       "<polyline clip-path=\"url(#clip4700)\" style=\"stroke:#000000; stroke-width:4; stroke-opacity:1; fill:none\" points=\"\n",
       "  772.647,1425.62 772.647,1409.08 \n",
       "  \"/>\n",
       "<polyline clip-path=\"url(#clip4700)\" style=\"stroke:#000000; stroke-width:4; stroke-opacity:1; fill:none\" points=\"\n",
       "  1279.19,1425.62 1279.19,1409.08 \n",
       "  \"/>\n",
       "<polyline clip-path=\"url(#clip4700)\" style=\"stroke:#000000; stroke-width:4; stroke-opacity:1; fill:none\" points=\"\n",
       "  1785.73,1425.62 1785.73,1409.08 \n",
       "  \"/>\n",
       "<polyline clip-path=\"url(#clip4700)\" style=\"stroke:#000000; stroke-width:4; stroke-opacity:1; fill:none\" points=\"\n",
       "  2292.27,1425.62 2292.27,1409.08 \n",
       "  \"/>\n",
       "<polyline clip-path=\"url(#clip4700)\" style=\"stroke:#000000; stroke-width:4; stroke-opacity:1; fill:none\" points=\"\n",
       "  215.754,1232.42 241.398,1232.42 \n",
       "  \"/>\n",
       "<polyline clip-path=\"url(#clip4700)\" style=\"stroke:#000000; stroke-width:4; stroke-opacity:1; fill:none\" points=\"\n",
       "  215.754,930.865 241.398,930.865 \n",
       "  \"/>\n",
       "<polyline clip-path=\"url(#clip4700)\" style=\"stroke:#000000; stroke-width:4; stroke-opacity:1; fill:none\" points=\"\n",
       "  215.754,629.315 241.398,629.315 \n",
       "  \"/>\n",
       "<polyline clip-path=\"url(#clip4700)\" style=\"stroke:#000000; stroke-width:4; stroke-opacity:1; fill:none\" points=\"\n",
       "  215.754,327.764 241.398,327.764 \n",
       "  \"/>\n",
       "<g clip-path=\"url(#clip4700)\">\n",
       "<text style=\"fill:#000000; fill-opacity:1; font-family:Arial,Helvetica Neue,Helvetica,sans-serif; font-size:48px; text-anchor:middle;\" transform=\"rotate(0, 266.104, 1479.62)\" x=\"266.104\" y=\"1479.62\">0</text>\n",
       "</g>\n",
       "<g clip-path=\"url(#clip4700)\">\n",
       "<text style=\"fill:#000000; fill-opacity:1; font-family:Arial,Helvetica Neue,Helvetica,sans-serif; font-size:48px; text-anchor:middle;\" transform=\"rotate(0, 772.647, 1479.62)\" x=\"772.647\" y=\"1479.62\">50</text>\n",
       "</g>\n",
       "<g clip-path=\"url(#clip4700)\">\n",
       "<text style=\"fill:#000000; fill-opacity:1; font-family:Arial,Helvetica Neue,Helvetica,sans-serif; font-size:48px; text-anchor:middle;\" transform=\"rotate(0, 1279.19, 1479.62)\" x=\"1279.19\" y=\"1479.62\">100</text>\n",
       "</g>\n",
       "<g clip-path=\"url(#clip4700)\">\n",
       "<text style=\"fill:#000000; fill-opacity:1; font-family:Arial,Helvetica Neue,Helvetica,sans-serif; font-size:48px; text-anchor:middle;\" transform=\"rotate(0, 1785.73, 1479.62)\" x=\"1785.73\" y=\"1479.62\">150</text>\n",
       "</g>\n",
       "<g clip-path=\"url(#clip4700)\">\n",
       "<text style=\"fill:#000000; fill-opacity:1; font-family:Arial,Helvetica Neue,Helvetica,sans-serif; font-size:48px; text-anchor:middle;\" transform=\"rotate(0, 2292.27, 1479.62)\" x=\"2292.27\" y=\"1479.62\">200</text>\n",
       "</g>\n",
       "<g clip-path=\"url(#clip4700)\">\n",
       "<text style=\"fill:#000000; fill-opacity:1; font-family:Arial,Helvetica Neue,Helvetica,sans-serif; font-size:48px; text-anchor:end;\" transform=\"rotate(0, 191.754, 1249.92)\" x=\"191.754\" y=\"1249.92\">1.2</text>\n",
       "</g>\n",
       "<g clip-path=\"url(#clip4700)\">\n",
       "<text style=\"fill:#000000; fill-opacity:1; font-family:Arial,Helvetica Neue,Helvetica,sans-serif; font-size:48px; text-anchor:end;\" transform=\"rotate(0, 191.754, 948.365)\" x=\"191.754\" y=\"948.365\">1.4</text>\n",
       "</g>\n",
       "<g clip-path=\"url(#clip4700)\">\n",
       "<text style=\"fill:#000000; fill-opacity:1; font-family:Arial,Helvetica Neue,Helvetica,sans-serif; font-size:48px; text-anchor:end;\" transform=\"rotate(0, 191.754, 646.815)\" x=\"191.754\" y=\"646.815\">1.6</text>\n",
       "</g>\n",
       "<g clip-path=\"url(#clip4700)\">\n",
       "<text style=\"fill:#000000; fill-opacity:1; font-family:Arial,Helvetica Neue,Helvetica,sans-serif; font-size:48px; text-anchor:end;\" transform=\"rotate(0, 191.754, 345.264)\" x=\"191.754\" y=\"345.264\">1.8</text>\n",
       "</g>\n",
       "<g clip-path=\"url(#clip4700)\">\n",
       "<text style=\"fill:#000000; fill-opacity:1; font-family:Arial,Helvetica Neue,Helvetica,sans-serif; font-size:66px; text-anchor:middle;\" transform=\"rotate(0, 1284.25, 1559.48)\" x=\"1284.25\" y=\"1559.48\">epochs</text>\n",
       "</g>\n",
       "<g clip-path=\"url(#clip4700)\">\n",
       "<text style=\"fill:#000000; fill-opacity:1; font-family:Arial,Helvetica Neue,Helvetica,sans-serif; font-size:66px; text-anchor:middle;\" transform=\"rotate(-90, 89.2861, 736.431)\" x=\"89.2861\" y=\"736.431\">loss</text>\n",
       "</g>\n",
       "<polyline clip-path=\"url(#clip4702)\" style=\"stroke:#009af9; stroke-width:4; stroke-opacity:1; fill:none\" points=\"\n",
       "  276.235,95.7158 286.366,105.72 296.497,113.67 306.628,121.509 316.759,128.278 326.89,134.074 337.02,139.335 347.151,144.3 357.282,149.392 367.413,154.64 \n",
       "  377.544,159.947 387.675,165.382 397.805,170.889 407.936,176.533 418.067,182.296 428.198,188.094 438.329,193.972 448.46,199.947 458.591,205.941 468.721,212.09 \n",
       "  478.852,218.391 488.983,224.708 499.114,231.213 509.245,237.814 519.376,244.551 529.507,251.48 539.637,258.577 549.768,265.749 559.899,273.004 570.03,280.263 \n",
       "  580.161,287.59 590.292,294.922 600.423,302.346 610.553,309.832 620.684,317.518 630.815,325.345 640.946,333.196 651.077,341.139 661.208,349.1 671.338,357.037 \n",
       "  681.469,364.834 691.6,372.589 701.731,380.242 711.862,387.887 721.993,395.55 732.124,403.241 742.254,411.147 752.385,419.049 762.516,426.973 772.647,434.94 \n",
       "  782.778,442.928 792.909,451.215 803.04,459.641 813.17,468.271 823.301,476.988 833.432,485.606 843.563,494.152 853.694,502.646 863.825,510.879 873.956,519.061 \n",
       "  884.086,527.219 894.217,535.315 904.348,543.389 914.479,551.381 924.61,558.975 934.741,566.036 944.871,573.349 955.002,580.87 965.133,588.114 975.264,595.501 \n",
       "  985.395,602.908 995.526,610.373 1005.66,618.26 1015.79,626.064 1025.92,633.719 1036.05,641.757 1046.18,649.832 1056.31,657.677 1066.44,665.612 1076.57,673.574 \n",
       "  1086.7,681.745 1096.83,689.555 1106.97,697.459 1117.1,705.346 1127.23,713.249 1137.36,720.665 1147.49,727.907 1157.62,735.235 1167.75,742.518 1177.88,749.399 \n",
       "  1188.01,756.503 1198.14,763.841 1208.27,771.312 1218.4,778.465 1228.54,785.692 1238.67,793.298 1248.8,800.94 1258.93,808.619 1269.06,816.014 1279.19,823.345 \n",
       "  1289.32,831.324 1299.45,838.962 1309.58,845.818 1319.71,852.56 1329.84,859.365 1339.97,866.689 1350.11,873.864 1360.24,881.262 1370.37,888.264 1380.5,894.77 \n",
       "  1390.63,901.795 1400.76,909.401 1410.89,916.626 1421.02,923.76 1431.15,930.467 1441.28,936.631 1451.41,943.003 1461.54,949.721 1471.68,956.48 1481.81,963.025 \n",
       "  1491.94,969.383 1502.07,975.814 1512.2,982.117 1522.33,988.806 1532.46,994.988 1542.59,1001.53 1552.72,1008.29 1562.85,1015.02 1572.98,1021.94 1583.12,1028.89 \n",
       "  1593.25,1035.04 1603.38,1040.85 1613.51,1046.59 1623.64,1052.19 1633.77,1057.24 1643.9,1061.99 1654.03,1067.92 1664.16,1075.33 1674.29,1082.9 1684.42,1089.65 \n",
       "  1694.55,1095.59 1704.69,1101.48 1714.82,1106.59 1724.95,1112.1 1735.08,1118.54 1745.21,1124.47 1755.34,1129.63 1765.47,1134.04 1775.6,1138.98 1785.73,1144.7 \n",
       "  1795.86,1150.08 1805.99,1154.61 1816.12,1159.35 1826.26,1165.37 1836.39,1172.04 1846.52,1179 1856.65,1185.07 1866.78,1190.51 1876.91,1195.97 1887.04,1201.67 \n",
       "  1897.17,1207.31 1907.3,1212.28 1917.43,1216.21 1927.56,1219.68 1937.69,1223.82 1947.83,1228.9 1957.96,1234.09 1968.09,1240.62 1978.22,1247.23 1988.35,1253.34 \n",
       "  1998.48,1258.34 2008.61,1262.37 2018.74,1266.72 2028.87,1271.48 2039,1275.49 2049.13,1279.48 2059.27,1284.04 2069.4,1289.56 2079.53,1294.74 2089.66,1299.54 \n",
       "  2099.79,1304.14 2109.92,1309.3 2120.05,1314.48 2130.18,1319.27 2140.31,1323.67 2150.44,1327.59 2160.57,1331.56 2170.7,1335.3 2180.84,1338.67 2190.97,1341.61 \n",
       "  2201.1,1344.23 2211.23,1347.83 2221.36,1352.66 2231.49,1358.37 2241.62,1364.03 2251.75,1368.94 2261.88,1374.02 2272.01,1378.93 2282.14,1383.31 2292.27,1386.61 \n",
       "  \n",
       "  \"/>\n",
       "<polyline clip-path=\"url(#clip4702)\" style=\"stroke:#e26f46; stroke-width:4; stroke-opacity:1; fill:none\" points=\"\n",
       "  276.235,86.2547 286.366,96.1185 296.497,105.225 306.628,109.128 316.759,111.932 326.89,113.593 337.02,113.832 347.151,113.874 357.282,113.277 367.413,112.166 \n",
       "  377.544,110.196 387.675,108.748 397.805,107.646 407.936,107.66 418.067,107.657 428.198,108.169 438.329,108.882 448.46,109.768 458.591,110.916 468.721,111.587 \n",
       "  478.852,111.702 488.983,111.415 499.114,109.923 509.245,108.795 519.376,107.054 529.507,105.977 539.637,106.148 549.768,107.383 559.899,107.799 570.03,108.832 \n",
       "  580.161,109.94 590.292,110.558 600.423,110.316 610.553,109.28 620.684,108.938 630.815,108.237 640.946,106.898 651.077,106.538 661.208,107.717 671.338,108.671 \n",
       "  681.469,110.165 691.6,110.265 701.731,108.093 711.862,104.561 721.993,101.176 732.124,98.5683 742.254,98.5692 752.385,100.469 762.516,103.64 772.647,109.103 \n",
       "  782.778,114.217 792.909,117.219 803.04,120.124 813.17,122.422 823.301,123.54 833.432,123.539 843.563,122.066 853.694,120.456 863.825,119.243 873.956,118.98 \n",
       "  884.086,119.025 894.217,119.452 904.348,121.963 914.479,126.008 924.61,129.188 934.741,130.891 944.871,132.023 955.002,132.343 965.133,130.28 975.264,127.118 \n",
       "  985.395,124.109 995.526,122.211 1005.66,119.836 1015.79,118.424 1025.92,119.188 1036.05,121.189 1046.18,123.666 1056.31,126.584 1066.44,127.459 1076.57,130.218 \n",
       "  1086.7,132.663 1096.83,134.857 1106.97,136.729 1117.1,137.465 1127.23,136.075 1137.36,134.259 1147.49,134.819 1157.62,136.048 1167.75,138.416 1177.88,139.183 \n",
       "  1188.01,140.014 1198.14,143.401 1208.27,149.417 1218.4,154.167 1228.54,157.687 1238.67,161.045 1248.8,163.926 1258.93,164.409 1269.06,162.782 1279.19,158.363 \n",
       "  1289.32,154.238 1299.45,150.479 1309.58,147.273 1319.71,146.57 1329.84,147.674 1339.97,151.8 1350.11,159.577 1360.24,169.092 1370.37,179.293 1380.5,185.2 \n",
       "  1390.63,187.435 1400.76,184.1 1410.89,181.93 1421.02,178.756 1431.15,176.665 1441.28,176.931 1451.41,178.436 1461.54,180.596 1471.68,183.207 1481.81,186.53 \n",
       "  1491.94,188.939 1502.07,191.254 1512.2,190.685 1522.33,195.142 1532.46,198.92 1542.59,199.815 1552.72,200.966 1562.85,201.019 1572.98,205.233 1583.12,210.159 \n",
       "  1593.25,214.525 1603.38,218.134 1613.51,218.395 1623.64,218.562 1633.77,217.644 1643.9,216.12 1654.03,213.453 1664.16,213.701 1674.29,218.466 1684.42,227.23 \n",
       "  1694.55,234.824 1704.69,238.474 1714.82,242.285 1724.95,245.538 1735.08,248.044 1745.21,248.471 1755.34,246.953 1765.47,246.993 1775.6,248.948 1785.73,251.012 \n",
       "  1795.86,251.94 1805.99,251.446 1816.12,251.705 1826.26,254.199 1836.39,257.212 1846.52,262.48 1856.65,266.341 1866.78,266.663 1876.91,265.05 1887.04,261.824 \n",
       "  1897.17,261.272 1907.3,261.95 1917.43,262.627 1927.56,265.958 1937.69,270.172 1947.83,276.179 1957.96,283.906 1968.09,285.388 1978.22,285.351 1988.35,282.509 \n",
       "  1998.48,279.724 2008.61,277.229 2018.74,278.548 2028.87,282.23 2039,286.391 2049.13,290.701 2059.27,295.629 2069.4,299.214 2079.53,303.495 2089.66,308.261 \n",
       "  2099.79,313.123 2109.92,310.911 2120.05,309.97 2130.18,309.939 2140.31,311.117 2150.44,316.033 2160.57,321.891 2170.7,326.843 2180.84,333.798 2190.97,339.827 \n",
       "  2201.1,344.831 2211.23,346.267 2221.36,343.965 2231.49,339.521 2241.62,332.696 2251.75,327.919 2261.88,326.045 2272.01,327.816 2282.14,339.012 2292.27,349.199 \n",
       "  \n",
       "  \"/>\n",
       "<path clip-path=\"url(#clip4700)\" d=\"\n",
       "M1979.24 312.204 L2280.76 312.204 L2280.76 130.764 L1979.24 130.764  Z\n",
       "  \" fill=\"#ffffff\" fill-rule=\"evenodd\" fill-opacity=\"1\"/>\n",
       "<polyline clip-path=\"url(#clip4700)\" style=\"stroke:#000000; stroke-width:4; stroke-opacity:1; fill:none\" points=\"\n",
       "  1979.24,312.204 2280.76,312.204 2280.76,130.764 1979.24,130.764 1979.24,312.204 \n",
       "  \"/>\n",
       "<polyline clip-path=\"url(#clip4700)\" style=\"stroke:#009af9; stroke-width:4; stroke-opacity:1; fill:none\" points=\"\n",
       "  2003.24,191.244 2147.24,191.244 \n",
       "  \"/>\n",
       "<g clip-path=\"url(#clip4700)\">\n",
       "<text style=\"fill:#000000; fill-opacity:1; font-family:Arial,Helvetica Neue,Helvetica,sans-serif; font-size:48px; text-anchor:start;\" transform=\"rotate(0, 2171.24, 208.744)\" x=\"2171.24\" y=\"208.744\">trn</text>\n",
       "</g>\n",
       "<polyline clip-path=\"url(#clip4700)\" style=\"stroke:#e26f46; stroke-width:4; stroke-opacity:1; fill:none\" points=\"\n",
       "  2003.24,251.724 2147.24,251.724 \n",
       "  \"/>\n",
       "<g clip-path=\"url(#clip4700)\">\n",
       "<text style=\"fill:#000000; fill-opacity:1; font-family:Arial,Helvetica Neue,Helvetica,sans-serif; font-size:48px; text-anchor:start;\" transform=\"rotate(0, 2171.24, 269.224)\" x=\"2171.24\" y=\"269.224\">val</text>\n",
       "</g>\n",
       "</svg>\n"
      ]
     },
     "execution_count": 58,
     "metadata": {},
     "output_type": "execute_result"
    }
   ],
   "source": [
    "plot(iters, [trnloss, vallos] , xlim=(1:3),labels=[:trn :val :tst], xlabel=\"epochs\", ylabel=\"loss\")"
   ]
  },
  {
   "cell_type": "code",
   "execution_count": 59,
   "metadata": {
    "scrolled": true
   },
   "outputs": [
    {
     "data": {
      "text/plain": [
       "0.9857142857142858"
      ]
     },
     "execution_count": 59,
     "metadata": {},
     "output_type": "execute_result"
    }
   ],
   "source": [
    "output = model(features)\n",
    "accuracy(output[:,idx_train], labels_decoded[idx_train])"
   ]
  },
  {
   "cell_type": "code",
   "execution_count": 60,
   "metadata": {},
   "outputs": [
    {
     "data": {
      "text/plain": [
       "0.644"
      ]
     },
     "execution_count": 60,
     "metadata": {},
     "output_type": "execute_result"
    }
   ],
   "source": [
    "accuracy(output[:,idx_test], labels_decoded[idx_test])"
   ]
  },
  {
   "cell_type": "code",
   "execution_count": 61,
   "metadata": {},
   "outputs": [],
   "source": [
    "png(\"cora\")"
   ]
  },
  {
   "cell_type": "code",
   "execution_count": 45,
   "metadata": {},
   "outputs": [],
   "source": [
    "#####################################################################################################################"
   ]
  },
  {
   "cell_type": "code",
   "execution_count": 62,
   "metadata": {},
   "outputs": [
    {
     "data": {
      "text/plain": [
       "(\n",
       "  [1   ,    1]  =  0.5\n",
       "  [629 ,    1]  =  0.5\n",
       "  [2   ,    2]  =  0.166667\n",
       "  [159 ,    2]  =  0.204124\n",
       "  [487 ,    2]  =  0.117851\n",
       "  [1098,    2]  =  0.0912871\n",
       "  [2920,    2]  =  0.136083\n",
       "  [2934,    2]  =  0.204124\n",
       "  [3   ,    3]  =  0.5\n",
       "  [3286,    3]  =  0.5\n",
       "  [4   ,    4]  =  0.333333\n",
       "  [1432,    4]  =  0.288675\n",
       "  ⋮\n",
       "  [3323, 3323]  =  0.5\n",
       "  [3324, 3323]  =  0.5\n",
       "  [3323, 3324]  =  0.5\n",
       "  [3324, 3324]  =  0.5\n",
       "  [132 , 3325]  =  0.25\n",
       "  [269 , 3325]  =  0.223607\n",
       "  [2821, 3325]  =  0.223607\n",
       "  [3325, 3325]  =  0.25\n",
       "  [1644, 3326]  =  0.5\n",
       "  [3326, 3326]  =  0.5\n",
       "  [34  , 3327]  =  0.288675\n",
       "  [3327, 3327]  =  0.5, \n",
       "  [185 ,    1]  =  0.2\n",
       "  [258 ,    1]  =  0.05\n",
       "  [363 ,    1]  =  0.0769231\n",
       "  [561 ,    1]  =  0.0285714\n",
       "  [566 ,    1]  =  0.00438596\n",
       "  [598 ,    1]  =  0.0196078\n",
       "  [601 ,    1]  =  0.00689655\n",
       "  [602 ,    1]  =  0.0015949\n",
       "  [638 ,    1]  =  0.00574713\n",
       "  [730 ,    1]  =  0.0015361\n",
       "  [806 ,    1]  =  0.00255102\n",
       "  [817 ,    1]  =  0.00240964\n",
       "  ⋮\n",
       "  [1542, 3327]  =  0.00680272\n",
       "  [1619, 3327]  =  0.00309598\n",
       "  [2058, 3327]  =  0.0114943\n",
       "  [2177, 3327]  =  0.0666667\n",
       "  [2231, 3327]  =  0.00534759\n",
       "  [2618, 3327]  =  0.0666667\n",
       "  [2624, 3327]  =  0.25\n",
       "  [3231, 3327]  =  0.00350877\n",
       "  [3271, 3327]  =  0.0263158\n",
       "  [3473, 3327]  =  0.00185185\n",
       "  [3557, 3327]  =  0.142857\n",
       "  [3622, 3327]  =  0.1, [0.0 0.0 … 0.0 0.0; 0.0 1.0 … 0.0 0.0; … ; 0.0 1.0 … 0.0 0.0; 0.0 0.0 … 0.0 1.0], 1:120, 121:620, [2489, 2645, 3262, 2805, 3177, 2433, 3311, 2411, 2813, 2521  …  2772, 2405, 2590, 3124, 3210, 2730, 3253, 2607, 2580, 2553])"
      ]
     },
     "execution_count": 62,
     "metadata": {},
     "output_type": "execute_result"
    }
   ],
   "source": [
    "adj, features, labels, idx_train, idx_val, idx_test = load_dataset(\"citeseer\")"
   ]
  },
  {
   "cell_type": "code",
   "execution_count": 63,
   "metadata": {},
   "outputs": [
    {
     "data": {
      "text/plain": [
       "GCN(GCLayer(P(Array{Float64,2}(16,3703)), P(Array{Float32,1}(16)), \n",
       "  [1   ,    1]  =  0.5\n",
       "  [629 ,    1]  =  0.5\n",
       "  [2   ,    2]  =  0.166667\n",
       "  [159 ,    2]  =  0.204124\n",
       "  [487 ,    2]  =  0.117851\n",
       "  [1098,    2]  =  0.0912871\n",
       "  [2920,    2]  =  0.136083\n",
       "  [2934,    2]  =  0.204124\n",
       "  [3   ,    3]  =  0.5\n",
       "  [3286,    3]  =  0.5\n",
       "  [4   ,    4]  =  0.333333\n",
       "  [1432,    4]  =  0.288675\n",
       "  ⋮\n",
       "  [3323, 3323]  =  0.5\n",
       "  [3324, 3323]  =  0.5\n",
       "  [3323, 3324]  =  0.5\n",
       "  [3324, 3324]  =  0.5\n",
       "  [132 , 3325]  =  0.25\n",
       "  [269 , 3325]  =  0.223607\n",
       "  [2821, 3325]  =  0.223607\n",
       "  [3325, 3325]  =  0.25\n",
       "  [1644, 3326]  =  0.5\n",
       "  [3326, 3326]  =  0.5\n",
       "  [34  , 3327]  =  0.288675\n",
       "  [3327, 3327]  =  0.5, NNlib.relu), GCLayer(P(Array{Float64,2}(6,16)), P(Array{Float32,1}(6)), \n",
       "  [1   ,    1]  =  0.5\n",
       "  [629 ,    1]  =  0.5\n",
       "  [2   ,    2]  =  0.166667\n",
       "  [159 ,    2]  =  0.204124\n",
       "  [487 ,    2]  =  0.117851\n",
       "  [1098,    2]  =  0.0912871\n",
       "  [2920,    2]  =  0.136083\n",
       "  [2934,    2]  =  0.204124\n",
       "  [3   ,    3]  =  0.5\n",
       "  [3286,    3]  =  0.5\n",
       "  [4   ,    4]  =  0.333333\n",
       "  [1432,    4]  =  0.288675\n",
       "  ⋮\n",
       "  [3323, 3323]  =  0.5\n",
       "  [3324, 3323]  =  0.5\n",
       "  [3323, 3324]  =  0.5\n",
       "  [3324, 3324]  =  0.5\n",
       "  [132 , 3325]  =  0.25\n",
       "  [269 , 3325]  =  0.223607\n",
       "  [2821, 3325]  =  0.223607\n",
       "  [3325, 3325]  =  0.25\n",
       "  [1644, 3326]  =  0.5\n",
       "  [3326, 3326]  =  0.5\n",
       "  [34  , 3327]  =  0.288675\n",
       "  [3327, 3327]  =  0.5, identity), 0.5)"
      ]
     },
     "execution_count": 63,
     "metadata": {},
     "output_type": "execute_result"
    }
   ],
   "source": [
    "model = GCN(size(features,1),\n",
    "            arguments.hidden,\n",
    "            size(labels,2),\n",
    "            adj,\n",
    "            arguments.pdrop)"
   ]
  },
  {
   "cell_type": "code",
   "execution_count": 64,
   "metadata": {},
   "outputs": [
    {
     "data": {
      "text/plain": [
       "3327-element Array{Int64,1}:\n",
       " 4\n",
       " 2\n",
       " 6\n",
       " 6\n",
       " 4\n",
       " 2\n",
       " 4\n",
       " 1\n",
       " 4\n",
       " 6\n",
       " 3\n",
       " 5\n",
       " 3\n",
       " ⋮\n",
       " 4\n",
       " 3\n",
       " 5\n",
       " 5\n",
       " 2\n",
       " 2\n",
       " 1\n",
       " 4\n",
       " 4\n",
       " 4\n",
       " 2\n",
       " 6"
      ]
     },
     "execution_count": 64,
     "metadata": {},
     "output_type": "execute_result"
    }
   ],
   "source": [
    "labels_decoded = mapslices(argmax, labels ,dims=2)[:]"
   ]
  },
  {
   "cell_type": "code",
   "execution_count": 65,
   "metadata": {},
   "outputs": [
    {
     "data": {
      "text/plain": [
       "Data{Tuple{SparseMatrixCSC{Float64,Int64},Array{Int64,1}}}([0.0 0.0 … 0.0 0.0; 0.0 0.0 … 0.0 0.0; … ; 0.0 0.0 … 0.0 0.0; 0.0 0.0 … 0.0 0.0], [4 2 … 2 6], 3327, 3327, false, 1, 1:3327, false, (3703, 3327), (3327,), SparseMatrixCSC{Float64,Int64}, Array{Int64,1})"
      ]
     },
     "execution_count": 65,
     "metadata": {},
     "output_type": "execute_result"
    }
   ],
   "source": [
    "data =  minibatch(features, labels_decoded[:], length(labels_decoded))"
   ]
  },
  {
   "cell_type": "code",
   "execution_count": 66,
   "metadata": {},
   "outputs": [
    {
     "name": "stderr",
     "output_type": "stream",
     "text": [
      "[13, 27:44, 128.02s/i] \n"
     ]
    },
    {
     "data": {
      "text/plain": [
       "(1:13, Any[1.79682, 1.78464, 1.77055, 1.75611, 1.74216, 1.72789, 1.7132, 1.69825, 1.68346, 1.66874, 1.65399, 1.63896, 1.6239], Any[1.79952, 1.79568, 1.79408, 1.79411, 1.79507, 1.79587, 1.79678, 1.79765, 1.79862, 1.80035, 1.80276, 1.80591, 1.80931])"
      ]
     },
     "execution_count": 66,
     "metadata": {},
     "output_type": "execute_result"
    }
   ],
   "source": [
    "iters, trnloss, vallos = mytrain!(model, data, arguments.epochs, arguments.lr, arguments.window_size)"
   ]
  },
  {
   "cell_type": "code",
   "execution_count": 67,
   "metadata": {},
   "outputs": [
    {
     "data": {
      "image/svg+xml": [
       "<?xml version=\"1.0\" encoding=\"utf-8\"?>\n",
       "<svg xmlns=\"http://www.w3.org/2000/svg\" xmlns:xlink=\"http://www.w3.org/1999/xlink\" width=\"600\" height=\"400\" viewBox=\"0 0 2400 1600\">\n",
       "<defs>\n",
       "  <clipPath id=\"clip5200\">\n",
       "    <rect x=\"0\" y=\"0\" width=\"2400\" height=\"1600\"/>\n",
       "  </clipPath>\n",
       "</defs>\n",
       "<path clip-path=\"url(#clip5200)\" d=\"\n",
       "M0 1600 L2400 1600 L2400 0 L0 0  Z\n",
       "  \" fill=\"#ffffff\" fill-rule=\"evenodd\" fill-opacity=\"1\"/>\n",
       "<defs>\n",
       "  <clipPath id=\"clip5201\">\n",
       "    <rect x=\"480\" y=\"0\" width=\"1681\" height=\"1600\"/>\n",
       "  </clipPath>\n",
       "</defs>\n",
       "<path clip-path=\"url(#clip5200)\" d=\"\n",
       "M242.516 1425.62 L2352.76 1425.62 L2352.76 47.2441 L242.516 47.2441  Z\n",
       "  \" fill=\"#ffffff\" fill-rule=\"evenodd\" fill-opacity=\"1\"/>\n",
       "<defs>\n",
       "  <clipPath id=\"clip5202\">\n",
       "    <rect x=\"242\" y=\"47\" width=\"2111\" height=\"1379\"/>\n",
       "  </clipPath>\n",
       "</defs>\n",
       "<polyline clip-path=\"url(#clip5202)\" style=\"stroke:#000000; stroke-width:2; stroke-opacity:0.1; fill:none\" points=\"\n",
       "  551.089,1425.62 551.089,47.2441 \n",
       "  \"/>\n",
       "<polyline clip-path=\"url(#clip5202)\" style=\"stroke:#000000; stroke-width:2; stroke-opacity:0.1; fill:none\" points=\"\n",
       "  965.838,1425.62 965.838,47.2441 \n",
       "  \"/>\n",
       "<polyline clip-path=\"url(#clip5202)\" style=\"stroke:#000000; stroke-width:2; stroke-opacity:0.1; fill:none\" points=\"\n",
       "  1380.59,1425.62 1380.59,47.2441 \n",
       "  \"/>\n",
       "<polyline clip-path=\"url(#clip5202)\" style=\"stroke:#000000; stroke-width:2; stroke-opacity:0.1; fill:none\" points=\"\n",
       "  1795.33,1425.62 1795.33,47.2441 \n",
       "  \"/>\n",
       "<polyline clip-path=\"url(#clip5202)\" style=\"stroke:#000000; stroke-width:2; stroke-opacity:0.1; fill:none\" points=\"\n",
       "  2210.08,1425.62 2210.08,47.2441 \n",
       "  \"/>\n",
       "<polyline clip-path=\"url(#clip5202)\" style=\"stroke:#000000; stroke-width:2; stroke-opacity:0.1; fill:none\" points=\"\n",
       "  242.516,1203.53 2352.76,1203.53 \n",
       "  \"/>\n",
       "<polyline clip-path=\"url(#clip5202)\" style=\"stroke:#000000; stroke-width:2; stroke-opacity:0.1; fill:none\" points=\"\n",
       "  242.516,852.862 2352.76,852.862 \n",
       "  \"/>\n",
       "<polyline clip-path=\"url(#clip5202)\" style=\"stroke:#000000; stroke-width:2; stroke-opacity:0.1; fill:none\" points=\"\n",
       "  242.516,502.194 2352.76,502.194 \n",
       "  \"/>\n",
       "<polyline clip-path=\"url(#clip5202)\" style=\"stroke:#000000; stroke-width:2; stroke-opacity:0.1; fill:none\" points=\"\n",
       "  242.516,151.525 2352.76,151.525 \n",
       "  \"/>\n",
       "<polyline clip-path=\"url(#clip5200)\" style=\"stroke:#000000; stroke-width:4; stroke-opacity:1; fill:none\" points=\"\n",
       "  242.516,1425.62 2352.76,1425.62 \n",
       "  \"/>\n",
       "<polyline clip-path=\"url(#clip5200)\" style=\"stroke:#000000; stroke-width:4; stroke-opacity:1; fill:none\" points=\"\n",
       "  242.516,1425.62 242.516,47.2441 \n",
       "  \"/>\n",
       "<polyline clip-path=\"url(#clip5200)\" style=\"stroke:#000000; stroke-width:4; stroke-opacity:1; fill:none\" points=\"\n",
       "  551.089,1425.62 551.089,1409.08 \n",
       "  \"/>\n",
       "<polyline clip-path=\"url(#clip5200)\" style=\"stroke:#000000; stroke-width:4; stroke-opacity:1; fill:none\" points=\"\n",
       "  965.838,1425.62 965.838,1409.08 \n",
       "  \"/>\n",
       "<polyline clip-path=\"url(#clip5200)\" style=\"stroke:#000000; stroke-width:4; stroke-opacity:1; fill:none\" points=\"\n",
       "  1380.59,1425.62 1380.59,1409.08 \n",
       "  \"/>\n",
       "<polyline clip-path=\"url(#clip5200)\" style=\"stroke:#000000; stroke-width:4; stroke-opacity:1; fill:none\" points=\"\n",
       "  1795.33,1425.62 1795.33,1409.08 \n",
       "  \"/>\n",
       "<polyline clip-path=\"url(#clip5200)\" style=\"stroke:#000000; stroke-width:4; stroke-opacity:1; fill:none\" points=\"\n",
       "  2210.08,1425.62 2210.08,1409.08 \n",
       "  \"/>\n",
       "<polyline clip-path=\"url(#clip5200)\" style=\"stroke:#000000; stroke-width:4; stroke-opacity:1; fill:none\" points=\"\n",
       "  242.516,1203.53 267.839,1203.53 \n",
       "  \"/>\n",
       "<polyline clip-path=\"url(#clip5200)\" style=\"stroke:#000000; stroke-width:4; stroke-opacity:1; fill:none\" points=\"\n",
       "  242.516,852.862 267.839,852.862 \n",
       "  \"/>\n",
       "<polyline clip-path=\"url(#clip5200)\" style=\"stroke:#000000; stroke-width:4; stroke-opacity:1; fill:none\" points=\"\n",
       "  242.516,502.194 267.839,502.194 \n",
       "  \"/>\n",
       "<polyline clip-path=\"url(#clip5200)\" style=\"stroke:#000000; stroke-width:4; stroke-opacity:1; fill:none\" points=\"\n",
       "  242.516,151.525 267.839,151.525 \n",
       "  \"/>\n",
       "<g clip-path=\"url(#clip5200)\">\n",
       "<text style=\"fill:#000000; fill-opacity:1; font-family:Arial,Helvetica Neue,Helvetica,sans-serif; font-size:48px; text-anchor:middle;\" transform=\"rotate(0, 551.089, 1479.62)\" x=\"551.089\" y=\"1479.62\">2.5</text>\n",
       "</g>\n",
       "<g clip-path=\"url(#clip5200)\">\n",
       "<text style=\"fill:#000000; fill-opacity:1; font-family:Arial,Helvetica Neue,Helvetica,sans-serif; font-size:48px; text-anchor:middle;\" transform=\"rotate(0, 965.838, 1479.62)\" x=\"965.838\" y=\"1479.62\">5.0</text>\n",
       "</g>\n",
       "<g clip-path=\"url(#clip5200)\">\n",
       "<text style=\"fill:#000000; fill-opacity:1; font-family:Arial,Helvetica Neue,Helvetica,sans-serif; font-size:48px; text-anchor:middle;\" transform=\"rotate(0, 1380.59, 1479.62)\" x=\"1380.59\" y=\"1479.62\">7.5</text>\n",
       "</g>\n",
       "<g clip-path=\"url(#clip5200)\">\n",
       "<text style=\"fill:#000000; fill-opacity:1; font-family:Arial,Helvetica Neue,Helvetica,sans-serif; font-size:48px; text-anchor:middle;\" transform=\"rotate(0, 1795.33, 1479.62)\" x=\"1795.33\" y=\"1479.62\">10.0</text>\n",
       "</g>\n",
       "<g clip-path=\"url(#clip5200)\">\n",
       "<text style=\"fill:#000000; fill-opacity:1; font-family:Arial,Helvetica Neue,Helvetica,sans-serif; font-size:48px; text-anchor:middle;\" transform=\"rotate(0, 2210.08, 1479.62)\" x=\"2210.08\" y=\"1479.62\">12.5</text>\n",
       "</g>\n",
       "<g clip-path=\"url(#clip5200)\">\n",
       "<text style=\"fill:#000000; fill-opacity:1; font-family:Arial,Helvetica Neue,Helvetica,sans-serif; font-size:48px; text-anchor:end;\" transform=\"rotate(0, 218.516, 1221.03)\" x=\"218.516\" y=\"1221.03\">1.65</text>\n",
       "</g>\n",
       "<g clip-path=\"url(#clip5200)\">\n",
       "<text style=\"fill:#000000; fill-opacity:1; font-family:Arial,Helvetica Neue,Helvetica,sans-serif; font-size:48px; text-anchor:end;\" transform=\"rotate(0, 218.516, 870.362)\" x=\"218.516\" y=\"870.362\">1.70</text>\n",
       "</g>\n",
       "<g clip-path=\"url(#clip5200)\">\n",
       "<text style=\"fill:#000000; fill-opacity:1; font-family:Arial,Helvetica Neue,Helvetica,sans-serif; font-size:48px; text-anchor:end;\" transform=\"rotate(0, 218.516, 519.694)\" x=\"218.516\" y=\"519.694\">1.75</text>\n",
       "</g>\n",
       "<g clip-path=\"url(#clip5200)\">\n",
       "<text style=\"fill:#000000; fill-opacity:1; font-family:Arial,Helvetica Neue,Helvetica,sans-serif; font-size:48px; text-anchor:end;\" transform=\"rotate(0, 218.516, 169.025)\" x=\"218.516\" y=\"169.025\">1.80</text>\n",
       "</g>\n",
       "<g clip-path=\"url(#clip5200)\">\n",
       "<text style=\"fill:#000000; fill-opacity:1; font-family:Arial,Helvetica Neue,Helvetica,sans-serif; font-size:66px; text-anchor:middle;\" transform=\"rotate(0, 1297.64, 1559.48)\" x=\"1297.64\" y=\"1559.48\">epochs</text>\n",
       "</g>\n",
       "<g clip-path=\"url(#clip5200)\">\n",
       "<text style=\"fill:#000000; fill-opacity:1; font-family:Arial,Helvetica Neue,Helvetica,sans-serif; font-size:66px; text-anchor:middle;\" transform=\"rotate(-90, 89.2861, 736.431)\" x=\"89.2861\" y=\"736.431\">loss</text>\n",
       "</g>\n",
       "<polyline clip-path=\"url(#clip5202)\" style=\"stroke:#009af9; stroke-width:4; stroke-opacity:1; fill:none\" points=\"\n",
       "  302.24,173.829 468.14,259.231 634.039,358.069 799.938,459.314 965.838,557.205 1131.74,657.28 1297.64,760.291 1463.54,865.109 1629.43,968.84 1795.33,1072.08 \n",
       "  1961.23,1175.51 2127.13,1280.94 2293.03,1386.61 \n",
       "  \"/>\n",
       "<polyline clip-path=\"url(#clip5202)\" style=\"stroke:#e26f46; stroke-width:4; stroke-opacity:1; fill:none\" points=\"\n",
       "  302.24,154.873 468.14,181.816 634.039,193.07 799.938,192.832 965.838,186.067 1131.74,180.459 1297.64,174.077 1463.54,168.035 1629.43,161.174 1795.33,149.091 \n",
       "  1961.23,132.158 2127.13,110.098 2293.03,86.2547 \n",
       "  \"/>\n",
       "<path clip-path=\"url(#clip5200)\" d=\"\n",
       "M1979.24 312.204 L2280.76 312.204 L2280.76 130.764 L1979.24 130.764  Z\n",
       "  \" fill=\"#ffffff\" fill-rule=\"evenodd\" fill-opacity=\"1\"/>\n",
       "<polyline clip-path=\"url(#clip5200)\" style=\"stroke:#000000; stroke-width:4; stroke-opacity:1; fill:none\" points=\"\n",
       "  1979.24,312.204 2280.76,312.204 2280.76,130.764 1979.24,130.764 1979.24,312.204 \n",
       "  \"/>\n",
       "<polyline clip-path=\"url(#clip5200)\" style=\"stroke:#009af9; stroke-width:4; stroke-opacity:1; fill:none\" points=\"\n",
       "  2003.24,191.244 2147.24,191.244 \n",
       "  \"/>\n",
       "<g clip-path=\"url(#clip5200)\">\n",
       "<text style=\"fill:#000000; fill-opacity:1; font-family:Arial,Helvetica Neue,Helvetica,sans-serif; font-size:48px; text-anchor:start;\" transform=\"rotate(0, 2171.24, 208.744)\" x=\"2171.24\" y=\"208.744\">trn</text>\n",
       "</g>\n",
       "<polyline clip-path=\"url(#clip5200)\" style=\"stroke:#e26f46; stroke-width:4; stroke-opacity:1; fill:none\" points=\"\n",
       "  2003.24,251.724 2147.24,251.724 \n",
       "  \"/>\n",
       "<g clip-path=\"url(#clip5200)\">\n",
       "<text style=\"fill:#000000; fill-opacity:1; font-family:Arial,Helvetica Neue,Helvetica,sans-serif; font-size:48px; text-anchor:start;\" transform=\"rotate(0, 2171.24, 269.224)\" x=\"2171.24\" y=\"269.224\">val</text>\n",
       "</g>\n",
       "</svg>\n"
      ]
     },
     "execution_count": 67,
     "metadata": {},
     "output_type": "execute_result"
    }
   ],
   "source": [
    "plot(iters, [trnloss, vallos] , xlim=(1:3),labels=[:trn :val :tst], xlabel=\"epochs\", ylabel=\"loss\")"
   ]
  },
  {
   "cell_type": "code",
   "execution_count": 68,
   "metadata": {},
   "outputs": [
    {
     "data": {
      "text/plain": [
       "1.0"
      ]
     },
     "execution_count": 68,
     "metadata": {},
     "output_type": "execute_result"
    }
   ],
   "source": [
    "output = model(features)\n",
    "accuracy(output[:,idx_train], labels_decoded[idx_train])"
   ]
  },
  {
   "cell_type": "code",
   "execution_count": 69,
   "metadata": {},
   "outputs": [
    {
     "data": {
      "text/plain": [
       "0.516"
      ]
     },
     "execution_count": 69,
     "metadata": {},
     "output_type": "execute_result"
    }
   ],
   "source": [
    "accuracy(output[:,idx_test], labels_decoded[idx_test])"
   ]
  },
  {
   "cell_type": "code",
   "execution_count": 70,
   "metadata": {},
   "outputs": [],
   "source": [
    "png(\"citeseer\")"
   ]
  },
  {
   "cell_type": "code",
   "execution_count": null,
   "metadata": {},
   "outputs": [],
   "source": [
    "#####################################################################################################################"
   ]
  },
  {
   "cell_type": "code",
   "execution_count": 73,
   "metadata": {},
   "outputs": [
    {
     "data": {
      "text/plain": [
       "(\n",
       "  [1    ,     1]  =  0.166667\n",
       "  [1379 ,     1]  =  0.0671156\n",
       "  [1545 ,     1]  =  0.0680414\n",
       "  [6093 ,     1]  =  0.0816497\n",
       "  [7637 ,     1]  =  0.0870388\n",
       "  [14443,     1]  =  0.0890871\n",
       "  [2    ,     2]  =  0.25\n",
       "  [2944 ,     2]  =  0.138675\n",
       "  [8360 ,     2]  =  0.111803\n",
       "  [10200,     2]  =  0.223607\n",
       "  [3    ,     3]  =  0.25\n",
       "  [10472,     3]  =  0.144338\n",
       "  ⋮\n",
       "  [11821, 19712]  =  0.162221\n",
       "  [19712, 19712]  =  0.5\n",
       "  [2362 , 19713]  =  0.0640184\n",
       "  [19713, 19713]  =  0.5\n",
       "  [12205, 19714]  =  0.235702\n",
       "  [19714, 19714]  =  0.5\n",
       "  [12279, 19715]  =  0.166667\n",
       "  [19715, 19715]  =  0.5\n",
       "  [4285 , 19716]  =  0.196116\n",
       "  [19716, 19716]  =  0.5\n",
       "  [16031, 19717]  =  0.25\n",
       "  [19717, 19717]  =  0.5, \n",
       "  [8    ,     1]  =  4.11576e-5\n",
       "  [12   ,     1]  =  0.000618177\n",
       "  [14   ,     1]  =  8.95405e-5\n",
       "  [15   ,     1]  =  0.000212583\n",
       "  [17   ,     1]  =  9.03829e-5\n",
       "  [19   ,     1]  =  8.64962e-5\n",
       "  [20   ,     1]  =  0.000538449\n",
       "  [23   ,     1]  =  0.000109515\n",
       "  [30   ,     1]  =  0.000122153\n",
       "  [33   ,     1]  =  8.04193e-5\n",
       "  [42   ,     1]  =  0.000163534\n",
       "  [43   ,     1]  =  0.00020634\n",
       "  ⋮\n",
       "  [290  , 19717]  =  0.000363718\n",
       "  [297  , 19717]  =  0.000250035\n",
       "  [299  , 19717]  =  0.000470101\n",
       "  [319  , 19717]  =  0.000723053\n",
       "  [340  , 19717]  =  0.000600313\n",
       "  [347  , 19717]  =  0.000825912\n",
       "  [381  , 19717]  =  0.000390394\n",
       "  [402  , 19717]  =  0.000235919\n",
       "  [406  , 19717]  =  0.000584188\n",
       "  [428  , 19717]  =  0.000669598\n",
       "  [430  , 19717]  =  0.000708471\n",
       "  [450  , 19717]  =  0.000687058, Int32[0 1 0; 0 1 0; … ; 1 0 0; 0 0 1], 1:60, 61:560, [18748, 19393, 19182, 18844, 19222, 18963, 19561, 19098, 18967, 19015  …  19500, 19664, 19509, 18872, 19529, 19501, 19308, 19289, 19595, 19272])"
      ]
     },
     "execution_count": 73,
     "metadata": {},
     "output_type": "execute_result"
    }
   ],
   "source": [
    "adj, features, labels, idx_train, idx_val, idx_test = load_dataset(\"pubmed\")"
   ]
  },
  {
   "cell_type": "code",
   "execution_count": 74,
   "metadata": {},
   "outputs": [
    {
     "data": {
      "text/plain": [
       "GCN(GCLayer(P(Array{Float64,2}(16,500)), P(Array{Float32,1}(16)), \n",
       "  [1    ,     1]  =  0.166667\n",
       "  [1379 ,     1]  =  0.0671156\n",
       "  [1545 ,     1]  =  0.0680414\n",
       "  [6093 ,     1]  =  0.0816497\n",
       "  [7637 ,     1]  =  0.0870388\n",
       "  [14443,     1]  =  0.0890871\n",
       "  [2    ,     2]  =  0.25\n",
       "  [2944 ,     2]  =  0.138675\n",
       "  [8360 ,     2]  =  0.111803\n",
       "  [10200,     2]  =  0.223607\n",
       "  [3    ,     3]  =  0.25\n",
       "  [10472,     3]  =  0.144338\n",
       "  ⋮\n",
       "  [11821, 19712]  =  0.162221\n",
       "  [19712, 19712]  =  0.5\n",
       "  [2362 , 19713]  =  0.0640184\n",
       "  [19713, 19713]  =  0.5\n",
       "  [12205, 19714]  =  0.235702\n",
       "  [19714, 19714]  =  0.5\n",
       "  [12279, 19715]  =  0.166667\n",
       "  [19715, 19715]  =  0.5\n",
       "  [4285 , 19716]  =  0.196116\n",
       "  [19716, 19716]  =  0.5\n",
       "  [16031, 19717]  =  0.25\n",
       "  [19717, 19717]  =  0.5, NNlib.relu), GCLayer(P(Array{Float64,2}(3,16)), P(Array{Float32,1}(3)), \n",
       "  [1    ,     1]  =  0.166667\n",
       "  [1379 ,     1]  =  0.0671156\n",
       "  [1545 ,     1]  =  0.0680414\n",
       "  [6093 ,     1]  =  0.0816497\n",
       "  [7637 ,     1]  =  0.0870388\n",
       "  [14443,     1]  =  0.0890871\n",
       "  [2    ,     2]  =  0.25\n",
       "  [2944 ,     2]  =  0.138675\n",
       "  [8360 ,     2]  =  0.111803\n",
       "  [10200,     2]  =  0.223607\n",
       "  [3    ,     3]  =  0.25\n",
       "  [10472,     3]  =  0.144338\n",
       "  ⋮\n",
       "  [11821, 19712]  =  0.162221\n",
       "  [19712, 19712]  =  0.5\n",
       "  [2362 , 19713]  =  0.0640184\n",
       "  [19713, 19713]  =  0.5\n",
       "  [12205, 19714]  =  0.235702\n",
       "  [19714, 19714]  =  0.5\n",
       "  [12279, 19715]  =  0.166667\n",
       "  [19715, 19715]  =  0.5\n",
       "  [4285 , 19716]  =  0.196116\n",
       "  [19716, 19716]  =  0.5\n",
       "  [16031, 19717]  =  0.25\n",
       "  [19717, 19717]  =  0.5, identity), 0.5)"
      ]
     },
     "execution_count": 74,
     "metadata": {},
     "output_type": "execute_result"
    }
   ],
   "source": [
    "model = GCN(size(features,1),\n",
    "            arguments.hidden,\n",
    "            size(labels,2),\n",
    "            adj,\n",
    "            arguments.pdrop)"
   ]
  },
  {
   "cell_type": "code",
   "execution_count": 75,
   "metadata": {},
   "outputs": [
    {
     "data": {
      "text/plain": [
       "19717-element Array{Int64,1}:\n",
       " 2\n",
       " 2\n",
       " 1\n",
       " 3\n",
       " 2\n",
       " 3\n",
       " 3\n",
       " 2\n",
       " 3\n",
       " 2\n",
       " 3\n",
       " 3\n",
       " 3\n",
       " ⋮\n",
       " 1\n",
       " 1\n",
       " 3\n",
       " 3\n",
       " 3\n",
       " 3\n",
       " 1\n",
       " 3\n",
       " 1\n",
       " 3\n",
       " 1\n",
       " 3"
      ]
     },
     "execution_count": 75,
     "metadata": {},
     "output_type": "execute_result"
    }
   ],
   "source": [
    "labels_decoded = mapslices(argmax, labels ,dims=2)[:]"
   ]
  },
  {
   "cell_type": "code",
   "execution_count": 76,
   "metadata": {},
   "outputs": [
    {
     "data": {
      "text/plain": [
       "0.226"
      ]
     },
     "execution_count": 76,
     "metadata": {},
     "output_type": "execute_result"
    }
   ],
   "source": [
    "output = model(features)\n",
    "accuracy(output[:,idx_val], labels_decoded[idx_val])"
   ]
  },
  {
   "cell_type": "code",
   "execution_count": 77,
   "metadata": {},
   "outputs": [
    {
     "data": {
      "text/plain": [
       "Data{Tuple{SparseMatrixCSC{Float32,Int64},Array{Int64,1}}}(Float32[0.0 0.0 … 0.000312837 0.0; 0.0 0.0 … 0.0 0.000428267; … ; 0.0 0.0 … 0.0 0.0; 0.0 0.0 … 0.0 0.0], [2 2 … 1 3], 19717, 19717, false, 1, 1:19717, false, (500, 19717), (19717,), SparseMatrixCSC{Float32,Int64}, Array{Int64,1})"
      ]
     },
     "execution_count": 77,
     "metadata": {},
     "output_type": "execute_result"
    }
   ],
   "source": [
    "data =  minibatch(features, labels_decoded[:], length(labels_decoded))"
   ]
  },
  {
   "cell_type": "code",
   "execution_count": 78,
   "metadata": {},
   "outputs": [
    {
     "ename": "InterruptException",
     "evalue": "InterruptException:",
     "output_type": "error",
     "traceback": [
      "InterruptException:",
      "",
      "Stacktrace:",
      " [1] iterate at /Users/duygusezenislakoglu/.julia/packages/Knet/vxHRi/src/data.jl:63 [inlined]",
      " [2] iterate at /Users/duygusezenislakoglu/.julia/packages/Knet/vxHRi/src/data.jl:55 [inlined]",
      " [3] iterate at ./generator.jl:44 [inlined]",
      " [4] mean(::typeof(identity), ::Base.Generator{Data{Tuple{SparseMatrixCSC{Float32,Int64},Array{Int64,1}}},getfield(Main, Symbol(\"##55#56\")){GCN}}) at /Users/julia/buildbot/worker/package_macos64/build/usr/share/julia/stdlib/v1.1/Statistics/src/Statistics.jl:58",
      " [5] val_loss at /Users/julia/buildbot/worker/package_macos64/build/usr/share/julia/stdlib/v1.1/Statistics/src/Statistics.jl:42 [inlined]",
      " [6] (::getfield(Main, Symbol(\"#task#51\")){GCN,Data{Tuple{SparseMatrixCSC{Float32,Int64},Array{Int64,1}}},Int64,Array{Any,1},Array{Any,1}})() at ./In[49]:14",
      " [7] iterate at ./none:0 [inlined]",
      " [8] iterate at /Users/duygusezenislakoglu/.julia/packages/Knet/vxHRi/src/progress.jl:69 [inlined]",
      " [9] #progress!#692(::Base.Iterators.Pairs{Union{},Union{},Tuple{},NamedTuple{(),Tuple{}}}, ::Function, ::Base.Generator{Base.Iterators.Filter{getfield(Main, Symbol(\"##49#53\")),Base.Generator{Base.Iterators.Enumerate{Knet.Minimize{IterTools.NCycle{Data{Tuple{SparseMatrixCSC{Float32,Int64},Array{Int64,1}}}}}},getfield(Main, Symbol(\"##50#54\"))}},getfield(Main, Symbol(\"##48#52\")){getfield(Main, Symbol(\"#task#51\")){GCN,Data{Tuple{SparseMatrixCSC{Float32,Int64},Array{Int64,1}}},Int64,Array{Any,1},Array{Any,1}}}}) at /Users/duygusezenislakoglu/.julia/packages/Knet/vxHRi/src/progress.jl:58",
      " [10] progress! at /Users/duygusezenislakoglu/.julia/packages/Knet/vxHRi/src/progress.jl:58 [inlined]",
      " [11] mytrain!(::GCN, ::Data{Tuple{SparseMatrixCSC{Float32,Int64},Array{Int64,1}}}, ::Int64, ::Float64, ::Int64) at ./In[49]:32",
      " [12] top-level scope at In[78]:1"
     ]
    }
   ],
   "source": [
    "iters, trnloss, vallos = mytrain!(model, data, arguments.epochs, arguments.lr, arguments.window_size)"
   ]
  },
  {
   "cell_type": "code",
   "execution_count": 79,
   "metadata": {
    "scrolled": false
   },
   "outputs": [
    {
     "data": {
      "image/svg+xml": [
       "<?xml version=\"1.0\" encoding=\"utf-8\"?>\n",
       "<svg xmlns=\"http://www.w3.org/2000/svg\" xmlns:xlink=\"http://www.w3.org/1999/xlink\" width=\"600\" height=\"400\" viewBox=\"0 0 2400 1600\">\n",
       "<defs>\n",
       "  <clipPath id=\"clip5700\">\n",
       "    <rect x=\"0\" y=\"0\" width=\"2400\" height=\"1600\"/>\n",
       "  </clipPath>\n",
       "</defs>\n",
       "<path clip-path=\"url(#clip5700)\" d=\"\n",
       "M0 1600 L2400 1600 L2400 0 L0 0  Z\n",
       "  \" fill=\"#ffffff\" fill-rule=\"evenodd\" fill-opacity=\"1\"/>\n",
       "<defs>\n",
       "  <clipPath id=\"clip5701\">\n",
       "    <rect x=\"480\" y=\"0\" width=\"1681\" height=\"1600\"/>\n",
       "  </clipPath>\n",
       "</defs>\n",
       "<path clip-path=\"url(#clip5700)\" d=\"\n",
       "M242.516 1425.62 L2352.76 1425.62 L2352.76 47.2441 L242.516 47.2441  Z\n",
       "  \" fill=\"#ffffff\" fill-rule=\"evenodd\" fill-opacity=\"1\"/>\n",
       "<defs>\n",
       "  <clipPath id=\"clip5702\">\n",
       "    <rect x=\"242\" y=\"47\" width=\"2111\" height=\"1379\"/>\n",
       "  </clipPath>\n",
       "</defs>\n",
       "<polyline clip-path=\"url(#clip5702)\" style=\"stroke:#000000; stroke-width:2; stroke-opacity:0.1; fill:none\" points=\"\n",
       "  551.089,1425.62 551.089,47.2441 \n",
       "  \"/>\n",
       "<polyline clip-path=\"url(#clip5702)\" style=\"stroke:#000000; stroke-width:2; stroke-opacity:0.1; fill:none\" points=\"\n",
       "  965.838,1425.62 965.838,47.2441 \n",
       "  \"/>\n",
       "<polyline clip-path=\"url(#clip5702)\" style=\"stroke:#000000; stroke-width:2; stroke-opacity:0.1; fill:none\" points=\"\n",
       "  1380.59,1425.62 1380.59,47.2441 \n",
       "  \"/>\n",
       "<polyline clip-path=\"url(#clip5702)\" style=\"stroke:#000000; stroke-width:2; stroke-opacity:0.1; fill:none\" points=\"\n",
       "  1795.33,1425.62 1795.33,47.2441 \n",
       "  \"/>\n",
       "<polyline clip-path=\"url(#clip5702)\" style=\"stroke:#000000; stroke-width:2; stroke-opacity:0.1; fill:none\" points=\"\n",
       "  2210.08,1425.62 2210.08,47.2441 \n",
       "  \"/>\n",
       "<polyline clip-path=\"url(#clip5702)\" style=\"stroke:#000000; stroke-width:2; stroke-opacity:0.1; fill:none\" points=\"\n",
       "  242.516,1203.53 2352.76,1203.53 \n",
       "  \"/>\n",
       "<polyline clip-path=\"url(#clip5702)\" style=\"stroke:#000000; stroke-width:2; stroke-opacity:0.1; fill:none\" points=\"\n",
       "  242.516,852.862 2352.76,852.862 \n",
       "  \"/>\n",
       "<polyline clip-path=\"url(#clip5702)\" style=\"stroke:#000000; stroke-width:2; stroke-opacity:0.1; fill:none\" points=\"\n",
       "  242.516,502.194 2352.76,502.194 \n",
       "  \"/>\n",
       "<polyline clip-path=\"url(#clip5702)\" style=\"stroke:#000000; stroke-width:2; stroke-opacity:0.1; fill:none\" points=\"\n",
       "  242.516,151.525 2352.76,151.525 \n",
       "  \"/>\n",
       "<polyline clip-path=\"url(#clip5700)\" style=\"stroke:#000000; stroke-width:4; stroke-opacity:1; fill:none\" points=\"\n",
       "  242.516,1425.62 2352.76,1425.62 \n",
       "  \"/>\n",
       "<polyline clip-path=\"url(#clip5700)\" style=\"stroke:#000000; stroke-width:4; stroke-opacity:1; fill:none\" points=\"\n",
       "  242.516,1425.62 242.516,47.2441 \n",
       "  \"/>\n",
       "<polyline clip-path=\"url(#clip5700)\" style=\"stroke:#000000; stroke-width:4; stroke-opacity:1; fill:none\" points=\"\n",
       "  551.089,1425.62 551.089,1409.08 \n",
       "  \"/>\n",
       "<polyline clip-path=\"url(#clip5700)\" style=\"stroke:#000000; stroke-width:4; stroke-opacity:1; fill:none\" points=\"\n",
       "  965.838,1425.62 965.838,1409.08 \n",
       "  \"/>\n",
       "<polyline clip-path=\"url(#clip5700)\" style=\"stroke:#000000; stroke-width:4; stroke-opacity:1; fill:none\" points=\"\n",
       "  1380.59,1425.62 1380.59,1409.08 \n",
       "  \"/>\n",
       "<polyline clip-path=\"url(#clip5700)\" style=\"stroke:#000000; stroke-width:4; stroke-opacity:1; fill:none\" points=\"\n",
       "  1795.33,1425.62 1795.33,1409.08 \n",
       "  \"/>\n",
       "<polyline clip-path=\"url(#clip5700)\" style=\"stroke:#000000; stroke-width:4; stroke-opacity:1; fill:none\" points=\"\n",
       "  2210.08,1425.62 2210.08,1409.08 \n",
       "  \"/>\n",
       "<polyline clip-path=\"url(#clip5700)\" style=\"stroke:#000000; stroke-width:4; stroke-opacity:1; fill:none\" points=\"\n",
       "  242.516,1203.53 267.839,1203.53 \n",
       "  \"/>\n",
       "<polyline clip-path=\"url(#clip5700)\" style=\"stroke:#000000; stroke-width:4; stroke-opacity:1; fill:none\" points=\"\n",
       "  242.516,852.862 267.839,852.862 \n",
       "  \"/>\n",
       "<polyline clip-path=\"url(#clip5700)\" style=\"stroke:#000000; stroke-width:4; stroke-opacity:1; fill:none\" points=\"\n",
       "  242.516,502.194 267.839,502.194 \n",
       "  \"/>\n",
       "<polyline clip-path=\"url(#clip5700)\" style=\"stroke:#000000; stroke-width:4; stroke-opacity:1; fill:none\" points=\"\n",
       "  242.516,151.525 267.839,151.525 \n",
       "  \"/>\n",
       "<g clip-path=\"url(#clip5700)\">\n",
       "<text style=\"fill:#000000; fill-opacity:1; font-family:Arial,Helvetica Neue,Helvetica,sans-serif; font-size:48px; text-anchor:middle;\" transform=\"rotate(0, 551.089, 1479.62)\" x=\"551.089\" y=\"1479.62\">2.5</text>\n",
       "</g>\n",
       "<g clip-path=\"url(#clip5700)\">\n",
       "<text style=\"fill:#000000; fill-opacity:1; font-family:Arial,Helvetica Neue,Helvetica,sans-serif; font-size:48px; text-anchor:middle;\" transform=\"rotate(0, 965.838, 1479.62)\" x=\"965.838\" y=\"1479.62\">5.0</text>\n",
       "</g>\n",
       "<g clip-path=\"url(#clip5700)\">\n",
       "<text style=\"fill:#000000; fill-opacity:1; font-family:Arial,Helvetica Neue,Helvetica,sans-serif; font-size:48px; text-anchor:middle;\" transform=\"rotate(0, 1380.59, 1479.62)\" x=\"1380.59\" y=\"1479.62\">7.5</text>\n",
       "</g>\n",
       "<g clip-path=\"url(#clip5700)\">\n",
       "<text style=\"fill:#000000; fill-opacity:1; font-family:Arial,Helvetica Neue,Helvetica,sans-serif; font-size:48px; text-anchor:middle;\" transform=\"rotate(0, 1795.33, 1479.62)\" x=\"1795.33\" y=\"1479.62\">10.0</text>\n",
       "</g>\n",
       "<g clip-path=\"url(#clip5700)\">\n",
       "<text style=\"fill:#000000; fill-opacity:1; font-family:Arial,Helvetica Neue,Helvetica,sans-serif; font-size:48px; text-anchor:middle;\" transform=\"rotate(0, 2210.08, 1479.62)\" x=\"2210.08\" y=\"1479.62\">12.5</text>\n",
       "</g>\n",
       "<g clip-path=\"url(#clip5700)\">\n",
       "<text style=\"fill:#000000; fill-opacity:1; font-family:Arial,Helvetica Neue,Helvetica,sans-serif; font-size:48px; text-anchor:end;\" transform=\"rotate(0, 218.516, 1221.03)\" x=\"218.516\" y=\"1221.03\">1.65</text>\n",
       "</g>\n",
       "<g clip-path=\"url(#clip5700)\">\n",
       "<text style=\"fill:#000000; fill-opacity:1; font-family:Arial,Helvetica Neue,Helvetica,sans-serif; font-size:48px; text-anchor:end;\" transform=\"rotate(0, 218.516, 870.362)\" x=\"218.516\" y=\"870.362\">1.70</text>\n",
       "</g>\n",
       "<g clip-path=\"url(#clip5700)\">\n",
       "<text style=\"fill:#000000; fill-opacity:1; font-family:Arial,Helvetica Neue,Helvetica,sans-serif; font-size:48px; text-anchor:end;\" transform=\"rotate(0, 218.516, 519.694)\" x=\"218.516\" y=\"519.694\">1.75</text>\n",
       "</g>\n",
       "<g clip-path=\"url(#clip5700)\">\n",
       "<text style=\"fill:#000000; fill-opacity:1; font-family:Arial,Helvetica Neue,Helvetica,sans-serif; font-size:48px; text-anchor:end;\" transform=\"rotate(0, 218.516, 169.025)\" x=\"218.516\" y=\"169.025\">1.80</text>\n",
       "</g>\n",
       "<g clip-path=\"url(#clip5700)\">\n",
       "<text style=\"fill:#000000; fill-opacity:1; font-family:Arial,Helvetica Neue,Helvetica,sans-serif; font-size:66px; text-anchor:middle;\" transform=\"rotate(0, 1297.64, 1559.48)\" x=\"1297.64\" y=\"1559.48\">epochs</text>\n",
       "</g>\n",
       "<g clip-path=\"url(#clip5700)\">\n",
       "<text style=\"fill:#000000; fill-opacity:1; font-family:Arial,Helvetica Neue,Helvetica,sans-serif; font-size:66px; text-anchor:middle;\" transform=\"rotate(-90, 89.2861, 736.431)\" x=\"89.2861\" y=\"736.431\">loss</text>\n",
       "</g>\n",
       "<polyline clip-path=\"url(#clip5702)\" style=\"stroke:#009af9; stroke-width:4; stroke-opacity:1; fill:none\" points=\"\n",
       "  302.24,173.829 468.14,259.231 634.039,358.069 799.938,459.314 965.838,557.205 1131.74,657.28 1297.64,760.291 1463.54,865.109 1629.43,968.84 1795.33,1072.08 \n",
       "  1961.23,1175.51 2127.13,1280.94 2293.03,1386.61 \n",
       "  \"/>\n",
       "<polyline clip-path=\"url(#clip5702)\" style=\"stroke:#e26f46; stroke-width:4; stroke-opacity:1; fill:none\" points=\"\n",
       "  302.24,154.873 468.14,181.816 634.039,193.07 799.938,192.832 965.838,186.067 1131.74,180.459 1297.64,174.077 1463.54,168.035 1629.43,161.174 1795.33,149.091 \n",
       "  1961.23,132.158 2127.13,110.098 2293.03,86.2547 \n",
       "  \"/>\n",
       "<path clip-path=\"url(#clip5700)\" d=\"\n",
       "M1979.24 312.204 L2280.76 312.204 L2280.76 130.764 L1979.24 130.764  Z\n",
       "  \" fill=\"#ffffff\" fill-rule=\"evenodd\" fill-opacity=\"1\"/>\n",
       "<polyline clip-path=\"url(#clip5700)\" style=\"stroke:#000000; stroke-width:4; stroke-opacity:1; fill:none\" points=\"\n",
       "  1979.24,312.204 2280.76,312.204 2280.76,130.764 1979.24,130.764 1979.24,312.204 \n",
       "  \"/>\n",
       "<polyline clip-path=\"url(#clip5700)\" style=\"stroke:#009af9; stroke-width:4; stroke-opacity:1; fill:none\" points=\"\n",
       "  2003.24,191.244 2147.24,191.244 \n",
       "  \"/>\n",
       "<g clip-path=\"url(#clip5700)\">\n",
       "<text style=\"fill:#000000; fill-opacity:1; font-family:Arial,Helvetica Neue,Helvetica,sans-serif; font-size:48px; text-anchor:start;\" transform=\"rotate(0, 2171.24, 208.744)\" x=\"2171.24\" y=\"208.744\">trn</text>\n",
       "</g>\n",
       "<polyline clip-path=\"url(#clip5700)\" style=\"stroke:#e26f46; stroke-width:4; stroke-opacity:1; fill:none\" points=\"\n",
       "  2003.24,251.724 2147.24,251.724 \n",
       "  \"/>\n",
       "<g clip-path=\"url(#clip5700)\">\n",
       "<text style=\"fill:#000000; fill-opacity:1; font-family:Arial,Helvetica Neue,Helvetica,sans-serif; font-size:48px; text-anchor:start;\" transform=\"rotate(0, 2171.24, 269.224)\" x=\"2171.24\" y=\"269.224\">val</text>\n",
       "</g>\n",
       "</svg>\n"
      ]
     },
     "execution_count": 79,
     "metadata": {},
     "output_type": "execute_result"
    }
   ],
   "source": [
    "plot(iters, [trnloss, vallos] , xlim=(1:3),labels=[:trn :val :tst], xlabel=\"epochs\", ylabel=\"loss\")"
   ]
  },
  {
   "cell_type": "code",
   "execution_count": 80,
   "metadata": {},
   "outputs": [
    {
     "data": {
      "text/plain": [
       "0.31666666666666665"
      ]
     },
     "execution_count": 80,
     "metadata": {},
     "output_type": "execute_result"
    }
   ],
   "source": [
    "output = model(features)\n",
    "accuracy(output[:,idx_train], labels_decoded[idx_train])"
   ]
  },
  {
   "cell_type": "code",
   "execution_count": 81,
   "metadata": {},
   "outputs": [
    {
     "data": {
      "text/plain": [
       "0.303"
      ]
     },
     "execution_count": 81,
     "metadata": {},
     "output_type": "execute_result"
    }
   ],
   "source": [
    "accuracy(output[:,idx_test], labels_decoded[idx_test])"
   ]
  },
  {
   "cell_type": "code",
   "execution_count": 82,
   "metadata": {},
   "outputs": [],
   "source": [
    "png(\"pubmed\")"
   ]
  },
  {
   "cell_type": "code",
   "execution_count": null,
   "metadata": {},
   "outputs": [],
   "source": []
  }
 ],
 "metadata": {
  "kernelspec": {
   "display_name": "Julia 1.1.1",
   "language": "julia",
   "name": "julia-1.1"
  },
  "language_info": {
   "file_extension": ".jl",
   "mimetype": "application/julia",
   "name": "julia",
   "version": "1.1.1"
  }
 },
 "nbformat": 4,
 "nbformat_minor": 2
}
