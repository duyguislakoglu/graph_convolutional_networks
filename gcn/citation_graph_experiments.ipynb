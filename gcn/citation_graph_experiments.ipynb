{
 "cells": [
  {
   "cell_type": "code",
   "execution_count": 1,
   "metadata": {},
   "outputs": [
    {
     "name": "stderr",
     "output_type": "stream",
     "text": [
      "┌ Warning: `getindex(o::PyObject, s::AbstractString)` is deprecated in favor of dot overloading (`getproperty`) so elements should now be accessed as e.g. `o.\"s\"` instead of `o[\"s\"]`.\n",
      "│   caller = top-level scope at none:0\n",
      "└ @ Core none:0\n",
      "┌ Warning: `getindex(o::PyObject, s::AbstractString)` is deprecated in favor of dot overloading (`getproperty`) so elements should now be accessed as e.g. `o.\"s\"` instead of `o[\"s\"]`.\n",
      "│   caller = top-level scope at none:0\n",
      "└ @ Core none:0\n",
      "WARNING: redefining constant scipy_sparse_find\n"
     ]
    }
   ],
   "source": [
    "using Pkg\n",
    "for p in [\"Knet\", \"Plots\", \"IterTools\",\"PyCall\"]\n",
    "    if !haskey(Pkg.installed(),p)\n",
    "        Pkg.add(p);\n",
    "    end\n",
    "end\n",
    "using DelimitedFiles\n",
    "using Knet: KnetArray, accuracy, progress, minibatch, cycle, adam, sgd\n",
    "using Plots\n",
    "using IterTools: ncycle, takenth, take\n",
    "using Base.Iterators: flatten\n",
    "using LinearAlgebra\n",
    "\n",
    "include(\"utils.jl\")\n",
    "include(\"utils2.jl\")\n",
    "include(\"models.jl\")"
   ]
  },
  {
   "cell_type": "code",
   "execution_count": 2,
   "metadata": {},
   "outputs": [
    {
     "data": {
      "text/plain": [
       "(Float32[0.0 0.0 … 0.0 0.0; 0.0 0.0 … 0.0 0.0; … ; 0.0 0.0 … 0.0 1.0; 0.0 0.0 … 1.0 0.0], Float32[0.0 0.0 … 0.0 0.0; 0.0 0.0 … 0.0 0.0; … ; 0.0 0.0 … 0.0 0.0; 0.0 0.0 … 0.0 0.0], Int32[0 0 … 0 0; 0 0 … 0 0; … ; 0 0 … 0 0; 0 0 … 0 0], 1:140, 200:499, [2692, 2532, 2050, 1715, 2362, 2609, 2622, 1975, 2081, 1767  …  1885, 2305, 2354, 2135, 2601, 1770, 1995, 2504, 1749, 2157])"
      ]
     },
     "execution_count": 2,
     "metadata": {},
     "output_type": "execute_result"
    }
   ],
   "source": [
    "adj, features, labels, idx_train, idx_val, idx_test = load_dataset(\"pubmed\")"
   ]
  },
  {
   "cell_type": "code",
   "execution_count": 3,
   "metadata": {},
   "outputs": [],
   "source": [
    "# TODO: take user inputs\n",
    "struct args\n",
    "    epochs\n",
    "    lr\n",
    "    weight_decay\n",
    "    hidden\n",
    "    pdrop\n",
    "end\n",
    "\n",
    "arguments = args(200, 0.01, 5e-4, 16, 0.5)\n",
    "\n",
    "# Model and optimizer\n",
    "model = GCN(size(features,1),\n",
    "            arguments.hidden,\n",
    "            size(labels,2),\n",
    "            adj,\n",
    "            arguments.pdrop)\n",
    "\n",
    "#(g::GCN)(x,y) = nll(g(x)[:, idx_train], y[idx_train]) + (arguments.weight_decay * sum(g.layer1.w .* g.layer1.w)) \n",
    "(g::GCN)(x,y) = nll(g(x)[:, idx_train], y[idx_train])"
   ]
  },
  {
   "cell_type": "code",
   "execution_count": 4,
   "metadata": {},
   "outputs": [
    {
     "data": {
      "text/plain": [
       "7×2708 Array{Float32,2}:\n",
       "  0.579778   0.46976     2.25304   …   0.183975    1.12264    0.762287\n",
       "  0.268981  -0.441714   -2.70198       0.0554833  -0.623758  -1.71986 \n",
       "  0.48013   -0.3996      3.10413       0.228829   -0.334136   0.409158\n",
       "  0.959933   0.846392    5.80377       0.233078    0.433106   1.01558 \n",
       "  0.108842   0.138248    0.361531     -0.0245054   0.450485   1.12525 \n",
       " -0.740321  -0.98363    -6.15859   …  -0.125426   -0.538799  -3.47725 \n",
       "  0.396743  -0.0180696   0.208066     -0.02987    -0.716787  -0.827117"
      ]
     },
     "execution_count": 4,
     "metadata": {},
     "output_type": "execute_result"
    }
   ],
   "source": [
    "output = model(features)"
   ]
  },
  {
   "cell_type": "code",
   "execution_count": 5,
   "metadata": {},
   "outputs": [
    {
     "data": {
      "text/plain": [
       "2708-element Array{Int64,1}:\n",
       " 4\n",
       " 5\n",
       " 5\n",
       " 1\n",
       " 4\n",
       " 3\n",
       " 1\n",
       " 4\n",
       " 4\n",
       " 3\n",
       " 1\n",
       " 1\n",
       " 5\n",
       " ⋮\n",
       " 4\n",
       " 4\n",
       " 4\n",
       " 4\n",
       " 4\n",
       " 4\n",
       " 1\n",
       " 4\n",
       " 4\n",
       " 4\n",
       " 4\n",
       " 4"
      ]
     },
     "execution_count": 5,
     "metadata": {},
     "output_type": "execute_result"
    }
   ],
   "source": [
    "labels_decoded = mapslices(argmax, labels ,dims=2)[:]"
   ]
  },
  {
   "cell_type": "code",
   "execution_count": 6,
   "metadata": {},
   "outputs": [
    {
     "data": {
      "text/plain": [
       "2.6612124f0"
      ]
     },
     "execution_count": 6,
     "metadata": {},
     "output_type": "execute_result"
    }
   ],
   "source": [
    "nll(output[:,idx_train], labels_decoded[idx_train])"
   ]
  },
  {
   "cell_type": "code",
   "execution_count": 7,
   "metadata": {},
   "outputs": [
    {
     "data": {
      "text/plain": [
       "0.18571428571428572"
      ]
     },
     "execution_count": 7,
     "metadata": {},
     "output_type": "execute_result"
    }
   ],
   "source": [
    "accuracy(output[:,idx_train], labels_decoded[idx_train])"
   ]
  },
  {
   "cell_type": "code",
   "execution_count": 8,
   "metadata": {},
   "outputs": [
    {
     "data": {
      "text/plain": [
       "16×1433 Array{Float32,2}:\n",
       " -0.000824162  -0.00182515  -0.00483662  …  -0.0124904   -0.00596719 \n",
       "  0.00358073   -0.236511    -0.102171        0.0411073   -0.00983443 \n",
       "  0.0323394     0.0748771    0.111458        0.0746539    0.0145421  \n",
       "  0.0208491     0.135998     0.0842307       0.0205035   -0.0122978  \n",
       "  0.024518      0.00802783  -0.00706878      0.0275784    0.0228897  \n",
       "  0.0662343     0.0502889    0.150608    …   0.0433969   -0.0155074  \n",
       "  0.00275134   -0.00504356   0.0230389       0.0483609   -0.000697833\n",
       "  0.0638657     0.163779     0.150438        0.00928316   0.00414632 \n",
       "  0.00182825    0.508615     0.31634         0.0466829   -0.0044823  \n",
       "  0.00167612    0.0256201    0.0254036       0.0136985   -0.00133996 \n",
       "  2.76735e-5    0.010157     0.0326048   …   0.01374     -0.00839452 \n",
       "  0.000678877  -0.00285596   0.0316662       0.0209202    0.0127084  \n",
       " -0.00351536    0.187871     0.0133593       0.0867853    0.0026272  \n",
       "  0.0283946    -0.109789    -0.00388389      0.0685921    0.0311271  \n",
       "  0.0           0.0234565   -0.00805508     -0.00857813  -0.00343481 \n",
       "  0.0           0.0132638    0.00338855  …   0.031628     0.00657194 "
      ]
     },
     "execution_count": 8,
     "metadata": {},
     "output_type": "execute_result"
    }
   ],
   "source": [
    "using AutoGrad\n",
    "J = @diff model(features, labels_decoded)\n",
    "grad(J, params(model)[1])"
   ]
  },
  {
   "cell_type": "code",
   "execution_count": 9,
   "metadata": {},
   "outputs": [
    {
     "data": {
      "text/plain": [
       "Data{Tuple{Array{Float32,2},Array{Int64,1}}}(Float32[0.0 0.0 … 0.0 0.0; 0.0 0.0 … 0.0 0.0; … ; 0.0 0.0 … 0.0 0.0; 0.0 0.0 … 0.0 0.0], [4 5 … 4 4], 2708, 2708, false, 1, 1:2708, false, (1433, 2708), (2708,), Array{Float32,2}, Array{Int64,1})"
      ]
     },
     "execution_count": 9,
     "metadata": {},
     "output_type": "execute_result"
    }
   ],
   "source": [
    "dtrn =  minibatch(features, labels_decoded[:], length(labels_decoded))"
   ]
  },
  {
   "cell_type": "code",
   "execution_count": 10,
   "metadata": {},
   "outputs": [
    {
     "data": {
      "text/plain": [
       "train_with_results (generic function with 1 method)"
      ]
     },
     "execution_count": 10,
     "metadata": {},
     "output_type": "execute_result"
    }
   ],
   "source": [
    "function train_with_results(model, dtrn, epoch, lr)\n",
    "    training = adam(model, ncycle(dtrn, epoch), lr=lr)\n",
    "    snapshot() = model(dtrn)\n",
    "    snapshots = (snapshot() for x in takenth(progress(training),length(dtrn)))\n",
    "    res = collect(flatten(snapshots))\n",
    "    return res\n",
    "end"
   ]
  },
  {
   "cell_type": "code",
   "execution_count": 11,
   "metadata": {},
   "outputs": [
    {
     "name": "stderr",
     "output_type": "stream",
     "text": [
      "┣████████████████████┫ [100.00%, 200/200, 00:24/00:24, 8.50i/s] \n"
     ]
    },
    {
     "data": {
      "image/svg+xml": [
       "<?xml version=\"1.0\" encoding=\"utf-8\"?>\n",
       "<svg xmlns=\"http://www.w3.org/2000/svg\" xmlns:xlink=\"http://www.w3.org/1999/xlink\" width=\"600\" height=\"400\" viewBox=\"0 0 2400 1600\">\n",
       "<defs>\n",
       "  <clipPath id=\"clip6100\">\n",
       "    <rect x=\"0\" y=\"0\" width=\"2400\" height=\"1600\"/>\n",
       "  </clipPath>\n",
       "</defs>\n",
       "<path clip-path=\"url(#clip6100)\" d=\"\n",
       "M0 1600 L2400 1600 L2400 0 L0 0  Z\n",
       "  \" fill=\"#ffffff\" fill-rule=\"evenodd\" fill-opacity=\"1\"/>\n",
       "<defs>\n",
       "  <clipPath id=\"clip6101\">\n",
       "    <rect x=\"480\" y=\"0\" width=\"1681\" height=\"1600\"/>\n",
       "  </clipPath>\n",
       "</defs>\n",
       "<path clip-path=\"url(#clip6100)\" d=\"\n",
       "M215.754 1425.62 L2352.76 1425.62 L2352.76 47.2441 L215.754 47.2441  Z\n",
       "  \" fill=\"#ffffff\" fill-rule=\"evenodd\" fill-opacity=\"1\"/>\n",
       "<defs>\n",
       "  <clipPath id=\"clip6102\">\n",
       "    <rect x=\"215\" y=\"47\" width=\"2138\" height=\"1379\"/>\n",
       "  </clipPath>\n",
       "</defs>\n",
       "<polyline clip-path=\"url(#clip6102)\" style=\"stroke:#000000; stroke-width:2; stroke-opacity:0.1; fill:none\" points=\"\n",
       "  266.104,1425.62 266.104,47.2441 \n",
       "  \"/>\n",
       "<polyline clip-path=\"url(#clip6102)\" style=\"stroke:#000000; stroke-width:2; stroke-opacity:0.1; fill:none\" points=\"\n",
       "  772.647,1425.62 772.647,47.2441 \n",
       "  \"/>\n",
       "<polyline clip-path=\"url(#clip6102)\" style=\"stroke:#000000; stroke-width:2; stroke-opacity:0.1; fill:none\" points=\"\n",
       "  1279.19,1425.62 1279.19,47.2441 \n",
       "  \"/>\n",
       "<polyline clip-path=\"url(#clip6102)\" style=\"stroke:#000000; stroke-width:2; stroke-opacity:0.1; fill:none\" points=\"\n",
       "  1785.73,1425.62 1785.73,47.2441 \n",
       "  \"/>\n",
       "<polyline clip-path=\"url(#clip6102)\" style=\"stroke:#000000; stroke-width:2; stroke-opacity:0.1; fill:none\" points=\"\n",
       "  2292.27,1425.62 2292.27,47.2441 \n",
       "  \"/>\n",
       "<polyline clip-path=\"url(#clip6102)\" style=\"stroke:#000000; stroke-width:2; stroke-opacity:0.1; fill:none\" points=\"\n",
       "  215.754,1425.62 2352.76,1425.62 \n",
       "  \"/>\n",
       "<polyline clip-path=\"url(#clip6102)\" style=\"stroke:#000000; stroke-width:2; stroke-opacity:0.1; fill:none\" points=\"\n",
       "  215.754,1081.02 2352.76,1081.02 \n",
       "  \"/>\n",
       "<polyline clip-path=\"url(#clip6102)\" style=\"stroke:#000000; stroke-width:2; stroke-opacity:0.1; fill:none\" points=\"\n",
       "  215.754,736.431 2352.76,736.431 \n",
       "  \"/>\n",
       "<polyline clip-path=\"url(#clip6102)\" style=\"stroke:#000000; stroke-width:2; stroke-opacity:0.1; fill:none\" points=\"\n",
       "  215.754,391.838 2352.76,391.838 \n",
       "  \"/>\n",
       "<polyline clip-path=\"url(#clip6102)\" style=\"stroke:#000000; stroke-width:2; stroke-opacity:0.1; fill:none\" points=\"\n",
       "  215.754,47.2441 2352.76,47.2441 \n",
       "  \"/>\n",
       "<polyline clip-path=\"url(#clip6100)\" style=\"stroke:#000000; stroke-width:4; stroke-opacity:1; fill:none\" points=\"\n",
       "  215.754,1425.62 2352.76,1425.62 \n",
       "  \"/>\n",
       "<polyline clip-path=\"url(#clip6100)\" style=\"stroke:#000000; stroke-width:4; stroke-opacity:1; fill:none\" points=\"\n",
       "  215.754,1425.62 215.754,47.2441 \n",
       "  \"/>\n",
       "<polyline clip-path=\"url(#clip6100)\" style=\"stroke:#000000; stroke-width:4; stroke-opacity:1; fill:none\" points=\"\n",
       "  266.104,1425.62 266.104,1409.08 \n",
       "  \"/>\n",
       "<polyline clip-path=\"url(#clip6100)\" style=\"stroke:#000000; stroke-width:4; stroke-opacity:1; fill:none\" points=\"\n",
       "  772.647,1425.62 772.647,1409.08 \n",
       "  \"/>\n",
       "<polyline clip-path=\"url(#clip6100)\" style=\"stroke:#000000; stroke-width:4; stroke-opacity:1; fill:none\" points=\"\n",
       "  1279.19,1425.62 1279.19,1409.08 \n",
       "  \"/>\n",
       "<polyline clip-path=\"url(#clip6100)\" style=\"stroke:#000000; stroke-width:4; stroke-opacity:1; fill:none\" points=\"\n",
       "  1785.73,1425.62 1785.73,1409.08 \n",
       "  \"/>\n",
       "<polyline clip-path=\"url(#clip6100)\" style=\"stroke:#000000; stroke-width:4; stroke-opacity:1; fill:none\" points=\"\n",
       "  2292.27,1425.62 2292.27,1409.08 \n",
       "  \"/>\n",
       "<polyline clip-path=\"url(#clip6100)\" style=\"stroke:#000000; stroke-width:4; stroke-opacity:1; fill:none\" points=\"\n",
       "  215.754,1425.62 241.398,1425.62 \n",
       "  \"/>\n",
       "<polyline clip-path=\"url(#clip6100)\" style=\"stroke:#000000; stroke-width:4; stroke-opacity:1; fill:none\" points=\"\n",
       "  215.754,1081.02 241.398,1081.02 \n",
       "  \"/>\n",
       "<polyline clip-path=\"url(#clip6100)\" style=\"stroke:#000000; stroke-width:4; stroke-opacity:1; fill:none\" points=\"\n",
       "  215.754,736.431 241.398,736.431 \n",
       "  \"/>\n",
       "<polyline clip-path=\"url(#clip6100)\" style=\"stroke:#000000; stroke-width:4; stroke-opacity:1; fill:none\" points=\"\n",
       "  215.754,391.838 241.398,391.838 \n",
       "  \"/>\n",
       "<polyline clip-path=\"url(#clip6100)\" style=\"stroke:#000000; stroke-width:4; stroke-opacity:1; fill:none\" points=\"\n",
       "  215.754,47.2441 241.398,47.2441 \n",
       "  \"/>\n",
       "<g clip-path=\"url(#clip6100)\">\n",
       "<text style=\"fill:#000000; fill-opacity:1; font-family:Arial,Helvetica Neue,Helvetica,sans-serif; font-size:48px; text-anchor:middle;\" transform=\"rotate(0, 266.104, 1479.62)\" x=\"266.104\" y=\"1479.62\">0</text>\n",
       "</g>\n",
       "<g clip-path=\"url(#clip6100)\">\n",
       "<text style=\"fill:#000000; fill-opacity:1; font-family:Arial,Helvetica Neue,Helvetica,sans-serif; font-size:48px; text-anchor:middle;\" transform=\"rotate(0, 772.647, 1479.62)\" x=\"772.647\" y=\"1479.62\">50</text>\n",
       "</g>\n",
       "<g clip-path=\"url(#clip6100)\">\n",
       "<text style=\"fill:#000000; fill-opacity:1; font-family:Arial,Helvetica Neue,Helvetica,sans-serif; font-size:48px; text-anchor:middle;\" transform=\"rotate(0, 1279.19, 1479.62)\" x=\"1279.19\" y=\"1479.62\">100</text>\n",
       "</g>\n",
       "<g clip-path=\"url(#clip6100)\">\n",
       "<text style=\"fill:#000000; fill-opacity:1; font-family:Arial,Helvetica Neue,Helvetica,sans-serif; font-size:48px; text-anchor:middle;\" transform=\"rotate(0, 1785.73, 1479.62)\" x=\"1785.73\" y=\"1479.62\">150</text>\n",
       "</g>\n",
       "<g clip-path=\"url(#clip6100)\">\n",
       "<text style=\"fill:#000000; fill-opacity:1; font-family:Arial,Helvetica Neue,Helvetica,sans-serif; font-size:48px; text-anchor:middle;\" transform=\"rotate(0, 2292.27, 1479.62)\" x=\"2292.27\" y=\"1479.62\">200</text>\n",
       "</g>\n",
       "<g clip-path=\"url(#clip6100)\">\n",
       "<text style=\"fill:#000000; fill-opacity:1; font-family:Arial,Helvetica Neue,Helvetica,sans-serif; font-size:48px; text-anchor:end;\" transform=\"rotate(0, 191.754, 1443.12)\" x=\"191.754\" y=\"1443.12\">0.0</text>\n",
       "</g>\n",
       "<g clip-path=\"url(#clip6100)\">\n",
       "<text style=\"fill:#000000; fill-opacity:1; font-family:Arial,Helvetica Neue,Helvetica,sans-serif; font-size:48px; text-anchor:end;\" transform=\"rotate(0, 191.754, 1098.52)\" x=\"191.754\" y=\"1098.52\">0.5</text>\n",
       "</g>\n",
       "<g clip-path=\"url(#clip6100)\">\n",
       "<text style=\"fill:#000000; fill-opacity:1; font-family:Arial,Helvetica Neue,Helvetica,sans-serif; font-size:48px; text-anchor:end;\" transform=\"rotate(0, 191.754, 753.931)\" x=\"191.754\" y=\"753.931\">1.0</text>\n",
       "</g>\n",
       "<g clip-path=\"url(#clip6100)\">\n",
       "<text style=\"fill:#000000; fill-opacity:1; font-family:Arial,Helvetica Neue,Helvetica,sans-serif; font-size:48px; text-anchor:end;\" transform=\"rotate(0, 191.754, 409.338)\" x=\"191.754\" y=\"409.338\">1.5</text>\n",
       "</g>\n",
       "<g clip-path=\"url(#clip6100)\">\n",
       "<text style=\"fill:#000000; fill-opacity:1; font-family:Arial,Helvetica Neue,Helvetica,sans-serif; font-size:48px; text-anchor:end;\" transform=\"rotate(0, 191.754, 64.7441)\" x=\"191.754\" y=\"64.7441\">2.0</text>\n",
       "</g>\n",
       "<g clip-path=\"url(#clip6100)\">\n",
       "<text style=\"fill:#000000; fill-opacity:1; font-family:Arial,Helvetica Neue,Helvetica,sans-serif; font-size:66px; text-anchor:middle;\" transform=\"rotate(0, 1284.25, 1559.48)\" x=\"1284.25\" y=\"1559.48\">Epochs</text>\n",
       "</g>\n",
       "<g clip-path=\"url(#clip6100)\">\n",
       "<text style=\"fill:#000000; fill-opacity:1; font-family:Arial,Helvetica Neue,Helvetica,sans-serif; font-size:66px; text-anchor:middle;\" transform=\"rotate(-90, 89.2861, 736.431)\" x=\"89.2861\" y=\"736.431\">Loss</text>\n",
       "</g>\n",
       "<polyline clip-path=\"url(#clip6102)\" style=\"stroke:#009af9; stroke-width:4; stroke-opacity:1; fill:none\" points=\"\n",
       "  276.235,345.972 286.366,357.324 296.497,664.75 306.628,739.632 316.759,663.581 326.89,663.619 337.02,859.053 347.151,920.319 357.282,967.095 367.413,1015.14 \n",
       "  377.544,1059.5 387.675,1098.64 397.805,1131.25 407.936,1156.04 418.067,1178.51 428.198,1198.64 438.329,1215.45 448.46,1228.46 458.591,1241.04 468.721,1253.41 \n",
       "  478.852,1265.79 488.983,1276.25 499.114,1285.87 509.245,1295.49 519.376,1304.75 529.507,1311.35 539.637,1317.14 549.768,1322.3 559.899,1327.57 570.03,1332.93 \n",
       "  580.161,1337.36 590.292,1341.06 600.423,1344.36 610.553,1347.36 620.684,1350.44 630.815,1353.95 640.946,1356.96 651.077,1359.68 661.208,1362.93 671.338,1365.92 \n",
       "  681.469,1368.7 691.6,1371.53 701.731,1374.06 711.862,1376.55 721.993,1377.62 732.124,1378.99 742.254,1380.41 752.385,1381.97 762.516,1383.45 772.647,1384.27 \n",
       "  782.778,1385.05 792.909,1385.95 803.04,1387.02 813.17,1388.09 823.301,1389.11 833.432,1390.27 843.563,1390.7 853.694,1392.17 863.825,1393.05 873.956,1393.96 \n",
       "  884.086,1394.78 894.217,1395.53 904.348,1396.2 914.479,1396.48 924.61,1396.66 934.741,1396.79 944.871,1396.93 955.002,1397.11 965.133,1397.46 975.264,1397.83 \n",
       "  985.395,1398.15 995.526,1398.57 1005.66,1399.03 1015.79,1399.5 1025.92,1399.94 1036.05,1400.4 1046.18,1400.84 1056.31,1401.31 1066.44,1401.82 1076.57,1402.32 \n",
       "  1086.7,1402.81 1096.83,1403.32 1106.97,1403.79 1117.1,1404.29 1127.23,1404.75 1137.36,1405.17 1147.49,1405.54 1157.62,1405.9 1167.75,1406.25 1177.88,1406.57 \n",
       "  1188.01,1406.9 1198.14,1407.35 1208.27,1407.46 1218.4,1407.3 1228.54,1406.89 1238.67,1406.31 1248.8,1405.68 1258.93,1404.99 1269.06,1404.27 1279.19,1403.33 \n",
       "  1289.32,1402.79 1299.45,1402.32 1309.58,1401.64 1319.71,1400.95 1329.84,1400.19 1339.97,1401.13 1350.11,1402.52 1360.24,1403.62 1370.37,1404.48 1380.5,1405.1 \n",
       "  1390.63,1405.56 1400.76,1405.92 1410.89,1405.94 1421.02,1405.98 1431.15,1405.94 1441.28,1405.93 1451.41,1405.86 1461.54,1406.15 1471.68,1406.5 1481.81,1406.83 \n",
       "  1491.94,1407.14 1502.07,1407.64 1512.2,1408.1 1522.33,1408.66 1532.46,1409.16 1542.59,1409.67 1552.72,1410.18 1562.85,1410.69 1572.98,1411.19 1583.12,1411.74 \n",
       "  1593.25,1412.26 1603.38,1412.76 1613.51,1413.21 1623.64,1413.6 1633.77,1413.92 1643.9,1414.2 1654.03,1414.46 1664.16,1414.72 1674.29,1414.93 1684.42,1415.11 \n",
       "  1694.55,1415.28 1704.69,1415.45 1714.82,1415.66 1724.95,1415.89 1735.08,1416.11 1745.21,1416.31 1755.34,1416.5 1765.47,1416.7 1775.6,1416.8 1785.73,1416.92 \n",
       "  1795.86,1417.05 1805.99,1417.18 1816.12,1417.29 1826.26,1417.41 1836.39,1417.55 1846.52,1417.68 1856.65,1417.81 1866.78,1417.94 1876.91,1418.08 1887.04,1418.18 \n",
       "  1897.17,1418.29 1907.3,1418.41 1917.43,1418.5 1927.56,1418.58 1937.69,1418.66 1947.83,1418.77 1957.96,1418.88 1968.09,1418.96 1978.22,1419.04 1988.35,1419.13 \n",
       "  1998.48,1419.19 2008.61,1419.25 2018.74,1419.32 2028.87,1419.37 2039,1419.42 2049.13,1419.48 2059.27,1419.57 2069.4,1419.64 2079.53,1419.73 2089.66,1419.79 \n",
       "  2099.79,1419.84 2109.92,1419.88 2120.05,1419.92 2130.18,1419.95 2140.31,1419.93 2150.44,1419.89 2160.57,1419.85 2170.7,1419.84 2180.84,1419.8 2190.97,1419.76 \n",
       "  2201.1,1419.7 2211.23,1419.65 2221.36,1419.64 2231.49,1419.63 2241.62,1419.64 2251.75,1419.66 2261.88,1419.69 2272.01,1419.68 2282.14,1419.73 2292.27,1419.76 \n",
       "  \n",
       "  \"/>\n",
       "<path clip-path=\"url(#clip6100)\" d=\"\n",
       "M1698.38 251.724 L2280.76 251.724 L2280.76 130.764 L1698.38 130.764  Z\n",
       "  \" fill=\"#ffffff\" fill-rule=\"evenodd\" fill-opacity=\"1\"/>\n",
       "<polyline clip-path=\"url(#clip6100)\" style=\"stroke:#000000; stroke-width:4; stroke-opacity:1; fill:none\" points=\"\n",
       "  1698.38,251.724 2280.76,251.724 2280.76,130.764 1698.38,130.764 1698.38,251.724 \n",
       "  \"/>\n",
       "<polyline clip-path=\"url(#clip6100)\" style=\"stroke:#009af9; stroke-width:4; stroke-opacity:1; fill:none\" points=\"\n",
       "  1722.38,191.244 1866.38,191.244 \n",
       "  \"/>\n",
       "<g clip-path=\"url(#clip6100)\">\n",
       "<text style=\"fill:#000000; fill-opacity:1; font-family:Arial,Helvetica Neue,Helvetica,sans-serif; font-size:48px; text-anchor:start;\" transform=\"rotate(0, 1890.38, 208.744)\" x=\"1890.38\" y=\"208.744\">Symbol[:trnloss]</text>\n",
       "</g>\n",
       "</svg>\n"
      ]
     },
     "execution_count": 11,
     "metadata": {},
     "output_type": "execute_result"
    }
   ],
   "source": [
    "results = train_with_results(model, dtrn, arguments.epochs, arguments.lr)\n",
    "trnloss = Array{Float32}(results)\n",
    "plot(trnloss, ylim=(0.0,2.0),labels=[:trnloss],xlabel=\"Epochs\",ylabel=\"Loss\")"
   ]
  },
  {
   "cell_type": "code",
   "execution_count": 12,
   "metadata": {},
   "outputs": [
    {
     "data": {
      "text/plain": [
       "1.0"
      ]
     },
     "execution_count": 12,
     "metadata": {},
     "output_type": "execute_result"
    }
   ],
   "source": [
    "output = model(features)\n",
    "accuracy(output[:,idx_train], labels_decoded[idx_train])"
   ]
  },
  {
   "cell_type": "code",
   "execution_count": 13,
   "metadata": {},
   "outputs": [
    {
     "data": {
      "text/plain": [
       "0.72"
      ]
     },
     "execution_count": 13,
     "metadata": {},
     "output_type": "execute_result"
    }
   ],
   "source": [
    "output = model(features)\n",
    "accuracy(output[:,idx_test], labels_decoded[idx_test])"
   ]
  },
  {
   "cell_type": "code",
   "execution_count": 14,
   "metadata": {},
   "outputs": [
    {
     "data": {
      "text/plain": [
       "(Float32[0.0 0.0 … 0.0 0.0; 0.0 0.0 … 0.0 0.0; … ; 0.0 0.0 … 0.0 1.0; 0.0 0.0 … 1.0 0.0], Float32[0.0 0.0 … 0.0 0.0; 0.0 0.0 … 0.0 0.0; … ; 0.0 0.0 … 0.0 0.0; 0.0 0.0 … 0.0 0.0], Int32[0 0 … 0 0; 0 0 … 0 0; … ; 0 0 … 0 0; 0 0 … 0 0], 1:140, 200:499, [2692, 2532, 2050, 1715, 2362, 2609, 2622, 1975, 2081, 1767  …  1885, 2305, 2354, 2135, 2601, 1770, 1995, 2504, 1749, 2157])"
      ]
     },
     "execution_count": 14,
     "metadata": {},
     "output_type": "execute_result"
    }
   ],
   "source": [
    "adj, features, labels, idx_train, idx_val, idx_test = load_dataset(\"citeseer\")"
   ]
  },
  {
   "cell_type": "code",
   "execution_count": 15,
   "metadata": {},
   "outputs": [],
   "source": [
    "# TODO: take user inputs\n",
    "struct args\n",
    "    epochs\n",
    "    lr\n",
    "    weight_decay\n",
    "    hidden\n",
    "    pdrop\n",
    "end\n",
    "\n",
    "arguments = args(200, 0.01, 5e-4, 16, 0.5)\n",
    "\n",
    "# Model and optimizer\n",
    "model = GCN(size(features,1),\n",
    "            arguments.hidden,\n",
    "            size(labels,2),\n",
    "            adj,\n",
    "            arguments.pdrop)\n",
    "\n",
    "#(g::GCN)(x,y) = nll(g(x)[:, idx_train], y[idx_train]) + (arguments.weight_decay * sum(g.layer1.w .* g.layer1.w)) \n",
    "(g::GCN)(x,y) = nll(g(x)[:, idx_train], y[idx_train])"
   ]
  },
  {
   "cell_type": "code",
   "execution_count": 16,
   "metadata": {},
   "outputs": [
    {
     "data": {
      "text/plain": [
       "7×2708 Array{Float32,2}:\n",
       " -0.324352   0.301272  -0.274594   0.0606106  …  -0.488238     -1.2224  \n",
       " -0.351604  -0.89069   -1.53901   -0.0103354      0.0939331    -0.391322\n",
       " -0.196443   0.75171    1.64551    0.0829296      0.32347       1.26141 \n",
       " -0.162155  -0.114089   2.2271    -0.0746152      0.000278719   1.08391 \n",
       "  0.624536   1.08294    7.50994    0.0326087      1.72492       6.51265 \n",
       " -0.417153  -0.265094  -0.82246   -0.0255931  …  -0.520281     -2.33852 \n",
       " -1.37294   -1.26282   -4.70707    0.18757       -0.623363     -2.20768 "
      ]
     },
     "execution_count": 16,
     "metadata": {},
     "output_type": "execute_result"
    }
   ],
   "source": [
    "output = model(features)"
   ]
  },
  {
   "cell_type": "code",
   "execution_count": 17,
   "metadata": {},
   "outputs": [
    {
     "data": {
      "text/plain": [
       "2708-element Array{Int64,1}:\n",
       " 4\n",
       " 5\n",
       " 5\n",
       " 1\n",
       " 4\n",
       " 3\n",
       " 1\n",
       " 4\n",
       " 4\n",
       " 3\n",
       " 1\n",
       " 1\n",
       " 5\n",
       " ⋮\n",
       " 4\n",
       " 4\n",
       " 4\n",
       " 4\n",
       " 4\n",
       " 4\n",
       " 1\n",
       " 4\n",
       " 4\n",
       " 4\n",
       " 4\n",
       " 4"
      ]
     },
     "execution_count": 17,
     "metadata": {},
     "output_type": "execute_result"
    }
   ],
   "source": [
    "labels_decoded = mapslices(argmax, labels ,dims=2)[:]"
   ]
  },
  {
   "cell_type": "code",
   "execution_count": 18,
   "metadata": {},
   "outputs": [
    {
     "data": {
      "text/plain": [
       "3.66165f0"
      ]
     },
     "execution_count": 18,
     "metadata": {},
     "output_type": "execute_result"
    }
   ],
   "source": [
    "nll(output[:,idx_train], labels_decoded[idx_train])"
   ]
  },
  {
   "cell_type": "code",
   "execution_count": 19,
   "metadata": {},
   "outputs": [
    {
     "data": {
      "text/plain": [
       "0.15"
      ]
     },
     "execution_count": 19,
     "metadata": {},
     "output_type": "execute_result"
    }
   ],
   "source": [
    "accuracy(output[:,idx_train], labels_decoded[idx_train])"
   ]
  },
  {
   "cell_type": "code",
   "execution_count": 20,
   "metadata": {},
   "outputs": [
    {
     "data": {
      "text/plain": [
       "16×1433 Array{Float32,2}:\n",
       " -0.00930923   -0.0652798  -0.00180868  …   0.00860939  -0.0441679  \n",
       "  0.032705      0.148099    0.165657        0.057688    -0.000774094\n",
       "  0.00335203    0.0         0.0121872      -0.00244632   0.0424741  \n",
       "  0.0504619     0.590003    0.272317        0.0338004    0.0538025  \n",
       "  0.00706997   -0.440124   -0.247463       -0.0235806   -0.0708594  \n",
       "  0.0370851     0.124793    0.0779606   …   0.0658095    0.0335021  \n",
       "  0.0143789     0.0708167   0.0256226      -0.00308335   0.0273438  \n",
       "  0.0278905     0.122331    0.118845        0.036346     0.0136638  \n",
       " -0.000405386   0.0956977  -0.0046278       0.0264278    0.0613638  \n",
       " -0.0340539    -0.0781205  -0.0528174       0.0243622   -0.00663339 \n",
       "  0.0204725     0.0583648   0.0291887   …   0.0389757    0.0263794  \n",
       "  0.0218962     0.0744729   0.142107        0.102423     0.119165   \n",
       " -0.000815128  -0.0405303  -0.0173468      -0.0304544   -0.00693737 \n",
       " -0.0260919    -0.036761    0.0139637      -0.0347322   -0.00301641 \n",
       "  0.0928251     0.765093    0.564714        0.170119     0.141901   \n",
       " -0.0185615    -0.064269    0.0025926   …   0.0553349   -0.0169034  "
      ]
     },
     "execution_count": 20,
     "metadata": {},
     "output_type": "execute_result"
    }
   ],
   "source": [
    "using AutoGrad\n",
    "J = @diff model(features, labels_decoded)\n",
    "grad(J, params(model)[1])"
   ]
  },
  {
   "cell_type": "code",
   "execution_count": 21,
   "metadata": {},
   "outputs": [
    {
     "data": {
      "text/plain": [
       "Data{Tuple{Array{Float32,2},Array{Int64,1}}}(Float32[0.0 0.0 … 0.0 0.0; 0.0 0.0 … 0.0 0.0; … ; 0.0 0.0 … 0.0 0.0; 0.0 0.0 … 0.0 0.0], [4 5 … 4 4], 2708, 2708, false, 1, 1:2708, false, (1433, 2708), (2708,), Array{Float32,2}, Array{Int64,1})"
      ]
     },
     "execution_count": 21,
     "metadata": {},
     "output_type": "execute_result"
    }
   ],
   "source": [
    "dtrn =  minibatch(features, labels_decoded[:], length(labels_decoded))"
   ]
  },
  {
   "cell_type": "code",
   "execution_count": 22,
   "metadata": {},
   "outputs": [
    {
     "data": {
      "text/plain": [
       "train_with_results (generic function with 1 method)"
      ]
     },
     "execution_count": 22,
     "metadata": {},
     "output_type": "execute_result"
    }
   ],
   "source": [
    "function train_with_results(model, dtrn, epoch, lr)\n",
    "    training = adam(model, ncycle(dtrn, epoch), lr=lr)\n",
    "    snapshot() = model(dtrn)\n",
    "    snapshots = (snapshot() for x in takenth(progress(training),length(dtrn)))\n",
    "    res = collect(flatten(snapshots))\n",
    "    return res\n",
    "end"
   ]
  },
  {
   "cell_type": "code",
   "execution_count": 23,
   "metadata": {},
   "outputs": [
    {
     "name": "stderr",
     "output_type": "stream",
     "text": [
      "┣████████████████████┫ [100.00%, 200/200, 00:21/00:21, 9.33i/s] \n"
     ]
    },
    {
     "data": {
      "image/svg+xml": [
       "<?xml version=\"1.0\" encoding=\"utf-8\"?>\n",
       "<svg xmlns=\"http://www.w3.org/2000/svg\" xmlns:xlink=\"http://www.w3.org/1999/xlink\" width=\"600\" height=\"400\" viewBox=\"0 0 2400 1600\">\n",
       "<defs>\n",
       "  <clipPath id=\"clip6500\">\n",
       "    <rect x=\"0\" y=\"0\" width=\"2400\" height=\"1600\"/>\n",
       "  </clipPath>\n",
       "</defs>\n",
       "<path clip-path=\"url(#clip6500)\" d=\"\n",
       "M0 1600 L2400 1600 L2400 0 L0 0  Z\n",
       "  \" fill=\"#ffffff\" fill-rule=\"evenodd\" fill-opacity=\"1\"/>\n",
       "<defs>\n",
       "  <clipPath id=\"clip6501\">\n",
       "    <rect x=\"480\" y=\"0\" width=\"1681\" height=\"1600\"/>\n",
       "  </clipPath>\n",
       "</defs>\n",
       "<path clip-path=\"url(#clip6500)\" d=\"\n",
       "M215.754 1425.62 L2352.76 1425.62 L2352.76 47.2441 L215.754 47.2441  Z\n",
       "  \" fill=\"#ffffff\" fill-rule=\"evenodd\" fill-opacity=\"1\"/>\n",
       "<defs>\n",
       "  <clipPath id=\"clip6502\">\n",
       "    <rect x=\"215\" y=\"47\" width=\"2138\" height=\"1379\"/>\n",
       "  </clipPath>\n",
       "</defs>\n",
       "<polyline clip-path=\"url(#clip6502)\" style=\"stroke:#000000; stroke-width:2; stroke-opacity:0.1; fill:none\" points=\"\n",
       "  266.104,1425.62 266.104,47.2441 \n",
       "  \"/>\n",
       "<polyline clip-path=\"url(#clip6502)\" style=\"stroke:#000000; stroke-width:2; stroke-opacity:0.1; fill:none\" points=\"\n",
       "  772.647,1425.62 772.647,47.2441 \n",
       "  \"/>\n",
       "<polyline clip-path=\"url(#clip6502)\" style=\"stroke:#000000; stroke-width:2; stroke-opacity:0.1; fill:none\" points=\"\n",
       "  1279.19,1425.62 1279.19,47.2441 \n",
       "  \"/>\n",
       "<polyline clip-path=\"url(#clip6502)\" style=\"stroke:#000000; stroke-width:2; stroke-opacity:0.1; fill:none\" points=\"\n",
       "  1785.73,1425.62 1785.73,47.2441 \n",
       "  \"/>\n",
       "<polyline clip-path=\"url(#clip6502)\" style=\"stroke:#000000; stroke-width:2; stroke-opacity:0.1; fill:none\" points=\"\n",
       "  2292.27,1425.62 2292.27,47.2441 \n",
       "  \"/>\n",
       "<polyline clip-path=\"url(#clip6502)\" style=\"stroke:#000000; stroke-width:2; stroke-opacity:0.1; fill:none\" points=\"\n",
       "  215.754,1425.62 2352.76,1425.62 \n",
       "  \"/>\n",
       "<polyline clip-path=\"url(#clip6502)\" style=\"stroke:#000000; stroke-width:2; stroke-opacity:0.1; fill:none\" points=\"\n",
       "  215.754,1081.02 2352.76,1081.02 \n",
       "  \"/>\n",
       "<polyline clip-path=\"url(#clip6502)\" style=\"stroke:#000000; stroke-width:2; stroke-opacity:0.1; fill:none\" points=\"\n",
       "  215.754,736.431 2352.76,736.431 \n",
       "  \"/>\n",
       "<polyline clip-path=\"url(#clip6502)\" style=\"stroke:#000000; stroke-width:2; stroke-opacity:0.1; fill:none\" points=\"\n",
       "  215.754,391.838 2352.76,391.838 \n",
       "  \"/>\n",
       "<polyline clip-path=\"url(#clip6502)\" style=\"stroke:#000000; stroke-width:2; stroke-opacity:0.1; fill:none\" points=\"\n",
       "  215.754,47.2441 2352.76,47.2441 \n",
       "  \"/>\n",
       "<polyline clip-path=\"url(#clip6500)\" style=\"stroke:#000000; stroke-width:4; stroke-opacity:1; fill:none\" points=\"\n",
       "  215.754,1425.62 2352.76,1425.62 \n",
       "  \"/>\n",
       "<polyline clip-path=\"url(#clip6500)\" style=\"stroke:#000000; stroke-width:4; stroke-opacity:1; fill:none\" points=\"\n",
       "  215.754,1425.62 215.754,47.2441 \n",
       "  \"/>\n",
       "<polyline clip-path=\"url(#clip6500)\" style=\"stroke:#000000; stroke-width:4; stroke-opacity:1; fill:none\" points=\"\n",
       "  266.104,1425.62 266.104,1409.08 \n",
       "  \"/>\n",
       "<polyline clip-path=\"url(#clip6500)\" style=\"stroke:#000000; stroke-width:4; stroke-opacity:1; fill:none\" points=\"\n",
       "  772.647,1425.62 772.647,1409.08 \n",
       "  \"/>\n",
       "<polyline clip-path=\"url(#clip6500)\" style=\"stroke:#000000; stroke-width:4; stroke-opacity:1; fill:none\" points=\"\n",
       "  1279.19,1425.62 1279.19,1409.08 \n",
       "  \"/>\n",
       "<polyline clip-path=\"url(#clip6500)\" style=\"stroke:#000000; stroke-width:4; stroke-opacity:1; fill:none\" points=\"\n",
       "  1785.73,1425.62 1785.73,1409.08 \n",
       "  \"/>\n",
       "<polyline clip-path=\"url(#clip6500)\" style=\"stroke:#000000; stroke-width:4; stroke-opacity:1; fill:none\" points=\"\n",
       "  2292.27,1425.62 2292.27,1409.08 \n",
       "  \"/>\n",
       "<polyline clip-path=\"url(#clip6500)\" style=\"stroke:#000000; stroke-width:4; stroke-opacity:1; fill:none\" points=\"\n",
       "  215.754,1425.62 241.398,1425.62 \n",
       "  \"/>\n",
       "<polyline clip-path=\"url(#clip6500)\" style=\"stroke:#000000; stroke-width:4; stroke-opacity:1; fill:none\" points=\"\n",
       "  215.754,1081.02 241.398,1081.02 \n",
       "  \"/>\n",
       "<polyline clip-path=\"url(#clip6500)\" style=\"stroke:#000000; stroke-width:4; stroke-opacity:1; fill:none\" points=\"\n",
       "  215.754,736.431 241.398,736.431 \n",
       "  \"/>\n",
       "<polyline clip-path=\"url(#clip6500)\" style=\"stroke:#000000; stroke-width:4; stroke-opacity:1; fill:none\" points=\"\n",
       "  215.754,391.838 241.398,391.838 \n",
       "  \"/>\n",
       "<polyline clip-path=\"url(#clip6500)\" style=\"stroke:#000000; stroke-width:4; stroke-opacity:1; fill:none\" points=\"\n",
       "  215.754,47.2441 241.398,47.2441 \n",
       "  \"/>\n",
       "<g clip-path=\"url(#clip6500)\">\n",
       "<text style=\"fill:#000000; fill-opacity:1; font-family:Arial,Helvetica Neue,Helvetica,sans-serif; font-size:48px; text-anchor:middle;\" transform=\"rotate(0, 266.104, 1479.62)\" x=\"266.104\" y=\"1479.62\">0</text>\n",
       "</g>\n",
       "<g clip-path=\"url(#clip6500)\">\n",
       "<text style=\"fill:#000000; fill-opacity:1; font-family:Arial,Helvetica Neue,Helvetica,sans-serif; font-size:48px; text-anchor:middle;\" transform=\"rotate(0, 772.647, 1479.62)\" x=\"772.647\" y=\"1479.62\">50</text>\n",
       "</g>\n",
       "<g clip-path=\"url(#clip6500)\">\n",
       "<text style=\"fill:#000000; fill-opacity:1; font-family:Arial,Helvetica Neue,Helvetica,sans-serif; font-size:48px; text-anchor:middle;\" transform=\"rotate(0, 1279.19, 1479.62)\" x=\"1279.19\" y=\"1479.62\">100</text>\n",
       "</g>\n",
       "<g clip-path=\"url(#clip6500)\">\n",
       "<text style=\"fill:#000000; fill-opacity:1; font-family:Arial,Helvetica Neue,Helvetica,sans-serif; font-size:48px; text-anchor:middle;\" transform=\"rotate(0, 1785.73, 1479.62)\" x=\"1785.73\" y=\"1479.62\">150</text>\n",
       "</g>\n",
       "<g clip-path=\"url(#clip6500)\">\n",
       "<text style=\"fill:#000000; fill-opacity:1; font-family:Arial,Helvetica Neue,Helvetica,sans-serif; font-size:48px; text-anchor:middle;\" transform=\"rotate(0, 2292.27, 1479.62)\" x=\"2292.27\" y=\"1479.62\">200</text>\n",
       "</g>\n",
       "<g clip-path=\"url(#clip6500)\">\n",
       "<text style=\"fill:#000000; fill-opacity:1; font-family:Arial,Helvetica Neue,Helvetica,sans-serif; font-size:48px; text-anchor:end;\" transform=\"rotate(0, 191.754, 1443.12)\" x=\"191.754\" y=\"1443.12\">0.0</text>\n",
       "</g>\n",
       "<g clip-path=\"url(#clip6500)\">\n",
       "<text style=\"fill:#000000; fill-opacity:1; font-family:Arial,Helvetica Neue,Helvetica,sans-serif; font-size:48px; text-anchor:end;\" transform=\"rotate(0, 191.754, 1098.52)\" x=\"191.754\" y=\"1098.52\">0.5</text>\n",
       "</g>\n",
       "<g clip-path=\"url(#clip6500)\">\n",
       "<text style=\"fill:#000000; fill-opacity:1; font-family:Arial,Helvetica Neue,Helvetica,sans-serif; font-size:48px; text-anchor:end;\" transform=\"rotate(0, 191.754, 753.931)\" x=\"191.754\" y=\"753.931\">1.0</text>\n",
       "</g>\n",
       "<g clip-path=\"url(#clip6500)\">\n",
       "<text style=\"fill:#000000; fill-opacity:1; font-family:Arial,Helvetica Neue,Helvetica,sans-serif; font-size:48px; text-anchor:end;\" transform=\"rotate(0, 191.754, 409.338)\" x=\"191.754\" y=\"409.338\">1.5</text>\n",
       "</g>\n",
       "<g clip-path=\"url(#clip6500)\">\n",
       "<text style=\"fill:#000000; fill-opacity:1; font-family:Arial,Helvetica Neue,Helvetica,sans-serif; font-size:48px; text-anchor:end;\" transform=\"rotate(0, 191.754, 64.7441)\" x=\"191.754\" y=\"64.7441\">2.0</text>\n",
       "</g>\n",
       "<g clip-path=\"url(#clip6500)\">\n",
       "<text style=\"fill:#000000; fill-opacity:1; font-family:Arial,Helvetica Neue,Helvetica,sans-serif; font-size:66px; text-anchor:middle;\" transform=\"rotate(0, 1284.25, 1559.48)\" x=\"1284.25\" y=\"1559.48\">Epochs</text>\n",
       "</g>\n",
       "<g clip-path=\"url(#clip6500)\">\n",
       "<text style=\"fill:#000000; fill-opacity:1; font-family:Arial,Helvetica Neue,Helvetica,sans-serif; font-size:66px; text-anchor:middle;\" transform=\"rotate(-90, 89.2861, 736.431)\" x=\"89.2861\" y=\"736.431\">Loss</text>\n",
       "</g>\n",
       "<polyline clip-path=\"url(#clip6502)\" style=\"stroke:#009af9; stroke-width:4; stroke-opacity:1; fill:none\" points=\"\n",
       "  276.235,-788.502 286.366,267.239 296.497,489.911 306.628,583.266 316.759,557.491 326.89,558.044 337.02,574.21 347.151,599.284 357.282,656.104 367.413,707.119 \n",
       "  377.544,751.657 387.675,794.458 397.805,839.926 407.936,872.869 418.067,911.859 428.198,962.967 438.329,1022.39 448.46,1056.35 458.591,1057.04 468.721,1066.83 \n",
       "  478.852,1085.11 488.983,1101.72 499.114,1118.28 509.245,1135.05 519.376,1152.08 529.507,1167.19 539.637,1181.07 549.768,1194.34 559.899,1206.51 570.03,1217.21 \n",
       "  580.161,1224.43 590.292,1238.32 600.423,1247.69 610.553,1257.53 620.684,1267.08 630.815,1275.58 640.946,1283.18 651.077,1289.73 661.208,1295.65 671.338,1301.18 \n",
       "  681.469,1306.14 691.6,1310.62 701.731,1314.73 711.862,1321.96 721.993,1330.59 732.124,1336.45 742.254,1340.51 752.385,1344.34 762.516,1347.63 772.647,1350.7 \n",
       "  782.778,1351.87 792.909,1351.31 803.04,1352.21 813.17,1356.15 823.301,1359.9 833.432,1359.9 843.563,1361.96 853.694,1363.94 863.825,1365.79 873.956,1368.07 \n",
       "  884.086,1370.6 894.217,1372.77 904.348,1374.33 914.479,1375.89 924.61,1377.32 934.741,1378.7 944.871,1380.16 955.002,1381.66 965.133,1382.68 975.264,1382.98 \n",
       "  985.395,1382.64 995.526,1379.89 1005.66,1385 1015.79,1387.78 1025.92,1389.46 1036.05,1390.57 1046.18,1391.42 1056.31,1392.07 1066.44,1392.37 1076.57,1392.69 \n",
       "  1086.7,1392.84 1096.83,1392.7 1106.97,1392.26 1117.1,1390.97 1127.23,1387.31 1137.36,1390.45 1147.49,1391.97 1157.62,1390.69 1167.75,1389.3 1177.88,1390.38 \n",
       "  1188.01,1391.27 1198.14,1392.11 1208.27,1393.05 1218.4,1387.56 1228.54,1384.9 1238.67,1385.33 1248.8,1385.76 1258.93,1386.23 1269.06,1386.6 1279.19,1387.14 \n",
       "  1289.32,1387.77 1299.45,1388.5 1309.58,1389.47 1319.71,1390.51 1329.84,1391.59 1339.97,1392.59 1350.11,1393.53 1360.24,1394.41 1370.37,1395.12 1380.5,1395.83 \n",
       "  1390.63,1396.75 1400.76,1397.65 1410.89,1398.86 1421.02,1403.27 1431.15,1360.93 1441.28,1351.72 1451.41,1343.97 1461.54,1381.72 1471.68,1405.83 1481.81,1407.12 \n",
       "  1491.94,1406.55 1502.07,1404.9 1512.2,1401.33 1522.33,1401.41 1532.46,1401.47 1542.59,1401.56 1552.72,1401.71 1562.85,1401.91 1572.98,1402.15 1583.12,1402.44 \n",
       "  1593.25,1402.62 1603.38,1402.77 1613.51,1402.92 1623.64,1403.05 1633.77,1403.21 1643.9,1403.48 1654.03,1403.68 1664.16,1403.94 1674.29,1404.11 1684.42,1404.37 \n",
       "  1694.55,1404.74 1704.69,1405.19 1714.82,1405.7 1724.95,1406.13 1735.08,1406.58 1745.21,1406.94 1755.34,1407.25 1765.47,1407.57 1775.6,1407.83 1785.73,1408.09 \n",
       "  1795.86,1408.33 1805.99,1408.58 1816.12,1408.82 1826.26,1409.27 1836.39,1409.52 1846.52,1409.75 1856.65,1409.98 1866.78,1410.2 1876.91,1410.46 1887.04,1410.72 \n",
       "  1897.17,1410.97 1907.3,1411.11 1917.43,1411.21 1927.56,1411.32 1937.69,1411.39 1947.83,1411.5 1957.96,1411.67 1968.09,1411.64 1978.22,1411.63 1988.35,1411.61 \n",
       "  1998.48,1411.68 2008.61,1411.62 2018.74,1411.7 2028.87,1411.92 2039,1412.76 2049.13,1413.43 2059.27,1412.91 2069.4,1411.27 2079.53,1407.98 2089.66,1404.36 \n",
       "  2099.79,1406.8 2109.92,1412.46 2120.05,1414.76 2130.18,1416.23 2140.31,1416.29 2150.44,1416.84 2160.57,1417.08 2170.7,1417.19 2180.84,1417.17 2190.97,1417.12 \n",
       "  2201.1,1416.76 2211.23,1411.32 2221.36,1411.54 2231.49,1411.73 2241.62,1411.95 2251.75,1412.13 2261.88,1412.27 2272.01,1412.3 2282.14,1412.32 2292.27,1412.3 \n",
       "  \n",
       "  \"/>\n",
       "<path clip-path=\"url(#clip6500)\" d=\"\n",
       "M1698.38 251.724 L2280.76 251.724 L2280.76 130.764 L1698.38 130.764  Z\n",
       "  \" fill=\"#ffffff\" fill-rule=\"evenodd\" fill-opacity=\"1\"/>\n",
       "<polyline clip-path=\"url(#clip6500)\" style=\"stroke:#000000; stroke-width:4; stroke-opacity:1; fill:none\" points=\"\n",
       "  1698.38,251.724 2280.76,251.724 2280.76,130.764 1698.38,130.764 1698.38,251.724 \n",
       "  \"/>\n",
       "<polyline clip-path=\"url(#clip6500)\" style=\"stroke:#009af9; stroke-width:4; stroke-opacity:1; fill:none\" points=\"\n",
       "  1722.38,191.244 1866.38,191.244 \n",
       "  \"/>\n",
       "<g clip-path=\"url(#clip6500)\">\n",
       "<text style=\"fill:#000000; fill-opacity:1; font-family:Arial,Helvetica Neue,Helvetica,sans-serif; font-size:48px; text-anchor:start;\" transform=\"rotate(0, 1890.38, 208.744)\" x=\"1890.38\" y=\"208.744\">Symbol[:trnloss]</text>\n",
       "</g>\n",
       "</svg>\n"
      ]
     },
     "execution_count": 23,
     "metadata": {},
     "output_type": "execute_result"
    }
   ],
   "source": [
    "results = train_with_results(model, dtrn, arguments.epochs, arguments.lr)\n",
    "trnloss = Array{Float32}(results)\n",
    "plot(trnloss, ylim=(0.0,2.0),labels=[:trnloss],xlabel=\"Epochs\",ylabel=\"Loss\")"
   ]
  },
  {
   "cell_type": "code",
   "execution_count": 24,
   "metadata": {},
   "outputs": [
    {
     "data": {
      "text/plain": [
       "1.0"
      ]
     },
     "execution_count": 24,
     "metadata": {},
     "output_type": "execute_result"
    }
   ],
   "source": [
    "output = model(features)\n",
    "accuracy(output[:,idx_train], labels_decoded[idx_train])"
   ]
  },
  {
   "cell_type": "code",
   "execution_count": 25,
   "metadata": {},
   "outputs": [
    {
     "data": {
      "text/plain": [
       "0.728"
      ]
     },
     "execution_count": 25,
     "metadata": {},
     "output_type": "execute_result"
    }
   ],
   "source": [
    "output = model(features)\n",
    "accuracy(output[:,idx_test], labels_decoded[idx_test])"
   ]
  },
  {
   "cell_type": "code",
   "execution_count": null,
   "metadata": {},
   "outputs": [],
   "source": []
  }
 ],
 "metadata": {
  "kernelspec": {
   "display_name": "Julia 1.1.1",
   "language": "julia",
   "name": "julia-1.1"
  },
  "language_info": {
   "file_extension": ".jl",
   "mimetype": "application/julia",
   "name": "julia",
   "version": "1.1.1"
  }
 },
 "nbformat": 4,
 "nbformat_minor": 2
}
