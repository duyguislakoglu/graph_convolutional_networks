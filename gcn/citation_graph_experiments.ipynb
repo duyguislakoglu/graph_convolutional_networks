{
 "cells": [
  {
   "cell_type": "code",
   "execution_count": 48,
   "metadata": {},
   "outputs": [
    {
     "name": "stderr",
     "output_type": "stream",
     "text": [
      "┌ Warning: `getindex(o::PyObject, s::AbstractString)` is deprecated in favor of dot overloading (`getproperty`) so elements should now be accessed as e.g. `o.\"s\"` instead of `o[\"s\"]`.\n",
      "│   caller = top-level scope at none:0\n",
      "└ @ Core none:0\n",
      "WARNING: redefining constant scipy_sparse_find\n"
     ]
    }
   ],
   "source": [
    "using Pkg\n",
    "for p in [\"Knet\", \"Plots\", \"IterTools\",\"PyCall\"]\n",
    "    if !haskey(Pkg.installed(),p)\n",
    "        Pkg.add(p);\n",
    "    end\n",
    "end\n",
    "using DelimitedFiles\n",
    "using Knet: KnetArray, accuracy, progress, minibatch, cycle, adam, xavier_uniform, progress!, @save, @load\n",
    "using Plots\n",
    "using IterTools: ncycle, takenth, take\n",
    "using Base.Iterators: flatten\n",
    "using LinearAlgebra\n",
    "\n",
    "include(\"utils.jl\")\n",
    "include(\"models.jl\")"
   ]
  },
  {
   "cell_type": "code",
   "execution_count": 49,
   "metadata": {},
   "outputs": [
    {
     "data": {
      "text/plain": [
       "mytrain! (generic function with 1 method)"
      ]
     },
     "execution_count": 49,
     "metadata": {},
     "output_type": "execute_result"
    }
   ],
   "source": [
    "function mytrain!(model, data, epochs, lr, window_size)\n",
    "    early_stop_counter = 0\n",
    "    prev_val_loss = 0\n",
    "    iter = 0\n",
    "    \n",
    "    trnloss = []\n",
    "    valloss = []\n",
    "    \n",
    "    flag = true\n",
    "\n",
    "    function task()     \n",
    "        \n",
    "        append!(trnloss, model(data))\n",
    "        v_loss = val_loss(model, data)\n",
    "        append!(valloss, v_loss) \n",
    "        \n",
    "        if v_loss >= prev_val_loss\n",
    "            early_stop_counter = early_stop_counter + 1\n",
    "        else\n",
    "            early_stop_counter = 0\n",
    "        end\n",
    "        if early_stop_counter == window_size\n",
    "            flag = false\n",
    "        end \n",
    "        iter = iter + 1\n",
    "        prev_val_loss = v_loss\n",
    "        return flag\n",
    "        \n",
    "    end\n",
    "        \n",
    "    training = adam(model, ncycle(data, epochs), lr=lr)\n",
    "    progress!(flag = task() for x in (x for (i,x) in enumerate(training)) if flag)\n",
    "    return 1:iter, trnloss, valloss\n",
    "end"
   ]
  },
  {
   "cell_type": "code",
   "execution_count": 50,
   "metadata": {},
   "outputs": [],
   "source": [
    "# TODO: take user inputs\n",
    "struct args\n",
    "    epochs\n",
    "    lr\n",
    "    weight_decay\n",
    "    hidden\n",
    "    pdrop\n",
    "    window_size\n",
    "end\n",
    "\n",
    "arguments = args(200, 0.01, 5e-4, 16, 0.5, 10)\n",
    "function val_loss(g::GCN,x,y)\n",
    "    output = g(x)[:, idx_val]\n",
    "    nll(output, y[idx_val]) + (arguments.weight_decay * sum(g.layer1.w .* g.layer1.w)) \n",
    "end  \n",
    "function val_loss(g::GCN, d)\n",
    "    mean(val_loss(g,x,y) for (x,y) in d)\n",
    "end\n",
    "\n",
    "function test_loss(g::GCN,x,y)\n",
    "    output = g(x)[:, idx_test]\n",
    "    nll(output, y[idx_test]) + (arguments.weight_decay * sum(g.layer1.w .* g.layer1.w)) \n",
    "end  \n",
    "function test_loss(g::GCN,d)\n",
    "    mean(test_loss(g,x,y) for (x,y) in d)\n",
    "end\n",
    "\n",
    "(g::GCN)(x,y) = nll(g(x)[:, idx_train], y[idx_train]) + (arguments.weight_decay * sum(g.layer1.w .* g.layer1.w)) "
   ]
  },
  {
   "cell_type": "code",
   "execution_count": 51,
   "metadata": {},
   "outputs": [],
   "source": [
    "#####################################################################################################################"
   ]
  },
  {
   "cell_type": "code",
   "execution_count": 52,
   "metadata": {},
   "outputs": [
    {
     "data": {
      "text/plain": [
       "(\n",
       "  [1   ,    1]  =  0.25\n",
       "  [634 ,    1]  =  0.25\n",
       "  [1863,    1]  =  0.223607\n",
       "  [2583,    1]  =  0.25\n",
       "  [2   ,    2]  =  0.25\n",
       "  [3   ,    2]  =  0.204124\n",
       "  [653 ,    2]  =  0.288675\n",
       "  [655 ,    2]  =  0.353553\n",
       "  [2   ,    3]  =  0.204124\n",
       "  [3   ,    3]  =  0.166667\n",
       "  [333 ,    3]  =  0.166667\n",
       "  [1455,    3]  =  0.288675\n",
       "  ⋮\n",
       "  [288 , 2706]  =  0.5\n",
       "  [2706, 2706]  =  0.5\n",
       "  [166 , 2707]  =  0.2\n",
       "  [170 , 2707]  =  0.258199\n",
       "  [1474, 2707]  =  0.2\n",
       "  [2707, 2707]  =  0.2\n",
       "  [2708, 2707]  =  0.2\n",
       "  [166 , 2708]  =  0.2\n",
       "  [599 , 2708]  =  0.0766965\n",
       "  [1474, 2708]  =  0.2\n",
       "  [2707, 2708]  =  0.2\n",
       "  [2708, 2708]  =  0.2, \n",
       "  [20  ,    1]  =  0.00178571\n",
       "  [82  ,    1]  =  0.0222222\n",
       "  [147 ,    1]  =  0.0625\n",
       "  [316 ,    1]  =  0.0526316\n",
       "  [775 ,    1]  =  0.00248756\n",
       "  [878 ,    1]  =  0.016129\n",
       "  [1195,    1]  =  0.0232558\n",
       "  [1248,    1]  =  0.00917431\n",
       "  [1275,    1]  =  0.00625\n",
       "  [20  ,    2]  =  0.00178571\n",
       "  [89  ,    2]  =  0.0133333\n",
       "  [150 ,    2]  =  0.025641\n",
       "  ⋮\n",
       "  [187 , 2708]  =  0.04\n",
       "  [330 , 2708]  =  0.0526316\n",
       "  [448 , 2708]  =  0.0169492\n",
       "  [455 , 2708]  =  0.0769231\n",
       "  [755 , 2708]  =  0.00917431\n",
       "  [775 , 2708]  =  0.00248756\n",
       "  [897 , 2708]  =  0.0526316\n",
       "  [1023, 2708]  =  0.0434783\n",
       "  [1115, 2708]  =  0.0169492\n",
       "  [1329, 2708]  =  0.00271739\n",
       "  [1413, 2708]  =  0.025641\n",
       "  [1415, 2708]  =  0.025641, Int32[0 0 … 0 0; 0 0 … 0 0; … ; 0 0 … 0 0; 0 0 … 0 0], 1:140, 141:640, [2693, 2533, 2051, 1716, 2363, 2610, 2623, 1976, 2082, 1768  …  1886, 2306, 2355, 2136, 2602, 1771, 1996, 2505, 1750, 2158])"
      ]
     },
     "execution_count": 52,
     "metadata": {},
     "output_type": "execute_result"
    }
   ],
   "source": [
    "adj, features, labels, idx_train, idx_val, idx_test = load_dataset(\"cora\")"
   ]
  },
  {
   "cell_type": "code",
   "execution_count": 53,
   "metadata": {},
   "outputs": [
    {
     "data": {
      "text/plain": [
       "1433×2708 SparseMatrixCSC{Float32,Int64} with 49216 stored entries:\n",
       "  [20  ,    1]  =  0.00178571\n",
       "  [82  ,    1]  =  0.0222222\n",
       "  [147 ,    1]  =  0.0625\n",
       "  [316 ,    1]  =  0.0526316\n",
       "  [775 ,    1]  =  0.00248756\n",
       "  [878 ,    1]  =  0.016129\n",
       "  [1195,    1]  =  0.0232558\n",
       "  [1248,    1]  =  0.00917431\n",
       "  [1275,    1]  =  0.00625\n",
       "  [20  ,    2]  =  0.00178571\n",
       "  [89  ,    2]  =  0.0133333\n",
       "  [150 ,    2]  =  0.025641\n",
       "  ⋮\n",
       "  [187 , 2708]  =  0.04\n",
       "  [330 , 2708]  =  0.0526316\n",
       "  [448 , 2708]  =  0.0169492\n",
       "  [455 , 2708]  =  0.0769231\n",
       "  [755 , 2708]  =  0.00917431\n",
       "  [775 , 2708]  =  0.00248756\n",
       "  [897 , 2708]  =  0.0526316\n",
       "  [1023, 2708]  =  0.0434783\n",
       "  [1115, 2708]  =  0.0169492\n",
       "  [1329, 2708]  =  0.00271739\n",
       "  [1413, 2708]  =  0.025641\n",
       "  [1415, 2708]  =  0.025641"
      ]
     },
     "execution_count": 53,
     "metadata": {},
     "output_type": "execute_result"
    }
   ],
   "source": [
    "features"
   ]
  },
  {
   "cell_type": "code",
   "execution_count": 54,
   "metadata": {},
   "outputs": [
    {
     "data": {
      "text/plain": [
       "GCN(GCLayer(P(Array{Float64,2}(16,1433)), P(Array{Float32,1}(16)), \n",
       "  [1   ,    1]  =  0.25\n",
       "  [634 ,    1]  =  0.25\n",
       "  [1863,    1]  =  0.223607\n",
       "  [2583,    1]  =  0.25\n",
       "  [2   ,    2]  =  0.25\n",
       "  [3   ,    2]  =  0.204124\n",
       "  [653 ,    2]  =  0.288675\n",
       "  [655 ,    2]  =  0.353553\n",
       "  [2   ,    3]  =  0.204124\n",
       "  [3   ,    3]  =  0.166667\n",
       "  [333 ,    3]  =  0.166667\n",
       "  [1455,    3]  =  0.288675\n",
       "  ⋮\n",
       "  [288 , 2706]  =  0.5\n",
       "  [2706, 2706]  =  0.5\n",
       "  [166 , 2707]  =  0.2\n",
       "  [170 , 2707]  =  0.258199\n",
       "  [1474, 2707]  =  0.2\n",
       "  [2707, 2707]  =  0.2\n",
       "  [2708, 2707]  =  0.2\n",
       "  [166 , 2708]  =  0.2\n",
       "  [599 , 2708]  =  0.0766965\n",
       "  [1474, 2708]  =  0.2\n",
       "  [2707, 2708]  =  0.2\n",
       "  [2708, 2708]  =  0.2, NNlib.relu), GCLayer(P(Array{Float64,2}(7,16)), P(Array{Float32,1}(7)), \n",
       "  [1   ,    1]  =  0.25\n",
       "  [634 ,    1]  =  0.25\n",
       "  [1863,    1]  =  0.223607\n",
       "  [2583,    1]  =  0.25\n",
       "  [2   ,    2]  =  0.25\n",
       "  [3   ,    2]  =  0.204124\n",
       "  [653 ,    2]  =  0.288675\n",
       "  [655 ,    2]  =  0.353553\n",
       "  [2   ,    3]  =  0.204124\n",
       "  [3   ,    3]  =  0.166667\n",
       "  [333 ,    3]  =  0.166667\n",
       "  [1455,    3]  =  0.288675\n",
       "  ⋮\n",
       "  [288 , 2706]  =  0.5\n",
       "  [2706, 2706]  =  0.5\n",
       "  [166 , 2707]  =  0.2\n",
       "  [170 , 2707]  =  0.258199\n",
       "  [1474, 2707]  =  0.2\n",
       "  [2707, 2707]  =  0.2\n",
       "  [2708, 2707]  =  0.2\n",
       "  [166 , 2708]  =  0.2\n",
       "  [599 , 2708]  =  0.0766965\n",
       "  [1474, 2708]  =  0.2\n",
       "  [2707, 2708]  =  0.2\n",
       "  [2708, 2708]  =  0.2, identity), 0.5)"
      ]
     },
     "execution_count": 54,
     "metadata": {},
     "output_type": "execute_result"
    }
   ],
   "source": [
    "model = GCN(size(features,1),\n",
    "            arguments.hidden,\n",
    "            size(labels,2),\n",
    "            adj,\n",
    "            arguments.pdrop)"
   ]
  },
  {
   "cell_type": "code",
   "execution_count": 55,
   "metadata": {},
   "outputs": [
    {
     "data": {
      "text/plain": [
       "2708-element Array{Int64,1}:\n",
       " 4\n",
       " 5\n",
       " 5\n",
       " 1\n",
       " 4\n",
       " 3\n",
       " 1\n",
       " 4\n",
       " 4\n",
       " 3\n",
       " 1\n",
       " 1\n",
       " 5\n",
       " ⋮\n",
       " 4\n",
       " 4\n",
       " 4\n",
       " 4\n",
       " 4\n",
       " 4\n",
       " 1\n",
       " 4\n",
       " 4\n",
       " 4\n",
       " 4\n",
       " 4"
      ]
     },
     "execution_count": 55,
     "metadata": {},
     "output_type": "execute_result"
    }
   ],
   "source": [
    "labels_decoded = mapslices(argmax, labels ,dims=2)[:]"
   ]
  },
  {
   "cell_type": "code",
   "execution_count": 56,
   "metadata": {},
   "outputs": [
    {
     "data": {
      "text/plain": [
       "Data{Tuple{SparseMatrixCSC{Float32,Int64},Array{Int64,1}}}(Float32[0.0 0.0 … 0.0 0.0; 0.0 0.0 … 0.0 0.0; … ; 0.0 0.0 … 0.0 0.0; 0.0 0.0 … 0.0 0.0], [4 5 … 4 4], 2708, 2708, false, 1, 1:2708, false, (1433, 2708), (2708,), SparseMatrixCSC{Float32,Int64}, Array{Int64,1})"
      ]
     },
     "execution_count": 56,
     "metadata": {},
     "output_type": "execute_result"
    }
   ],
   "source": [
    "data =  minibatch(features, labels_decoded[:], length(labels_decoded))"
   ]
  },
  {
   "cell_type": "code",
   "execution_count": null,
   "metadata": {},
   "outputs": [
    {
     "name": "stderr",
     "output_type": "stream",
     "text": [
      "[49, 04:06, 5.64s/i]  "
     ]
    }
   ],
   "source": [
    "iters, trnloss, vallos = mytrain!(model, data, arguments.epochs, arguments.lr, arguments.window_size)"
   ]
  },
  {
   "cell_type": "code",
   "execution_count": null,
   "metadata": {
    "scrolled": false
   },
   "outputs": [],
   "source": [
    "plot(iters, [trnloss, vallos] , xlim=(1:3),labels=[:trn :val :tst], xlabel=\"epochs\", ylabel=\"loss\")"
   ]
  },
  {
   "cell_type": "code",
   "execution_count": null,
   "metadata": {
    "scrolled": true
   },
   "outputs": [],
   "source": [
    "output = model(features)\n",
    "accuracy(output[:,idx_train], labels_decoded[idx_train])"
   ]
  },
  {
   "cell_type": "code",
   "execution_count": null,
   "metadata": {},
   "outputs": [],
   "source": [
    "accuracy(output[:,idx_test], labels_decoded[idx_test])"
   ]
  },
  {
   "cell_type": "code",
   "execution_count": null,
   "metadata": {},
   "outputs": [],
   "source": [
    "png(\"cora\")"
   ]
  },
  {
   "cell_type": "code",
   "execution_count": 45,
   "metadata": {},
   "outputs": [],
   "source": [
    "#####################################################################################################################"
   ]
  },
  {
   "cell_type": "code",
   "execution_count": null,
   "metadata": {},
   "outputs": [],
   "source": [
    "adj, features, labels, idx_train, idx_val, idx_test = load_dataset(\"citeseer\")"
   ]
  },
  {
   "cell_type": "code",
   "execution_count": null,
   "metadata": {},
   "outputs": [],
   "source": [
    "model = GCN(size(features,1),\n",
    "            arguments.hidden,\n",
    "            size(labels,2),\n",
    "            adj,\n",
    "            arguments.pdrop)"
   ]
  },
  {
   "cell_type": "code",
   "execution_count": null,
   "metadata": {},
   "outputs": [],
   "source": [
    "labels_decoded = mapslices(argmax, labels ,dims=2)[:]"
   ]
  },
  {
   "cell_type": "code",
   "execution_count": null,
   "metadata": {},
   "outputs": [],
   "source": [
    "data =  minibatch(features, labels_decoded[:], length(labels_decoded))"
   ]
  },
  {
   "cell_type": "code",
   "execution_count": null,
   "metadata": {},
   "outputs": [],
   "source": [
    "iters, trnloss, vallos = mytrain!(model, data, arguments.epochs, arguments.lr, arguments.window_size)"
   ]
  },
  {
   "cell_type": "code",
   "execution_count": null,
   "metadata": {},
   "outputs": [],
   "source": [
    "plot(iters, [trnloss, vallos] , xlim=(1:3),labels=[:trn :val :tst], xlabel=\"epochs\", ylabel=\"loss\")"
   ]
  },
  {
   "cell_type": "code",
   "execution_count": null,
   "metadata": {},
   "outputs": [],
   "source": [
    "output = model(features)\n",
    "accuracy(output[:,idx_train], labels_decoded[idx_train])"
   ]
  },
  {
   "cell_type": "code",
   "execution_count": null,
   "metadata": {},
   "outputs": [],
   "source": [
    "accuracy(output[:,idx_test], labels_decoded[idx_test])"
   ]
  },
  {
   "cell_type": "code",
   "execution_count": null,
   "metadata": {},
   "outputs": [],
   "source": [
    "png(\"citeseer\")"
   ]
  },
  {
   "cell_type": "code",
   "execution_count": null,
   "metadata": {},
   "outputs": [],
   "source": [
    "#####################################################################################################################"
   ]
  },
  {
   "cell_type": "code",
   "execution_count": null,
   "metadata": {},
   "outputs": [],
   "source": [
    "adj, features, labels, idx_train, idx_val, idx_test = load_dataset(\"pubmed\")"
   ]
  },
  {
   "cell_type": "code",
   "execution_count": null,
   "metadata": {},
   "outputs": [],
   "source": [
    "model = GCN(size(features,1),\n",
    "            arguments.hidden,\n",
    "            size(labels,2),\n",
    "            adj,\n",
    "            arguments.pdrop)"
   ]
  },
  {
   "cell_type": "code",
   "execution_count": null,
   "metadata": {},
   "outputs": [],
   "source": [
    "labels_decoded = mapslices(argmax, labels ,dims=2)[:]"
   ]
  },
  {
   "cell_type": "code",
   "execution_count": null,
   "metadata": {},
   "outputs": [],
   "source": [
    "data =  minibatch(features, labels_decoded[:], length(labels_decoded))"
   ]
  },
  {
   "cell_type": "code",
   "execution_count": null,
   "metadata": {},
   "outputs": [],
   "source": [
    "iters, trnloss, vallos = mytrain!(model, data, arguments.epochs, arguments.lr, arguments.window_size)"
   ]
  },
  {
   "cell_type": "code",
   "execution_count": null,
   "metadata": {
    "scrolled": false
   },
   "outputs": [],
   "source": [
    "plot(iters, [trnloss, vallos] , xlim=(1:3),labels=[:trn :val :tst], xlabel=\"epochs\", ylabel=\"loss\")"
   ]
  },
  {
   "cell_type": "code",
   "execution_count": null,
   "metadata": {},
   "outputs": [],
   "source": [
    "output = model(features)\n",
    "accuracy(output[:,idx_train], labels_decoded[idx_train])"
   ]
  },
  {
   "cell_type": "code",
   "execution_count": null,
   "metadata": {},
   "outputs": [],
   "source": [
    "accuracy(output[:,idx_test], labels_decoded[idx_test])"
   ]
  },
  {
   "cell_type": "code",
   "execution_count": null,
   "metadata": {},
   "outputs": [],
   "source": [
    "png(\"pubmed\")"
   ]
  }
 ],
 "metadata": {
  "kernelspec": {
   "display_name": "Julia 1.1.1",
   "language": "julia",
   "name": "julia-1.1"
  },
  "language_info": {
   "file_extension": ".jl",
   "mimetype": "application/julia",
   "name": "julia",
   "version": "1.1.1"
  }
 },
 "nbformat": 4,
 "nbformat_minor": 2
}
