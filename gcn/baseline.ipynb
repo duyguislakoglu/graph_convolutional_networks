{
 "cells": [
  {
   "cell_type": "code",
   "execution_count": 1,
   "metadata": {},
   "outputs": [
    {
     "name": "stderr",
     "output_type": "stream",
     "text": [
      "┌ Warning: `getindex(o::PyObject, s::AbstractString)` is deprecated in favor of dot overloading (`getproperty`) so elements should now be accessed as e.g. `o.\"s\"` instead of `o[\"s\"]`.\n",
      "│   caller = top-level scope at none:0\n",
      "└ @ Core none:0\n"
     ]
    },
    {
     "data": {
      "text/plain": [
       "load (generic function with 1 method)"
      ]
     },
     "execution_count": 1,
     "metadata": {},
     "output_type": "execute_result"
    }
   ],
   "source": [
    "using DelimitedFiles\n",
    "include(\"utils.jl\")"
   ]
  },
  {
   "cell_type": "code",
   "execution_count": 2,
   "metadata": {},
   "outputs": [
    {
     "name": "stderr",
     "output_type": "stream",
     "text": [
      "┌ Warning: `getindex(o::PyObject, s::AbstractString)` is deprecated in favor of dot overloading (`getproperty`) so elements should now be accessed as e.g. `o.\"s\"` instead of `o[\"s\"]`.\n",
      "│   caller = top-level scope at In[2]:3\n",
      "└ @ Core In[2]:3\n",
      "WARNING: redefining constant scipy_sparse_find\n"
     ]
    },
    {
     "data": {
      "text/plain": [
       "load (generic function with 1 method)"
      ]
     },
     "execution_count": 2,
     "metadata": {},
     "output_type": "execute_result"
    }
   ],
   "source": [
    "using PyCall\n",
    "using SparseArrays\n",
    "const scipy_sparse_find = pyimport(\"scipy.sparse\")[\"find\"]\n",
    "\n",
    "py\"\"\"\n",
    "import numpy as np\n",
    "import scipy.sparse as sp\n",
    "import torch\n",
    "\"\"\"\n",
    "\n",
    "function load()\n",
    "# TODO: Change for multiple datasets\n",
    "    # PyCall\n",
    "    py\"\"\"\n",
    "import numpy as np\n",
    "import scipy.sparse as sp\n",
    "import torch\n",
    "\n",
    "\n",
    "def encode_onehot(labels):\n",
    "    classes = set(labels)\n",
    "    classes_dict = {c: np.identity(len(classes))[i, :] for i, c in\n",
    "                    enumerate(classes)}\n",
    "    labels_onehot = np.array(list(map(classes_dict.get, labels)),\n",
    "                             dtype=np.int32)\n",
    "    return labels_onehot\n",
    "\n",
    "def normalize(mx):\n",
    "    rowsum = np.array(mx.sum(1))\n",
    "    r_inv = np.power(rowsum, -1).flatten()\n",
    "    r_inv[np.isinf(r_inv)] = 0.\n",
    "    r_mat_inv = sp.diags(r_inv)\n",
    "    mx = r_mat_inv.dot(mx)\n",
    "    return mx\n",
    "\n",
    "def load_data(path=\"cora/\", dataset=\"cora\"):\n",
    "    #Load citation network dataset (cora only for now)\n",
    "    print('Loading {} dataset...'.format(dataset))\n",
    "\n",
    "    idx_features_labels = np.genfromtxt(\"{}{}.content\".format(path, dataset),\n",
    "                                        dtype=np.dtype(str))\n",
    "    features = sp.csr_matrix(idx_features_labels[:, 1:-1], dtype=np.float32)\n",
    "    labels = encode_onehot(idx_features_labels[:, -1])\n",
    "\n",
    "    # build graph\n",
    "    idx = np.array(idx_features_labels[:, 0], dtype=np.int32)\n",
    "    idx_map = {j: i for i, j in enumerate(idx)}\n",
    "    edges_unordered = np.genfromtxt(\"{}{}.cites\".format(path, dataset),\n",
    "                                    dtype=np.int32)\n",
    "    edges = np.array(list(map(idx_map.get, edges_unordered.flatten())),\n",
    "                     dtype=np.int32).reshape(edges_unordered.shape)\n",
    "    adj = sp.coo_matrix((np.ones(edges.shape[0]), (edges[:, 0], edges[:, 1])),\n",
    "                        shape=(labels.shape[0], labels.shape[0]),\n",
    "                        dtype=np.float32)\n",
    "\n",
    "    # build symmetric adjacency matrix\n",
    "    adj = adj + adj.T.multiply(adj.T > adj) - adj.multiply(adj.T > adj)\n",
    "\n",
    "    features = normalize(features)\n",
    "    adj = normalize(adj + sp.eye(adj.shape[0]))\n",
    "\n",
    "    return adj, np.transpose(features), labels\n",
    "    \"\"\"\n",
    "\n",
    "    adj, features, labels = py\"load_data\"()\n",
    "    (I, J, V) = scipy_sparse_find(adj)\n",
    "    # Zero-indexing issue\n",
    "    adj = sparse(I .+ 1, J .+ 1, V)\n",
    "\n",
    "    (I, J, V) = scipy_sparse_find(features)\n",
    "    # Zero-indexing issue\n",
    "    features = sparse(I .+ 1, J .+ 1, V)\n",
    "\n",
    "    # TODO: Uncomment the following\n",
    "    # Normalize feature\n",
    "    # features = features./sum(features,2)\n",
    "    # Add identity matrix\n",
    "    #adj += sparse(I, size(adj,1), size(adj,2))\n",
    "    # Normalize\n",
    "    #adj = adj./sum(adj,2)\n",
    "\n",
    "    # Indexes\n",
    "    idx_train = 1:140\n",
    "    idx_val = 141:500\n",
    "    idx_test = 501:size(features,2)\n",
    "\n",
    "    return adj, features, labels, idx_train, idx_val, idx_test\n",
    "end"
   ]
  },
  {
   "cell_type": "code",
   "execution_count": 3,
   "metadata": {},
   "outputs": [
    {
     "name": "stderr",
     "output_type": "stream",
     "text": [
      "┌ Warning: `getindex(o::PyObject, s::AbstractString)` is deprecated in favor of dot overloading (`getproperty`) so elements should now be accessed as e.g. `o.\"s\"` instead of `o[\"s\"]`.\n",
      "│   caller = top-level scope at none:0\n",
      "└ @ Core none:0\n",
      "WARNING: redefining constant scipy_sparse_find\n"
     ]
    }
   ],
   "source": [
    "using Knet: dropout, nll, Data\n",
    "using Statistics\n",
    "include(\"layers.jl\")\n",
    "\n",
    "# TODO: Can convert to chain structure\n",
    "struct GCN\n",
    "    layer1::GraphConvolution\n",
    "    layer2::GraphConvolution\n",
    "    pdrop\n",
    "end\n",
    "\n",
    "function GCN(nfeat::Int, nhid::Int, nclass::Int, pdrop=0)\n",
    "    GCN(GraphConvolution(nfeat, nhid, relu), GraphConvolution(nhid, nclass, identity), pdrop)\n",
    "end\n",
    "\n",
    "function (c::GCN)(x, adj)\n",
    "    x = c.layer1(x, adj)\n",
    "    x = dropout(x, c.pdrop)\n",
    "    x = c.layer2(x, adj)\n",
    "    return logp(x, dims=1)\n",
    "end\n",
    "\n",
    "(c::GCN)(x, adj, y) = nll(c(x, adj),y)\n",
    "\n",
    "# TODO: Data should include adj\n",
    "function (c::GCN)(d::Data)\n",
    "    mean(c(x, adj, y) for (x, adj, y) in d)\n",
    "end"
   ]
  },
  {
   "cell_type": "code",
   "execution_count": 4,
   "metadata": {},
   "outputs": [
    {
     "data": {
      "text/plain": [
       "2208-element SparseVector{Float64,Int64} with 1 stored entry:\n",
       "  [45  ]  =  0.2"
      ]
     },
     "execution_count": 4,
     "metadata": {},
     "output_type": "execute_result"
    }
   ],
   "source": [
    "using Knet: Adam\n",
    "\n",
    "# Load data\n",
    "adj, features, labels, idx_train, idx_val, idx_test = load()\n",
    "\n",
    "# TODO: take user inputs\n",
    "struct args\n",
    "    epochs\n",
    "    lr\n",
    "    weight_decay\n",
    "    hidden\n",
    "    pdrop\n",
    "end\n",
    "arguments = args(200, 0.01, 5e-4, 16, 0.5)\n",
    "\n",
    "# Model and optimizer\n",
    "model = GCN(size(features,1),\n",
    "            arguments.hidden,\n",
    "            # TODO: Change nclass\n",
    "            size(labels,2),\n",
    "            #nclass=max(labels) + 1,\n",
    "            arguments.pdrop)\n",
    "\n",
    "dtrn = features[idx_train]\n",
    "atrn = adj[idx_train]\n",
    "dval = features[idx_val]\n",
    "aval = adj[idx_val]\n",
    "dtst = features[idx_test]\n",
    "atst = adj[idx_test]"
   ]
  },
  {
   "cell_type": "code",
   "execution_count": 5,
   "metadata": {},
   "outputs": [],
   "source": [
    "using Pkg;\n",
    "for p in [\"Knet\", \"Plots\"]\n",
    "    if !haskey(Pkg.installed(),p)\n",
    "        Pkg.add(p);\n",
    "    end\n",
    "end"
   ]
  },
  {
   "cell_type": "code",
   "execution_count": 6,
   "metadata": {},
   "outputs": [
    {
     "name": "stdout",
     "output_type": "stream",
     "text": [
      "\u001b[32m\u001b[1m  Updating\u001b[22m\u001b[39m registry at `~/.julia/registries/General`\n",
      "\u001b[32m\u001b[1m  Updating\u001b[22m\u001b[39m git-repo `https://github.com/JuliaRegistries/General.git`\n",
      "\u001b[2K\u001b[?25h[1mFetching:\u001b[22m\u001b[39m [========================================>]  100.0 %.0 %\u001b[32m\u001b[1m Resolving\u001b[22m\u001b[39m package versions...\n",
      "\u001b[32m\u001b[1m  Updating\u001b[22m\u001b[39m `~/.julia/environments/v1.1/Project.toml`\n",
      "\u001b[90m [no changes]\u001b[39m\n",
      "\u001b[32m\u001b[1m  Updating\u001b[22m\u001b[39m `~/.julia/environments/v1.1/Manifest.toml`\n",
      "\u001b[90m [no changes]\u001b[39m\n"
     ]
    }
   ],
   "source": [
    "Pkg.add(\"IterTools\")"
   ]
  },
  {
   "cell_type": "code",
   "execution_count": 7,
   "metadata": {},
   "outputs": [],
   "source": [
    "using IterTools: ncycle, takenth"
   ]
  },
  {
   "cell_type": "code",
   "execution_count": 8,
   "metadata": {},
   "outputs": [],
   "source": [
    "using Base.Iterators: flatten"
   ]
  },
  {
   "cell_type": "code",
   "execution_count": 9,
   "metadata": {},
   "outputs": [
    {
     "data": {
      "text/plain": [
       "Knet.Minimize{IterTools.NCycle{SparseVector{Float32,Int64}}}(IterTools.NCycle{SparseVector{Float32,Int64}}(  [119]  =  0.05\n",
       "  [126]  =  0.05, 200), GCN(GraphConvolution(P(Array{Float32,2}(16,1433)), P(Array{Float32,1}(16)), NNlib.relu), GraphConvolution(P(Array{Float32,2}(7,16)), P(Array{Float32,1}(7)), identity), 0.5), Adam(0.01, 0.9, 0.999, 1.0e-8, 0, 0.0, nothing, nothing), nothing)"
      ]
     },
     "execution_count": 9,
     "metadata": {},
     "output_type": "execute_result"
    }
   ],
   "source": [
    "training = adam(model, ncycle(dtrn, arguments.epochs), lr=arguments.lr)"
   ]
  },
  {
   "cell_type": "code",
   "execution_count": 48,
   "metadata": {},
   "outputs": [
    {
     "name": "stderr",
     "output_type": "stream",
     "text": [
      "┌ Warning: `getindex(o::PyObject, s::AbstractString)` is deprecated in favor of dot overloading (`getproperty`) so elements should now be accessed as e.g. `o.\"s\"` instead of `o[\"s\"]`.\n",
      "│   caller = top-level scope at none:0\n",
      "└ @ Core none:0\n",
      "WARNING: redefining constant scipy_sparse_find\n"
     ]
    }
   ],
   "source": [
    "include(\"layers.jl\")"
   ]
  },
  {
   "cell_type": "code",
   "execution_count": 49,
   "metadata": {},
   "outputs": [
    {
     "data": {
      "text/plain": [
       "(1433, 2708)"
      ]
     },
     "execution_count": 49,
     "metadata": {},
     "output_type": "execute_result"
    }
   ],
   "source": [
    "size(features)"
   ]
  },
  {
   "cell_type": "code",
   "execution_count": 50,
   "metadata": {},
   "outputs": [
    {
     "data": {
      "text/plain": [
       "(2708, 2708)"
      ]
     },
     "execution_count": 50,
     "metadata": {},
     "output_type": "execute_result"
    }
   ],
   "source": [
    "size(adj)"
   ]
  },
  {
   "cell_type": "code",
   "execution_count": 51,
   "metadata": {},
   "outputs": [],
   "source": [
    "using Knet: logp"
   ]
  },
  {
   "cell_type": "code",
   "execution_count": 52,
   "metadata": {},
   "outputs": [
    {
     "name": "stdout",
     "output_type": "stream",
     "text": [
      "(16, 2708)(7, 2708)"
     ]
    },
    {
     "data": {
      "text/plain": [
       "16×2708 SparseMatrixCSC{Float64,Int64} with 43328 stored entries:\n",
       "  [1   ,    1]  =  -2.77496\n",
       "  [2   ,    1]  =  -2.77152\n",
       "  [3   ,    1]  =  -2.77416\n",
       "  [4   ,    1]  =  -2.77496\n",
       "  [5   ,    1]  =  -2.77184\n",
       "  [6   ,    1]  =  -2.7747\n",
       "  [7   ,    1]  =  -2.77496\n",
       "  [8   ,    1]  =  -2.77496\n",
       "  [9   ,    1]  =  -2.77013\n",
       "  [10  ,    1]  =  -2.77496\n",
       "  [11  ,    1]  =  -2.77042\n",
       "  [12  ,    1]  =  -2.77133\n",
       "  ⋮\n",
       "  [5   , 2708]  =  -2.77397\n",
       "  [6   , 2708]  =  -2.77397\n",
       "  [7   , 2708]  =  -2.77397\n",
       "  [8   , 2708]  =  -2.77335\n",
       "  [9   , 2708]  =  -2.77397\n",
       "  [10  , 2708]  =  -2.77085\n",
       "  [11  , 2708]  =  -2.77397\n",
       "  [12  , 2708]  =  -2.76773\n",
       "  [13  , 2708]  =  -2.77226\n",
       "  [14  , 2708]  =  -2.77313\n",
       "  [15  , 2708]  =  -2.7708\n",
       "  [16  , 2708]  =  -2.7732"
      ]
     },
     "execution_count": 52,
     "metadata": {},
     "output_type": "execute_result"
    }
   ],
   "source": [
    "output = model(features, adj)"
   ]
  },
  {
   "cell_type": "code",
   "execution_count": 18,
   "metadata": {},
   "outputs": [
    {
     "data": {
      "text/plain": [
       "2708×1 Array{Int64,2}:\n",
       " 6\n",
       " 7\n",
       " 4\n",
       " 4\n",
       " 5\n",
       " 5\n",
       " 2\n",
       " 6\n",
       " 6\n",
       " 2\n",
       " 6\n",
       " 3\n",
       " 5\n",
       " ⋮\n",
       " 2\n",
       " 5\n",
       " 5\n",
       " 5\n",
       " 5\n",
       " 6\n",
       " 3\n",
       " 3\n",
       " 3\n",
       " 3\n",
       " 1\n",
       " 6"
      ]
     },
     "execution_count": 18,
     "metadata": {},
     "output_type": "execute_result"
    }
   ],
   "source": [
    "labels2 = mapslices(argmax, labels ,dims=2)"
   ]
  },
  {
   "cell_type": "code",
   "execution_count": 20,
   "metadata": {},
   "outputs": [
    {
     "ename": "DimensionMismatch",
     "evalue": "DimensionMismatch(\"\")",
     "output_type": "error",
     "traceback": [
      "DimensionMismatch(\"\")",
      "",
      "Stacktrace:",
      " [1] #findindices#756(::Int64, ::Function, ::SparseVector{Float64,Int64}, ::Array{Int64,1}) at /Users/duygusezenislakoglu/.julia/packages/Knet/vxHRi/src/loss.jl:299",
      " [2] #findindices at ./none:0 [inlined]",
      " [3] #nll#754(::Int64, ::Bool, ::Function, ::SparseVector{Float64,Int64}, ::Array{Int64,1}) at /Users/duygusezenislakoglu/.julia/packages/Knet/vxHRi/src/loss.jl:267",
      " [4] nll(::SparseVector{Float64,Int64}, ::Array{Int64,1}) at /Users/duygusezenislakoglu/.julia/packages/Knet/vxHRi/src/loss.jl:267",
      " [5] top-level scope at In[20]:1"
     ]
    }
   ],
   "source": [
    "nll(output[idx_train], labels2[idx_train])"
   ]
  },
  {
   "cell_type": "code",
   "execution_count": null,
   "metadata": {},
   "outputs": [],
   "source": []
  }
 ],
 "metadata": {
  "kernelspec": {
   "display_name": "Julia 1.1.1",
   "language": "julia",
   "name": "julia-1.1"
  },
  "language_info": {
   "file_extension": ".jl",
   "mimetype": "application/julia",
   "name": "julia",
   "version": "1.1.1"
  }
 },
 "nbformat": 4,
 "nbformat_minor": 2
}
