{
 "cells": [
  {
   "cell_type": "code",
   "execution_count": 1,
   "metadata": {},
   "outputs": [
    {
     "name": "stderr",
     "output_type": "stream",
     "text": [
      "┌ Warning: `getindex(o::PyObject, s::AbstractString)` is deprecated in favor of dot overloading (`getproperty`) so elements should now be accessed as e.g. `o.\"s\"` instead of `o[\"s\"]`.\n",
      "│   caller = top-level scope at none:0\n",
      "└ @ Core none:0\n"
     ]
    },
    {
     "data": {
      "text/plain": [
       "load (generic function with 1 method)"
      ]
     },
     "execution_count": 1,
     "metadata": {},
     "output_type": "execute_result"
    }
   ],
   "source": [
    "using DelimitedFiles\n",
    "include(\"utils.jl\")"
   ]
  },
  {
   "cell_type": "code",
   "execution_count": 2,
   "metadata": {},
   "outputs": [
    {
     "name": "stderr",
     "output_type": "stream",
     "text": [
      "┌ Warning: `getindex(o::PyObject, s::AbstractString)` is deprecated in favor of dot overloading (`getproperty`) so elements should now be accessed as e.g. `o.\"s\"` instead of `o[\"s\"]`.\n",
      "│   caller = top-level scope at In[2]:3\n",
      "└ @ Core In[2]:3\n",
      "WARNING: redefining constant scipy_sparse_find\n"
     ]
    },
    {
     "data": {
      "text/plain": [
       "load (generic function with 1 method)"
      ]
     },
     "execution_count": 2,
     "metadata": {},
     "output_type": "execute_result"
    }
   ],
   "source": [
    "using PyCall\n",
    "using SparseArrays\n",
    "const scipy_sparse_find = pyimport(\"scipy.sparse\")[\"find\"]\n",
    "\n",
    "py\"\"\"\n",
    "import numpy as np\n",
    "import scipy.sparse as sp\n",
    "import torch\n",
    "\"\"\"\n",
    "\n",
    "function load()\n",
    "# TODO: Change for multiple datasets\n",
    "    # PyCall\n",
    "    py\"\"\"\n",
    "import numpy as np\n",
    "import scipy.sparse as sp\n",
    "import torch\n",
    "\n",
    "\n",
    "def encode_onehot(labels):\n",
    "    classes = set(labels)\n",
    "    classes_dict = {c: np.identity(len(classes))[i, :] for i, c in\n",
    "                    enumerate(classes)}\n",
    "    labels_onehot = np.array(list(map(classes_dict.get, labels)),\n",
    "                             dtype=np.int32)\n",
    "    return labels_onehot\n",
    "\n",
    "def normalize(mx):\n",
    "    rowsum = np.array(mx.sum(1))\n",
    "    r_inv = np.power(rowsum, -1).flatten()\n",
    "    r_inv[np.isinf(r_inv)] = 0.\n",
    "    r_mat_inv = sp.diags(r_inv)\n",
    "    mx = r_mat_inv.dot(mx)\n",
    "    return mx\n",
    "\n",
    "def load_data(path=\"cora/\", dataset=\"cora\"):\n",
    "    #Load citation network dataset (cora only for now)\n",
    "    print('Loading {} dataset...'.format(dataset))\n",
    "\n",
    "    idx_features_labels = np.genfromtxt(\"{}{}.content\".format(path, dataset),\n",
    "                                        dtype=np.dtype(str))\n",
    "    features = sp.csr_matrix(idx_features_labels[:, 1:-1], dtype=np.float32)\n",
    "    labels = encode_onehot(idx_features_labels[:, -1])\n",
    "\n",
    "    # build graph\n",
    "    idx = np.array(idx_features_labels[:, 0], dtype=np.int32)\n",
    "    idx_map = {j: i for i, j in enumerate(idx)}\n",
    "    edges_unordered = np.genfromtxt(\"{}{}.cites\".format(path, dataset),\n",
    "                                    dtype=np.int32)\n",
    "    edges = np.array(list(map(idx_map.get, edges_unordered.flatten())),\n",
    "                     dtype=np.int32).reshape(edges_unordered.shape)\n",
    "    adj = sp.coo_matrix((np.ones(edges.shape[0]), (edges[:, 0], edges[:, 1])),\n",
    "                        shape=(labels.shape[0], labels.shape[0]),\n",
    "                        dtype=np.float32)\n",
    "\n",
    "    # build symmetric adjacency matrix\n",
    "    adj = adj + adj.T.multiply(adj.T > adj) - adj.multiply(adj.T > adj)\n",
    "\n",
    "    features = normalize(features)\n",
    "    adj = normalize(adj + sp.eye(adj.shape[0]))\n",
    "\n",
    "    return adj, np.transpose(features), labels\n",
    "    \"\"\"\n",
    "\n",
    "    adj, features, labels = py\"load_data\"()\n",
    "    (I, J, V) = scipy_sparse_find(adj)\n",
    "    # Zero-indexing issue\n",
    "    adj = sparse(I .+ 1, J .+ 1, V)\n",
    "\n",
    "    (I, J, V) = scipy_sparse_find(features)\n",
    "    # Zero-indexing issue\n",
    "    features = sparse(I .+ 1, J .+ 1, V)\n",
    "\n",
    "    # TODO: Uncomment the following\n",
    "    # Normalize feature\n",
    "    # features = features./sum(features,2)\n",
    "    # Add identity matrix\n",
    "    #adj += sparse(I, size(adj,1), size(adj,2))\n",
    "    # Normalize\n",
    "    #adj = adj./sum(adj,2)\n",
    "\n",
    "    # Indexes\n",
    "    idx_train = 1:140\n",
    "    idx_val = 141:500\n",
    "    idx_test = 501:size(features,2)\n",
    "\n",
    "    return adj, features, labels, idx_train, idx_val, idx_test\n",
    "end"
   ]
  },
  {
   "cell_type": "code",
   "execution_count": 64,
   "metadata": {},
   "outputs": [
    {
     "name": "stderr",
     "output_type": "stream",
     "text": [
      "┌ Warning: `getindex(o::PyObject, s::AbstractString)` is deprecated in favor of dot overloading (`getproperty`) so elements should now be accessed as e.g. `o.\"s\"` instead of `o[\"s\"]`.\n",
      "│   caller = top-level scope at none:0\n",
      "└ @ Core none:0\n",
      "WARNING: redefining constant scipy_sparse_find\n"
     ]
    }
   ],
   "source": [
    "using Knet: dropout, nll, Data\n",
    "using Statistics\n",
    "include(\"layers.jl\")\n",
    "\n",
    "# TODO: Can convert to chain structure\n",
    "struct GCN\n",
    "    layer1::GraphConvolution\n",
    "    layer2::GraphConvolution\n",
    "    pdrop\n",
    "end\n",
    "\n",
    "function GCN(nfeat::Int, nhid::Int, nclass::Int, pdrop=0)\n",
    "    GCN(GraphConvolution(nfeat, nhid, relu), GraphConvolution(nhid, nclass, identity), pdrop)\n",
    "end\n",
    "\n",
    "function (c::GCN)(x, adj)\n",
    "    x = c.layer1(x, adj)\n",
    "    x = dropout(x, c.pdrop)\n",
    "    x = c.layer2(x, adj)\n",
    "    #return logp(x, dims=1)\n",
    "    return x\n",
    "end\n",
    "\n",
    "(c::GCN)(x, adj, y) = nll(c(x, adj),y)\n",
    "\n",
    "# TODO: Data should include adj\n",
    "function (c::GCN)(d::Data)\n",
    "    mean(c(x, adj, y) for (x, adj, y) in d)\n",
    "end"
   ]
  },
  {
   "cell_type": "code",
   "execution_count": 4,
   "metadata": {},
   "outputs": [
    {
     "data": {
      "text/plain": [
       "2208-element SparseVector{Float64,Int64} with 1 stored entry:\n",
       "  [45  ]  =  0.2"
      ]
     },
     "execution_count": 4,
     "metadata": {},
     "output_type": "execute_result"
    }
   ],
   "source": [
    "using Knet: Adam\n",
    "\n",
    "# Load data\n",
    "adj, features, labels, idx_train, idx_val, idx_test = load()\n",
    "\n",
    "# TODO: take user inputs\n",
    "struct args\n",
    "    epochs\n",
    "    lr\n",
    "    weight_decay\n",
    "    hidden\n",
    "    pdrop\n",
    "end\n",
    "arguments = args(200, 0.01, 5e-4, 16, 0.5)\n",
    "\n",
    "# Model and optimizer\n",
    "model = GCN(size(features,1),\n",
    "            arguments.hidden,\n",
    "            # TODO: Change nclass\n",
    "            size(labels,2),\n",
    "            #nclass=max(labels) + 1,\n",
    "            arguments.pdrop)\n",
    "\n",
    "dtrn = features[idx_train]\n",
    "atrn = adj[idx_train]\n",
    "dval = features[idx_val]\n",
    "aval = adj[idx_val]\n",
    "dtst = features[idx_test]\n",
    "atst = adj[idx_test]"
   ]
  },
  {
   "cell_type": "code",
   "execution_count": 5,
   "metadata": {},
   "outputs": [],
   "source": [
    "using Pkg;\n",
    "for p in [\"Knet\", \"Plots\"]\n",
    "    if !haskey(Pkg.installed(),p)\n",
    "        Pkg.add(p);\n",
    "    end\n",
    "end"
   ]
  },
  {
   "cell_type": "code",
   "execution_count": 6,
   "metadata": {},
   "outputs": [
    {
     "name": "stdout",
     "output_type": "stream",
     "text": [
      "\u001b[32m\u001b[1m  Updating\u001b[22m\u001b[39m registry at `~/.julia/registries/General`\n",
      "\u001b[32m\u001b[1m  Updating\u001b[22m\u001b[39m git-repo `https://github.com/JuliaRegistries/General.git`\n",
      "\u001b[2K\u001b[?25h[1mFetching:\u001b[22m\u001b[39m [========================================>]  100.0 %.0 %\u001b[32m\u001b[1m Resolving\u001b[22m\u001b[39m package versions...\n",
      "\u001b[32m\u001b[1m  Updating\u001b[22m\u001b[39m `~/.julia/environments/v1.1/Project.toml`\n",
      "\u001b[90m [no changes]\u001b[39m\n",
      "\u001b[32m\u001b[1m  Updating\u001b[22m\u001b[39m `~/.julia/environments/v1.1/Manifest.toml`\n",
      "\u001b[90m [no changes]\u001b[39m\n"
     ]
    }
   ],
   "source": [
    "Pkg.add(\"IterTools\")"
   ]
  },
  {
   "cell_type": "code",
   "execution_count": 7,
   "metadata": {},
   "outputs": [],
   "source": [
    "using IterTools: ncycle, takenth"
   ]
  },
  {
   "cell_type": "code",
   "execution_count": 8,
   "metadata": {},
   "outputs": [],
   "source": [
    "using Base.Iterators: flatten"
   ]
  },
  {
   "cell_type": "code",
   "execution_count": 9,
   "metadata": {},
   "outputs": [
    {
     "data": {
      "text/plain": [
       "Knet.Minimize{IterTools.NCycle{SparseVector{Float32,Int64}}}(IterTools.NCycle{SparseVector{Float32,Int64}}(  [119]  =  0.05\n",
       "  [126]  =  0.05, 200), GCN(GraphConvolution(P(Array{Float32,2}(16,1433)), P(Array{Float32,1}(16)), NNlib.relu), GraphConvolution(P(Array{Float32,2}(7,16)), P(Array{Float32,1}(7)), identity), 0.5), Adam(0.01, 0.9, 0.999, 1.0e-8, 0, 0.0, nothing, nothing), nothing)"
      ]
     },
     "execution_count": 9,
     "metadata": {},
     "output_type": "execute_result"
    }
   ],
   "source": [
    "training = adam(model, ncycle(dtrn, arguments.epochs), lr=arguments.lr)"
   ]
  },
  {
   "cell_type": "code",
   "execution_count": 70,
   "metadata": {},
   "outputs": [
    {
     "name": "stderr",
     "output_type": "stream",
     "text": [
      "┌ Warning: `getindex(o::PyObject, s::AbstractString)` is deprecated in favor of dot overloading (`getproperty`) so elements should now be accessed as e.g. `o.\"s\"` instead of `o[\"s\"]`.\n",
      "│   caller = top-level scope at none:0\n",
      "└ @ Core none:0\n",
      "WARNING: redefining constant scipy_sparse_find\n"
     ]
    }
   ],
   "source": [
    "include(\"layers.jl\")"
   ]
  },
  {
   "cell_type": "code",
   "execution_count": 71,
   "metadata": {},
   "outputs": [
    {
     "data": {
      "text/plain": [
       "(1433, 2708)"
      ]
     },
     "execution_count": 71,
     "metadata": {},
     "output_type": "execute_result"
    }
   ],
   "source": [
    "size(features)"
   ]
  },
  {
   "cell_type": "code",
   "execution_count": 72,
   "metadata": {},
   "outputs": [
    {
     "data": {
      "text/plain": [
       "(2708, 2708)"
      ]
     },
     "execution_count": 72,
     "metadata": {},
     "output_type": "execute_result"
    }
   ],
   "source": [
    "size(adj)"
   ]
  },
  {
   "cell_type": "code",
   "execution_count": 73,
   "metadata": {},
   "outputs": [],
   "source": [
    "using Knet: logp"
   ]
  },
  {
   "cell_type": "code",
   "execution_count": 76,
   "metadata": {},
   "outputs": [
    {
     "name": "stdout",
     "output_type": "stream",
     "text": [
      "(16, 2708)(7, 2708)"
     ]
    },
    {
     "data": {
      "text/plain": [
       "7×2708 SparseMatrixCSC{Float64,Int64} with 18956 stored entries:\n",
       "  [1   ,    1]  =  -0.0048461\n",
       "  [2   ,    1]  =  0.000309735\n",
       "  [3   ,    1]  =  -0.00425457\n",
       "  [4   ,    1]  =  0.000821694\n",
       "  [5   ,    1]  =  0.00611521\n",
       "  [6   ,    1]  =  0.00218222\n",
       "  [7   ,    1]  =  -0.000294031\n",
       "  [1   ,    2]  =  -0.00310794\n",
       "  [2   ,    2]  =  -0.000488848\n",
       "  [3   ,    2]  =  -0.000876225\n",
       "  [4   ,    2]  =  0.000385584\n",
       "  [5   ,    2]  =  0.00353407\n",
       "  ⋮\n",
       "  [3   , 2707]  =  -0.000860082\n",
       "  [4   , 2707]  =  0.00225941\n",
       "  [5   , 2707]  =  -0.00382417\n",
       "  [6   , 2707]  =  0.000982476\n",
       "  [7   , 2707]  =  8.99052e-5\n",
       "  [1   , 2708]  =  -0.00695635\n",
       "  [2   , 2708]  =  -0.0158236\n",
       "  [3   , 2708]  =  -0.00573691\n",
       "  [4   , 2708]  =  0.00146955\n",
       "  [5   , 2708]  =  0.00487449\n",
       "  [6   , 2708]  =  0.00302706\n",
       "  [7   , 2708]  =  0.0059386"
      ]
     },
     "execution_count": 76,
     "metadata": {},
     "output_type": "execute_result"
    }
   ],
   "source": [
    "output = model(features, adj)"
   ]
  },
  {
   "cell_type": "code",
   "execution_count": 78,
   "metadata": {},
   "outputs": [
    {
     "data": {
      "text/plain": [
       "2708×1 Array{Int64,2}:\n",
       " 6\n",
       " 7\n",
       " 4\n",
       " 4\n",
       " 5\n",
       " 5\n",
       " 2\n",
       " 6\n",
       " 6\n",
       " 2\n",
       " 6\n",
       " 3\n",
       " 5\n",
       " ⋮\n",
       " 2\n",
       " 5\n",
       " 5\n",
       " 5\n",
       " 5\n",
       " 6\n",
       " 3\n",
       " 3\n",
       " 3\n",
       " 3\n",
       " 1\n",
       " 6"
      ]
     },
     "execution_count": 78,
     "metadata": {},
     "output_type": "execute_result"
    }
   ],
   "source": [
    "labels2 = mapslices(argmax, labels ,dims=2)"
   ]
  },
  {
   "cell_type": "code",
   "execution_count": 99,
   "metadata": {},
   "outputs": [
    {
     "data": {
      "text/plain": [
       "7×2708 Array{Float64,2}:\n",
       " -0.0048461    -0.00310794   -0.00340505   …   0.00665658   -0.00695635\n",
       "  0.000309735  -0.000488848  -0.00382896       0.00638235   -0.0158236 \n",
       " -0.00425457   -0.000876225   0.00203873      -0.000860082  -0.00573691\n",
       "  0.000821694   0.000385584   0.00717931       0.00225941    0.00146955\n",
       "  0.00611521    0.00353407    0.000656041     -0.00382417    0.00487449\n",
       "  0.00218222    0.00317702   -0.00109364   …   0.000982476   0.00302706\n",
       " -0.000294031  -0.00339911   -0.00299544       8.99052e-5    0.0059386 "
      ]
     },
     "execution_count": 99,
     "metadata": {},
     "output_type": "execute_result"
    }
   ],
   "source": [
    "output3 = convert(Array{Float64,2}, output)  "
   ]
  },
  {
   "cell_type": "code",
   "execution_count": 110,
   "metadata": {},
   "outputs": [
    {
     "data": {
      "text/plain": [
       "7×140 Array{Float64,2}:\n",
       " -0.0048461    -0.00310794   -0.00340505   …   0.00259081    0.00323576 \n",
       "  0.000309735  -0.000488848  -0.00382896      -0.000894565  -0.000640614\n",
       " -0.00425457   -0.000876225   0.00203873      -0.0111251     0.00473097 \n",
       "  0.000821694   0.000385584   0.00717931      -0.00501453    0.00140762 \n",
       "  0.00611521    0.00353407    0.000656041     -0.00336287    0.00117353 \n",
       "  0.00218222    0.00317702   -0.00109364   …  -0.00458765    0.000515495\n",
       " -0.000294031  -0.00339911   -0.00299544       0.00054167   -0.00358892 "
      ]
     },
     "execution_count": 110,
     "metadata": {},
     "output_type": "execute_result"
    }
   ],
   "source": [
    "output3[:,idx_train]"
   ]
  },
  {
   "cell_type": "code",
   "execution_count": 111,
   "metadata": {},
   "outputs": [
    {
     "data": {
      "text/plain": [
       "1.9446427005415956"
      ]
     },
     "execution_count": 111,
     "metadata": {},
     "output_type": "execute_result"
    }
   ],
   "source": [
    "nll(output3[:,idx_train], labels2[ idx_train] )"
   ]
  },
  {
   "cell_type": "code",
   "execution_count": 113,
   "metadata": {},
   "outputs": [],
   "source": [
    "using Knet: accuracy"
   ]
  },
  {
   "cell_type": "code",
   "execution_count": 114,
   "metadata": {},
   "outputs": [
    {
     "data": {
      "text/plain": [
       "0.2"
      ]
     },
     "execution_count": 114,
     "metadata": {},
     "output_type": "execute_result"
    }
   ],
   "source": [
    "accuracy(output3[:,idx_train], labels2[ idx_train] )"
   ]
  }
 ],
 "metadata": {
  "kernelspec": {
   "display_name": "Julia 1.1.1",
   "language": "julia",
   "name": "julia-1.1"
  },
  "language_info": {
   "file_extension": ".jl",
   "mimetype": "application/julia",
   "name": "julia",
   "version": "1.1.1"
  }
 },
 "nbformat": 4,
 "nbformat_minor": 2
}
